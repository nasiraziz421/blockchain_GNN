{
 "cells": [
  {
   "cell_type": "code",
   "execution_count": 1,
   "id": "2273700e",
   "metadata": {},
   "outputs": [],
   "source": [
    "import torch\n",
    "from torch_geometric.data import Data\n",
    "from torch_geometric.loader import DataLoader\n",
    "from torch_geometric.data import InMemoryDataset\n",
    "import pickle"
   ]
  },
  {
   "cell_type": "code",
   "execution_count": 2,
   "id": "216dcc88",
   "metadata": {},
   "outputs": [],
   "source": [
    " \n",
    "with open(\"graphs_data\", \"rb\") as fp:   # Unpickling\n",
    "    read_graph_data = pickle.load(fp)"
   ]
  },
  {
   "cell_type": "code",
   "execution_count": 3,
   "id": "6a91db4e",
   "metadata": {},
   "outputs": [],
   "source": [
    "data_list = []\n",
    "count = 0\n",
    "for data in read_graph_data:\n",
    "    if data.x.shape[0] == 0:\n",
    "        continue\n",
    "        \n",
    "    if count < 180 :\n",
    "        count +=1\n",
    "        data_list.append(data)\n",
    "    \n",
    "    elif data.y == 1:\n",
    "        data_list.append(data)\n",
    "        \n",
    "    "
   ]
  },
  {
   "cell_type": "code",
   "execution_count": 4,
   "id": "b66a98cb",
   "metadata": {},
   "outputs": [],
   "source": [
    "train_loader = DataLoader(data_list, batch_size=16,shuffle=True)\n",
    "test_loader = DataLoader(data_list, batch_size=16,shuffle=False)"
   ]
  },
  {
   "cell_type": "code",
   "execution_count": 5,
   "id": "16da6da9",
   "metadata": {},
   "outputs": [
    {
     "name": "stdout",
     "output_type": "stream",
     "text": [
      "GCN(\n",
      "  (conv1): GCNConv(1, 64)\n",
      "  (conv2): GCNConv(64, 64)\n",
      "  (conv3): GCNConv(64, 64)\n",
      "  (conv4): GCNConv(64, 64)\n",
      "  (lin): Linear(in_features=64, out_features=2, bias=True)\n",
      ")\n"
     ]
    }
   ],
   "source": [
    "from torch.nn import Linear\n",
    "import torch.nn.functional as F\n",
    "from torch_geometric.nn import GCNConv\n",
    "from torch_geometric.nn import global_mean_pool\n",
    "\n",
    "device = torch.device('cuda' if torch.cuda.is_available() else 'cpu')\n",
    "\n",
    "class GCN(torch.nn.Module):\n",
    "    def __init__(self, hidden_channels):\n",
    "        super(GCN, self).__init__()\n",
    "#         torch.manual_seed(12345)\n",
    "#         self.conv1 = CGConv((mydataset.num_node_features, hidden_channels),mydataset.num_edge_features,batch_norm=True)\n",
    "        self.conv1 = GCNConv(1, hidden_channels)\n",
    "        \n",
    "        self.conv2 = GCNConv(hidden_channels, hidden_channels)\n",
    "        self.conv3 = GCNConv(hidden_channels, hidden_channels)\n",
    "        self.conv4 = GCNConv(hidden_channels, hidden_channels)\n",
    "        self.lin = Linear(hidden_channels, 2)\n",
    "\n",
    "    def forward(self, x, edge_index, batch):\n",
    "        # 1. Obtain node embeddings \n",
    "        x = self.conv1(x, edge_index)\n",
    "        x = x.relu()\n",
    "        x = self.conv2(x, edge_index)\n",
    "        x = x.relu()\n",
    "        x = self.conv3(x, edge_index)\n",
    "        x = x.relu()\n",
    "        x = self.conv4(x, edge_index)\n",
    " \n",
    "\n",
    "        # 2. Readout layer\n",
    "#         print(x.shape)\n",
    "        x = global_mean_pool(x, batch)  # [batch_size, hidden_channels]\n",
    "#         print(x.shape)\n",
    "        # 3. Apply a final classifier\n",
    "#         x = F.dropout(x, p=0.5, training=self.training)\n",
    "        x = self.lin(x)\n",
    "        \n",
    "        return x\n",
    "\n",
    "model = GCN(hidden_channels=64)\n",
    "print(model)"
   ]
  },
  {
   "cell_type": "code",
   "execution_count": 6,
   "id": "19e6303a",
   "metadata": {},
   "outputs": [],
   "source": [
    "model = GCN(hidden_channels=64).to(device)\n",
    "optimizer = torch.optim.Adam(model.parameters(), lr=0.01)\n",
    "# weights = torch.tensor([.05,.95]).to(device)\n",
    "criterion = torch.nn.CrossEntropyLoss()"
   ]
  },
  {
   "cell_type": "code",
   "execution_count": 7,
   "id": "205d0ea4",
   "metadata": {},
   "outputs": [
    {
     "data": {
      "text/plain": [
       "0.4915254237288136"
      ]
     },
     "execution_count": 7,
     "metadata": {},
     "output_type": "execute_result"
    }
   ],
   "source": [
    "def train():\n",
    "    model.train()\n",
    "    for batch_idx,data in enumerate(train_loader):\n",
    "\n",
    "\n",
    "\n",
    "        data = data.to(device)\n",
    "        out = model(data.x, data.edge_index,data.batch)\n",
    "\n",
    "        loss = criterion(out, data.y)  # Compute the loss.\n",
    "        loss.backward()  # Derive gradients.\n",
    "        \n",
    "        optimizer.step()\n",
    "        optimizer.zero_grad()\n",
    "#             print(batch_idx)\n",
    "        \n",
    "\n",
    "    return loss.cpu().item()\n",
    "    \n",
    "def test(loader):\n",
    "    model.eval()\n",
    "\n",
    "    correct = 0\n",
    "    for data in loader:  # Iterate in batches over the training/test dataset.\n",
    "        \n",
    "\n",
    "\n",
    "        data.edge_attr = data.edge_attr.float() \n",
    "        data = data.to(device)\n",
    "        out = model(data.x, data.edge_index, data.batch)  \n",
    "        pred = out.argmax(dim=1)  # Use the class with highest probability.\n",
    "        \n",
    "\n",
    "        correct += int((pred == data.y).sum())  # Check against ground-truth labels.\n",
    "    return correct / len(loader.dataset)  # Derive ratio of correct predictions.\n",
    "\n",
    "test(test_loader)"
   ]
  },
  {
   "cell_type": "code",
   "execution_count": 8,
   "id": "0d25a8d5",
   "metadata": {
    "scrolled": true
   },
   "outputs": [
    {
     "name": "stdout",
     "output_type": "stream",
     "text": [
      "Epoch: 005, Train Acc: 0.4915, loss : 0.6941\n",
      "Epoch: 010, Train Acc: 0.5989, loss : 0.7033\n",
      "Epoch: 015, Train Acc: 0.4915, loss : 0.6918\n",
      "Epoch: 020, Train Acc: 0.6469, loss : 0.6590\n",
      "Epoch: 025, Train Acc: 0.7090, loss : 0.2861\n",
      "Epoch: 030, Train Acc: 0.7119, loss : 0.2157\n",
      "Epoch: 035, Train Acc: 0.7938, loss : 0.4588\n",
      "Epoch: 040, Train Acc: 0.7486, loss : 0.6112\n",
      "Epoch: 045, Train Acc: 0.8362, loss : 0.9733\n",
      "Epoch: 050, Train Acc: 0.5989, loss : 0.5685\n",
      "Epoch: 055, Train Acc: 0.6271, loss : 0.3092\n",
      "Epoch: 060, Train Acc: 0.6949, loss : 0.4924\n",
      "Epoch: 065, Train Acc: 0.6921, loss : 0.5132\n",
      "Epoch: 070, Train Acc: 0.7401, loss : 1.4025\n",
      "Epoch: 075, Train Acc: 0.7486, loss : 0.7167\n",
      "Epoch: 080, Train Acc: 0.7373, loss : 0.3789\n",
      "Epoch: 085, Train Acc: 0.7260, loss : 0.9160\n",
      "Epoch: 090, Train Acc: 0.7373, loss : 0.2722\n",
      "Epoch: 095, Train Acc: 0.7627, loss : 0.0766\n",
      "Epoch: 100, Train Acc: 0.7373, loss : 0.7207\n",
      "Epoch: 105, Train Acc: 0.7429, loss : 0.6369\n",
      "Epoch: 110, Train Acc: 0.7401, loss : 0.3092\n",
      "Epoch: 115, Train Acc: 0.7401, loss : 0.8605\n",
      "Epoch: 120, Train Acc: 0.7345, loss : 1.7079\n",
      "Epoch: 125, Train Acc: 0.7345, loss : 0.0631\n",
      "Epoch: 130, Train Acc: 0.7401, loss : 0.1787\n",
      "Epoch: 135, Train Acc: 0.7740, loss : 0.3642\n",
      "Epoch: 140, Train Acc: 0.7486, loss : 0.4888\n",
      "Epoch: 145, Train Acc: 0.7599, loss : 0.0690\n",
      "Epoch: 150, Train Acc: 0.8136, loss : 0.4037\n",
      "Epoch: 155, Train Acc: 0.8164, loss : 0.3133\n",
      "Epoch: 160, Train Acc: 0.8362, loss : 0.4545\n",
      "Epoch: 165, Train Acc: 0.8023, loss : 0.1381\n",
      "Epoch: 170, Train Acc: 0.8051, loss : 0.2594\n",
      "Epoch: 175, Train Acc: 0.8305, loss : 0.0517\n",
      "Epoch: 180, Train Acc: 0.8644, loss : 0.0394\n",
      "Epoch: 185, Train Acc: 0.7401, loss : 0.2695\n",
      "Epoch: 190, Train Acc: 0.8418, loss : 0.3187\n",
      "Epoch: 195, Train Acc: 0.8249, loss : 0.0000\n",
      "Epoch: 200, Train Acc: 0.8305, loss : 0.4320\n",
      "Epoch: 205, Train Acc: 0.8305, loss : 0.8248\n",
      "Epoch: 210, Train Acc: 0.8390, loss : 0.0194\n",
      "Epoch: 215, Train Acc: 0.8503, loss : 1.1335\n",
      "Epoch: 220, Train Acc: 0.8220, loss : 0.8736\n",
      "Epoch: 225, Train Acc: 0.8164, loss : 0.3807\n",
      "Epoch: 230, Train Acc: 0.8475, loss : 0.7483\n",
      "Epoch: 235, Train Acc: 0.8446, loss : 0.4903\n",
      "Epoch: 240, Train Acc: 0.8559, loss : 0.5241\n",
      "Epoch: 245, Train Acc: 0.8475, loss : 0.1338\n",
      "Epoch: 250, Train Acc: 0.8418, loss : 0.0630\n",
      "Epoch: 255, Train Acc: 0.8588, loss : 0.2303\n",
      "Epoch: 260, Train Acc: 0.8136, loss : 0.8149\n",
      "Epoch: 265, Train Acc: 0.8588, loss : 0.3480\n",
      "Epoch: 270, Train Acc: 0.8616, loss : 0.1507\n",
      "Epoch: 275, Train Acc: 0.8672, loss : 0.1240\n",
      "Epoch: 280, Train Acc: 0.8333, loss : 0.1816\n",
      "Epoch: 285, Train Acc: 0.7853, loss : 0.3938\n",
      "Epoch: 290, Train Acc: 0.8136, loss : 0.2361\n",
      "Epoch: 295, Train Acc: 0.8418, loss : 0.0871\n",
      "Epoch: 300, Train Acc: 0.8588, loss : 0.0302\n",
      "Epoch: 305, Train Acc: 0.8446, loss : 0.3768\n",
      "Epoch: 310, Train Acc: 0.8559, loss : 0.0042\n",
      "Epoch: 315, Train Acc: 0.8559, loss : 0.6050\n",
      "Epoch: 320, Train Acc: 0.8362, loss : 0.1205\n",
      "Epoch: 325, Train Acc: 0.8418, loss : 0.4278\n",
      "Epoch: 330, Train Acc: 0.8362, loss : 0.1286\n",
      "Epoch: 335, Train Acc: 0.8559, loss : 0.3010\n",
      "Epoch: 340, Train Acc: 0.8531, loss : 0.0727\n",
      "Epoch: 345, Train Acc: 0.8701, loss : 1.4291\n",
      "Epoch: 350, Train Acc: 0.8616, loss : 0.0532\n",
      "Epoch: 355, Train Acc: 0.8531, loss : 0.2715\n",
      "Epoch: 360, Train Acc: 0.8446, loss : 0.1522\n",
      "Epoch: 365, Train Acc: 0.8503, loss : 0.0923\n",
      "Epoch: 370, Train Acc: 0.8672, loss : 0.0076\n",
      "Epoch: 375, Train Acc: 0.8672, loss : 0.2058\n",
      "Epoch: 380, Train Acc: 0.8588, loss : 0.0464\n",
      "Epoch: 385, Train Acc: 0.8701, loss : 0.0007\n",
      "Epoch: 390, Train Acc: 0.8305, loss : 0.1073\n",
      "Epoch: 395, Train Acc: 0.8955, loss : 0.0000\n"
     ]
    }
   ],
   "source": [
    "\n",
    "for epoch in range(1, 400):\n",
    "    loss = train()\n",
    "#     break\n",
    "    train_acc = test(test_loader)\n",
    "#     test_acc = test(test_loader)\n",
    "    if epoch % 5 == 0: \n",
    "        print(f'Epoch: {epoch:03d}, Train Acc: {train_acc:.4f}, loss : {loss:.4f}')"
   ]
  },
  {
   "cell_type": "code",
   "execution_count": 9,
   "id": "58e65f59",
   "metadata": {},
   "outputs": [
    {
     "data": {
      "text/plain": [
       "12738"
      ]
     },
     "execution_count": 9,
     "metadata": {},
     "output_type": "execute_result"
    }
   ],
   "source": [
    "import numpy as np\n",
    "model_parameters = filter(lambda p: p.requires_grad, model.parameters())\n",
    "params = sum([p.numel() for p in model_parameters])\n",
    "params"
   ]
  },
  {
   "cell_type": "code",
   "execution_count": null,
   "id": "073c21ac",
   "metadata": {},
   "outputs": [],
   "source": []
  }
 ],
 "metadata": {
  "kernelspec": {
   "display_name": "Python 3 (ipykernel)",
   "language": "python",
   "name": "python3"
  },
  "language_info": {
   "codemirror_mode": {
    "name": "ipython",
    "version": 3
   },
   "file_extension": ".py",
   "mimetype": "text/x-python",
   "name": "python",
   "nbconvert_exporter": "python",
   "pygments_lexer": "ipython3",
   "version": "3.7.11"
  }
 },
 "nbformat": 4,
 "nbformat_minor": 5
}

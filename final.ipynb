{
 "cells": [
  {
   "cell_type": "code",
   "execution_count": 1,
   "id": "7d9c1726",
   "metadata": {},
   "outputs": [
    {
     "name": "stdout",
     "output_type": "stream",
     "text": [
      "3000000to3999999_BlockTransaction.csv  final.csv      readme.txt  tx_counts.csv\r\n",
      "extracted_labels.csv\t\t       processed.csv  time.csv\r\n"
     ]
    }
   ],
   "source": [
    "!ls ../3000000to3999999_BlockTransaction/"
   ]
  },
  {
   "cell_type": "code",
   "execution_count": 2,
   "id": "9d4b9de1",
   "metadata": {},
   "outputs": [],
   "source": [
    "path = '../3000000to3999999_BlockTransaction/'"
   ]
  },
  {
   "cell_type": "code",
   "execution_count": 3,
   "id": "39623b68",
   "metadata": {},
   "outputs": [],
   "source": [
    "import pandas as pd\n",
    "from datetime import datetime\n",
    "import time\n",
    "import numpy as np"
   ]
  },
  {
   "cell_type": "code",
   "execution_count": 4,
   "id": "fd11dcca",
   "metadata": {},
   "outputs": [],
   "source": [
    "df = pd.read_csv(path+'final.csv')"
   ]
  },
  {
   "cell_type": "code",
   "execution_count": 5,
   "id": "09bd0eb5",
   "metadata": {},
   "outputs": [
    {
     "data": {
      "text/html": [
       "<div>\n",
       "<style scoped>\n",
       "    .dataframe tbody tr th:only-of-type {\n",
       "        vertical-align: middle;\n",
       "    }\n",
       "\n",
       "    .dataframe tbody tr th {\n",
       "        vertical-align: top;\n",
       "    }\n",
       "\n",
       "    .dataframe thead th {\n",
       "        text-align: right;\n",
       "    }\n",
       "</style>\n",
       "<table border=\"1\" class=\"dataframe\">\n",
       "  <thead>\n",
       "    <tr style=\"text-align: right;\">\n",
       "      <th></th>\n",
       "      <th>timestamp</th>\n",
       "      <th>from</th>\n",
       "      <th>to</th>\n",
       "      <th>value</th>\n",
       "      <th>gasLimit</th>\n",
       "      <th>gasPrice</th>\n",
       "      <th>gasUsed</th>\n",
       "      <th>0</th>\n",
       "    </tr>\n",
       "  </thead>\n",
       "  <tbody>\n",
       "    <tr>\n",
       "      <th>0</th>\n",
       "      <td>1484475035</td>\n",
       "      <td>0</td>\n",
       "      <td>1890222</td>\n",
       "      <td>4.950000</td>\n",
       "      <td>3.9</td>\n",
       "      <td>2.0</td>\n",
       "      <td>2.1</td>\n",
       "      <td>mining</td>\n",
       "    </tr>\n",
       "    <tr>\n",
       "      <th>1</th>\n",
       "      <td>1484475035</td>\n",
       "      <td>1</td>\n",
       "      <td>1777</td>\n",
       "      <td>1.011962</td>\n",
       "      <td>9.0</td>\n",
       "      <td>2.0</td>\n",
       "      <td>2.1</td>\n",
       "      <td>mining</td>\n",
       "    </tr>\n",
       "    <tr>\n",
       "      <th>2</th>\n",
       "      <td>1484475035</td>\n",
       "      <td>1</td>\n",
       "      <td>20425</td>\n",
       "      <td>1.011957</td>\n",
       "      <td>9.0</td>\n",
       "      <td>2.0</td>\n",
       "      <td>2.1</td>\n",
       "      <td>mining</td>\n",
       "    </tr>\n",
       "    <tr>\n",
       "      <th>3</th>\n",
       "      <td>1484475035</td>\n",
       "      <td>1</td>\n",
       "      <td>1558</td>\n",
       "      <td>1.008363</td>\n",
       "      <td>9.0</td>\n",
       "      <td>2.0</td>\n",
       "      <td>2.1</td>\n",
       "      <td>mining</td>\n",
       "    </tr>\n",
       "    <tr>\n",
       "      <th>4</th>\n",
       "      <td>1484475035</td>\n",
       "      <td>1</td>\n",
       "      <td>15</td>\n",
       "      <td>1.016120</td>\n",
       "      <td>9.0</td>\n",
       "      <td>2.0</td>\n",
       "      <td>2.1</td>\n",
       "      <td>mining</td>\n",
       "    </tr>\n",
       "  </tbody>\n",
       "</table>\n",
       "</div>"
      ],
      "text/plain": [
       "    timestamp  from       to     value  gasLimit  gasPrice  gasUsed       0\n",
       "0  1484475035     0  1890222  4.950000       3.9       2.0      2.1  mining\n",
       "1  1484475035     1     1777  1.011962       9.0       2.0      2.1  mining\n",
       "2  1484475035     1    20425  1.011957       9.0       2.0      2.1  mining\n",
       "3  1484475035     1     1558  1.008363       9.0       2.0      2.1  mining\n",
       "4  1484475035     1       15  1.016120       9.0       2.0      2.1  mining"
      ]
     },
     "execution_count": 5,
     "metadata": {},
     "output_type": "execute_result"
    }
   ],
   "source": [
    "df.head()"
   ]
  },
  {
   "cell_type": "code",
   "execution_count": 6,
   "id": "5562a163",
   "metadata": {},
   "outputs": [
    {
     "data": {
      "text/plain": [
       "array(['mining', nan, 'exchange', 'walletapp', 'compromised', 'gambling',\n",
       "       'isowallet', 'phish_hack'], dtype=object)"
      ]
     },
     "execution_count": 6,
     "metadata": {},
     "output_type": "execute_result"
    }
   ],
   "source": [
    "df['0'].unique()"
   ]
  },
  {
   "cell_type": "code",
   "execution_count": 7,
   "id": "3f3f18f7",
   "metadata": {},
   "outputs": [
    {
     "name": "stdout",
     "output_type": "stream",
     "text": [
      "mining:  3499995\n",
      "nan:  0\n",
      "exchange:  1315278\n",
      "walletapp:  52765\n",
      "compromised:  24937\n",
      "gambling:  823\n",
      "isowallet:  135\n",
      "phish_hack:  172\n"
     ]
    }
   ],
   "source": [
    "labels = df['0'].unique()\n",
    "for label in labels:\n",
    "    print('%s: '% label,(df['0'] == label).sum())\n",
    "# print('mining: ',(merged_df['0'] == 'mining').sum())"
   ]
  },
  {
   "cell_type": "code",
   "execution_count": 8,
   "id": "7427ec22",
   "metadata": {},
   "outputs": [
    {
     "data": {
      "text/plain": [
       "'exchange'"
      ]
     },
     "execution_count": 8,
     "metadata": {},
     "output_type": "execute_result"
    }
   ],
   "source": [
    "labels[2]"
   ]
  },
  {
   "cell_type": "code",
   "execution_count": 9,
   "id": "ba0eea02",
   "metadata": {},
   "outputs": [
    {
     "name": "stdout",
     "output_type": "stream",
     "text": [
      "exchange\n"
     ]
    },
    {
     "data": {
      "text/html": [
       "<div>\n",
       "<style scoped>\n",
       "    .dataframe tbody tr th:only-of-type {\n",
       "        vertical-align: middle;\n",
       "    }\n",
       "\n",
       "    .dataframe tbody tr th {\n",
       "        vertical-align: top;\n",
       "    }\n",
       "\n",
       "    .dataframe thead th {\n",
       "        text-align: right;\n",
       "    }\n",
       "</style>\n",
       "<table border=\"1\" class=\"dataframe\">\n",
       "  <thead>\n",
       "    <tr style=\"text-align: right;\">\n",
       "      <th></th>\n",
       "      <th>timestamp</th>\n",
       "      <th>from</th>\n",
       "      <th>to</th>\n",
       "      <th>value</th>\n",
       "      <th>gasLimit</th>\n",
       "      <th>gasPrice</th>\n",
       "      <th>gasUsed</th>\n",
       "      <th>0</th>\n",
       "    </tr>\n",
       "  </thead>\n",
       "  <tbody>\n",
       "    <tr>\n",
       "      <th>22</th>\n",
       "      <td>1484475182</td>\n",
       "      <td>13</td>\n",
       "      <td>1676</td>\n",
       "      <td>0.989400</td>\n",
       "      <td>33.3333</td>\n",
       "      <td>3.0</td>\n",
       "      <td>2.1</td>\n",
       "      <td>exchange</td>\n",
       "    </tr>\n",
       "    <tr>\n",
       "      <th>26</th>\n",
       "      <td>1484475182</td>\n",
       "      <td>13</td>\n",
       "      <td>3522</td>\n",
       "      <td>2500.000000</td>\n",
       "      <td>33.3333</td>\n",
       "      <td>3.0</td>\n",
       "      <td>2.1</td>\n",
       "      <td>exchange</td>\n",
       "    </tr>\n",
       "    <tr>\n",
       "      <th>37</th>\n",
       "      <td>1484475230</td>\n",
       "      <td>17</td>\n",
       "      <td>54938</td>\n",
       "      <td>25.237936</td>\n",
       "      <td>4.0000</td>\n",
       "      <td>6.0</td>\n",
       "      <td>2.1</td>\n",
       "      <td>exchange</td>\n",
       "    </tr>\n",
       "    <tr>\n",
       "      <th>80</th>\n",
       "      <td>1484475418</td>\n",
       "      <td>33</td>\n",
       "      <td>1890243</td>\n",
       "      <td>0.010000</td>\n",
       "      <td>9.0000</td>\n",
       "      <td>2.0</td>\n",
       "      <td>2.1</td>\n",
       "      <td>exchange</td>\n",
       "    </tr>\n",
       "    <tr>\n",
       "      <th>84</th>\n",
       "      <td>1484475449</td>\n",
       "      <td>17</td>\n",
       "      <td>55130</td>\n",
       "      <td>0.322861</td>\n",
       "      <td>4.0000</td>\n",
       "      <td>6.0</td>\n",
       "      <td>2.1</td>\n",
       "      <td>exchange</td>\n",
       "    </tr>\n",
       "  </tbody>\n",
       "</table>\n",
       "</div>"
      ],
      "text/plain": [
       "     timestamp  from       to        value  gasLimit  gasPrice  gasUsed  \\\n",
       "22  1484475182    13     1676     0.989400   33.3333       3.0      2.1   \n",
       "26  1484475182    13     3522  2500.000000   33.3333       3.0      2.1   \n",
       "37  1484475230    17    54938    25.237936    4.0000       6.0      2.1   \n",
       "80  1484475418    33  1890243     0.010000    9.0000       2.0      2.1   \n",
       "84  1484475449    17    55130     0.322861    4.0000       6.0      2.1   \n",
       "\n",
       "           0  \n",
       "22  exchange  \n",
       "26  exchange  \n",
       "37  exchange  \n",
       "80  exchange  \n",
       "84  exchange  "
      ]
     },
     "execution_count": 9,
     "metadata": {},
     "output_type": "execute_result"
    }
   ],
   "source": [
    "print(labels[2])\n",
    "exchange_data = df[df['0'] == labels[2]]\n",
    "exchange_data.head()"
   ]
  },
  {
   "cell_type": "code",
   "execution_count": 10,
   "id": "0c429913",
   "metadata": {},
   "outputs": [],
   "source": [
    "exchange_addrs = exchange_data['from'].unique()"
   ]
  },
  {
   "cell_type": "code",
   "execution_count": 11,
   "id": "09a4aa3e",
   "metadata": {},
   "outputs": [
    {
     "data": {
      "text/plain": [
       "array([     13,      17,      33,      34,      43,      54,      56,\n",
       "           103,     117,     223,     995,    1228,    1656,    1978,\n",
       "          2991,    5776,   12263,   14671,   18658,   33689,   47074,\n",
       "         49448,  221195,  429754,  472163,  783594,  799193,  815148,\n",
       "        831223,  831265,  831328,  831609,  862493,  868818,  876589,\n",
       "        886250,  899622,  914200,  943390, 1204532, 1214774, 1390781,\n",
       "       1442627, 1445427, 1445460, 1467198, 1637691, 1643544, 1722452,\n",
       "       1794274])"
      ]
     },
     "execution_count": 11,
     "metadata": {},
     "output_type": "execute_result"
    }
   ],
   "source": [
    "exchange_addrs"
   ]
  },
  {
   "cell_type": "code",
   "execution_count": 12,
   "id": "1885d59d",
   "metadata": {},
   "outputs": [],
   "source": [
    "kept_ex_addrs = []\n",
    "for addr in exchange_addrs:\n",
    "    if (exchange_data['from']==addr).sum() > 100:\n",
    "        kept_ex_addrs.append(addr)\n",
    "#     print( str(addr)+' :',(exchange_data['from']==addr).sum())\n",
    "    "
   ]
  },
  {
   "cell_type": "code",
   "execution_count": 13,
   "id": "44ed1cd5",
   "metadata": {},
   "outputs": [
    {
     "data": {
      "text/plain": [
       "33"
      ]
     },
     "execution_count": 13,
     "metadata": {},
     "output_type": "execute_result"
    }
   ],
   "source": [
    "len(kept_ex_addrs)"
   ]
  },
  {
   "cell_type": "code",
   "execution_count": 14,
   "id": "fce9c21e",
   "metadata": {},
   "outputs": [
    {
     "data": {
      "text/plain": [
       "50"
      ]
     },
     "execution_count": 14,
     "metadata": {},
     "output_type": "execute_result"
    }
   ],
   "source": [
    "len(exchange_addrs)"
   ]
  },
  {
   "cell_type": "code",
   "execution_count": 15,
   "id": "6f2c00b0",
   "metadata": {},
   "outputs": [
    {
     "name": "stdout",
     "output_type": "stream",
     "text": [
      "mining\n"
     ]
    },
    {
     "data": {
      "text/html": [
       "<div>\n",
       "<style scoped>\n",
       "    .dataframe tbody tr th:only-of-type {\n",
       "        vertical-align: middle;\n",
       "    }\n",
       "\n",
       "    .dataframe tbody tr th {\n",
       "        vertical-align: top;\n",
       "    }\n",
       "\n",
       "    .dataframe thead th {\n",
       "        text-align: right;\n",
       "    }\n",
       "</style>\n",
       "<table border=\"1\" class=\"dataframe\">\n",
       "  <thead>\n",
       "    <tr style=\"text-align: right;\">\n",
       "      <th></th>\n",
       "      <th>timestamp</th>\n",
       "      <th>from</th>\n",
       "      <th>to</th>\n",
       "      <th>value</th>\n",
       "      <th>gasLimit</th>\n",
       "      <th>gasPrice</th>\n",
       "      <th>gasUsed</th>\n",
       "      <th>0</th>\n",
       "    </tr>\n",
       "  </thead>\n",
       "  <tbody>\n",
       "    <tr>\n",
       "      <th>0</th>\n",
       "      <td>1484475035</td>\n",
       "      <td>0</td>\n",
       "      <td>1890222</td>\n",
       "      <td>4.950000</td>\n",
       "      <td>3.9</td>\n",
       "      <td>2.0</td>\n",
       "      <td>2.1</td>\n",
       "      <td>mining</td>\n",
       "    </tr>\n",
       "    <tr>\n",
       "      <th>1</th>\n",
       "      <td>1484475035</td>\n",
       "      <td>1</td>\n",
       "      <td>1777</td>\n",
       "      <td>1.011962</td>\n",
       "      <td>9.0</td>\n",
       "      <td>2.0</td>\n",
       "      <td>2.1</td>\n",
       "      <td>mining</td>\n",
       "    </tr>\n",
       "    <tr>\n",
       "      <th>2</th>\n",
       "      <td>1484475035</td>\n",
       "      <td>1</td>\n",
       "      <td>20425</td>\n",
       "      <td>1.011957</td>\n",
       "      <td>9.0</td>\n",
       "      <td>2.0</td>\n",
       "      <td>2.1</td>\n",
       "      <td>mining</td>\n",
       "    </tr>\n",
       "    <tr>\n",
       "      <th>3</th>\n",
       "      <td>1484475035</td>\n",
       "      <td>1</td>\n",
       "      <td>1558</td>\n",
       "      <td>1.008363</td>\n",
       "      <td>9.0</td>\n",
       "      <td>2.0</td>\n",
       "      <td>2.1</td>\n",
       "      <td>mining</td>\n",
       "    </tr>\n",
       "    <tr>\n",
       "      <th>4</th>\n",
       "      <td>1484475035</td>\n",
       "      <td>1</td>\n",
       "      <td>15</td>\n",
       "      <td>1.016120</td>\n",
       "      <td>9.0</td>\n",
       "      <td>2.0</td>\n",
       "      <td>2.1</td>\n",
       "      <td>mining</td>\n",
       "    </tr>\n",
       "  </tbody>\n",
       "</table>\n",
       "</div>"
      ],
      "text/plain": [
       "    timestamp  from       to     value  gasLimit  gasPrice  gasUsed       0\n",
       "0  1484475035     0  1890222  4.950000       3.9       2.0      2.1  mining\n",
       "1  1484475035     1     1777  1.011962       9.0       2.0      2.1  mining\n",
       "2  1484475035     1    20425  1.011957       9.0       2.0      2.1  mining\n",
       "3  1484475035     1     1558  1.008363       9.0       2.0      2.1  mining\n",
       "4  1484475035     1       15  1.016120       9.0       2.0      2.1  mining"
      ]
     },
     "execution_count": 15,
     "metadata": {},
     "output_type": "execute_result"
    }
   ],
   "source": [
    "print(labels[0])\n",
    "mining_data = df[df['0'] == labels[0]]\n",
    "mining_data.head()"
   ]
  },
  {
   "cell_type": "code",
   "execution_count": 18,
   "id": "8e9a703b",
   "metadata": {},
   "outputs": [],
   "source": [
    "mining_addrs = mining_data['from'].unique()"
   ]
  },
  {
   "cell_type": "code",
   "execution_count": 19,
   "id": "5b6c6022",
   "metadata": {},
   "outputs": [
    {
     "data": {
      "text/plain": [
       "12"
      ]
     },
     "execution_count": 19,
     "metadata": {},
     "output_type": "execute_result"
    }
   ],
   "source": [
    "len(mining_addrs)"
   ]
  },
  {
   "cell_type": "code",
   "execution_count": 20,
   "id": "1b3acb3b",
   "metadata": {},
   "outputs": [],
   "source": [
    "kept_mining_addrs = []\n",
    "for addr in mining_addrs:\n",
    "    if (mining_data['from']==addr).sum() > 100:\n",
    "        kept_mining_addrs.append(addr)\n",
    "#     print( str(addr)+' :',(mining_data['from']==addr).sum())\n",
    "    "
   ]
  },
  {
   "cell_type": "code",
   "execution_count": 21,
   "id": "5c82bd35",
   "metadata": {},
   "outputs": [
    {
     "data": {
      "text/plain": [
       "9"
      ]
     },
     "execution_count": 21,
     "metadata": {},
     "output_type": "execute_result"
    }
   ],
   "source": [
    "len(kept_mining_addrs)"
   ]
  },
  {
   "cell_type": "code",
   "execution_count": 22,
   "id": "41db55fc",
   "metadata": {},
   "outputs": [
    {
     "data": {
      "text/plain": [
       "[0, 1, 261, 338, 1236, 1484, 3402, 76929, 1459688]"
      ]
     },
     "execution_count": 22,
     "metadata": {},
     "output_type": "execute_result"
    }
   ],
   "source": [
    "kept_mining_addrs"
   ]
  },
  {
   "cell_type": "code",
   "execution_count": 23,
   "id": "111ad886",
   "metadata": {},
   "outputs": [],
   "source": [
    "def receiving_transaction_graph_h4_timed(node,st_time,end_time,dataframe):\n",
    "    \n",
    "    timed_df = dataframe[dataframe['timestamp'].between(st_time,end_time)]\n",
    "    \n",
    "    neigh1 = timed_df[timed_df['to'] == node]\n",
    "    \n",
    "    neigh2 = timed_df[timed_df['to'].isin(neigh1['from'])]\n",
    "    neigh2=neigh2[neigh2['to'] != node]\n",
    "    \n",
    "    neigh3 = timed_df[timed_df['to'].isin(neigh2['from'])]\n",
    "    neigh3 = neigh3[~neigh3['to'].isin(neigh2['to'])]\n",
    "    \n",
    "    neigh4 = timed_df[timed_df['to'].isin(neigh3['from'])]\n",
    "    neigh4 = neigh4[~neigh4['to'].isin(neigh3['to'])]\n",
    "    \n",
    "    return (neigh1,neigh2,neigh3,neigh4)\n",
    "    \n",
    "    "
   ]
  },
  {
   "cell_type": "code",
   "execution_count": 24,
   "id": "8df73d70",
   "metadata": {},
   "outputs": [],
   "source": [
    "def send_extract_graph_h4_timed(node,st_time,end_time,dataframe):\n",
    "    \n",
    "    timed_df = dataframe[dataframe['timestamp'].between(st_time,end_time)]\n",
    "    \n",
    "    neigh1 = timed_df[timed_df['from'] == node]\n",
    "    \n",
    "    neigh2 = timed_df[timed_df['from'].isin(neigh1['to'])]\n",
    "    neigh2=neigh2[neigh2['from'] != node]\n",
    "    \n",
    "    neigh3 = timed_df[timed_df['from'].isin(neigh2['to'])]\n",
    "    neigh3 = neigh3[~neigh3['from'].isin(neigh2['from'])]\n",
    "    \n",
    "    neigh4 = timed_df[timed_df['from'].isin(neigh3['to'])]\n",
    "    neigh4 = neigh4[~neigh4['from'].isin(neigh3['from'])]\n",
    "    \n",
    "    return (neigh1,neigh2,neigh3,neigh4)\n",
    "    \n",
    "    \n"
   ]
  },
  {
   "cell_type": "code",
   "execution_count": 25,
   "id": "5deea2c7",
   "metadata": {},
   "outputs": [
    {
     "data": {
      "text/html": [
       "<div>\n",
       "<style scoped>\n",
       "    .dataframe tbody tr th:only-of-type {\n",
       "        vertical-align: middle;\n",
       "    }\n",
       "\n",
       "    .dataframe tbody tr th {\n",
       "        vertical-align: top;\n",
       "    }\n",
       "\n",
       "    .dataframe thead th {\n",
       "        text-align: right;\n",
       "    }\n",
       "</style>\n",
       "<table border=\"1\" class=\"dataframe\">\n",
       "  <thead>\n",
       "    <tr style=\"text-align: right;\">\n",
       "      <th></th>\n",
       "      <th>timestamp</th>\n",
       "      <th>from</th>\n",
       "      <th>to</th>\n",
       "      <th>value</th>\n",
       "      <th>gasLimit</th>\n",
       "      <th>gasPrice</th>\n",
       "      <th>gasUsed</th>\n",
       "      <th>0</th>\n",
       "    </tr>\n",
       "  </thead>\n",
       "  <tbody>\n",
       "    <tr>\n",
       "      <th>0</th>\n",
       "      <td>1484475035</td>\n",
       "      <td>0</td>\n",
       "      <td>1890222</td>\n",
       "      <td>4.950000</td>\n",
       "      <td>3.9</td>\n",
       "      <td>2.0</td>\n",
       "      <td>2.1</td>\n",
       "      <td>mining</td>\n",
       "    </tr>\n",
       "    <tr>\n",
       "      <th>1</th>\n",
       "      <td>1484475035</td>\n",
       "      <td>1</td>\n",
       "      <td>1777</td>\n",
       "      <td>1.011962</td>\n",
       "      <td>9.0</td>\n",
       "      <td>2.0</td>\n",
       "      <td>2.1</td>\n",
       "      <td>mining</td>\n",
       "    </tr>\n",
       "    <tr>\n",
       "      <th>2</th>\n",
       "      <td>1484475035</td>\n",
       "      <td>1</td>\n",
       "      <td>20425</td>\n",
       "      <td>1.011957</td>\n",
       "      <td>9.0</td>\n",
       "      <td>2.0</td>\n",
       "      <td>2.1</td>\n",
       "      <td>mining</td>\n",
       "    </tr>\n",
       "    <tr>\n",
       "      <th>3</th>\n",
       "      <td>1484475035</td>\n",
       "      <td>1</td>\n",
       "      <td>1558</td>\n",
       "      <td>1.008363</td>\n",
       "      <td>9.0</td>\n",
       "      <td>2.0</td>\n",
       "      <td>2.1</td>\n",
       "      <td>mining</td>\n",
       "    </tr>\n",
       "    <tr>\n",
       "      <th>4</th>\n",
       "      <td>1484475035</td>\n",
       "      <td>1</td>\n",
       "      <td>15</td>\n",
       "      <td>1.016120</td>\n",
       "      <td>9.0</td>\n",
       "      <td>2.0</td>\n",
       "      <td>2.1</td>\n",
       "      <td>mining</td>\n",
       "    </tr>\n",
       "  </tbody>\n",
       "</table>\n",
       "</div>"
      ],
      "text/plain": [
       "    timestamp  from       to     value  gasLimit  gasPrice  gasUsed       0\n",
       "0  1484475035     0  1890222  4.950000       3.9       2.0      2.1  mining\n",
       "1  1484475035     1     1777  1.011962       9.0       2.0      2.1  mining\n",
       "2  1484475035     1    20425  1.011957       9.0       2.0      2.1  mining\n",
       "3  1484475035     1     1558  1.008363       9.0       2.0      2.1  mining\n",
       "4  1484475035     1       15  1.016120       9.0       2.0      2.1  mining"
      ]
     },
     "execution_count": 25,
     "metadata": {},
     "output_type": "execute_result"
    }
   ],
   "source": [
    "df.head()"
   ]
  },
  {
   "cell_type": "code",
   "execution_count": 26,
   "id": "f4dd0155",
   "metadata": {},
   "outputs": [
    {
     "data": {
      "text/plain": [
       "1484481572"
      ]
     },
     "execution_count": 26,
     "metadata": {},
     "output_type": "execute_result"
    }
   ],
   "source": [
    "df[df['from'] == 261]['timestamp'].iloc[0]"
   ]
  },
  {
   "cell_type": "code",
   "execution_count": 27,
   "id": "53b6679f",
   "metadata": {},
   "outputs": [],
   "source": [
    "st_time = 1484481572\n",
    "duration = 700000\n",
    "end_time = st_time+duration\n",
    "addr = 261\n",
    "(neigh1,neigh2,neigh3,neigh4)=send_extract_graph_h4_timed(addr,st_time,end_time,df)"
   ]
  },
  {
   "cell_type": "code",
   "execution_count": 23,
   "id": "c4f43d2f",
   "metadata": {},
   "outputs": [
    {
     "data": {
      "text/plain": [
       "timestamp    1499633540\n",
       "from               1484\n",
       "to              1642750\n",
       "value          0.050131\n",
       "gasLimit            9.0\n",
       "gasPrice            2.0\n",
       "gasUsed             2.1\n",
       "0                mining\n",
       "Name: 12846970, dtype: object"
      ]
     },
     "execution_count": 23,
     "metadata": {},
     "output_type": "execute_result"
    }
   ],
   "source": [
    "df.iloc[-1]"
   ]
  },
  {
   "cell_type": "code",
   "execution_count": 28,
   "id": "43f9aac7",
   "metadata": {},
   "outputs": [],
   "source": [
    "def aggregate_tx(data):\n",
    "    selected_data = data[['from','to','value','gasLimit','gasPrice','gasUsed']].reset_index(drop=True)\n",
    "    grouped_data = selected_data.groupby(['from','to'])\n",
    "    \n",
    "    agg_counts = grouped_data.size()\n",
    "    agg_neigh = grouped_data.mean()\n",
    "    \n",
    "    agg_neigh['counts'] = agg_counts\n",
    "    \n",
    "    return agg_neigh.reset_index()"
   ]
  },
  {
   "cell_type": "code",
   "execution_count": 29,
   "id": "7e2e9424",
   "metadata": {
    "scrolled": false
   },
   "outputs": [
    {
     "name": "stdout",
     "output_type": "stream",
     "text": [
      "(7324, 8)\n"
     ]
    }
   ],
   "source": [
    "st_time = df.iloc[0]['timestamp']\n",
    "duration = 700000\n",
    "addr = 261\n",
    "end_time = 0\n",
    "while  end_time < df.iloc[-1]['timestamp']:\n",
    "    end_time = st_time+duration\n",
    "    (neigh1,neigh2,neigh3,neigh4)=send_extract_graph_h4_timed(addr,st_time,end_time,df)\n",
    "    st_time = end_time\n",
    "    \n",
    "    print(neigh1.shape)\n",
    "    break"
   ]
  },
  {
   "cell_type": "code",
   "execution_count": 28,
   "id": "6070a223",
   "metadata": {},
   "outputs": [
    {
     "data": {
      "text/html": [
       "<div>\n",
       "<style scoped>\n",
       "    .dataframe tbody tr th:only-of-type {\n",
       "        vertical-align: middle;\n",
       "    }\n",
       "\n",
       "    .dataframe tbody tr th {\n",
       "        vertical-align: top;\n",
       "    }\n",
       "\n",
       "    .dataframe thead th {\n",
       "        text-align: right;\n",
       "    }\n",
       "</style>\n",
       "<table border=\"1\" class=\"dataframe\">\n",
       "  <thead>\n",
       "    <tr style=\"text-align: right;\">\n",
       "      <th></th>\n",
       "      <th>timestamp</th>\n",
       "      <th>from</th>\n",
       "      <th>to</th>\n",
       "      <th>value</th>\n",
       "      <th>gasLimit</th>\n",
       "      <th>gasPrice</th>\n",
       "      <th>gasUsed</th>\n",
       "      <th>0</th>\n",
       "    </tr>\n",
       "  </thead>\n",
       "  <tbody>\n",
       "    <tr>\n",
       "      <th>124</th>\n",
       "      <td>1484475646</td>\n",
       "      <td>43</td>\n",
       "      <td>409407</td>\n",
       "      <td>0.082248</td>\n",
       "      <td>2.1001</td>\n",
       "      <td>2.0</td>\n",
       "      <td>2.1</td>\n",
       "      <td>exchange</td>\n",
       "    </tr>\n",
       "    <tr>\n",
       "      <th>249</th>\n",
       "      <td>1484476330</td>\n",
       "      <td>69</td>\n",
       "      <td>58</td>\n",
       "      <td>1.999580</td>\n",
       "      <td>2.1000</td>\n",
       "      <td>2.0</td>\n",
       "      <td>2.1</td>\n",
       "      <td>NaN</td>\n",
       "    </tr>\n",
       "    <tr>\n",
       "      <th>401</th>\n",
       "      <td>1484477134</td>\n",
       "      <td>69</td>\n",
       "      <td>58</td>\n",
       "      <td>9.989580</td>\n",
       "      <td>2.1000</td>\n",
       "      <td>2.0</td>\n",
       "      <td>2.1</td>\n",
       "      <td>NaN</td>\n",
       "    </tr>\n",
       "    <tr>\n",
       "      <th>450</th>\n",
       "      <td>1484477447</td>\n",
       "      <td>116</td>\n",
       "      <td>32824</td>\n",
       "      <td>55.719538</td>\n",
       "      <td>2.1000</td>\n",
       "      <td>2.0</td>\n",
       "      <td>2.1</td>\n",
       "      <td>NaN</td>\n",
       "    </tr>\n",
       "    <tr>\n",
       "      <th>514</th>\n",
       "      <td>1484477735</td>\n",
       "      <td>43</td>\n",
       "      <td>18773</td>\n",
       "      <td>0.354008</td>\n",
       "      <td>2.1001</td>\n",
       "      <td>2.0</td>\n",
       "      <td>2.1</td>\n",
       "      <td>exchange</td>\n",
       "    </tr>\n",
       "  </tbody>\n",
       "</table>\n",
       "</div>"
      ],
      "text/plain": [
       "      timestamp  from      to      value  gasLimit  gasPrice  gasUsed  \\\n",
       "124  1484475646    43  409407   0.082248    2.1001       2.0      2.1   \n",
       "249  1484476330    69      58   1.999580    2.1000       2.0      2.1   \n",
       "401  1484477134    69      58   9.989580    2.1000       2.0      2.1   \n",
       "450  1484477447   116   32824  55.719538    2.1000       2.0      2.1   \n",
       "514  1484477735    43   18773   0.354008    2.1001       2.0      2.1   \n",
       "\n",
       "            0  \n",
       "124  exchange  \n",
       "249       NaN  \n",
       "401       NaN  \n",
       "450       NaN  \n",
       "514  exchange  "
      ]
     },
     "execution_count": 28,
     "metadata": {},
     "output_type": "execute_result"
    }
   ],
   "source": [
    "neigh4.head()"
   ]
  },
  {
   "cell_type": "code",
   "execution_count": 29,
   "id": "57d1ea53",
   "metadata": {},
   "outputs": [
    {
     "data": {
      "text/html": [
       "<div>\n",
       "<style scoped>\n",
       "    .dataframe tbody tr th:only-of-type {\n",
       "        vertical-align: middle;\n",
       "    }\n",
       "\n",
       "    .dataframe tbody tr th {\n",
       "        vertical-align: top;\n",
       "    }\n",
       "\n",
       "    .dataframe thead th {\n",
       "        text-align: right;\n",
       "    }\n",
       "</style>\n",
       "<table border=\"1\" class=\"dataframe\">\n",
       "  <thead>\n",
       "    <tr style=\"text-align: right;\">\n",
       "      <th></th>\n",
       "      <th>from</th>\n",
       "      <th>to</th>\n",
       "      <th>value</th>\n",
       "      <th>gasLimit</th>\n",
       "      <th>gasPrice</th>\n",
       "      <th>gasUsed</th>\n",
       "      <th>counts</th>\n",
       "    </tr>\n",
       "  </thead>\n",
       "  <tbody>\n",
       "    <tr>\n",
       "      <th>0</th>\n",
       "      <td>43</td>\n",
       "      <td>179</td>\n",
       "      <td>0.165080</td>\n",
       "      <td>2.1001</td>\n",
       "      <td>2.0</td>\n",
       "      <td>2.1</td>\n",
       "      <td>1</td>\n",
       "    </tr>\n",
       "    <tr>\n",
       "      <th>1</th>\n",
       "      <td>43</td>\n",
       "      <td>191</td>\n",
       "      <td>0.006552</td>\n",
       "      <td>2.1001</td>\n",
       "      <td>2.0</td>\n",
       "      <td>2.1</td>\n",
       "      <td>1</td>\n",
       "    </tr>\n",
       "    <tr>\n",
       "      <th>2</th>\n",
       "      <td>43</td>\n",
       "      <td>255</td>\n",
       "      <td>0.014131</td>\n",
       "      <td>2.1001</td>\n",
       "      <td>2.0</td>\n",
       "      <td>2.1</td>\n",
       "      <td>23</td>\n",
       "    </tr>\n",
       "    <tr>\n",
       "      <th>3</th>\n",
       "      <td>43</td>\n",
       "      <td>336</td>\n",
       "      <td>24.827719</td>\n",
       "      <td>2.1001</td>\n",
       "      <td>2.0</td>\n",
       "      <td>2.1</td>\n",
       "      <td>1</td>\n",
       "    </tr>\n",
       "    <tr>\n",
       "      <th>4</th>\n",
       "      <td>43</td>\n",
       "      <td>1019</td>\n",
       "      <td>0.086800</td>\n",
       "      <td>2.1001</td>\n",
       "      <td>2.0</td>\n",
       "      <td>2.1</td>\n",
       "      <td>2</td>\n",
       "    </tr>\n",
       "    <tr>\n",
       "      <th>...</th>\n",
       "      <td>...</td>\n",
       "      <td>...</td>\n",
       "      <td>...</td>\n",
       "      <td>...</td>\n",
       "      <td>...</td>\n",
       "      <td>...</td>\n",
       "      <td>...</td>\n",
       "    </tr>\n",
       "    <tr>\n",
       "      <th>1326</th>\n",
       "      <td>19886</td>\n",
       "      <td>43</td>\n",
       "      <td>7.459580</td>\n",
       "      <td>2.1001</td>\n",
       "      <td>2.0</td>\n",
       "      <td>2.1</td>\n",
       "      <td>1</td>\n",
       "    </tr>\n",
       "    <tr>\n",
       "      <th>1327</th>\n",
       "      <td>19887</td>\n",
       "      <td>43</td>\n",
       "      <td>1.553140</td>\n",
       "      <td>2.1001</td>\n",
       "      <td>2.0</td>\n",
       "      <td>2.1</td>\n",
       "      <td>1</td>\n",
       "    </tr>\n",
       "    <tr>\n",
       "      <th>1328</th>\n",
       "      <td>19889</td>\n",
       "      <td>1890233</td>\n",
       "      <td>2.244580</td>\n",
       "      <td>2.1000</td>\n",
       "      <td>2.0</td>\n",
       "      <td>2.1</td>\n",
       "      <td>1</td>\n",
       "    </tr>\n",
       "    <tr>\n",
       "      <th>1329</th>\n",
       "      <td>19901</td>\n",
       "      <td>21467</td>\n",
       "      <td>9.272739</td>\n",
       "      <td>2.1000</td>\n",
       "      <td>4.1</td>\n",
       "      <td>2.1</td>\n",
       "      <td>1</td>\n",
       "    </tr>\n",
       "    <tr>\n",
       "      <th>1330</th>\n",
       "      <td>19932</td>\n",
       "      <td>147</td>\n",
       "      <td>2.262090</td>\n",
       "      <td>2.1000</td>\n",
       "      <td>5.0</td>\n",
       "      <td>2.1</td>\n",
       "      <td>1</td>\n",
       "    </tr>\n",
       "  </tbody>\n",
       "</table>\n",
       "<p>1331 rows × 7 columns</p>\n",
       "</div>"
      ],
      "text/plain": [
       "       from       to      value  gasLimit  gasPrice  gasUsed  counts\n",
       "0        43      179   0.165080    2.1001       2.0      2.1       1\n",
       "1        43      191   0.006552    2.1001       2.0      2.1       1\n",
       "2        43      255   0.014131    2.1001       2.0      2.1      23\n",
       "3        43      336  24.827719    2.1001       2.0      2.1       1\n",
       "4        43     1019   0.086800    2.1001       2.0      2.1       2\n",
       "...     ...      ...        ...       ...       ...      ...     ...\n",
       "1326  19886       43   7.459580    2.1001       2.0      2.1       1\n",
       "1327  19887       43   1.553140    2.1001       2.0      2.1       1\n",
       "1328  19889  1890233   2.244580    2.1000       2.0      2.1       1\n",
       "1329  19901    21467   9.272739    2.1000       4.1      2.1       1\n",
       "1330  19932      147   2.262090    2.1000       5.0      2.1       1\n",
       "\n",
       "[1331 rows x 7 columns]"
      ]
     },
     "execution_count": 29,
     "metadata": {},
     "output_type": "execute_result"
    }
   ],
   "source": [
    "agg_neigh = aggregate_tx(neigh4)\n",
    "agg_neigh"
   ]
  },
  {
   "cell_type": "code",
   "execution_count": 30,
   "id": "b49ef1cf",
   "metadata": {},
   "outputs": [
    {
     "data": {
      "text/html": [
       "<div>\n",
       "<style scoped>\n",
       "    .dataframe tbody tr th:only-of-type {\n",
       "        vertical-align: middle;\n",
       "    }\n",
       "\n",
       "    .dataframe tbody tr th {\n",
       "        vertical-align: top;\n",
       "    }\n",
       "\n",
       "    .dataframe thead th {\n",
       "        text-align: right;\n",
       "    }\n",
       "</style>\n",
       "<table border=\"1\" class=\"dataframe\">\n",
       "  <thead>\n",
       "    <tr style=\"text-align: right;\">\n",
       "      <th></th>\n",
       "      <th>from</th>\n",
       "      <th>to</th>\n",
       "      <th>value</th>\n",
       "    </tr>\n",
       "  </thead>\n",
       "  <tbody>\n",
       "    <tr>\n",
       "      <th>124</th>\n",
       "      <td>43</td>\n",
       "      <td>409407</td>\n",
       "      <td>0.082248</td>\n",
       "    </tr>\n",
       "    <tr>\n",
       "      <th>249</th>\n",
       "      <td>69</td>\n",
       "      <td>58</td>\n",
       "      <td>1.999580</td>\n",
       "    </tr>\n",
       "    <tr>\n",
       "      <th>401</th>\n",
       "      <td>69</td>\n",
       "      <td>58</td>\n",
       "      <td>9.989580</td>\n",
       "    </tr>\n",
       "    <tr>\n",
       "      <th>450</th>\n",
       "      <td>116</td>\n",
       "      <td>32824</td>\n",
       "      <td>55.719538</td>\n",
       "    </tr>\n",
       "    <tr>\n",
       "      <th>514</th>\n",
       "      <td>43</td>\n",
       "      <td>18773</td>\n",
       "      <td>0.354008</td>\n",
       "    </tr>\n",
       "    <tr>\n",
       "      <th>...</th>\n",
       "      <td>...</td>\n",
       "      <td>...</td>\n",
       "      <td>...</td>\n",
       "    </tr>\n",
       "    <tr>\n",
       "      <th>228828</th>\n",
       "      <td>2416</td>\n",
       "      <td>257</td>\n",
       "      <td>0.230078</td>\n",
       "    </tr>\n",
       "    <tr>\n",
       "      <th>228830</th>\n",
       "      <td>2958</td>\n",
       "      <td>290</td>\n",
       "      <td>0.013666</td>\n",
       "    </tr>\n",
       "    <tr>\n",
       "      <th>228857</th>\n",
       "      <td>19889</td>\n",
       "      <td>1890233</td>\n",
       "      <td>2.244580</td>\n",
       "    </tr>\n",
       "    <tr>\n",
       "      <th>229139</th>\n",
       "      <td>19901</td>\n",
       "      <td>21467</td>\n",
       "      <td>9.272739</td>\n",
       "    </tr>\n",
       "    <tr>\n",
       "      <th>229643</th>\n",
       "      <td>19932</td>\n",
       "      <td>147</td>\n",
       "      <td>2.262090</td>\n",
       "    </tr>\n",
       "  </tbody>\n",
       "</table>\n",
       "<p>1898 rows × 3 columns</p>\n",
       "</div>"
      ],
      "text/plain": [
       "         from       to      value\n",
       "124        43   409407   0.082248\n",
       "249        69       58   1.999580\n",
       "401        69       58   9.989580\n",
       "450       116    32824  55.719538\n",
       "514        43    18773   0.354008\n",
       "...       ...      ...        ...\n",
       "228828   2416      257   0.230078\n",
       "228830   2958      290   0.013666\n",
       "228857  19889  1890233   2.244580\n",
       "229139  19901    21467   9.272739\n",
       "229643  19932      147   2.262090\n",
       "\n",
       "[1898 rows x 3 columns]"
      ]
     },
     "execution_count": 30,
     "metadata": {},
     "output_type": "execute_result"
    }
   ],
   "source": [
    "neigh2_df = neigh4[['from','to','value']] #.reset_index(drop=True)\n",
    "neigh2_df"
   ]
  },
  {
   "cell_type": "code",
   "execution_count": 31,
   "id": "d0bf5486",
   "metadata": {},
   "outputs": [],
   "source": [
    "grpby = neigh2_df.groupby(['from','to'])\n"
   ]
  },
  {
   "cell_type": "code",
   "execution_count": 32,
   "id": "bfe61f5a",
   "metadata": {},
   "outputs": [
    {
     "data": {
      "text/html": [
       "<div>\n",
       "<style scoped>\n",
       "    .dataframe tbody tr th:only-of-type {\n",
       "        vertical-align: middle;\n",
       "    }\n",
       "\n",
       "    .dataframe tbody tr th {\n",
       "        vertical-align: top;\n",
       "    }\n",
       "\n",
       "    .dataframe thead th {\n",
       "        text-align: right;\n",
       "    }\n",
       "</style>\n",
       "<table border=\"1\" class=\"dataframe\">\n",
       "  <thead>\n",
       "    <tr style=\"text-align: right;\">\n",
       "      <th></th>\n",
       "      <th></th>\n",
       "      <th>value</th>\n",
       "    </tr>\n",
       "    <tr>\n",
       "      <th>from</th>\n",
       "      <th>to</th>\n",
       "      <th></th>\n",
       "    </tr>\n",
       "  </thead>\n",
       "  <tbody>\n",
       "    <tr>\n",
       "      <th rowspan=\"5\" valign=\"top\">43</th>\n",
       "      <th>179</th>\n",
       "      <td>0.165080</td>\n",
       "    </tr>\n",
       "    <tr>\n",
       "      <th>191</th>\n",
       "      <td>0.006552</td>\n",
       "    </tr>\n",
       "    <tr>\n",
       "      <th>255</th>\n",
       "      <td>0.325023</td>\n",
       "    </tr>\n",
       "    <tr>\n",
       "      <th>336</th>\n",
       "      <td>24.827719</td>\n",
       "    </tr>\n",
       "    <tr>\n",
       "      <th>1019</th>\n",
       "      <td>0.173601</td>\n",
       "    </tr>\n",
       "    <tr>\n",
       "      <th>...</th>\n",
       "      <th>...</th>\n",
       "      <td>...</td>\n",
       "    </tr>\n",
       "    <tr>\n",
       "      <th>19886</th>\n",
       "      <th>43</th>\n",
       "      <td>7.459580</td>\n",
       "    </tr>\n",
       "    <tr>\n",
       "      <th>19887</th>\n",
       "      <th>43</th>\n",
       "      <td>1.553140</td>\n",
       "    </tr>\n",
       "    <tr>\n",
       "      <th>19889</th>\n",
       "      <th>1890233</th>\n",
       "      <td>2.244580</td>\n",
       "    </tr>\n",
       "    <tr>\n",
       "      <th>19901</th>\n",
       "      <th>21467</th>\n",
       "      <td>9.272739</td>\n",
       "    </tr>\n",
       "    <tr>\n",
       "      <th>19932</th>\n",
       "      <th>147</th>\n",
       "      <td>2.262090</td>\n",
       "    </tr>\n",
       "  </tbody>\n",
       "</table>\n",
       "<p>1331 rows × 1 columns</p>\n",
       "</div>"
      ],
      "text/plain": [
       "                   value\n",
       "from  to                \n",
       "43    179       0.165080\n",
       "      191       0.006552\n",
       "      255       0.325023\n",
       "      336      24.827719\n",
       "      1019      0.173601\n",
       "...                  ...\n",
       "19886 43        7.459580\n",
       "19887 43        1.553140\n",
       "19889 1890233   2.244580\n",
       "19901 21467     9.272739\n",
       "19932 147       2.262090\n",
       "\n",
       "[1331 rows x 1 columns]"
      ]
     },
     "execution_count": 32,
     "metadata": {},
     "output_type": "execute_result"
    }
   ],
   "source": [
    "grpby.aggregate(np.sum)"
   ]
  },
  {
   "cell_type": "code",
   "execution_count": 39,
   "id": "e08eba3e",
   "metadata": {},
   "outputs": [
    {
     "data": {
      "text/html": [
       "<div>\n",
       "<style scoped>\n",
       "    .dataframe tbody tr th:only-of-type {\n",
       "        vertical-align: middle;\n",
       "    }\n",
       "\n",
       "    .dataframe tbody tr th {\n",
       "        vertical-align: top;\n",
       "    }\n",
       "\n",
       "    .dataframe thead tr th {\n",
       "        text-align: left;\n",
       "    }\n",
       "\n",
       "    .dataframe thead tr:last-of-type th {\n",
       "        text-align: right;\n",
       "    }\n",
       "</style>\n",
       "<table border=\"1\" class=\"dataframe\">\n",
       "  <thead>\n",
       "    <tr>\n",
       "      <th></th>\n",
       "      <th></th>\n",
       "      <th colspan=\"2\" halign=\"left\">value</th>\n",
       "    </tr>\n",
       "    <tr>\n",
       "      <th></th>\n",
       "      <th></th>\n",
       "      <th>mean</th>\n",
       "      <th>count</th>\n",
       "    </tr>\n",
       "    <tr>\n",
       "      <th>from</th>\n",
       "      <th>to</th>\n",
       "      <th></th>\n",
       "      <th></th>\n",
       "    </tr>\n",
       "  </thead>\n",
       "  <tbody>\n",
       "    <tr>\n",
       "      <th rowspan=\"5\" valign=\"top\">43</th>\n",
       "      <th>179</th>\n",
       "      <td>0.165080</td>\n",
       "      <td>1</td>\n",
       "    </tr>\n",
       "    <tr>\n",
       "      <th>191</th>\n",
       "      <td>0.006552</td>\n",
       "      <td>1</td>\n",
       "    </tr>\n",
       "    <tr>\n",
       "      <th>255</th>\n",
       "      <td>0.014131</td>\n",
       "      <td>23</td>\n",
       "    </tr>\n",
       "    <tr>\n",
       "      <th>336</th>\n",
       "      <td>24.827719</td>\n",
       "      <td>1</td>\n",
       "    </tr>\n",
       "    <tr>\n",
       "      <th>1019</th>\n",
       "      <td>0.086800</td>\n",
       "      <td>2</td>\n",
       "    </tr>\n",
       "    <tr>\n",
       "      <th>...</th>\n",
       "      <th>...</th>\n",
       "      <td>...</td>\n",
       "      <td>...</td>\n",
       "    </tr>\n",
       "    <tr>\n",
       "      <th>19886</th>\n",
       "      <th>43</th>\n",
       "      <td>7.459580</td>\n",
       "      <td>1</td>\n",
       "    </tr>\n",
       "    <tr>\n",
       "      <th>19887</th>\n",
       "      <th>43</th>\n",
       "      <td>1.553140</td>\n",
       "      <td>1</td>\n",
       "    </tr>\n",
       "    <tr>\n",
       "      <th>19889</th>\n",
       "      <th>1890233</th>\n",
       "      <td>2.244580</td>\n",
       "      <td>1</td>\n",
       "    </tr>\n",
       "    <tr>\n",
       "      <th>19901</th>\n",
       "      <th>21467</th>\n",
       "      <td>9.272739</td>\n",
       "      <td>1</td>\n",
       "    </tr>\n",
       "    <tr>\n",
       "      <th>19932</th>\n",
       "      <th>147</th>\n",
       "      <td>2.262090</td>\n",
       "      <td>1</td>\n",
       "    </tr>\n",
       "  </tbody>\n",
       "</table>\n",
       "<p>1331 rows × 2 columns</p>\n",
       "</div>"
      ],
      "text/plain": [
       "                   value      \n",
       "                    mean count\n",
       "from  to                      \n",
       "43    179       0.165080     1\n",
       "      191       0.006552     1\n",
       "      255       0.014131    23\n",
       "      336      24.827719     1\n",
       "      1019      0.086800     2\n",
       "...                  ...   ...\n",
       "19886 43        7.459580     1\n",
       "19887 43        1.553140     1\n",
       "19889 1890233   2.244580     1\n",
       "19901 21467     9.272739     1\n",
       "19932 147       2.262090     1\n",
       "\n",
       "[1331 rows x 2 columns]"
      ]
     },
     "execution_count": 39,
     "metadata": {},
     "output_type": "execute_result"
    }
   ],
   "source": [
    "grpby.agg(['mean', 'count'])"
   ]
  },
  {
   "cell_type": "code",
   "execution_count": 109,
   "id": "f76367fd",
   "metadata": {
    "scrolled": false
   },
   "outputs": [
    {
     "name": "stdout",
     "output_type": "stream",
     "text": [
      "(43, 179)\n",
      "       from   to    value\n",
      "76563    43  179  0.16508\n",
      "(43, 191)\n",
      "     from   to     value\n",
      "875    43  191  0.006552\n",
      "(43, 255)\n",
      "        from   to     value\n",
      "1215      43  255  0.010562\n",
      "1225      43  255  0.011561\n",
      "5629      43  255  0.019500\n",
      "34458     43  255  0.011560\n",
      "34547     43  255  0.011561\n",
      "64574     43  255  0.014556\n",
      "64681     43  255  0.014556\n",
      "69132     43  255  0.019500\n",
      "88314     43  255  0.009564\n",
      "88319     43  255  0.009564\n",
      "116254    43  255  0.015580\n",
      "116387    43  255  0.015580\n",
      "119377    43  255  0.021580\n",
      "144414    43  255  0.012580\n",
      "144470    43  255  0.012580\n",
      "169016    43  255  0.012580\n",
      "169039    43  255  0.012580\n",
      "173419    43  255  0.021580\n",
      "197402    43  255  0.010580\n",
      "197705    43  255  0.011580\n",
      "221422    43  255  0.013580\n",
      "221522    43  255  0.013580\n",
      "227626    43  255  0.018580\n",
      "(43, 336)\n",
      "      from   to      value\n",
      "1623    43  336  24.827719\n",
      "(43, 1019)\n",
      "       from    to     value\n",
      "5630     43  1019  0.031452\n",
      "45144    43  1019  0.142149\n"
     ]
    }
   ],
   "source": [
    "i = 0\n",
    "for name, group in grpby:\n",
    "\n",
    "    print(name)\n",
    "    print(group)\n",
    "    if i == 4:\n",
    "        break\n",
    "    i=i+1"
   ]
  },
  {
   "cell_type": "code",
   "execution_count": 43,
   "id": "7dc61e7c",
   "metadata": {},
   "outputs": [
    {
     "data": {
      "text/plain": [
       "timestamp    1499633540\n",
       "from               1484\n",
       "to              1642750\n",
       "value          0.050131\n",
       "gasLimit            9.0\n",
       "gasPrice            2.0\n",
       "gasUsed             2.1\n",
       "0                mining\n",
       "Name: 12846970, dtype: object"
      ]
     },
     "execution_count": 43,
     "metadata": {},
     "output_type": "execute_result"
    }
   ],
   "source": [
    "df.iloc[-1]"
   ]
  },
  {
   "cell_type": "code",
   "execution_count": 30,
   "id": "2ab69344",
   "metadata": {},
   "outputs": [
    {
     "name": "stdout",
     "output_type": "stream",
     "text": [
      "2017-01-15 15:10:35\n",
      "2017-07-10 01:52:20\n"
     ]
    }
   ],
   "source": [
    "print(datetime.fromtimestamp(df.iloc[0]['timestamp']))\n",
    "print(datetime.fromtimestamp(df.iloc[-1]['timestamp']))"
   ]
  },
  {
   "cell_type": "code",
   "execution_count": 31,
   "id": "cece9794",
   "metadata": {},
   "outputs": [],
   "source": [
    "def extract_graphs(addr,duration):\n",
    "    st_time = df.iloc[0]['timestamp']\n",
    "#     duration = 700000\n",
    "#     addr = 261\n",
    "    end_time = 0\n",
    "    graphs = []\n",
    "    while  end_time < df.iloc[-1]['timestamp']:\n",
    "        end_time = st_time+duration\n",
    "        (neigh1,neigh2,neigh3,neigh4)=send_extract_graph_h4_timed(addr,st_time,end_time,df)\n",
    "        st_time = end_time\n",
    "#         print(neigh1.shape)\n",
    "        neigh1 = aggregate_tx(neigh1)\n",
    "        neigh2 = aggregate_tx(neigh2)\n",
    "        neigh3 = aggregate_tx(neigh3)\n",
    "        neigh4 = aggregate_tx(neigh4)\n",
    "        \n",
    "        graphs.append((neigh1,neigh2,neigh3,neigh4))\n",
    "    return graphs"
   ]
  },
  {
   "cell_type": "code",
   "execution_count": 32,
   "id": "ac814522",
   "metadata": {},
   "outputs": [],
   "source": [
    "miner_graph = []\n",
    "duration = 700000\n",
    "for addr in kept_mining_addrs:\n",
    "    miner_graph.append(extract_graphs(addr,duration))"
   ]
  },
  {
   "cell_type": "code",
   "execution_count": 33,
   "id": "ea81fb87",
   "metadata": {},
   "outputs": [
    {
     "data": {
      "text/plain": [
       "22"
      ]
     },
     "execution_count": 33,
     "metadata": {},
     "output_type": "execute_result"
    }
   ],
   "source": [
    "len(miner_graph[1])"
   ]
  },
  {
   "cell_type": "code",
   "execution_count": 29,
   "id": "7d5db52d",
   "metadata": {
    "scrolled": true
   },
   "outputs": [],
   "source": [
    "(neigh1,neigh2,neigh3,neigh4) = miner_graph[0][0]"
   ]
  },
  {
   "cell_type": "code",
   "execution_count": 35,
   "id": "c727adba",
   "metadata": {},
   "outputs": [
    {
     "data": {
      "text/html": [
       "<div>\n",
       "<style scoped>\n",
       "    .dataframe tbody tr th:only-of-type {\n",
       "        vertical-align: middle;\n",
       "    }\n",
       "\n",
       "    .dataframe tbody tr th {\n",
       "        vertical-align: top;\n",
       "    }\n",
       "\n",
       "    .dataframe thead th {\n",
       "        text-align: right;\n",
       "    }\n",
       "</style>\n",
       "<table border=\"1\" class=\"dataframe\">\n",
       "  <thead>\n",
       "    <tr style=\"text-align: right;\">\n",
       "      <th></th>\n",
       "      <th>from</th>\n",
       "      <th>to</th>\n",
       "      <th>value</th>\n",
       "      <th>gasLimit</th>\n",
       "      <th>gasPrice</th>\n",
       "      <th>gasUsed</th>\n",
       "      <th>counts</th>\n",
       "    </tr>\n",
       "  </thead>\n",
       "  <tbody>\n",
       "    <tr>\n",
       "      <th>0</th>\n",
       "      <td>43</td>\n",
       "      <td>179</td>\n",
       "      <td>0.165080</td>\n",
       "      <td>2.1001</td>\n",
       "      <td>2.0</td>\n",
       "      <td>2.1</td>\n",
       "      <td>1</td>\n",
       "    </tr>\n",
       "    <tr>\n",
       "      <th>1</th>\n",
       "      <td>43</td>\n",
       "      <td>191</td>\n",
       "      <td>0.006552</td>\n",
       "      <td>2.1001</td>\n",
       "      <td>2.0</td>\n",
       "      <td>2.1</td>\n",
       "      <td>1</td>\n",
       "    </tr>\n",
       "    <tr>\n",
       "      <th>2</th>\n",
       "      <td>43</td>\n",
       "      <td>255</td>\n",
       "      <td>0.014131</td>\n",
       "      <td>2.1001</td>\n",
       "      <td>2.0</td>\n",
       "      <td>2.1</td>\n",
       "      <td>23</td>\n",
       "    </tr>\n",
       "    <tr>\n",
       "      <th>3</th>\n",
       "      <td>43</td>\n",
       "      <td>336</td>\n",
       "      <td>24.827719</td>\n",
       "      <td>2.1001</td>\n",
       "      <td>2.0</td>\n",
       "      <td>2.1</td>\n",
       "      <td>1</td>\n",
       "    </tr>\n",
       "    <tr>\n",
       "      <th>4</th>\n",
       "      <td>43</td>\n",
       "      <td>1019</td>\n",
       "      <td>0.086800</td>\n",
       "      <td>2.1001</td>\n",
       "      <td>2.0</td>\n",
       "      <td>2.1</td>\n",
       "      <td>2</td>\n",
       "    </tr>\n",
       "    <tr>\n",
       "      <th>...</th>\n",
       "      <td>...</td>\n",
       "      <td>...</td>\n",
       "      <td>...</td>\n",
       "      <td>...</td>\n",
       "      <td>...</td>\n",
       "      <td>...</td>\n",
       "      <td>...</td>\n",
       "    </tr>\n",
       "    <tr>\n",
       "      <th>1805</th>\n",
       "      <td>19886</td>\n",
       "      <td>43</td>\n",
       "      <td>7.459580</td>\n",
       "      <td>2.1001</td>\n",
       "      <td>2.0</td>\n",
       "      <td>2.1</td>\n",
       "      <td>1</td>\n",
       "    </tr>\n",
       "    <tr>\n",
       "      <th>1806</th>\n",
       "      <td>19887</td>\n",
       "      <td>43</td>\n",
       "      <td>1.553140</td>\n",
       "      <td>2.1001</td>\n",
       "      <td>2.0</td>\n",
       "      <td>2.1</td>\n",
       "      <td>1</td>\n",
       "    </tr>\n",
       "    <tr>\n",
       "      <th>1807</th>\n",
       "      <td>19889</td>\n",
       "      <td>1890233</td>\n",
       "      <td>2.244580</td>\n",
       "      <td>2.1000</td>\n",
       "      <td>2.0</td>\n",
       "      <td>2.1</td>\n",
       "      <td>1</td>\n",
       "    </tr>\n",
       "    <tr>\n",
       "      <th>1808</th>\n",
       "      <td>19901</td>\n",
       "      <td>21467</td>\n",
       "      <td>9.272739</td>\n",
       "      <td>2.1000</td>\n",
       "      <td>4.1</td>\n",
       "      <td>2.1</td>\n",
       "      <td>1</td>\n",
       "    </tr>\n",
       "    <tr>\n",
       "      <th>1809</th>\n",
       "      <td>19932</td>\n",
       "      <td>147</td>\n",
       "      <td>2.262090</td>\n",
       "      <td>2.1000</td>\n",
       "      <td>5.0</td>\n",
       "      <td>2.1</td>\n",
       "      <td>1</td>\n",
       "    </tr>\n",
       "  </tbody>\n",
       "</table>\n",
       "<p>1810 rows × 7 columns</p>\n",
       "</div>"
      ],
      "text/plain": [
       "       from       to      value  gasLimit  gasPrice  gasUsed  counts\n",
       "0        43      179   0.165080    2.1001       2.0      2.1       1\n",
       "1        43      191   0.006552    2.1001       2.0      2.1       1\n",
       "2        43      255   0.014131    2.1001       2.0      2.1      23\n",
       "3        43      336  24.827719    2.1001       2.0      2.1       1\n",
       "4        43     1019   0.086800    2.1001       2.0      2.1       2\n",
       "...     ...      ...        ...       ...       ...      ...     ...\n",
       "1805  19886       43   7.459580    2.1001       2.0      2.1       1\n",
       "1806  19887       43   1.553140    2.1001       2.0      2.1       1\n",
       "1807  19889  1890233   2.244580    2.1000       2.0      2.1       1\n",
       "1808  19901    21467   9.272739    2.1000       4.1      2.1       1\n",
       "1809  19932      147   2.262090    2.1000       5.0      2.1       1\n",
       "\n",
       "[1810 rows x 7 columns]"
      ]
     },
     "execution_count": 35,
     "metadata": {},
     "output_type": "execute_result"
    }
   ],
   "source": [
    "neigh4"
   ]
  },
  {
   "cell_type": "code",
   "execution_count": 34,
   "id": "41a0215c",
   "metadata": {},
   "outputs": [],
   "source": [
    "ex_graph = []\n",
    "duration = 700000\n",
    "for addr in kept_ex_addrs:\n",
    "    ex_graph.append(extract_graphs(addr,duration))"
   ]
  },
  {
   "cell_type": "code",
   "execution_count": 35,
   "id": "d24d20bc",
   "metadata": {},
   "outputs": [
    {
     "data": {
      "text/plain": [
       "22"
      ]
     },
     "execution_count": 35,
     "metadata": {},
     "output_type": "execute_result"
    }
   ],
   "source": [
    "len(ex_graph[0])"
   ]
  },
  {
   "cell_type": "code",
   "execution_count": 43,
   "id": "10594541",
   "metadata": {},
   "outputs": [],
   "source": [
    "(neigh1,neigh2,neigh3,neigh4) = ex_graph[0][0]"
   ]
  },
  {
   "cell_type": "code",
   "execution_count": 49,
   "id": "0cd6227c",
   "metadata": {},
   "outputs": [],
   "source": [
    "\n",
    "neigh1_nodes = pd.concat([neigh1['from'],neigh1['to']])\n",
    "neigh2_nodes = pd.concat([neigh2['from'],neigh2['to']])\n",
    "neigh3_nodes = pd.concat([neigh3['from'],neigh3['to']])\n",
    "neigh4_nodes = pd.concat([neigh4['from'],neigh4['to']])\n",
    "\n",
    "nodes = pd.concat([neigh1_nodes\n",
    "                  ,neigh2_nodes\n",
    "                  ,neigh3_nodes\n",
    "                  ,neigh4_nodes]).unique()"
   ]
  },
  {
   "cell_type": "code",
   "execution_count": 52,
   "id": "5a3c34cc",
   "metadata": {},
   "outputs": [],
   "source": [
    "map_id = {j:i for i,j in enumerate(nodes)}"
   ]
  },
  {
   "cell_type": "code",
   "execution_count": 53,
   "id": "f8a00b3d",
   "metadata": {},
   "outputs": [],
   "source": [
    "neigh1['from'] = neigh1['from'].map(map_id)\n",
    "neigh1['to'] = neigh1['to'].map(map_id)"
   ]
  },
  {
   "cell_type": "code",
   "execution_count": 55,
   "id": "ca3fe76d",
   "metadata": {},
   "outputs": [],
   "source": [
    "neigh2['from'] = neigh2['from'].map(map_id)\n",
    "neigh2['to'] = neigh2['to'].map(map_id)"
   ]
  },
  {
   "cell_type": "code",
   "execution_count": 56,
   "id": "687e2e3c",
   "metadata": {},
   "outputs": [],
   "source": [
    "neigh3['from'] = neigh3['from'].map(map_id)\n",
    "neigh3['to'] = neigh3['to'].map(map_id)"
   ]
  },
  {
   "cell_type": "code",
   "execution_count": 57,
   "id": "0df4d74e",
   "metadata": {},
   "outputs": [],
   "source": [
    "neigh4['from'] = neigh4['from'].map(map_id)\n",
    "neigh4['to'] = neigh4['to'].map(map_id)"
   ]
  },
  {
   "cell_type": "code",
   "execution_count": 59,
   "id": "dd5ab0d4",
   "metadata": {},
   "outputs": [
    {
     "data": {
      "text/html": [
       "<div>\n",
       "<style scoped>\n",
       "    .dataframe tbody tr th:only-of-type {\n",
       "        vertical-align: middle;\n",
       "    }\n",
       "\n",
       "    .dataframe tbody tr th {\n",
       "        vertical-align: top;\n",
       "    }\n",
       "\n",
       "    .dataframe thead th {\n",
       "        text-align: right;\n",
       "    }\n",
       "</style>\n",
       "<table border=\"1\" class=\"dataframe\">\n",
       "  <thead>\n",
       "    <tr style=\"text-align: right;\">\n",
       "      <th></th>\n",
       "      <th>from</th>\n",
       "      <th>to</th>\n",
       "      <th>value</th>\n",
       "      <th>gasLimit</th>\n",
       "      <th>gasPrice</th>\n",
       "      <th>gasUsed</th>\n",
       "      <th>counts</th>\n",
       "    </tr>\n",
       "  </thead>\n",
       "  <tbody>\n",
       "    <tr>\n",
       "      <th>0</th>\n",
       "      <td>9986</td>\n",
       "      <td>5090</td>\n",
       "      <td>0.01</td>\n",
       "      <td>9.0</td>\n",
       "      <td>2.0</td>\n",
       "      <td>2.1</td>\n",
       "      <td>1</td>\n",
       "    </tr>\n",
       "    <tr>\n",
       "      <th>1</th>\n",
       "      <td>9986</td>\n",
       "      <td>10437</td>\n",
       "      <td>0.01</td>\n",
       "      <td>9.0</td>\n",
       "      <td>2.0</td>\n",
       "      <td>2.1</td>\n",
       "      <td>1</td>\n",
       "    </tr>\n",
       "    <tr>\n",
       "      <th>2</th>\n",
       "      <td>9986</td>\n",
       "      <td>10438</td>\n",
       "      <td>0.01</td>\n",
       "      <td>9.0</td>\n",
       "      <td>2.0</td>\n",
       "      <td>2.1</td>\n",
       "      <td>1</td>\n",
       "    </tr>\n",
       "    <tr>\n",
       "      <th>3</th>\n",
       "      <td>9986</td>\n",
       "      <td>10439</td>\n",
       "      <td>0.01</td>\n",
       "      <td>9.0</td>\n",
       "      <td>2.0</td>\n",
       "      <td>2.1</td>\n",
       "      <td>1</td>\n",
       "    </tr>\n",
       "    <tr>\n",
       "      <th>4</th>\n",
       "      <td>9986</td>\n",
       "      <td>10440</td>\n",
       "      <td>0.01</td>\n",
       "      <td>9.0</td>\n",
       "      <td>2.0</td>\n",
       "      <td>2.1</td>\n",
       "      <td>1</td>\n",
       "    </tr>\n",
       "  </tbody>\n",
       "</table>\n",
       "</div>"
      ],
      "text/plain": [
       "   from     to  value  gasLimit  gasPrice  gasUsed  counts\n",
       "0  9986   5090   0.01       9.0       2.0      2.1       1\n",
       "1  9986  10437   0.01       9.0       2.0      2.1       1\n",
       "2  9986  10438   0.01       9.0       2.0      2.1       1\n",
       "3  9986  10439   0.01       9.0       2.0      2.1       1\n",
       "4  9986  10440   0.01       9.0       2.0      2.1       1"
      ]
     },
     "execution_count": 59,
     "metadata": {},
     "output_type": "execute_result"
    }
   ],
   "source": [
    "neigh4.head()"
   ]
  },
  {
   "cell_type": "code",
   "execution_count": 36,
   "id": "981916c4",
   "metadata": {},
   "outputs": [],
   "source": [
    "import torch\n",
    "from torch_geometric.data import Data"
   ]
  },
  {
   "cell_type": "code",
   "execution_count": 39,
   "id": "56637537",
   "metadata": {},
   "outputs": [
    {
     "ename": "NameError",
     "evalue": "name 'graph' is not defined",
     "output_type": "error",
     "traceback": [
      "\u001b[0;31m---------------------------------------------------------------------------\u001b[0m",
      "\u001b[0;31mNameError\u001b[0m                                 Traceback (most recent call last)",
      "\u001b[0;32m/tmp/ipykernel_3368/3221162071.py\u001b[0m in \u001b[0;36m<module>\u001b[0;34m\u001b[0m\n\u001b[0;32m----> 1\u001b[0;31m \u001b[0mgraph\u001b[0m\u001b[0;34m[\u001b[0m\u001b[0;34m[\u001b[0m\u001b[0;34m'value'\u001b[0m\u001b[0;34m,\u001b[0m\u001b[0;34m'gasLimit'\u001b[0m\u001b[0;34m,\u001b[0m\u001b[0;34m'gasPrice'\u001b[0m\u001b[0;34m,\u001b[0m\u001b[0;34m'gasUsed'\u001b[0m \u001b[0;34m,\u001b[0m\u001b[0;34m'counts'\u001b[0m\u001b[0;34m]\u001b[0m\u001b[0;34m]\u001b[0m\u001b[0;34m.\u001b[0m\u001b[0mhead\u001b[0m\u001b[0;34m(\u001b[0m\u001b[0;34m)\u001b[0m\u001b[0;34m\u001b[0m\u001b[0;34m\u001b[0m\u001b[0m\n\u001b[0m",
      "\u001b[0;31mNameError\u001b[0m: name 'graph' is not defined"
     ]
    }
   ],
   "source": [
    "graph[['value','gasLimit','gasPrice','gasUsed' ,'counts']].head()"
   ]
  },
  {
   "cell_type": "code",
   "execution_count": 83,
   "id": "d1d2e7f1",
   "metadata": {},
   "outputs": [
    {
     "data": {
      "text/plain": [
       "(2, 17027)"
      ]
     },
     "execution_count": 83,
     "metadata": {},
     "output_type": "execute_result"
    }
   ],
   "source": [
    "graph = pd.concat([neigh1,neigh2,neigh3,neigh4])\n",
    "\n",
    "# print(graph[['from','to']].to_numpy())\n",
    "# print(graph)\n",
    "graph[['from','to']].to_numpy().T.shape"
   ]
  },
  {
   "cell_type": "code",
   "execution_count": 75,
   "id": "66388cf7",
   "metadata": {},
   "outputs": [],
   "source": [
    "edge_index = torch.tensor(graph[['from','to']].to_numpy().T, dtype=torch.long)\n",
    "x = torch.ones(nodes.shape)"
   ]
  },
  {
   "cell_type": "code",
   "execution_count": 82,
   "id": "7ec05469",
   "metadata": {},
   "outputs": [
    {
     "data": {
      "text/plain": [
       "(17027, 5)"
      ]
     },
     "execution_count": 82,
     "metadata": {},
     "output_type": "execute_result"
    }
   ],
   "source": [
    "edge_attributes = graph[['value','gasLimit','gasPrice','gasUsed' ,'counts']].to_numpy()\n",
    "edge_attributes.shape"
   ]
  },
  {
   "cell_type": "code",
   "execution_count": 87,
   "id": "a283a251",
   "metadata": {},
   "outputs": [],
   "source": [
    "\n",
    "data = Data(x=x, edge_index=edge_index,edge_attr = edge_attributes,y=[0])"
   ]
  },
  {
   "cell_type": "code",
   "execution_count": 37,
   "id": "5a012681",
   "metadata": {},
   "outputs": [
    {
     "data": {
      "text/plain": [
       "torch.Size([12995, 1])"
      ]
     },
     "execution_count": 37,
     "metadata": {},
     "output_type": "execute_result"
    }
   ],
   "source": [
    "def get_graph_data(graph,label):\n",
    "    (neigh1,neigh2,neigh3,neigh4) = graph\n",
    "    neigh1_nodes = pd.concat([neigh1['from'],neigh1['to']])\n",
    "    neigh2_nodes = pd.concat([neigh2['from'],neigh2['to']])\n",
    "    neigh3_nodes = pd.concat([neigh3['from'],neigh3['to']])\n",
    "    neigh4_nodes = pd.concat([neigh4['from'],neigh4['to']])\n",
    "\n",
    "    nodes = pd.concat([neigh1_nodes\n",
    "                  ,neigh2_nodes\n",
    "                  ,neigh3_nodes\n",
    "                  ,neigh4_nodes]).unique()\n",
    "    map_id = {j:i for i,j in enumerate(nodes)}\n",
    "    \n",
    "    neigh1['from'] = neigh1['from'].map(map_id)\n",
    "    neigh1['to'] = neigh1['to'].map(map_id)\n",
    "    \n",
    "    neigh2['from'] = neigh2['from'].map(map_id)\n",
    "    neigh2['to'] = neigh2['to'].map(map_id)\n",
    "    \n",
    "    neigh3['from'] = neigh3['from'].map(map_id)\n",
    "    neigh3['to'] = neigh3['to'].map(map_id)\n",
    "    \n",
    "    neigh4['from'] = neigh4['from'].map(map_id)\n",
    "    neigh4['to'] = neigh4['to'].map(map_id)\n",
    "    \n",
    "    graph = pd.concat([neigh1,neigh2,neigh3,neigh4])\n",
    "    \n",
    "    edge_index = torch.tensor(graph[['from','to']].to_numpy().T, dtype=torch.long)\n",
    "    \n",
    "    x = torch.ones(nodes.shape).reshape(-1,1)\n",
    "    edge_attributes = graph[['value','gasLimit','gasPrice','gasUsed' ,'counts']].to_numpy()\n",
    "    \n",
    "#     print(label)\n",
    "    data = Data(x=x, edge_index=edge_index,edge_attr = edge_attributes,y=torch.tensor([label]))\n",
    "    \n",
    "    return data\n",
    "data = get_graph_data(ex_graph[0][0],0)\n",
    "data.x.reshape(-1,1).shape"
   ]
  },
  {
   "cell_type": "code",
   "execution_count": 38,
   "id": "0adc9eb6",
   "metadata": {},
   "outputs": [],
   "source": [
    "data_list = []\n",
    "def add_graphs_to_list(graphs,label):\n",
    "    for addr_graphs in graphs:\n",
    "        for graph in addr_graphs:\n",
    "            data_list.append(get_graph_data(graph,label))\n",
    "            \n",
    "\n",
    "add_graphs_to_list(ex_graph,0)\n",
    "add_graphs_to_list(miner_graph,1)"
   ]
  },
  {
   "cell_type": "code",
   "execution_count": 36,
   "id": "174c3288",
   "metadata": {},
   "outputs": [
    {
     "data": {
      "text/plain": [
       "924"
      ]
     },
     "execution_count": 36,
     "metadata": {},
     "output_type": "execute_result"
    }
   ],
   "source": [
    "len(data_list)"
   ]
  },
  {
   "cell_type": "code",
   "execution_count": 39,
   "id": "e8edb218",
   "metadata": {},
   "outputs": [],
   "source": [
    "from torch_geometric.data import Data\n",
    "from torch_geometric.loader import DataLoader\n",
    "from torch_geometric.data import InMemoryDataset\n",
    "loader = DataLoader(data_list, batch_size=32)\n"
   ]
  },
  {
   "cell_type": "code",
   "execution_count": 40,
   "id": "4ff33c28",
   "metadata": {},
   "outputs": [],
   "source": [
    "class MyDataset(InMemoryDataset):\n",
    "    def __init__(self, root, data_list, transform=None):\n",
    "        self.data_list = data_list\n",
    "        super().__init__(root, transform)\n",
    "        self.data, self.slices = torch.load(self.processed_paths[0])\n",
    "\n",
    "    @property\n",
    "    def processed_file_names(self):\n",
    "        return 'data.pt'\n",
    "\n",
    "    def process(self):\n",
    "        torch.save(self.collate(self.data_list), self.processed_paths[0])"
   ]
  },
  {
   "cell_type": "code",
   "execution_count": 41,
   "id": "79a4cbcc",
   "metadata": {},
   "outputs": [
    {
     "name": "stderr",
     "output_type": "stream",
     "text": [
      "Processing...\n",
      "Done!\n"
     ]
    }
   ],
   "source": [
    "mydataset = MyDataset('./data',data_list)"
   ]
  },
  {
   "cell_type": "code",
   "execution_count": 51,
   "id": "1f014c21",
   "metadata": {},
   "outputs": [],
   "source": [
    "!mkdir data"
   ]
  },
  {
   "cell_type": "code",
   "execution_count": 65,
   "id": "f9b16c72",
   "metadata": {},
   "outputs": [],
   "source": [
    "# loader = DataLoader(mydataset, batch_size=32)\n",
    "train_loader = DataLoader(mydataset, batch_size=32, shuffle=True)"
   ]
  },
  {
   "cell_type": "code",
   "execution_count": 66,
   "id": "81fc3059",
   "metadata": {
    "scrolled": false
   },
   "outputs": [
    {
     "name": "stdout",
     "output_type": "stream",
     "text": [
      "Dataset: MyDataset(924):\n",
      "====================\n",
      "Number of graphs: 924\n",
      "Number of features: 1\n",
      "Number of classes: 2\n"
     ]
    }
   ],
   "source": [
    "print(f'Dataset: {mydataset}:')\n",
    "print('====================')\n",
    "print(f'Number of graphs: {len(mydataset)}')\n",
    "print(f'Number of features: {mydataset.num_features}')\n",
    "print(f'Number of classes: {mydataset.num_classes}')"
   ]
  },
  {
   "cell_type": "code",
   "execution_count": 67,
   "id": "0cd329bc",
   "metadata": {},
   "outputs": [
    {
     "name": "stdout",
     "output_type": "stream",
     "text": [
      "GCN(\n",
      "  (conv1): GCNConv(1, 64)\n",
      "  (conv2): GCNConv(64, 64)\n",
      "  (conv3): GCNConv(64, 64)\n",
      "  (lin): Linear(in_features=64, out_features=2, bias=True)\n",
      ")\n"
     ]
    }
   ],
   "source": [
    "from torch.nn import Linear\n",
    "import torch.nn.functional as F\n",
    "from torch_geometric.nn import GCNConv\n",
    "from torch_geometric.nn import global_mean_pool\n",
    "\n",
    "device = torch.device('cuda' if torch.cuda.is_available() else 'cpu')\n",
    "\n",
    "class GCN(torch.nn.Module):\n",
    "    def __init__(self, hidden_channels):\n",
    "        super(GCN, self).__init__()\n",
    "        torch.manual_seed(12345)\n",
    "        self.conv1 = GCNConv(mydataset.num_node_features, hidden_channels)\n",
    "        self.conv2 = GCNConv(hidden_channels, hidden_channels)\n",
    "        self.conv3 = GCNConv(hidden_channels, hidden_channels)\n",
    "        self.lin = Linear(hidden_channels, mydataset.num_classes)\n",
    "\n",
    "    def forward(self, x, edge_index, batch):\n",
    "        # 1. Obtain node embeddings \n",
    "        x = self.conv1(x, edge_index)\n",
    "        x = x.relu()\n",
    "        x = self.conv2(x, edge_index)\n",
    "        x = x.relu()\n",
    "        x = self.conv3(x, edge_index)\n",
    "\n",
    "        # 2. Readout layer\n",
    "        x = global_mean_pool(x, batch)  # [batch_size, hidden_channels]\n",
    "\n",
    "        # 3. Apply a final classifier\n",
    "        x = F.dropout(x, p=0.5, training=self.training)\n",
    "        x = self.lin(x)\n",
    "        \n",
    "        return x\n",
    "\n",
    "model = GCN(hidden_channels=64).to(device)\n",
    "print(model)"
   ]
  },
  {
   "cell_type": "code",
   "execution_count": 68,
   "id": "129436be",
   "metadata": {},
   "outputs": [],
   "source": [
    "model = GCN(hidden_channels=64).to(device)\n",
    "optimizer = torch.optim.Adam(model.parameters(), lr=0.01)\n",
    "criterion = torch.nn.CrossEntropyLoss()"
   ]
  },
  {
   "cell_type": "code",
   "execution_count": 106,
   "id": "11d68a3d",
   "metadata": {},
   "outputs": [],
   "source": [
    "def train():\n",
    "    model.train()\n",
    "\n",
    "    for data in train_loader:  # Iterate in batches over the training dataset.\n",
    "        data = data.to(device)\n",
    "#         print(data.shape)\n",
    "        out = model(data.x, data.edge_index, data.batch)  # Perform a single forward pass.\n",
    "#         print(out.shape)\n",
    "#         break\n",
    "        if out.shape[0] != data.y.shape[0]:\n",
    "#             print((out.shape,data.y.shape))\n",
    "            continue\n",
    "#         print((out.shape[0],data.y.shape[0]))\n",
    "#         break\n",
    "        loss = criterion(out, data.y)  # Compute the loss.\n",
    "        loss.backward()  # Derive gradients.\n",
    "        optimizer.step()  # Update parameters based on gradients.\n",
    "        optimizer.zero_grad()  # Clear gradients.\n",
    "            \n",
    "def test(loader):\n",
    "    model.eval()\n",
    "\n",
    "    correct = 0\n",
    "    for data in loader:  # Iterate in batches over the training/test dataset.\n",
    "        data = data.to(device)\n",
    "        out = model(data.x, data.edge_index, data.batch)  \n",
    "        pred = out.argmax(dim=1)  # Use the class with highest probability.\n",
    "        if pred.shape[0]!=data.y.shape[0]:\n",
    "            continue\n",
    "        correct += int((pred == data.y).sum())  # Check against ground-truth labels.\n",
    "    return correct / len(loader.dataset)  # Derive ratio of correct predictions.\n"
   ]
  },
  {
   "cell_type": "code",
   "execution_count": 107,
   "id": "88d7d3c8",
   "metadata": {
    "scrolled": false
   },
   "outputs": [
    {
     "ename": "RuntimeError",
     "evalue": "CUDA out of memory. Tried to allocate 498.00 MiB (GPU 0; 11.91 GiB total capacity; 9.39 GiB already allocated; 365.69 MiB free; 10.40 GiB reserved in total by PyTorch) If reserved memory is >> allocated memory try setting max_split_size_mb to avoid fragmentation.  See documentation for Memory Management and PYTORCH_CUDA_ALLOC_CONF",
     "output_type": "error",
     "traceback": [
      "\u001b[0;31m---------------------------------------------------------------------------\u001b[0m",
      "\u001b[0;31mRuntimeError\u001b[0m                              Traceback (most recent call last)",
      "\u001b[0;32m/tmp/ipykernel_7212/4171976834.py\u001b[0m in \u001b[0;36m<module>\u001b[0;34m\u001b[0m\n\u001b[1;32m      1\u001b[0m \u001b[0;32mfor\u001b[0m \u001b[0mepoch\u001b[0m \u001b[0;32min\u001b[0m \u001b[0mrange\u001b[0m\u001b[0;34m(\u001b[0m\u001b[0;36m1\u001b[0m\u001b[0;34m,\u001b[0m \u001b[0;36m200\u001b[0m\u001b[0;34m)\u001b[0m\u001b[0;34m:\u001b[0m\u001b[0;34m\u001b[0m\u001b[0;34m\u001b[0m\u001b[0m\n\u001b[0;32m----> 2\u001b[0;31m     \u001b[0mtrain\u001b[0m\u001b[0;34m(\u001b[0m\u001b[0;34m)\u001b[0m\u001b[0;34m\u001b[0m\u001b[0;34m\u001b[0m\u001b[0m\n\u001b[0m\u001b[1;32m      3\u001b[0m \u001b[0;31m#     break\u001b[0m\u001b[0;34m\u001b[0m\u001b[0;34m\u001b[0m\u001b[0;34m\u001b[0m\u001b[0m\n\u001b[1;32m      4\u001b[0m     \u001b[0mtrain_acc\u001b[0m \u001b[0;34m=\u001b[0m \u001b[0mtest\u001b[0m\u001b[0;34m(\u001b[0m\u001b[0mtrain_loader\u001b[0m\u001b[0;34m)\u001b[0m\u001b[0;34m\u001b[0m\u001b[0;34m\u001b[0m\u001b[0m\n\u001b[1;32m      5\u001b[0m \u001b[0;31m#     test_acc = test(test_loader)\u001b[0m\u001b[0;34m\u001b[0m\u001b[0;34m\u001b[0m\u001b[0;34m\u001b[0m\u001b[0m\n",
      "\u001b[0;32m/tmp/ipykernel_7212/66283527.py\u001b[0m in \u001b[0;36mtrain\u001b[0;34m()\u001b[0m\n\u001b[1;32m      5\u001b[0m         \u001b[0mdata\u001b[0m \u001b[0;34m=\u001b[0m \u001b[0mdata\u001b[0m\u001b[0;34m.\u001b[0m\u001b[0mto\u001b[0m\u001b[0;34m(\u001b[0m\u001b[0mdevice\u001b[0m\u001b[0;34m)\u001b[0m\u001b[0;34m\u001b[0m\u001b[0;34m\u001b[0m\u001b[0m\n\u001b[1;32m      6\u001b[0m \u001b[0;31m#         print(data.shape)\u001b[0m\u001b[0;34m\u001b[0m\u001b[0;34m\u001b[0m\u001b[0;34m\u001b[0m\u001b[0m\n\u001b[0;32m----> 7\u001b[0;31m         \u001b[0mout\u001b[0m \u001b[0;34m=\u001b[0m \u001b[0mmodel\u001b[0m\u001b[0;34m(\u001b[0m\u001b[0mdata\u001b[0m\u001b[0;34m.\u001b[0m\u001b[0mx\u001b[0m\u001b[0;34m,\u001b[0m \u001b[0mdata\u001b[0m\u001b[0;34m.\u001b[0m\u001b[0medge_index\u001b[0m\u001b[0;34m,\u001b[0m \u001b[0mdata\u001b[0m\u001b[0;34m.\u001b[0m\u001b[0mbatch\u001b[0m\u001b[0;34m)\u001b[0m  \u001b[0;31m# Perform a single forward pass.\u001b[0m\u001b[0;34m\u001b[0m\u001b[0;34m\u001b[0m\u001b[0m\n\u001b[0m\u001b[1;32m      8\u001b[0m \u001b[0;31m#         print(out.shape)\u001b[0m\u001b[0;34m\u001b[0m\u001b[0;34m\u001b[0m\u001b[0;34m\u001b[0m\u001b[0m\n\u001b[1;32m      9\u001b[0m \u001b[0;31m#         break\u001b[0m\u001b[0;34m\u001b[0m\u001b[0;34m\u001b[0m\u001b[0;34m\u001b[0m\u001b[0m\n",
      "\u001b[0;32m/media/cactus1/sda3/blockchain/lib/python3.7/site-packages/torch/nn/modules/module.py\u001b[0m in \u001b[0;36m_call_impl\u001b[0;34m(self, *input, **kwargs)\u001b[0m\n\u001b[1;32m   1100\u001b[0m         if not (self._backward_hooks or self._forward_hooks or self._forward_pre_hooks or _global_backward_hooks\n\u001b[1;32m   1101\u001b[0m                 or _global_forward_hooks or _global_forward_pre_hooks):\n\u001b[0;32m-> 1102\u001b[0;31m             \u001b[0;32mreturn\u001b[0m \u001b[0mforward_call\u001b[0m\u001b[0;34m(\u001b[0m\u001b[0;34m*\u001b[0m\u001b[0minput\u001b[0m\u001b[0;34m,\u001b[0m \u001b[0;34m**\u001b[0m\u001b[0mkwargs\u001b[0m\u001b[0;34m)\u001b[0m\u001b[0;34m\u001b[0m\u001b[0;34m\u001b[0m\u001b[0m\n\u001b[0m\u001b[1;32m   1103\u001b[0m         \u001b[0;31m# Do not call functions when jit is used\u001b[0m\u001b[0;34m\u001b[0m\u001b[0;34m\u001b[0m\u001b[0;34m\u001b[0m\u001b[0m\n\u001b[1;32m   1104\u001b[0m         \u001b[0mfull_backward_hooks\u001b[0m\u001b[0;34m,\u001b[0m \u001b[0mnon_full_backward_hooks\u001b[0m \u001b[0;34m=\u001b[0m \u001b[0;34m[\u001b[0m\u001b[0;34m]\u001b[0m\u001b[0;34m,\u001b[0m \u001b[0;34m[\u001b[0m\u001b[0;34m]\u001b[0m\u001b[0;34m\u001b[0m\u001b[0;34m\u001b[0m\u001b[0m\n",
      "\u001b[0;32m/tmp/ipykernel_7212/382940293.py\u001b[0m in \u001b[0;36mforward\u001b[0;34m(self, x, edge_index, batch)\u001b[0m\n\u001b[1;32m     17\u001b[0m     \u001b[0;32mdef\u001b[0m \u001b[0mforward\u001b[0m\u001b[0;34m(\u001b[0m\u001b[0mself\u001b[0m\u001b[0;34m,\u001b[0m \u001b[0mx\u001b[0m\u001b[0;34m,\u001b[0m \u001b[0medge_index\u001b[0m\u001b[0;34m,\u001b[0m \u001b[0mbatch\u001b[0m\u001b[0;34m)\u001b[0m\u001b[0;34m:\u001b[0m\u001b[0;34m\u001b[0m\u001b[0;34m\u001b[0m\u001b[0m\n\u001b[1;32m     18\u001b[0m         \u001b[0;31m# 1. Obtain node embeddings\u001b[0m\u001b[0;34m\u001b[0m\u001b[0;34m\u001b[0m\u001b[0;34m\u001b[0m\u001b[0m\n\u001b[0;32m---> 19\u001b[0;31m         \u001b[0mx\u001b[0m \u001b[0;34m=\u001b[0m \u001b[0mself\u001b[0m\u001b[0;34m.\u001b[0m\u001b[0mconv1\u001b[0m\u001b[0;34m(\u001b[0m\u001b[0mx\u001b[0m\u001b[0;34m,\u001b[0m \u001b[0medge_index\u001b[0m\u001b[0;34m)\u001b[0m\u001b[0;34m\u001b[0m\u001b[0;34m\u001b[0m\u001b[0m\n\u001b[0m\u001b[1;32m     20\u001b[0m         \u001b[0mx\u001b[0m \u001b[0;34m=\u001b[0m \u001b[0mx\u001b[0m\u001b[0;34m.\u001b[0m\u001b[0mrelu\u001b[0m\u001b[0;34m(\u001b[0m\u001b[0;34m)\u001b[0m\u001b[0;34m\u001b[0m\u001b[0;34m\u001b[0m\u001b[0m\n\u001b[1;32m     21\u001b[0m         \u001b[0mx\u001b[0m \u001b[0;34m=\u001b[0m \u001b[0mself\u001b[0m\u001b[0;34m.\u001b[0m\u001b[0mconv2\u001b[0m\u001b[0;34m(\u001b[0m\u001b[0mx\u001b[0m\u001b[0;34m,\u001b[0m \u001b[0medge_index\u001b[0m\u001b[0;34m)\u001b[0m\u001b[0;34m\u001b[0m\u001b[0;34m\u001b[0m\u001b[0m\n",
      "\u001b[0;32m/media/cactus1/sda3/blockchain/lib/python3.7/site-packages/torch/nn/modules/module.py\u001b[0m in \u001b[0;36m_call_impl\u001b[0;34m(self, *input, **kwargs)\u001b[0m\n\u001b[1;32m   1100\u001b[0m         if not (self._backward_hooks or self._forward_hooks or self._forward_pre_hooks or _global_backward_hooks\n\u001b[1;32m   1101\u001b[0m                 or _global_forward_hooks or _global_forward_pre_hooks):\n\u001b[0;32m-> 1102\u001b[0;31m             \u001b[0;32mreturn\u001b[0m \u001b[0mforward_call\u001b[0m\u001b[0;34m(\u001b[0m\u001b[0;34m*\u001b[0m\u001b[0minput\u001b[0m\u001b[0;34m,\u001b[0m \u001b[0;34m**\u001b[0m\u001b[0mkwargs\u001b[0m\u001b[0;34m)\u001b[0m\u001b[0;34m\u001b[0m\u001b[0;34m\u001b[0m\u001b[0m\n\u001b[0m\u001b[1;32m   1103\u001b[0m         \u001b[0;31m# Do not call functions when jit is used\u001b[0m\u001b[0;34m\u001b[0m\u001b[0;34m\u001b[0m\u001b[0;34m\u001b[0m\u001b[0m\n\u001b[1;32m   1104\u001b[0m         \u001b[0mfull_backward_hooks\u001b[0m\u001b[0;34m,\u001b[0m \u001b[0mnon_full_backward_hooks\u001b[0m \u001b[0;34m=\u001b[0m \u001b[0;34m[\u001b[0m\u001b[0;34m]\u001b[0m\u001b[0;34m,\u001b[0m \u001b[0;34m[\u001b[0m\u001b[0;34m]\u001b[0m\u001b[0;34m\u001b[0m\u001b[0;34m\u001b[0m\u001b[0m\n",
      "\u001b[0;32m/media/cactus1/sda3/blockchain/lib/python3.7/site-packages/torch_geometric/nn/conv/gcn_conv.py\u001b[0m in \u001b[0;36mforward\u001b[0;34m(self, x, edge_index, edge_weight)\u001b[0m\n\u001b[1;32m    184\u001b[0m         \u001b[0;31m# propagate_type: (x: Tensor, edge_weight: OptTensor)\u001b[0m\u001b[0;34m\u001b[0m\u001b[0;34m\u001b[0m\u001b[0;34m\u001b[0m\u001b[0m\n\u001b[1;32m    185\u001b[0m         out = self.propagate(edge_index, x=x, edge_weight=edge_weight,\n\u001b[0;32m--> 186\u001b[0;31m                              size=None)\n\u001b[0m\u001b[1;32m    187\u001b[0m \u001b[0;34m\u001b[0m\u001b[0m\n\u001b[1;32m    188\u001b[0m         \u001b[0;32mif\u001b[0m \u001b[0mself\u001b[0m\u001b[0;34m.\u001b[0m\u001b[0mbias\u001b[0m \u001b[0;32mis\u001b[0m \u001b[0;32mnot\u001b[0m \u001b[0;32mNone\u001b[0m\u001b[0;34m:\u001b[0m\u001b[0;34m\u001b[0m\u001b[0;34m\u001b[0m\u001b[0m\n",
      "\u001b[0;32m/media/cactus1/sda3/blockchain/lib/python3.7/site-packages/torch_geometric/nn/conv/message_passing.py\u001b[0m in \u001b[0;36mpropagate\u001b[0;34m(self, edge_index, size, **kwargs)\u001b[0m\n\u001b[1;32m    308\u001b[0m \u001b[0;34m\u001b[0m\u001b[0m\n\u001b[1;32m    309\u001b[0m                 coll_dict = self.__collect__(self.__user_args__, edge_index,\n\u001b[0;32m--> 310\u001b[0;31m                                              size, kwargs)\n\u001b[0m\u001b[1;32m    311\u001b[0m \u001b[0;34m\u001b[0m\u001b[0m\n\u001b[1;32m    312\u001b[0m                 \u001b[0mmsg_kwargs\u001b[0m \u001b[0;34m=\u001b[0m \u001b[0mself\u001b[0m\u001b[0;34m.\u001b[0m\u001b[0minspector\u001b[0m\u001b[0;34m.\u001b[0m\u001b[0mdistribute\u001b[0m\u001b[0;34m(\u001b[0m\u001b[0;34m'message'\u001b[0m\u001b[0;34m,\u001b[0m \u001b[0mcoll_dict\u001b[0m\u001b[0;34m)\u001b[0m\u001b[0;34m\u001b[0m\u001b[0;34m\u001b[0m\u001b[0m\n",
      "\u001b[0;32m/media/cactus1/sda3/blockchain/lib/python3.7/site-packages/torch_geometric/nn/conv/message_passing.py\u001b[0m in \u001b[0;36m__collect__\u001b[0;34m(self, args, edge_index, size, kwargs)\u001b[0m\n\u001b[1;32m    200\u001b[0m                     \u001b[0mself\u001b[0m\u001b[0;34m.\u001b[0m\u001b[0m__set_size__\u001b[0m\u001b[0;34m(\u001b[0m\u001b[0msize\u001b[0m\u001b[0;34m,\u001b[0m \u001b[0mdim\u001b[0m\u001b[0;34m,\u001b[0m \u001b[0mdata\u001b[0m\u001b[0;34m)\u001b[0m\u001b[0;34m\u001b[0m\u001b[0;34m\u001b[0m\u001b[0m\n\u001b[1;32m    201\u001b[0m                     data = self.__lift__(data, edge_index,\n\u001b[0;32m--> 202\u001b[0;31m                                          j if arg[-2:] == '_j' else i)\n\u001b[0m\u001b[1;32m    203\u001b[0m \u001b[0;34m\u001b[0m\u001b[0m\n\u001b[1;32m    204\u001b[0m                 \u001b[0mout\u001b[0m\u001b[0;34m[\u001b[0m\u001b[0marg\u001b[0m\u001b[0;34m]\u001b[0m \u001b[0;34m=\u001b[0m \u001b[0mdata\u001b[0m\u001b[0;34m\u001b[0m\u001b[0;34m\u001b[0m\u001b[0m\n",
      "\u001b[0;32m/media/cactus1/sda3/blockchain/lib/python3.7/site-packages/torch_geometric/nn/conv/message_passing.py\u001b[0m in \u001b[0;36m__lift__\u001b[0;34m(self, src, edge_index, dim)\u001b[0m\n\u001b[1;32m    169\u001b[0m         \u001b[0;32mif\u001b[0m \u001b[0misinstance\u001b[0m\u001b[0;34m(\u001b[0m\u001b[0medge_index\u001b[0m\u001b[0;34m,\u001b[0m \u001b[0mTensor\u001b[0m\u001b[0;34m)\u001b[0m\u001b[0;34m:\u001b[0m\u001b[0;34m\u001b[0m\u001b[0;34m\u001b[0m\u001b[0m\n\u001b[1;32m    170\u001b[0m             \u001b[0mindex\u001b[0m \u001b[0;34m=\u001b[0m \u001b[0medge_index\u001b[0m\u001b[0;34m[\u001b[0m\u001b[0mdim\u001b[0m\u001b[0;34m]\u001b[0m\u001b[0;34m\u001b[0m\u001b[0;34m\u001b[0m\u001b[0m\n\u001b[0;32m--> 171\u001b[0;31m             \u001b[0;32mreturn\u001b[0m \u001b[0msrc\u001b[0m\u001b[0;34m.\u001b[0m\u001b[0mindex_select\u001b[0m\u001b[0;34m(\u001b[0m\u001b[0mself\u001b[0m\u001b[0;34m.\u001b[0m\u001b[0mnode_dim\u001b[0m\u001b[0;34m,\u001b[0m \u001b[0mindex\u001b[0m\u001b[0;34m)\u001b[0m\u001b[0;34m\u001b[0m\u001b[0;34m\u001b[0m\u001b[0m\n\u001b[0m\u001b[1;32m    172\u001b[0m         \u001b[0;32melif\u001b[0m \u001b[0misinstance\u001b[0m\u001b[0;34m(\u001b[0m\u001b[0medge_index\u001b[0m\u001b[0;34m,\u001b[0m \u001b[0mSparseTensor\u001b[0m\u001b[0;34m)\u001b[0m\u001b[0;34m:\u001b[0m\u001b[0;34m\u001b[0m\u001b[0;34m\u001b[0m\u001b[0m\n\u001b[1;32m    173\u001b[0m             \u001b[0;32mif\u001b[0m \u001b[0mdim\u001b[0m \u001b[0;34m==\u001b[0m \u001b[0;36m1\u001b[0m\u001b[0;34m:\u001b[0m\u001b[0;34m\u001b[0m\u001b[0;34m\u001b[0m\u001b[0m\n",
      "\u001b[0;31mRuntimeError\u001b[0m: CUDA out of memory. Tried to allocate 498.00 MiB (GPU 0; 11.91 GiB total capacity; 9.39 GiB already allocated; 365.69 MiB free; 10.40 GiB reserved in total by PyTorch) If reserved memory is >> allocated memory try setting max_split_size_mb to avoid fragmentation.  See documentation for Memory Management and PYTORCH_CUDA_ALLOC_CONF"
     ]
    }
   ],
   "source": [
    "\n",
    "for epoch in range(1, 200):\n",
    "    train()\n",
    "#     break\n",
    "    train_acc = test(train_loader)\n",
    "#     test_acc = test(test_loader)\n",
    "    print(f'Epoch: {epoch:03d}, Train Acc: {train_acc:.4f}')"
   ]
  },
  {
   "cell_type": "code",
   "execution_count": 108,
   "id": "37291b9e",
   "metadata": {},
   "outputs": [
    {
     "name": "stdout",
     "output_type": "stream",
     "text": [
      "Fri Mar  4 17:05:01 2022       \n",
      "+-----------------------------------------------------------------------------+\n",
      "| NVIDIA-SMI 470.103.01   Driver Version: 470.103.01   CUDA Version: 11.4     |\n",
      "|-------------------------------+----------------------+----------------------+\n",
      "| GPU  Name        Persistence-M| Bus-Id        Disp.A | Volatile Uncorr. ECC |\n",
      "| Fan  Temp  Perf  Pwr:Usage/Cap|         Memory-Usage | GPU-Util  Compute M. |\n",
      "|                               |                      |               MIG M. |\n",
      "|===============================+======================+======================|\n",
      "|   0  NVIDIA TITAN Xp     Off  | 00000000:01:00.0  On |                  N/A |\n",
      "| 23%   38C    P8    11W / 250W |  11835MiB / 12194MiB |      5%      Default |\n",
      "|                               |                      |                  N/A |\n",
      "+-------------------------------+----------------------+----------------------+\n",
      "                                                                               \n",
      "+-----------------------------------------------------------------------------+\n",
      "| Processes:                                                                  |\n",
      "|  GPU   GI   CI        PID   Type   Process name                  GPU Memory |\n",
      "|        ID   ID                                                   Usage      |\n",
      "|=============================================================================|\n",
      "|    0   N/A  N/A      1048      G   /usr/lib/xorg/Xorg                 35MiB |\n",
      "|    0   N/A  N/A      1635      G   /usr/lib/xorg/Xorg                184MiB |\n",
      "|    0   N/A  N/A      1768      G   /usr/bin/gnome-shell               38MiB |\n",
      "|    0   N/A  N/A      2360      G   /usr/lib/firefox/firefox          143MiB |\n",
      "|    0   N/A  N/A      7212      C   ...da3/blockchain/bin/python    11417MiB |\n",
      "+-----------------------------------------------------------------------------+\n"
     ]
    }
   ],
   "source": [
    "!nvidia-smi"
   ]
  },
  {
   "cell_type": "code",
   "execution_count": null,
   "id": "3470cb8d",
   "metadata": {},
   "outputs": [],
   "source": []
  }
 ],
 "metadata": {
  "kernelspec": {
   "display_name": "Python 3 (ipykernel)",
   "language": "python",
   "name": "python3"
  },
  "language_info": {
   "codemirror_mode": {
    "name": "ipython",
    "version": 3
   },
   "file_extension": ".py",
   "mimetype": "text/x-python",
   "name": "python",
   "nbconvert_exporter": "python",
   "pygments_lexer": "ipython3",
   "version": "3.7.11"
  }
 },
 "nbformat": 4,
 "nbformat_minor": 5
}

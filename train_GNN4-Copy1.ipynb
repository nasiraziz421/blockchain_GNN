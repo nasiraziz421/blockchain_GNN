{
 "cells": [
  {
   "cell_type": "code",
   "execution_count": 1,
   "id": "2273700e",
   "metadata": {},
   "outputs": [],
   "source": [
    "import torch\n",
    "from torch_geometric.data import Data\n",
    "from torch_geometric.loader import DataLoader\n",
    "from torch_geometric.data import InMemoryDataset\n",
    "import pickle"
   ]
  },
  {
   "cell_type": "code",
   "execution_count": 2,
   "id": "768e26bd",
   "metadata": {},
   "outputs": [],
   "source": [
    "import torchgeometry as tgm"
   ]
  },
  {
   "cell_type": "code",
   "execution_count": 3,
   "id": "eae1237f",
   "metadata": {},
   "outputs": [],
   "source": [
    "focal_loss = tgm.losses.FocalLoss(alpha=0.5, gamma=2.0, reduction='mean')"
   ]
  },
  {
   "cell_type": "code",
   "execution_count": 4,
   "id": "46bce0f3",
   "metadata": {},
   "outputs": [
    {
     "name": "stdout",
     "output_type": "stream",
     "text": [
      "tensor(0.0275, grad_fn=<MeanBackward0>)\n"
     ]
    }
   ],
   "source": [
    "no_classes=2\n",
    "inputs = torch.randn(1, no_classes, 1, 2, requires_grad=True)\n",
    "target = torch.empty(1, 1, 2, dtype=torch.long).random_(no_classes)\n",
    "output = focal_loss(inputs, target)\n",
    "output.backward()\n",
    "print(output)"
   ]
  },
  {
   "cell_type": "code",
   "execution_count": null,
   "id": "2fe45744",
   "metadata": {},
   "outputs": [],
   "source": []
  },
  {
   "cell_type": "code",
   "execution_count": 5,
   "id": "216dcc88",
   "metadata": {},
   "outputs": [],
   "source": [
    " \n",
    "with open(\"graphs_data\", \"rb\") as fp:   # Unpickling\n",
    "    read_graph_data = pickle.load(fp)"
   ]
  },
  {
   "cell_type": "code",
   "execution_count": 6,
   "id": "6a91db4e",
   "metadata": {},
   "outputs": [],
   "source": [
    "data_list = []\n",
    "count = 0\n",
    "for data in read_graph_data:\n",
    "    \n",
    "    if data.x.shape[0] == 0:\n",
    "        continue\n",
    "        \n",
    "    data_list.append(data)\n",
    "\n",
    "        \n",
    "    "
   ]
  },
  {
   "cell_type": "code",
   "execution_count": 7,
   "id": "44c6fe04",
   "metadata": {},
   "outputs": [
    {
     "data": {
      "text/plain": [
       "628"
      ]
     },
     "execution_count": 7,
     "metadata": {},
     "output_type": "execute_result"
    }
   ],
   "source": [
    "len(data_list)"
   ]
  },
  {
   "cell_type": "code",
   "execution_count": 8,
   "id": "b66a98cb",
   "metadata": {},
   "outputs": [],
   "source": [
    "train_loader = DataLoader(data_list, batch_size=16,shuffle=True)\n",
    "test_loader = DataLoader(data_list, batch_size=16,shuffle=False)"
   ]
  },
  {
   "cell_type": "code",
   "execution_count": 9,
   "id": "16da6da9",
   "metadata": {},
   "outputs": [
    {
     "name": "stdout",
     "output_type": "stream",
     "text": [
      "GCN(\n",
      "  (conv1): GCNConv(1, 64)\n",
      "  (conv2): GCNConv(64, 64)\n",
      "  (conv3): GCNConv(64, 64)\n",
      "  (conv4): GCNConv(64, 64)\n",
      "  (lin): Linear(in_features=64, out_features=2, bias=True)\n",
      ")\n"
     ]
    }
   ],
   "source": [
    "from torch.nn import Linear\n",
    "import torch.nn.functional as F\n",
    "from torch_geometric.nn import GCNConv\n",
    "from torch_geometric.nn import global_mean_pool\n",
    "\n",
    "device = torch.device('cuda' if torch.cuda.is_available() else 'cpu')\n",
    "\n",
    "class GCN(torch.nn.Module):\n",
    "    def __init__(self, hidden_channels):\n",
    "        super(GCN, self).__init__()\n",
    "#         torch.manual_seed(12345)\n",
    "#         self.conv1 = CGConv((mydataset.num_node_features, hidden_channels),mydataset.num_edge_features,batch_norm=True)\n",
    "        self.conv1 = GCNConv(1, hidden_channels)\n",
    "        \n",
    "        self.conv2 = GCNConv(hidden_channels, hidden_channels)\n",
    "        self.conv3 = GCNConv(hidden_channels, hidden_channels)\n",
    "        self.conv4 = GCNConv(hidden_channels, hidden_channels)\n",
    "        self.lin = Linear(hidden_channels, 2)\n",
    "\n",
    "    def forward(self, x, edge_index, batch):\n",
    "        # 1. Obtain node embeddings \n",
    "        x = self.conv1(x, edge_index)\n",
    "        x = x.relu()\n",
    "        x = self.conv2(x, edge_index)\n",
    "        x = x.relu()\n",
    "        x = self.conv3(x, edge_index)\n",
    "        x = x.relu()\n",
    "        x = self.conv4(x, edge_index)\n",
    " \n",
    "\n",
    "        # 2. Readout layer\n",
    "#         print(x.shape)\n",
    "        x = global_mean_pool(x, batch)  # [batch_size, hidden_channels]\n",
    "#         print(x.shape)\n",
    "        # 3. Apply a final classifier\n",
    "#         x = F.dropout(x, p=0.5, training=self.training)\n",
    "        x = self.lin(x)\n",
    "        \n",
    "        return x\n",
    "\n",
    "model = GCN(hidden_channels=64)\n",
    "print(model)"
   ]
  },
  {
   "cell_type": "code",
   "execution_count": 10,
   "id": "19e6303a",
   "metadata": {},
   "outputs": [],
   "source": [
    "model = GCN(hidden_channels=64).to(device)\n",
    "optimizer = torch.optim.Adam(model.parameters(), lr=0.01)\n",
    "# weights = torch.tensor([.05,.95]).to(device)\n",
    "focal_loss = tgm.losses.FocalLoss(alpha=0.5, gamma=2.0, reduction='mean')"
   ]
  },
  {
   "cell_type": "code",
   "execution_count": 11,
   "id": "205d0ea4",
   "metadata": {},
   "outputs": [
    {
     "data": {
      "text/plain": [
       "0.45222929936305734"
      ]
     },
     "execution_count": 11,
     "metadata": {},
     "output_type": "execute_result"
    }
   ],
   "source": [
    "def train():\n",
    "    model.train()\n",
    "    for batch_idx,data in enumerate(train_loader):\n",
    "\n",
    "\n",
    "\n",
    "        data = data.to(device)\n",
    "        out = model(data.x, data.edge_index,data.batch)\n",
    "        \n",
    "#         print(out.reshape(-1,2,1,1).shape)\n",
    "#         print(data.y.reshape(-1,1,1).shape)\n",
    "#         break\n",
    "\n",
    "        loss = focal_loss(out.reshape(-1,2,1,1), data.y.reshape(-1,1,1))  # Compute the loss.\n",
    "#         break\n",
    "        loss.backward()  # Derive gradients.\n",
    "        \n",
    "        optimizer.step()\n",
    "        optimizer.zero_grad()\n",
    "#             print(batch_idx)\n",
    "        \n",
    "\n",
    "    return loss.cpu().item()\n",
    "    \n",
    "def test(loader):\n",
    "    model.eval()\n",
    "\n",
    "    correct = 0\n",
    "    for data in loader:  # Iterate in batches over the training/test dataset.\n",
    "        \n",
    "\n",
    "\n",
    "        data.edge_attr = data.edge_attr.float() \n",
    "        data = data.to(device)\n",
    "        out = model(data.x, data.edge_index, data.batch)  \n",
    "        pred = out.argmax(dim=1)  # Use the class with highest probability.\n",
    "        \n",
    "\n",
    "        correct += int((pred == data.y).sum())  # Check against ground-truth labels.\n",
    "    return correct / len(loader.dataset)  # Derive ratio of correct predictions.\n",
    "\n",
    "test(test_loader)\n",
    "# train()"
   ]
  },
  {
   "cell_type": "code",
   "execution_count": 12,
   "id": "0d25a8d5",
   "metadata": {
    "scrolled": true
   },
   "outputs": [
    {
     "name": "stdout",
     "output_type": "stream",
     "text": [
      "Epoch: 005, Train Acc: 0.7229, loss : 0.0717\n",
      "Epoch: 010, Train Acc: 0.7229, loss : 0.0422\n",
      "Epoch: 015, Train Acc: 0.7611, loss : 0.0443\n",
      "Epoch: 020, Train Acc: 0.7771, loss : 0.0368\n",
      "Epoch: 025, Train Acc: 0.8217, loss : 0.0266\n",
      "Epoch: 030, Train Acc: 0.8105, loss : 0.0424\n",
      "Epoch: 035, Train Acc: 0.8137, loss : 0.0551\n",
      "Epoch: 040, Train Acc: 0.8153, loss : 0.0541\n",
      "Epoch: 045, Train Acc: 0.8535, loss : 0.0499\n",
      "Epoch: 050, Train Acc: 0.8424, loss : 0.0268\n",
      "Epoch: 055, Train Acc: 0.8392, loss : 0.0086\n",
      "Epoch: 060, Train Acc: 0.8487, loss : 0.0514\n",
      "Epoch: 065, Train Acc: 0.8615, loss : 0.0176\n",
      "Epoch: 070, Train Acc: 0.8455, loss : 0.0148\n",
      "Epoch: 075, Train Acc: 0.8487, loss : 0.0345\n",
      "Epoch: 080, Train Acc: 0.8551, loss : 0.0727\n",
      "Epoch: 085, Train Acc: 0.8344, loss : 0.0506\n",
      "Epoch: 090, Train Acc: 0.8439, loss : 0.0192\n",
      "Epoch: 095, Train Acc: 0.8694, loss : 0.0635\n",
      "Epoch: 100, Train Acc: 0.8631, loss : 0.0487\n",
      "Epoch: 105, Train Acc: 0.8854, loss : 0.0240\n",
      "Epoch: 110, Train Acc: 0.8025, loss : 0.0425\n",
      "Epoch: 115, Train Acc: 0.8838, loss : 0.0206\n",
      "Epoch: 120, Train Acc: 0.8806, loss : 0.0258\n",
      "Epoch: 125, Train Acc: 0.8838, loss : 0.0860\n",
      "Epoch: 130, Train Acc: 0.8678, loss : 0.0418\n",
      "Epoch: 135, Train Acc: 0.8169, loss : 0.0000\n",
      "Epoch: 140, Train Acc: 0.8455, loss : 0.0219\n",
      "Epoch: 145, Train Acc: 0.8392, loss : 0.0657\n",
      "Epoch: 150, Train Acc: 0.8806, loss : 0.0584\n",
      "Epoch: 155, Train Acc: 0.8567, loss : 0.0001\n",
      "Epoch: 160, Train Acc: 0.8854, loss : 0.0396\n",
      "Epoch: 165, Train Acc: 0.8583, loss : 0.0244\n",
      "Epoch: 170, Train Acc: 0.8997, loss : 0.0646\n",
      "Epoch: 175, Train Acc: 0.8822, loss : 0.0405\n",
      "Epoch: 180, Train Acc: 0.8933, loss : 0.0113\n",
      "Epoch: 185, Train Acc: 0.8774, loss : 0.0264\n",
      "Epoch: 190, Train Acc: 0.8949, loss : 0.0201\n",
      "Epoch: 195, Train Acc: 0.8949, loss : 0.0962\n",
      "Epoch: 200, Train Acc: 0.8917, loss : 0.0407\n",
      "Epoch: 205, Train Acc: 0.9013, loss : 0.0809\n",
      "Epoch: 210, Train Acc: 0.9124, loss : 0.0078\n",
      "Epoch: 215, Train Acc: 0.8933, loss : 0.0812\n",
      "Epoch: 220, Train Acc: 0.9013, loss : 0.0103\n",
      "Epoch: 225, Train Acc: 0.8965, loss : 0.0413\n",
      "Epoch: 230, Train Acc: 0.9204, loss : 0.0182\n",
      "Epoch: 235, Train Acc: 0.9331, loss : 0.0294\n",
      "Epoch: 240, Train Acc: 0.9252, loss : 0.0045\n",
      "Epoch: 245, Train Acc: 0.8965, loss : 0.0538\n",
      "Epoch: 250, Train Acc: 0.9029, loss : 0.0199\n",
      "Epoch: 255, Train Acc: 0.9283, loss : 0.0008\n",
      "Epoch: 260, Train Acc: 0.9363, loss : 0.0025\n",
      "Epoch: 265, Train Acc: 0.9347, loss : 0.0113\n",
      "Epoch: 270, Train Acc: 0.9140, loss : 0.0000\n",
      "Epoch: 275, Train Acc: 0.9363, loss : 0.0146\n",
      "Epoch: 280, Train Acc: 0.8312, loss : 0.0394\n",
      "Epoch: 285, Train Acc: 0.9252, loss : 0.0275\n",
      "Epoch: 290, Train Acc: 0.9204, loss : 0.0267\n",
      "Epoch: 295, Train Acc: 0.9092, loss : 0.0000\n",
      "Epoch: 300, Train Acc: 0.9299, loss : 0.0260\n",
      "Epoch: 305, Train Acc: 0.9315, loss : 0.1005\n",
      "Epoch: 310, Train Acc: 0.9156, loss : 0.0064\n",
      "Epoch: 315, Train Acc: 0.9347, loss : 0.0177\n",
      "Epoch: 320, Train Acc: 0.9220, loss : 0.0007\n",
      "Epoch: 325, Train Acc: 0.9347, loss : 0.0133\n",
      "Epoch: 330, Train Acc: 0.9331, loss : 0.0501\n",
      "Epoch: 335, Train Acc: 0.9220, loss : 0.0223\n",
      "Epoch: 340, Train Acc: 0.9315, loss : 0.0496\n",
      "Epoch: 345, Train Acc: 0.9379, loss : 0.0368\n",
      "Epoch: 350, Train Acc: 0.9459, loss : 0.0022\n",
      "Epoch: 355, Train Acc: 0.9013, loss : 0.0055\n",
      "Epoch: 360, Train Acc: 0.9268, loss : 0.0184\n",
      "Epoch: 365, Train Acc: 0.9140, loss : 0.1039\n",
      "Epoch: 370, Train Acc: 0.9443, loss : 0.0050\n",
      "Epoch: 375, Train Acc: 0.9268, loss : 0.0194\n",
      "Epoch: 380, Train Acc: 0.9443, loss : 0.0012\n",
      "Epoch: 385, Train Acc: 0.9411, loss : 0.0050\n",
      "Epoch: 390, Train Acc: 0.8981, loss : 0.0457\n",
      "Epoch: 395, Train Acc: 0.9411, loss : 0.0140\n"
     ]
    }
   ],
   "source": [
    "\n",
    "for epoch in range(1, 400):\n",
    "    loss = train()\n",
    "#     break\n",
    "    train_acc = test(test_loader)\n",
    "#     test_acc = test(test_loader)\n",
    "    if epoch % 5 == 0: \n",
    "        print(f'Epoch: {epoch:03d}, Train Acc: {train_acc:.4f}, loss : {loss:.4f}')"
   ]
  },
  {
   "cell_type": "code",
   "execution_count": 9,
   "id": "58e65f59",
   "metadata": {},
   "outputs": [
    {
     "data": {
      "text/plain": [
       "12738"
      ]
     },
     "execution_count": 9,
     "metadata": {},
     "output_type": "execute_result"
    }
   ],
   "source": [
    "import numpy as np\n",
    "model_parameters = filter(lambda p: p.requires_grad, model.parameters())\n",
    "params = sum([p.numel() for p in model_parameters])\n",
    "params"
   ]
  },
  {
   "cell_type": "code",
   "execution_count": null,
   "id": "073c21ac",
   "metadata": {},
   "outputs": [],
   "source": []
  }
 ],
 "metadata": {
  "kernelspec": {
   "display_name": "Python 3 (ipykernel)",
   "language": "python",
   "name": "python3"
  },
  "language_info": {
   "codemirror_mode": {
    "name": "ipython",
    "version": 3
   },
   "file_extension": ".py",
   "mimetype": "text/x-python",
   "name": "python",
   "nbconvert_exporter": "python",
   "pygments_lexer": "ipython3",
   "version": "3.7.11"
  }
 },
 "nbformat": 4,
 "nbformat_minor": 5
}

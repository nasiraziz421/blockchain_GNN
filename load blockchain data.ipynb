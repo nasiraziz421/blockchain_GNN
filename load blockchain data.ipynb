{
 "cells": [
  {
   "cell_type": "code",
   "execution_count": 100,
   "id": "9296ee8e",
   "metadata": {},
   "outputs": [],
   "source": [
    "path = '../0to999999_BlockTransaction/0to999999_BlockTransaction.csv'\n",
    "save_path = '../0to999999_BlockTransaction/'"
   ]
  },
  {
   "cell_type": "code",
   "execution_count": 101,
   "id": "d91c1173",
   "metadata": {},
   "outputs": [],
   "source": [
    "import pandas as pd"
   ]
  },
  {
   "cell_type": "code",
   "execution_count": 102,
   "id": "748bbf40",
   "metadata": {},
   "outputs": [
    {
     "name": "stdout",
     "output_type": "stream",
     "text": [
      "../0to999999_BlockTransaction/0to999999_BlockTransaction.csv\n",
      "../0to999999_BlockTransaction/\n"
     ]
    }
   ],
   "source": [
    "print(path)\n",
    "print(save_path)\n",
    "start = True\n",
    "for df in pd.read_csv(path, chunksize=10000):\n",
    "    proc_df = df[df['toIsContract']==0]\n",
    "    proc_df = proc_df[proc_df['fromIsContract']==0]\n",
    "    df1 = proc_df[['timestamp', 'from','to','value','gasLimit','gasPrice','gasUsed']]\n",
    "    with open(save_path+'processed.csv', 'a') as f:\n",
    "        if start:\n",
    "            start=False\n",
    "            df1.to_csv(f,index=False,header=True)\n",
    "        else:\n",
    "            df1.to_csv(f,index=False, header=False)\n"
   ]
  },
  {
   "cell_type": "code",
   "execution_count": 43,
   "id": "4eab616a",
   "metadata": {},
   "outputs": [],
   "source": [
    "df_iter = pd.read_csv(path, chunksize=10000)"
   ]
  },
  {
   "cell_type": "code",
   "execution_count": 44,
   "id": "15b2712f",
   "metadata": {},
   "outputs": [],
   "source": [
    "df = next(df_iter)"
   ]
  },
  {
   "cell_type": "code",
   "execution_count": 96,
   "id": "b358c999",
   "metadata": {},
   "outputs": [
    {
     "data": {
      "text/html": [
       "<div>\n",
       "<style scoped>\n",
       "    .dataframe tbody tr th:only-of-type {\n",
       "        vertical-align: middle;\n",
       "    }\n",
       "\n",
       "    .dataframe tbody tr th {\n",
       "        vertical-align: top;\n",
       "    }\n",
       "\n",
       "    .dataframe thead th {\n",
       "        text-align: right;\n",
       "    }\n",
       "</style>\n",
       "<table border=\"1\" class=\"dataframe\">\n",
       "  <thead>\n",
       "    <tr style=\"text-align: right;\">\n",
       "      <th></th>\n",
       "      <th>blockNumber</th>\n",
       "      <th>timestamp</th>\n",
       "      <th>transactionHash</th>\n",
       "      <th>from</th>\n",
       "      <th>to</th>\n",
       "      <th>toCreate</th>\n",
       "      <th>fromIsContract</th>\n",
       "      <th>toIsContract</th>\n",
       "      <th>value</th>\n",
       "      <th>gasLimit</th>\n",
       "      <th>gasPrice</th>\n",
       "      <th>gasUsed</th>\n",
       "      <th>callingFunction</th>\n",
       "      <th>isError</th>\n",
       "      <th>eip2718type</th>\n",
       "      <th>baseFeePerGas</th>\n",
       "      <th>maxFeePerGas</th>\n",
       "      <th>maxPriorityFeePerGas</th>\n",
       "    </tr>\n",
       "  </thead>\n",
       "  <tbody>\n",
       "    <tr>\n",
       "      <th>1670000</th>\n",
       "      <td>999105</td>\n",
       "      <td>1455389256</td>\n",
       "      <td>0x8b4506d249e3f45cf26d4050aa8865f9c4dd1307b653...</td>\n",
       "      <td>0x1b01460fe8e17173d8659cdf4ee3ec7136e58179</td>\n",
       "      <td>0xbbda93a81b882774e1c9b5e3f933fa35dac8bc88</td>\n",
       "      <td>None</td>\n",
       "      <td>0</td>\n",
       "      <td>0</td>\n",
       "      <td>50000000000000000000</td>\n",
       "      <td>90000</td>\n",
       "      <td>50000000000</td>\n",
       "      <td>21000</td>\n",
       "      <td>0x</td>\n",
       "      <td>None</td>\n",
       "      <td>None</td>\n",
       "      <td>None</td>\n",
       "      <td>None</td>\n",
       "      <td>None</td>\n",
       "    </tr>\n",
       "    <tr>\n",
       "      <th>1670001</th>\n",
       "      <td>999105</td>\n",
       "      <td>1455389256</td>\n",
       "      <td>0x137924350a1ed43577efb80427e338d0a13494b6951d...</td>\n",
       "      <td>0x2a65aca4d5fc5b5c859090a6c34d164135398226</td>\n",
       "      <td>0xbb30e448b72d6fdd44973a4c7a312f92f22c8f07</td>\n",
       "      <td>None</td>\n",
       "      <td>0</td>\n",
       "      <td>0</td>\n",
       "      <td>1076476680000000000</td>\n",
       "      <td>90000</td>\n",
       "      <td>50000000000</td>\n",
       "      <td>21000</td>\n",
       "      <td>0x</td>\n",
       "      <td>None</td>\n",
       "      <td>None</td>\n",
       "      <td>None</td>\n",
       "      <td>None</td>\n",
       "      <td>None</td>\n",
       "    </tr>\n",
       "    <tr>\n",
       "      <th>1670002</th>\n",
       "      <td>999105</td>\n",
       "      <td>1455389256</td>\n",
       "      <td>0x4e3e2f80f5c254e48516f43357d525cc35dadfe7ab77...</td>\n",
       "      <td>0x2a65aca4d5fc5b5c859090a6c34d164135398226</td>\n",
       "      <td>0x30906581413d556de1a018adbe6cc63c88d58512</td>\n",
       "      <td>None</td>\n",
       "      <td>0</td>\n",
       "      <td>0</td>\n",
       "      <td>2575484870000000000</td>\n",
       "      <td>90000</td>\n",
       "      <td>50000000000</td>\n",
       "      <td>21000</td>\n",
       "      <td>0x</td>\n",
       "      <td>None</td>\n",
       "      <td>None</td>\n",
       "      <td>None</td>\n",
       "      <td>None</td>\n",
       "      <td>None</td>\n",
       "    </tr>\n",
       "    <tr>\n",
       "      <th>1670003</th>\n",
       "      <td>999106</td>\n",
       "      <td>1455389271</td>\n",
       "      <td>0x48c57824d796bdd4210fc6bd14918dbe5ae7ddb12d75...</td>\n",
       "      <td>0x1c10a5aabc2555ee3027d5758c4b7b462605f972</td>\n",
       "      <td>0xe9e105c832491474ebc679397905fdd2ad83b0c4</td>\n",
       "      <td>None</td>\n",
       "      <td>0</td>\n",
       "      <td>0</td>\n",
       "      <td>127913213796671</td>\n",
       "      <td>21000</td>\n",
       "      <td>50000000000</td>\n",
       "      <td>21000</td>\n",
       "      <td>0x</td>\n",
       "      <td>None</td>\n",
       "      <td>None</td>\n",
       "      <td>None</td>\n",
       "      <td>None</td>\n",
       "      <td>None</td>\n",
       "    </tr>\n",
       "    <tr>\n",
       "      <th>1670004</th>\n",
       "      <td>999107</td>\n",
       "      <td>1455389313</td>\n",
       "      <td>0x5d16007f3afa9c61a4a59af69ed9eb6c8b1bc0284d0c...</td>\n",
       "      <td>0xb4dbe050c6685774c82be1f5cb6fae1a2d4c0361</td>\n",
       "      <td>0x32be343b94f860124dc4fee278fdcbd38c102d88</td>\n",
       "      <td>None</td>\n",
       "      <td>0</td>\n",
       "      <td>0</td>\n",
       "      <td>1478740000000000000</td>\n",
       "      <td>21000</td>\n",
       "      <td>60000000000</td>\n",
       "      <td>21000</td>\n",
       "      <td>0x</td>\n",
       "      <td>None</td>\n",
       "      <td>None</td>\n",
       "      <td>None</td>\n",
       "      <td>None</td>\n",
       "      <td>None</td>\n",
       "    </tr>\n",
       "  </tbody>\n",
       "</table>\n",
       "</div>"
      ],
      "text/plain": [
       "         blockNumber   timestamp  \\\n",
       "1670000       999105  1455389256   \n",
       "1670001       999105  1455389256   \n",
       "1670002       999105  1455389256   \n",
       "1670003       999106  1455389271   \n",
       "1670004       999107  1455389313   \n",
       "\n",
       "                                           transactionHash  \\\n",
       "1670000  0x8b4506d249e3f45cf26d4050aa8865f9c4dd1307b653...   \n",
       "1670001  0x137924350a1ed43577efb80427e338d0a13494b6951d...   \n",
       "1670002  0x4e3e2f80f5c254e48516f43357d525cc35dadfe7ab77...   \n",
       "1670003  0x48c57824d796bdd4210fc6bd14918dbe5ae7ddb12d75...   \n",
       "1670004  0x5d16007f3afa9c61a4a59af69ed9eb6c8b1bc0284d0c...   \n",
       "\n",
       "                                               from  \\\n",
       "1670000  0x1b01460fe8e17173d8659cdf4ee3ec7136e58179   \n",
       "1670001  0x2a65aca4d5fc5b5c859090a6c34d164135398226   \n",
       "1670002  0x2a65aca4d5fc5b5c859090a6c34d164135398226   \n",
       "1670003  0x1c10a5aabc2555ee3027d5758c4b7b462605f972   \n",
       "1670004  0xb4dbe050c6685774c82be1f5cb6fae1a2d4c0361   \n",
       "\n",
       "                                                 to toCreate  fromIsContract  \\\n",
       "1670000  0xbbda93a81b882774e1c9b5e3f933fa35dac8bc88     None               0   \n",
       "1670001  0xbb30e448b72d6fdd44973a4c7a312f92f22c8f07     None               0   \n",
       "1670002  0x30906581413d556de1a018adbe6cc63c88d58512     None               0   \n",
       "1670003  0xe9e105c832491474ebc679397905fdd2ad83b0c4     None               0   \n",
       "1670004  0x32be343b94f860124dc4fee278fdcbd38c102d88     None               0   \n",
       "\n",
       "         toIsContract                 value  gasLimit     gasPrice  gasUsed  \\\n",
       "1670000             0  50000000000000000000     90000  50000000000    21000   \n",
       "1670001             0   1076476680000000000     90000  50000000000    21000   \n",
       "1670002             0   2575484870000000000     90000  50000000000    21000   \n",
       "1670003             0       127913213796671     21000  50000000000    21000   \n",
       "1670004             0   1478740000000000000     21000  60000000000    21000   \n",
       "\n",
       "        callingFunction isError eip2718type baseFeePerGas maxFeePerGas  \\\n",
       "1670000              0x    None        None          None         None   \n",
       "1670001              0x    None        None          None         None   \n",
       "1670002              0x    None        None          None         None   \n",
       "1670003              0x    None        None          None         None   \n",
       "1670004              0x    None        None          None         None   \n",
       "\n",
       "        maxPriorityFeePerGas  \n",
       "1670000                 None  \n",
       "1670001                 None  \n",
       "1670002                 None  \n",
       "1670003                 None  \n",
       "1670004                 None  "
      ]
     },
     "execution_count": 96,
     "metadata": {},
     "output_type": "execute_result"
    }
   ],
   "source": [
    "df.head()"
   ]
  },
  {
   "cell_type": "code",
   "execution_count": 57,
   "id": "caedbb96",
   "metadata": {},
   "outputs": [
    {
     "data": {
      "text/plain": [
       "(4262, 7)"
      ]
     },
     "execution_count": 57,
     "metadata": {},
     "output_type": "execute_result"
    }
   ],
   "source": [
    "\n",
    "df1.shape"
   ]
  },
  {
   "cell_type": "code",
   "execution_count": 58,
   "id": "b4ed343f",
   "metadata": {},
   "outputs": [
    {
     "data": {
      "text/plain": [
       "(4262, 18)"
      ]
     },
     "execution_count": 58,
     "metadata": {},
     "output_type": "execute_result"
    }
   ],
   "source": [
    "df.shape"
   ]
  },
  {
   "cell_type": "code",
   "execution_count": 59,
   "id": "8dbf8641",
   "metadata": {},
   "outputs": [
    {
     "data": {
      "text/plain": [
       "(3922, 18)"
      ]
     },
     "execution_count": 59,
     "metadata": {},
     "output_type": "execute_result"
    }
   ],
   "source": [
    "proc_df = df[df['toIsContract']==0]\n",
    "proc_df = proc_df[proc_df['fromIsContract']==0]\n",
    "proc_df.shape"
   ]
  },
  {
   "cell_type": "code",
   "execution_count": 47,
   "id": "82a3af8a",
   "metadata": {},
   "outputs": [
    {
     "data": {
      "text/plain": [
       "1670000    True\n",
       "1670001    True\n",
       "1670002    True\n",
       "1670003    True\n",
       "1670004    True\n",
       "           ... \n",
       "1674257    True\n",
       "1674258    True\n",
       "1674259    True\n",
       "1674260    True\n",
       "1674261    True\n",
       "Name: toIsContract, Length: 4262, dtype: bool"
      ]
     },
     "execution_count": 47,
     "metadata": {},
     "output_type": "execute_result"
    }
   ],
   "source": [
    "df['toIsContract']==0 "
   ]
  },
  {
   "cell_type": "code",
   "execution_count": 67,
   "id": "95f3e6bd",
   "metadata": {},
   "outputs": [
    {
     "name": "stdout",
     "output_type": "stream",
     "text": [
      "1000000to1999999_BlockTransaction.csv  readme.txt\r\n"
     ]
    }
   ],
   "source": [
    "!ls ../1000000to1999999_BlockTransaction/"
   ]
  },
  {
   "cell_type": "code",
   "execution_count": 103,
   "id": "c3affcf4",
   "metadata": {},
   "outputs": [],
   "source": [
    "path = '../1000000to1999999_BlockTransaction/1000000to1999999_BlockTransaction.csv'\n",
    "save_path = '../1000000to1999999_BlockTransaction/'"
   ]
  },
  {
   "cell_type": "code",
   "execution_count": 104,
   "id": "7406140e",
   "metadata": {},
   "outputs": [
    {
     "name": "stdout",
     "output_type": "stream",
     "text": [
      "../1000000to1999999_BlockTransaction/1000000to1999999_BlockTransaction.csv\n",
      "../1000000to1999999_BlockTransaction/\n"
     ]
    }
   ],
   "source": [
    "print(path)\n",
    "print(save_path)\n",
    "start = True\n",
    "for df in pd.read_csv(path, chunksize=10000):\n",
    "    proc_df = df[df['toIsContract']==0]\n",
    "    proc_df = proc_df[proc_df['fromIsContract']==0]\n",
    "    df1 = proc_df[['timestamp', 'from','to','value','gasLimit','gasPrice','gasUsed']]\n",
    "    with open(save_path+'processed.csv', 'a') as f:\n",
    "        if start:\n",
    "            start=False\n",
    "            df1.to_csv(f,index=False,header=True)\n",
    "        else:\n",
    "            df1.to_csv(f,index=False, header=False)\n"
   ]
  },
  {
   "cell_type": "code",
   "execution_count": 72,
   "id": "25eecd4a",
   "metadata": {},
   "outputs": [
    {
     "name": "stdout",
     "output_type": "stream",
     "text": [
      "2000000to2999999_BlockTransaction.csv  readme.txt\r\n"
     ]
    }
   ],
   "source": [
    "!ls ../2000000to2999999_BlockTransaction"
   ]
  },
  {
   "cell_type": "code",
   "execution_count": 105,
   "id": "c54f2682",
   "metadata": {},
   "outputs": [],
   "source": [
    "path = '../2000000to2999999_BlockTransaction/2000000to2999999_BlockTransaction.csv'\n",
    "save_path = '../2000000to2999999_BlockTransaction/'"
   ]
  },
  {
   "cell_type": "code",
   "execution_count": 106,
   "id": "6ba3be05",
   "metadata": {},
   "outputs": [
    {
     "name": "stdout",
     "output_type": "stream",
     "text": [
      "../2000000to2999999_BlockTransaction/2000000to2999999_BlockTransaction.csv\n",
      "../2000000to2999999_BlockTransaction/\n"
     ]
    }
   ],
   "source": [
    "print(path)\n",
    "print(save_path)\n",
    "start = True\n",
    "for df in pd.read_csv(path, chunksize=10000):\n",
    "    proc_df = df[df['toIsContract']==0]\n",
    "    proc_df = proc_df[proc_df['fromIsContract']==0]\n",
    "    df1 = proc_df[['timestamp', 'from','to','value','gasLimit','gasPrice','gasUsed']]\n",
    "    with open(save_path+'processed.csv', 'a') as f:\n",
    "        if start:\n",
    "            start=False\n",
    "            df1.to_csv(f,index=False,header=True)\n",
    "        else:\n",
    "            df1.to_csv(f,index=False, header=False)\n"
   ]
  },
  {
   "cell_type": "code",
   "execution_count": 1,
   "id": "a60cab28",
   "metadata": {},
   "outputs": [],
   "source": [
    "import glob\n",
    "files = []\n",
    "for name in glob.glob('../csvfiles/*'):\n",
    "    files.append(name)"
   ]
  },
  {
   "cell_type": "code",
   "execution_count": null,
   "id": "e8c6d9dd",
   "metadata": {},
   "outputs": [],
   "source": []
  }
 ],
 "metadata": {
  "kernelspec": {
   "display_name": "Python 3 (ipykernel)",
   "language": "python",
   "name": "python3"
  },
  "language_info": {
   "codemirror_mode": {
    "name": "ipython",
    "version": 3
   },
   "file_extension": ".py",
   "mimetype": "text/x-python",
   "name": "python",
   "nbconvert_exporter": "python",
   "pygments_lexer": "ipython3",
   "version": "3.7.11"
  }
 },
 "nbformat": 4,
 "nbformat_minor": 5
}

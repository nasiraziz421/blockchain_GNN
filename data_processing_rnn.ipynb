{
 "cells": [
  {
   "cell_type": "code",
   "execution_count": 1,
   "id": "2c8d2438",
   "metadata": {},
   "outputs": [],
   "source": [
    "path = '../blockchain_files/3000000to3999999_BlockTransaction/'"
   ]
  },
  {
   "cell_type": "code",
   "execution_count": 19,
   "id": "36527fbd",
   "metadata": {},
   "outputs": [],
   "source": [
    "import pandas as pd\n",
    "from datetime import datetime\n",
    "import time\n",
    "import numpy as np\n",
    "import torch\n",
    "from torch_geometric.data import Data\n",
    "import torch.nn as nn\n",
    "from torch_geometric.loader import DataLoader\n",
    "from torch_geometric.data import InMemoryDataset\n",
    "from torch.nn.utils.rnn import pack_sequence"
   ]
  },
  {
   "cell_type": "code",
   "execution_count": 3,
   "id": "d629ccab",
   "metadata": {},
   "outputs": [],
   "source": [
    "df = pd.read_csv(path+'final.csv')"
   ]
  },
  {
   "cell_type": "code",
   "execution_count": 4,
   "id": "30143b37",
   "metadata": {},
   "outputs": [
    {
     "name": "stdout",
     "output_type": "stream",
     "text": [
      "mining:  3499995\n",
      "nan:  0\n",
      "exchange:  1315278\n",
      "walletapp:  52765\n",
      "compromised:  24937\n",
      "gambling:  823\n",
      "isowallet:  135\n",
      "phish_hack:  172\n"
     ]
    }
   ],
   "source": [
    "labels = df['0'].unique()\n",
    "for label in labels:\n",
    "    print('%s: '% label,(df['0'] == label).sum())\n",
    "# print('mining: ',(merged_df['0'] == 'mining').sum())"
   ]
  },
  {
   "cell_type": "code",
   "execution_count": 5,
   "id": "6c16d57d",
   "metadata": {},
   "outputs": [
    {
     "name": "stdout",
     "output_type": "stream",
     "text": [
      "exchange\n"
     ]
    },
    {
     "data": {
      "text/html": [
       "<div>\n",
       "<style scoped>\n",
       "    .dataframe tbody tr th:only-of-type {\n",
       "        vertical-align: middle;\n",
       "    }\n",
       "\n",
       "    .dataframe tbody tr th {\n",
       "        vertical-align: top;\n",
       "    }\n",
       "\n",
       "    .dataframe thead th {\n",
       "        text-align: right;\n",
       "    }\n",
       "</style>\n",
       "<table border=\"1\" class=\"dataframe\">\n",
       "  <thead>\n",
       "    <tr style=\"text-align: right;\">\n",
       "      <th></th>\n",
       "      <th>timestamp</th>\n",
       "      <th>from</th>\n",
       "      <th>to</th>\n",
       "      <th>value</th>\n",
       "      <th>gasLimit</th>\n",
       "      <th>gasPrice</th>\n",
       "      <th>gasUsed</th>\n",
       "      <th>0</th>\n",
       "    </tr>\n",
       "  </thead>\n",
       "  <tbody>\n",
       "    <tr>\n",
       "      <th>22</th>\n",
       "      <td>1484475182</td>\n",
       "      <td>13</td>\n",
       "      <td>1676</td>\n",
       "      <td>0.989400</td>\n",
       "      <td>33.3333</td>\n",
       "      <td>3.0</td>\n",
       "      <td>2.1</td>\n",
       "      <td>exchange</td>\n",
       "    </tr>\n",
       "    <tr>\n",
       "      <th>26</th>\n",
       "      <td>1484475182</td>\n",
       "      <td>13</td>\n",
       "      <td>3522</td>\n",
       "      <td>2500.000000</td>\n",
       "      <td>33.3333</td>\n",
       "      <td>3.0</td>\n",
       "      <td>2.1</td>\n",
       "      <td>exchange</td>\n",
       "    </tr>\n",
       "    <tr>\n",
       "      <th>37</th>\n",
       "      <td>1484475230</td>\n",
       "      <td>17</td>\n",
       "      <td>54938</td>\n",
       "      <td>25.237936</td>\n",
       "      <td>4.0000</td>\n",
       "      <td>6.0</td>\n",
       "      <td>2.1</td>\n",
       "      <td>exchange</td>\n",
       "    </tr>\n",
       "    <tr>\n",
       "      <th>80</th>\n",
       "      <td>1484475418</td>\n",
       "      <td>33</td>\n",
       "      <td>1890243</td>\n",
       "      <td>0.010000</td>\n",
       "      <td>9.0000</td>\n",
       "      <td>2.0</td>\n",
       "      <td>2.1</td>\n",
       "      <td>exchange</td>\n",
       "    </tr>\n",
       "    <tr>\n",
       "      <th>84</th>\n",
       "      <td>1484475449</td>\n",
       "      <td>17</td>\n",
       "      <td>55130</td>\n",
       "      <td>0.322861</td>\n",
       "      <td>4.0000</td>\n",
       "      <td>6.0</td>\n",
       "      <td>2.1</td>\n",
       "      <td>exchange</td>\n",
       "    </tr>\n",
       "  </tbody>\n",
       "</table>\n",
       "</div>"
      ],
      "text/plain": [
       "     timestamp  from       to        value  gasLimit  gasPrice  gasUsed  \\\n",
       "22  1484475182    13     1676     0.989400   33.3333       3.0      2.1   \n",
       "26  1484475182    13     3522  2500.000000   33.3333       3.0      2.1   \n",
       "37  1484475230    17    54938    25.237936    4.0000       6.0      2.1   \n",
       "80  1484475418    33  1890243     0.010000    9.0000       2.0      2.1   \n",
       "84  1484475449    17    55130     0.322861    4.0000       6.0      2.1   \n",
       "\n",
       "           0  \n",
       "22  exchange  \n",
       "26  exchange  \n",
       "37  exchange  \n",
       "80  exchange  \n",
       "84  exchange  "
      ]
     },
     "execution_count": 5,
     "metadata": {},
     "output_type": "execute_result"
    }
   ],
   "source": [
    "print(labels[2])\n",
    "exchange_data = df[df['0'] == labels[2]]\n",
    "exchange_data.head()"
   ]
  },
  {
   "cell_type": "code",
   "execution_count": 6,
   "id": "1124323b",
   "metadata": {},
   "outputs": [],
   "source": [
    "exchange_addrs = exchange_data['from'].unique()"
   ]
  },
  {
   "cell_type": "code",
   "execution_count": 7,
   "id": "201275a8",
   "metadata": {},
   "outputs": [],
   "source": [
    "kept_ex_addrs = []\n",
    "for addr in exchange_addrs:\n",
    "    if (exchange_data['from']==addr).sum() > 100:\n",
    "        kept_ex_addrs.append(addr)\n",
    "#     print( str(addr)+' :',(exchange_data['from']==addr).sum())\n",
    "    "
   ]
  },
  {
   "cell_type": "code",
   "execution_count": 8,
   "id": "7c30d7d7",
   "metadata": {},
   "outputs": [
    {
     "name": "stdout",
     "output_type": "stream",
     "text": [
      "mining\n"
     ]
    },
    {
     "data": {
      "text/html": [
       "<div>\n",
       "<style scoped>\n",
       "    .dataframe tbody tr th:only-of-type {\n",
       "        vertical-align: middle;\n",
       "    }\n",
       "\n",
       "    .dataframe tbody tr th {\n",
       "        vertical-align: top;\n",
       "    }\n",
       "\n",
       "    .dataframe thead th {\n",
       "        text-align: right;\n",
       "    }\n",
       "</style>\n",
       "<table border=\"1\" class=\"dataframe\">\n",
       "  <thead>\n",
       "    <tr style=\"text-align: right;\">\n",
       "      <th></th>\n",
       "      <th>timestamp</th>\n",
       "      <th>from</th>\n",
       "      <th>to</th>\n",
       "      <th>value</th>\n",
       "      <th>gasLimit</th>\n",
       "      <th>gasPrice</th>\n",
       "      <th>gasUsed</th>\n",
       "      <th>0</th>\n",
       "    </tr>\n",
       "  </thead>\n",
       "  <tbody>\n",
       "    <tr>\n",
       "      <th>0</th>\n",
       "      <td>1484475035</td>\n",
       "      <td>0</td>\n",
       "      <td>1890222</td>\n",
       "      <td>4.950000</td>\n",
       "      <td>3.9</td>\n",
       "      <td>2.0</td>\n",
       "      <td>2.1</td>\n",
       "      <td>mining</td>\n",
       "    </tr>\n",
       "    <tr>\n",
       "      <th>1</th>\n",
       "      <td>1484475035</td>\n",
       "      <td>1</td>\n",
       "      <td>1777</td>\n",
       "      <td>1.011962</td>\n",
       "      <td>9.0</td>\n",
       "      <td>2.0</td>\n",
       "      <td>2.1</td>\n",
       "      <td>mining</td>\n",
       "    </tr>\n",
       "    <tr>\n",
       "      <th>2</th>\n",
       "      <td>1484475035</td>\n",
       "      <td>1</td>\n",
       "      <td>20425</td>\n",
       "      <td>1.011957</td>\n",
       "      <td>9.0</td>\n",
       "      <td>2.0</td>\n",
       "      <td>2.1</td>\n",
       "      <td>mining</td>\n",
       "    </tr>\n",
       "    <tr>\n",
       "      <th>3</th>\n",
       "      <td>1484475035</td>\n",
       "      <td>1</td>\n",
       "      <td>1558</td>\n",
       "      <td>1.008363</td>\n",
       "      <td>9.0</td>\n",
       "      <td>2.0</td>\n",
       "      <td>2.1</td>\n",
       "      <td>mining</td>\n",
       "    </tr>\n",
       "    <tr>\n",
       "      <th>4</th>\n",
       "      <td>1484475035</td>\n",
       "      <td>1</td>\n",
       "      <td>15</td>\n",
       "      <td>1.016120</td>\n",
       "      <td>9.0</td>\n",
       "      <td>2.0</td>\n",
       "      <td>2.1</td>\n",
       "      <td>mining</td>\n",
       "    </tr>\n",
       "  </tbody>\n",
       "</table>\n",
       "</div>"
      ],
      "text/plain": [
       "    timestamp  from       to     value  gasLimit  gasPrice  gasUsed       0\n",
       "0  1484475035     0  1890222  4.950000       3.9       2.0      2.1  mining\n",
       "1  1484475035     1     1777  1.011962       9.0       2.0      2.1  mining\n",
       "2  1484475035     1    20425  1.011957       9.0       2.0      2.1  mining\n",
       "3  1484475035     1     1558  1.008363       9.0       2.0      2.1  mining\n",
       "4  1484475035     1       15  1.016120       9.0       2.0      2.1  mining"
      ]
     },
     "execution_count": 8,
     "metadata": {},
     "output_type": "execute_result"
    }
   ],
   "source": [
    "print(labels[0])\n",
    "mining_data = df[df['0'] == labels[0]]\n",
    "mining_data.head()"
   ]
  },
  {
   "cell_type": "code",
   "execution_count": 9,
   "id": "90517a0e",
   "metadata": {},
   "outputs": [],
   "source": [
    "mining_addrs = mining_data['from'].unique()"
   ]
  },
  {
   "cell_type": "code",
   "execution_count": 10,
   "id": "09d5c3e0",
   "metadata": {},
   "outputs": [],
   "source": [
    "kept_mining_addrs = []\n",
    "for addr in mining_addrs:\n",
    "    if (mining_data['from']==addr).sum() > 100:\n",
    "        kept_mining_addrs.append(addr)\n",
    "#     print( str(addr)+' :',(mining_data['from']==addr).sum())\n",
    "    "
   ]
  },
  {
   "cell_type": "code",
   "execution_count": 11,
   "id": "d10e512f",
   "metadata": {},
   "outputs": [],
   "source": [
    "def receiving_transaction_graph_h4_timed(node,st_time,end_time,dataframe):\n",
    "    \n",
    "    timed_df = dataframe[dataframe['timestamp'].between(st_time,end_time)]\n",
    "    \n",
    "    neigh1 = timed_df[timed_df['to'] == node]\n",
    "    \n",
    "    neigh2 = timed_df[timed_df['to'].isin(neigh1['from'])]\n",
    "    neigh2=neigh2[neigh2['to'] != node]\n",
    "    \n",
    "    neigh3 = timed_df[timed_df['to'].isin(neigh2['from'])]\n",
    "    neigh3 = neigh3[~neigh3['to'].isin(neigh2['to'])]\n",
    "    \n",
    "    neigh4 = timed_df[timed_df['to'].isin(neigh3['from'])]\n",
    "    neigh4 = neigh4[~neigh4['to'].isin(neigh3['to'])]\n",
    "    \n",
    "    return (neigh1,neigh2,neigh3,neigh4)\n",
    "    \n",
    "    "
   ]
  },
  {
   "cell_type": "code",
   "execution_count": 12,
   "id": "9bb9e0f0",
   "metadata": {},
   "outputs": [],
   "source": [
    "def send_extract_graph_h4_timed(node,st_time,end_time,dataframe):\n",
    "    \n",
    "    timed_df = dataframe[dataframe['timestamp'].between(st_time,end_time)]\n",
    "    \n",
    "    neigh1 = timed_df[timed_df['from'] == node]\n",
    "    \n",
    "    neigh2 = timed_df[timed_df['from'].isin(neigh1['to'])]\n",
    "    neigh2=neigh2[neigh2['from'] != node]\n",
    "    \n",
    "    neigh3 = timed_df[timed_df['from'].isin(neigh2['to'])]\n",
    "    neigh3 = neigh3[~neigh3['from'].isin(neigh2['from'])]\n",
    "    \n",
    "    neigh4 = timed_df[timed_df['from'].isin(neigh3['to'])]\n",
    "    neigh4 = neigh4[~neigh4['from'].isin(neigh3['from'])]\n",
    "    \n",
    "    return (neigh1,neigh2,neigh3,neigh4)\n",
    "    \n",
    "    \n"
   ]
  },
  {
   "cell_type": "code",
   "execution_count": 13,
   "id": "6ce425ee",
   "metadata": {
    "scrolled": true
   },
   "outputs": [],
   "source": [
    "def combine(send_graph,rec_graph):\n",
    "    \n",
    "    (neigh1_send,neigh2_send,neigh3_send,neigh4_send) = send_graph\n",
    "    (neigh1_rec,neigh2_rec,neigh3_rec,neigh4_rec) = rec_graph\n",
    "    \n",
    "    \n",
    "    neigh1 = pd.concat([neigh1_send,neigh1_rec])\n",
    "    neigh2 = pd.concat([neigh2_send,neigh2_rec])\n",
    "    neigh3 = pd.concat([neigh3_send,neigh3_rec])\n",
    "    neigh4 = pd.concat([neigh4_send,neigh4_rec])\n",
    "    \n",
    "    \n",
    "    return (neigh1,neigh2,neigh3,neigh4)\n",
    "\n",
    "st_time = 1484481572\n",
    "duration = 700000\n",
    "end_time = st_time+duration\n",
    "addr = kept_ex_addrs[2]\n",
    "    \n",
    "send_graph = send_extract_graph_h4_timed(addr,st_time,end_time,df)\n",
    "rec_graph = receiving_transaction_graph_h4_timed(addr,st_time,end_time,df)\n",
    "\n",
    "\n",
    "# (neigh1,neigh2,neigh3,neigh4) = get_aggregated(rec_graph)\n",
    "\n",
    "(neigh1,neigh2,neigh3,neigh4) = combine(send_graph,rec_graph)\n",
    "# neigh3"
   ]
  },
  {
   "cell_type": "code",
   "execution_count": 14,
   "id": "c9cce6b4",
   "metadata": {},
   "outputs": [],
   "source": [
    "def extract_graphs(addr,duration):\n",
    "    st_time = df.iloc[0]['timestamp']\n",
    "#     duration = 700000\n",
    "#     addr = 261\n",
    "    end_time = 0\n",
    "    graphs = []\n",
    "    while  end_time < df.iloc[-1]['timestamp']:\n",
    "        end_time = st_time+duration\n",
    "        \n",
    "        send_graph = send_extract_graph_h4_timed(addr,st_time,end_time,df)\n",
    "        rec_graph = receiving_transaction_graph_h4_timed(addr,st_time,end_time,df)\n",
    "        \n",
    "        (neigh1,neigh2,neigh3,neigh4) = combine(send_graph,rec_graph)\n",
    "        graphs.append((neigh1,neigh2,neigh3,neigh4))\n",
    "        st_time = end_time\n",
    "\n",
    "        \n",
    "    return graphs"
   ]
  },
  {
   "cell_type": "code",
   "execution_count": 15,
   "id": "62c42a3e",
   "metadata": {},
   "outputs": [],
   "source": [
    "miner_graph = []\n",
    "duration = 700000\n",
    "for addr in kept_mining_addrs:\n",
    "    miner_graph.append(extract_graphs(addr,duration))"
   ]
  },
  {
   "cell_type": "code",
   "execution_count": 16,
   "id": "d216f392",
   "metadata": {},
   "outputs": [],
   "source": [
    "ex_graph = []\n",
    "duration = 700000\n",
    "for addr in kept_ex_addrs:\n",
    "    ex_graph.append(extract_graphs(addr,duration))"
   ]
  },
  {
   "cell_type": "code",
   "execution_count": 17,
   "id": "0ec31af7",
   "metadata": {},
   "outputs": [
    {
     "data": {
      "text/html": [
       "<div>\n",
       "<style scoped>\n",
       "    .dataframe tbody tr th:only-of-type {\n",
       "        vertical-align: middle;\n",
       "    }\n",
       "\n",
       "    .dataframe tbody tr th {\n",
       "        vertical-align: top;\n",
       "    }\n",
       "\n",
       "    .dataframe thead th {\n",
       "        text-align: right;\n",
       "    }\n",
       "</style>\n",
       "<table border=\"1\" class=\"dataframe\">\n",
       "  <thead>\n",
       "    <tr style=\"text-align: right;\">\n",
       "      <th></th>\n",
       "      <th>timestamp</th>\n",
       "      <th>from</th>\n",
       "      <th>to</th>\n",
       "      <th>value</th>\n",
       "      <th>gasLimit</th>\n",
       "      <th>gasPrice</th>\n",
       "      <th>gasUsed</th>\n",
       "      <th>0</th>\n",
       "    </tr>\n",
       "  </thead>\n",
       "  <tbody>\n",
       "    <tr>\n",
       "      <th>8</th>\n",
       "      <td>1484475096</td>\n",
       "      <td>5</td>\n",
       "      <td>1633800</td>\n",
       "      <td>0.074210</td>\n",
       "      <td>94.0</td>\n",
       "      <td>2.0</td>\n",
       "      <td>2.1</td>\n",
       "      <td>NaN</td>\n",
       "    </tr>\n",
       "    <tr>\n",
       "      <th>16</th>\n",
       "      <td>1484475156</td>\n",
       "      <td>5</td>\n",
       "      <td>12</td>\n",
       "      <td>0.054131</td>\n",
       "      <td>94.0</td>\n",
       "      <td>2.0</td>\n",
       "      <td>2.1</td>\n",
       "      <td>NaN</td>\n",
       "    </tr>\n",
       "    <tr>\n",
       "      <th>37</th>\n",
       "      <td>1484475230</td>\n",
       "      <td>17</td>\n",
       "      <td>54938</td>\n",
       "      <td>25.237936</td>\n",
       "      <td>4.0</td>\n",
       "      <td>6.0</td>\n",
       "      <td>2.1</td>\n",
       "      <td>exchange</td>\n",
       "    </tr>\n",
       "    <tr>\n",
       "      <th>59</th>\n",
       "      <td>1484475316</td>\n",
       "      <td>28</td>\n",
       "      <td>8499</td>\n",
       "      <td>0.270721</td>\n",
       "      <td>2.5</td>\n",
       "      <td>2.0</td>\n",
       "      <td>2.1</td>\n",
       "      <td>NaN</td>\n",
       "    </tr>\n",
       "    <tr>\n",
       "      <th>62</th>\n",
       "      <td>1484475316</td>\n",
       "      <td>28</td>\n",
       "      <td>8560</td>\n",
       "      <td>0.151508</td>\n",
       "      <td>2.5</td>\n",
       "      <td>2.0</td>\n",
       "      <td>2.1</td>\n",
       "      <td>NaN</td>\n",
       "    </tr>\n",
       "    <tr>\n",
       "      <th>...</th>\n",
       "      <td>...</td>\n",
       "      <td>...</td>\n",
       "      <td>...</td>\n",
       "      <td>...</td>\n",
       "      <td>...</td>\n",
       "      <td>...</td>\n",
       "      <td>...</td>\n",
       "      <td>...</td>\n",
       "    </tr>\n",
       "    <tr>\n",
       "      <th>229680</th>\n",
       "      <td>1485175025</td>\n",
       "      <td>28</td>\n",
       "      <td>6895</td>\n",
       "      <td>1.040918</td>\n",
       "      <td>2.5</td>\n",
       "      <td>2.0</td>\n",
       "      <td>2.1</td>\n",
       "      <td>NaN</td>\n",
       "    </tr>\n",
       "    <tr>\n",
       "      <th>229682</th>\n",
       "      <td>1485175025</td>\n",
       "      <td>28</td>\n",
       "      <td>8560</td>\n",
       "      <td>0.135487</td>\n",
       "      <td>2.5</td>\n",
       "      <td>2.0</td>\n",
       "      <td>2.1</td>\n",
       "      <td>NaN</td>\n",
       "    </tr>\n",
       "    <tr>\n",
       "      <th>229684</th>\n",
       "      <td>1485175025</td>\n",
       "      <td>28</td>\n",
       "      <td>13241</td>\n",
       "      <td>0.015695</td>\n",
       "      <td>2.5</td>\n",
       "      <td>2.0</td>\n",
       "      <td>2.1</td>\n",
       "      <td>NaN</td>\n",
       "    </tr>\n",
       "    <tr>\n",
       "      <th>229686</th>\n",
       "      <td>1485175025</td>\n",
       "      <td>28</td>\n",
       "      <td>78986</td>\n",
       "      <td>0.549578</td>\n",
       "      <td>2.5</td>\n",
       "      <td>2.0</td>\n",
       "      <td>2.1</td>\n",
       "      <td>NaN</td>\n",
       "    </tr>\n",
       "    <tr>\n",
       "      <th>229688</th>\n",
       "      <td>1485175025</td>\n",
       "      <td>28</td>\n",
       "      <td>324240</td>\n",
       "      <td>0.018096</td>\n",
       "      <td>2.5</td>\n",
       "      <td>2.0</td>\n",
       "      <td>2.1</td>\n",
       "      <td>NaN</td>\n",
       "    </tr>\n",
       "  </tbody>\n",
       "</table>\n",
       "<p>12167 rows × 8 columns</p>\n",
       "</div>"
      ],
      "text/plain": [
       "         timestamp  from       to      value  gasLimit  gasPrice  gasUsed  \\\n",
       "8       1484475096     5  1633800   0.074210      94.0       2.0      2.1   \n",
       "16      1484475156     5       12   0.054131      94.0       2.0      2.1   \n",
       "37      1484475230    17    54938  25.237936       4.0       6.0      2.1   \n",
       "59      1484475316    28     8499   0.270721       2.5       2.0      2.1   \n",
       "62      1484475316    28     8560   0.151508       2.5       2.0      2.1   \n",
       "...            ...   ...      ...        ...       ...       ...      ...   \n",
       "229680  1485175025    28     6895   1.040918       2.5       2.0      2.1   \n",
       "229682  1485175025    28     8560   0.135487       2.5       2.0      2.1   \n",
       "229684  1485175025    28    13241   0.015695       2.5       2.0      2.1   \n",
       "229686  1485175025    28    78986   0.549578       2.5       2.0      2.1   \n",
       "229688  1485175025    28   324240   0.018096       2.5       2.0      2.1   \n",
       "\n",
       "               0  \n",
       "8            NaN  \n",
       "16           NaN  \n",
       "37      exchange  \n",
       "59           NaN  \n",
       "62           NaN  \n",
       "...          ...  \n",
       "229680       NaN  \n",
       "229682       NaN  \n",
       "229684       NaN  \n",
       "229686       NaN  \n",
       "229688       NaN  \n",
       "\n",
       "[12167 rows x 8 columns]"
      ]
     },
     "execution_count": 17,
     "metadata": {},
     "output_type": "execute_result"
    }
   ],
   "source": [
    "ex_graph[0][0][1]"
   ]
  },
  {
   "cell_type": "code",
   "execution_count": 18,
   "id": "3e98b09d",
   "metadata": {
    "scrolled": false
   },
   "outputs": [
    {
     "ename": "NameError",
     "evalue": "name 'pack_sequence' is not defined",
     "output_type": "error",
     "traceback": [
      "\u001b[0;31m---------------------------------------------------------------------------\u001b[0m",
      "\u001b[0;31mNameError\u001b[0m                                 Traceback (most recent call last)",
      "\u001b[0;32m/tmp/ipykernel_2676841/1555019144.py\u001b[0m in \u001b[0;36m<module>\u001b[0;34m\u001b[0m\n\u001b[1;32m     77\u001b[0m \u001b[0;34m\u001b[0m\u001b[0m\n\u001b[1;32m     78\u001b[0m \u001b[0;34m\u001b[0m\u001b[0m\n\u001b[0;32m---> 79\u001b[0;31m \u001b[0mdata\u001b[0m \u001b[0;34m=\u001b[0m \u001b[0mget_graph_data\u001b[0m\u001b[0;34m(\u001b[0m\u001b[0mex_graph\u001b[0m\u001b[0;34m[\u001b[0m\u001b[0;36m0\u001b[0m\u001b[0;34m]\u001b[0m\u001b[0;34m[\u001b[0m\u001b[0;36m0\u001b[0m\u001b[0;34m]\u001b[0m\u001b[0;34m,\u001b[0m\u001b[0;36m0\u001b[0m\u001b[0;34m)\u001b[0m\u001b[0;34m\u001b[0m\u001b[0;34m\u001b[0m\u001b[0m\n\u001b[0m\u001b[1;32m     80\u001b[0m \u001b[0medges\u001b[0m\u001b[0;34m,\u001b[0m\u001b[0medge_attributes\u001b[0m\u001b[0;34m,\u001b[0m\u001b[0mlabel\u001b[0m \u001b[0;34m=\u001b[0m \u001b[0mdata\u001b[0m\u001b[0;34m\u001b[0m\u001b[0;34m\u001b[0m\u001b[0m\n",
      "\u001b[0;32m/tmp/ipykernel_2676841/1555019144.py\u001b[0m in \u001b[0;36mget_graph_data\u001b[0;34m(graph, label)\u001b[0m\n\u001b[1;32m     68\u001b[0m         \u001b[0;32mreturn\u001b[0m \u001b[0medges\u001b[0m\u001b[0;34m,\u001b[0m\u001b[0medge_attributes\u001b[0m\u001b[0;34m,\u001b[0m\u001b[0mlabel\u001b[0m\u001b[0;34m\u001b[0m\u001b[0;34m\u001b[0m\u001b[0m\n\u001b[1;32m     69\u001b[0m \u001b[0;34m\u001b[0m\u001b[0m\n\u001b[0;32m---> 70\u001b[0;31m     \u001b[0medge_attributes\u001b[0m \u001b[0;34m=\u001b[0m \u001b[0mpack_sequence\u001b[0m\u001b[0;34m(\u001b[0m\u001b[0medge_attributes\u001b[0m\u001b[0;34m)\u001b[0m\u001b[0;34m\u001b[0m\u001b[0;34m\u001b[0m\u001b[0m\n\u001b[0m\u001b[1;32m     71\u001b[0m \u001b[0;34m\u001b[0m\u001b[0m\n\u001b[1;32m     72\u001b[0m \u001b[0;34m\u001b[0m\u001b[0m\n",
      "\u001b[0;31mNameError\u001b[0m: name 'pack_sequence' is not defined"
     ]
    }
   ],
   "source": [
    "def get_graph_data(graph,label):\n",
    "    (neigh1,neigh2,neigh3,neigh4) = graph\n",
    "    neigh1_nodes = pd.concat([neigh1['from'],neigh1['to']])\n",
    "    neigh2_nodes = pd.concat([neigh2['from'],neigh2['to']])\n",
    "    neigh3_nodes = pd.concat([neigh3['from'],neigh3['to']])\n",
    "    neigh4_nodes = pd.concat([neigh4['from'],neigh4['to']])\n",
    "\n",
    "    nodes = pd.concat([neigh1_nodes\n",
    "                  ,neigh2_nodes\n",
    "                  ,neigh3_nodes\n",
    "                  ,neigh4_nodes]).unique()\n",
    "    map_id = {j:i for i,j in enumerate(nodes)}\n",
    "    \n",
    "    neigh1['from'] = neigh1['from'].map(map_id)\n",
    "    neigh1['to'] = neigh1['to'].map(map_id)\n",
    "    \n",
    "    neigh2['from'] = neigh2['from'].map(map_id)\n",
    "    neigh2['to'] = neigh2['to'].map(map_id)\n",
    "    \n",
    "    neigh3['from'] = neigh3['from'].map(map_id)\n",
    "    neigh3['to'] = neigh3['to'].map(map_id)\n",
    "    \n",
    "    neigh4['from'] = neigh4['from'].map(map_id)\n",
    "    neigh4['to'] = neigh4['to'].map(map_id)\n",
    "    \n",
    "    graph = pd.concat([neigh1,neigh2,neigh3,neigh4])\n",
    "    \n",
    "#     edge_index = torch.tensor(graph[['from','to']].to_numpy().T, dtype=torch.long)\n",
    "#     print(edge_index.shape)\n",
    "    \n",
    "    graph = graph.sort_values(['from','to','timestamp']).reset_index(drop=True)\n",
    "\n",
    "\n",
    "\n",
    "    def get_groups(graph):\n",
    "        g = graph.groupby(['from','to'])\n",
    "\n",
    "        groups = g.groups\n",
    "\n",
    "        keys = list(groups.keys())\n",
    "        return keys,groups\n",
    "    \n",
    "    def comparison(item):\n",
    "\n",
    "        return len(item[1])\n",
    "        \n",
    "    \n",
    "    keys,groups = get_groups(graph)\n",
    "    \n",
    "    transac_ls = []\n",
    "    for i in range(len(keys)):\n",
    "        edge = graph.iloc[groups[keys[i]]][['from','to']].iloc[0].to_numpy()\n",
    "        tensor = torch.tensor(graph.iloc[groups[keys[i]]][['value','gasLimit','gasPrice','gasUsed']].to_numpy())\n",
    "        transac_ls.append((edge,tensor))\n",
    "        \n",
    "#         print(edge)\n",
    "#         print(tensor)\n",
    "        \n",
    "#         print(graph.iloc[groups[keys[i]]])\n",
    "        \n",
    "#         return\n",
    "        \n",
    "    lst = sorted(transac_ls, key=comparison,reverse=True)\n",
    "    edges  = [item[0] for item in lst]\n",
    "    edge_attributes  = [item[1] for item in lst]\n",
    "    \n",
    "    if len(edge_attributes) == 0:\n",
    "        return edges,edge_attributes,label\n",
    "    \n",
    "    edge_attributes = pack_sequence(edge_attributes)\n",
    "    \n",
    "    \n",
    "    return edges,edge_attributes,label\n",
    "#     n = 0\n",
    "#     print(graph.iloc[groups[keys[n]]])\n",
    "        \n",
    "\n",
    "    \n",
    "data = get_graph_data(ex_graph[0][0],0)\n",
    "edges,edge_attributes,label = data\n"
   ]
  },
  {
   "cell_type": "code",
   "execution_count": 59,
   "id": "a7a9f7ff",
   "metadata": {},
   "outputs": [],
   "source": [
    "def get_graph_data(graph,label):\n",
    "    (neigh1,neigh2,neigh3,neigh4) = graph\n",
    "    neigh1_nodes = pd.concat([neigh1['from'],neigh1['to']])\n",
    "    neigh2_nodes = pd.concat([neigh2['from'],neigh2['to']])\n",
    "    neigh3_nodes = pd.concat([neigh3['from'],neigh3['to']])\n",
    "    neigh4_nodes = pd.concat([neigh4['from'],neigh4['to']])\n",
    "\n",
    "    nodes = pd.concat([neigh1_nodes\n",
    "                  ,neigh2_nodes\n",
    "                  ,neigh3_nodes\n",
    "                  ,neigh4_nodes]).unique()\n",
    "    map_id = {j:i for i,j in enumerate(nodes)}\n",
    "    \n",
    "    neigh1['from'] = neigh1['from'].map(map_id)\n",
    "    neigh1['to'] = neigh1['to'].map(map_id)\n",
    "    \n",
    "    neigh2['from'] = neigh2['from'].map(map_id)\n",
    "    neigh2['to'] = neigh2['to'].map(map_id)\n",
    "    \n",
    "    neigh3['from'] = neigh3['from'].map(map_id)\n",
    "    neigh3['to'] = neigh3['to'].map(map_id)\n",
    "    \n",
    "    neigh4['from'] = neigh4['from'].map(map_id)\n",
    "    neigh4['to'] = neigh4['to'].map(map_id)\n",
    "    \n",
    "    graph = pd.concat([neigh1,neigh2,neigh3,neigh4])\n",
    "    \n",
    "#     edge_index = torch.tensor(graph[['from','to']].to_numpy().T, dtype=torch.long)\n",
    "#     print(edge_index.shape)\n",
    "    \n",
    "    graph = graph.sort_values(['from','to','timestamp']).reset_index(drop=True)\n",
    "\n",
    "\n",
    "\n",
    "    def get_groups(graph):\n",
    "        g = graph.groupby(['from','to'])\n",
    "\n",
    "        groups = g.groups\n",
    "\n",
    "        keys = list(groups.keys())\n",
    "        return keys,groups\n",
    "    \n",
    "    def comparison(item):\n",
    "\n",
    "        return len(item[1])\n",
    "        \n",
    "    \n",
    "    keys,groups = get_groups(graph)\n",
    "    \n",
    "    transac_ls = []\n",
    "    for i in range(len(keys)):\n",
    "        edge = graph.iloc[groups[keys[i]]][['from','to']].iloc[0].to_numpy()\n",
    "        tensor = torch.tensor(graph.iloc[groups[keys[i]]][['value','gasLimit','gasPrice','gasUsed']].to_numpy())\n",
    "        transac_ls.append((edge,tensor.float()))\n",
    "        \n",
    "#         print(edge)\n",
    "#         print(tensor)\n",
    "        \n",
    "#         print(graph.iloc[groups[keys[i]]])\n",
    "        \n",
    "#         return\n",
    "        \n",
    "    lst = sorted(transac_ls, key=comparison,reverse=True)\n",
    "    edges  = [item[0] for item in lst]\n",
    "    edge_attributes  = [item[1] for item in lst]\n",
    "    edge_attrib_lenghts  = [len(item[1]) for item in lst]\n",
    "    \n",
    "    if len(edge_attributes) == 0:\n",
    "        return edges,edge_attributes,edge_attrib_lenghts,label\n",
    "    \n",
    "#     print(edge_attributes[:5])\n",
    "    \n",
    "    edge_attributes = pack_sequence(edge_attributes)\n",
    "    \n",
    "    \n",
    "    return edges,edge_attributes,edge_attrib_lenghts,label\n",
    "#     n = 0\n",
    "#     print(graph.iloc[groups[keys[n]]])\n",
    "        \n",
    "\n",
    "    \n",
    "data = get_graph_data(ex_graph[0][0],0)\n",
    "edges,edge_attributes,edge_attrib_lenghts,label = data\n"
   ]
  },
  {
   "cell_type": "code",
   "execution_count": 60,
   "id": "f64e1b8b",
   "metadata": {},
   "outputs": [],
   "source": [
    "ins = unpack_sequence(edge_attributes,edge_attrib_lenghts)\n",
    "# ins[:5]"
   ]
  },
  {
   "cell_type": "code",
   "execution_count": 46,
   "id": "da6ccf9d",
   "metadata": {},
   "outputs": [],
   "source": [
    "from torch.nn.utils.rnn import pack_sequence"
   ]
  },
  {
   "cell_type": "code",
   "execution_count": 47,
   "id": "8a2aa0ac",
   "metadata": {},
   "outputs": [
    {
     "name": "stdout",
     "output_type": "stream",
     "text": [
      "torch.Size([5, 3, 16])\n",
      "torch.Size([1, 3, 16])\n"
     ]
    }
   ],
   "source": [
    "rnn = nn.RNN(4, 16, 1)\n",
    "inputs = torch.randn(5, 3, 4)\n",
    "h0 = torch.randn(1, 3, 16)\n",
    "output, hn = rnn(inputs, h0)\n",
    "print(output.shape)\n",
    "print(hn.shape)"
   ]
  },
  {
   "cell_type": "code",
   "execution_count": 48,
   "id": "97994e28",
   "metadata": {},
   "outputs": [],
   "source": [
    "output, hn = rnn(edge_attributes)"
   ]
  },
  {
   "cell_type": "code",
   "execution_count": 49,
   "id": "151247e3",
   "metadata": {},
   "outputs": [
    {
     "data": {
      "text/plain": [
       "torch.Size([1, 16584, 16])"
      ]
     },
     "execution_count": 49,
     "metadata": {},
     "output_type": "execute_result"
    }
   ],
   "source": [
    "hn.shape"
   ]
  },
  {
   "cell_type": "code",
   "execution_count": 50,
   "id": "308eb01f",
   "metadata": {},
   "outputs": [
    {
     "data": {
      "text/plain": [
       "torch.Size([731, 16])"
      ]
     },
     "execution_count": 50,
     "metadata": {},
     "output_type": "execute_result"
    }
   ],
   "source": [
    "out = unpack_sequence(output,edge_attrib_lenghts)\n",
    "out[0].shape"
   ]
  },
  {
   "cell_type": "code",
   "execution_count": 39,
   "id": "018d1bad",
   "metadata": {},
   "outputs": [
    {
     "data": {
      "text/plain": [
       "torch.Size([731, 4])"
      ]
     },
     "execution_count": 39,
     "metadata": {},
     "output_type": "execute_result"
    }
   ],
   "source": [
    "ins = unpack_sequence(edge_attributes,edge_attrib_lenghts)\n",
    "ins[0].shape"
   ]
  },
  {
   "cell_type": "code",
   "execution_count": 40,
   "id": "ff534e9b",
   "metadata": {},
   "outputs": [
    {
     "data": {
      "text/plain": [
       "torch.Size([731, 16])"
      ]
     },
     "execution_count": 40,
     "metadata": {},
     "output_type": "execute_result"
    }
   ],
   "source": []
  },
  {
   "cell_type": "code",
   "execution_count": 245,
   "id": "3c4a1e7b",
   "metadata": {},
   "outputs": [],
   "source": [
    "edges = [item[['from','to']].iloc[0].to_numpy() for item in lst1] "
   ]
  },
  {
   "cell_type": "code",
   "execution_count": 208,
   "id": "b45461f0",
   "metadata": {},
   "outputs": [],
   "source": [
    "out_unpacked = unpack_sequence(output,lengths)\n",
    "# hn_unpacked = unpack_sequence(hn,lengths)"
   ]
  },
  {
   "cell_type": "code",
   "execution_count": 42,
   "id": "bcf953a8",
   "metadata": {
    "scrolled": false
   },
   "outputs": [],
   "source": [
    "data_list = []\n",
    "def add_graphs_to_list(graphs,label):\n",
    "    for addr_graphs in graphs:\n",
    "        for graph in addr_graphs:\n",
    "            data_list.append(get_graph_data(graph,label))\n",
    "            \n",
    "\n",
    "add_graphs_to_list(ex_graph,0)\n",
    "add_graphs_to_list(miner_graph,1)"
   ]
  },
  {
   "cell_type": "code",
   "execution_count": 43,
   "id": "bc0de091",
   "metadata": {},
   "outputs": [],
   "source": [
    "import pickle\n"
   ]
  },
  {
   "cell_type": "code",
   "execution_count": 44,
   "id": "868e26af",
   "metadata": {},
   "outputs": [],
   "source": [
    "with open(path+\"graphs_data_rnn_1\", \"wb\") as fp:   #Pickling\n",
    "    pickle.dump(data_list, fp)"
   ]
  },
  {
   "cell_type": "code",
   "execution_count": 29,
   "id": "23e722cd",
   "metadata": {},
   "outputs": [],
   "source": [
    "with open(path+\"graphs_data_rnn\", \"rb\") as fp:   # Unpickling\n",
    "    read_graph_data = pickle.load(fp)"
   ]
  },
  {
   "cell_type": "code",
   "execution_count": 30,
   "id": "7e0ffcb5",
   "metadata": {},
   "outputs": [
    {
     "data": {
      "text/plain": [
       "tensor(0)"
      ]
     },
     "execution_count": 30,
     "metadata": {},
     "output_type": "execute_result"
    }
   ],
   "source": [
    "((read_graph_data[0][0].edge_index == data_list[0][0].edge_index)==False).sum()"
   ]
  },
  {
   "cell_type": "code",
   "execution_count": 29,
   "id": "9a45962b",
   "metadata": {},
   "outputs": [],
   "source": [
    "import torch.nn.utils.rnn as rnnutils\n",
    "\n",
    "def unpack_sequence(packed_sequence, lengths):\n",
    "    assert isinstance(packed_sequence, rnnutils.PackedSequence)\n",
    "    head = 0\n",
    "    trailing_dims = packed_sequence.data.shape[1:]\n",
    "    unpacked_sequence = [torch.zeros(l, *trailing_dims) for l in lengths]\n",
    "    # l_idx - goes from 0 - maxLen-1\n",
    "    for l_idx, b_size in enumerate(packed_sequence.batch_sizes):\n",
    "        for b_idx in range(b_size):\n",
    "            unpacked_sequence[b_idx][l_idx] = packed_sequence.data[head]\n",
    "            head += 1\n",
    "    return unpacked_sequence"
   ]
  },
  {
   "cell_type": "code",
   "execution_count": null,
   "id": "a6ce7064",
   "metadata": {},
   "outputs": [],
   "source": []
  }
 ],
 "metadata": {
  "kernelspec": {
   "display_name": "Python 3 (ipykernel)",
   "language": "python",
   "name": "python3"
  },
  "language_info": {
   "codemirror_mode": {
    "name": "ipython",
    "version": 3
   },
   "file_extension": ".py",
   "mimetype": "text/x-python",
   "name": "python",
   "nbconvert_exporter": "python",
   "pygments_lexer": "ipython3",
   "version": "3.7.11"
  }
 },
 "nbformat": 4,
 "nbformat_minor": 5
}

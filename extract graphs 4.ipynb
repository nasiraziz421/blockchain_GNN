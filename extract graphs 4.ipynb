{
 "cells": [
  {
   "cell_type": "code",
   "execution_count": 1,
   "id": "1b12670d",
   "metadata": {},
   "outputs": [],
   "source": [
    "import pandas as pd\n",
    "import torch\n",
    "import networkx as nx\n",
    "from matplotlib.pyplot import figure\n",
    "from torch_geometric.data import Dataset, Data, DataLoader\n",
    "from scipy.linalg import fractional_matrix_power\n",
    "import matplotlib.pyplot as plt\n",
    "import numpy as np\n",
    "from tqdm import tqdm\n",
    "from torch_geometric.data import InMemoryDataset\n",
    "from torch_geometric.loader import DataLoader\n",
    "from sklearn.preprocessing import LabelEncoder\n",
    "from sklearn.model_selection import train_test_split\n",
    "from sklearn.preprocessing import StandardScaler\n",
    "from datetime import date\n",
    "import time"
   ]
  },
  {
   "cell_type": "code",
   "execution_count": 23,
   "id": "455dc41b",
   "metadata": {},
   "outputs": [],
   "source": [
    "path = '../blockchain_files/4000000to4999999_BlockTransaction/'"
   ]
  },
  {
   "cell_type": "code",
   "execution_count": 24,
   "id": "c1f62a23",
   "metadata": {},
   "outputs": [],
   "source": [
    "df = pd.read_csv(path+'processed.csv')"
   ]
  },
  {
   "cell_type": "code",
   "execution_count": 25,
   "id": "1d299b60",
   "metadata": {},
   "outputs": [],
   "source": [
    "tx_counts = pd.read_csv(path+'tx_counts.csv')"
   ]
  },
  {
   "cell_type": "code",
   "execution_count": 26,
   "id": "6a12ae52",
   "metadata": {},
   "outputs": [],
   "source": [
    "tx_labels = tx_counts[['0','1']]"
   ]
  },
  {
   "cell_type": "code",
   "execution_count": 27,
   "id": "4d01616a",
   "metadata": {},
   "outputs": [],
   "source": [
    "merged_df= df.merge(tx_labels,left_on='from', right_on='1',how='left')"
   ]
  },
  {
   "cell_type": "code",
   "execution_count": 28,
   "id": "ef823130",
   "metadata": {},
   "outputs": [],
   "source": [
    "merged_df.drop(columns=['1'],inplace=True)"
   ]
  },
  {
   "cell_type": "code",
   "execution_count": 29,
   "id": "e85bea98",
   "metadata": {},
   "outputs": [
    {
     "data": {
      "text/html": [
       "<div>\n",
       "<style scoped>\n",
       "    .dataframe tbody tr th:only-of-type {\n",
       "        vertical-align: middle;\n",
       "    }\n",
       "\n",
       "    .dataframe tbody tr th {\n",
       "        vertical-align: top;\n",
       "    }\n",
       "\n",
       "    .dataframe thead th {\n",
       "        text-align: right;\n",
       "    }\n",
       "</style>\n",
       "<table border=\"1\" class=\"dataframe\">\n",
       "  <thead>\n",
       "    <tr style=\"text-align: right;\">\n",
       "      <th></th>\n",
       "      <th>timestamp</th>\n",
       "      <th>from</th>\n",
       "      <th>to</th>\n",
       "      <th>value</th>\n",
       "      <th>gasLimit</th>\n",
       "      <th>gasPrice</th>\n",
       "      <th>gasUsed</th>\n",
       "      <th>0</th>\n",
       "    </tr>\n",
       "  </thead>\n",
       "  <tbody>\n",
       "    <tr>\n",
       "      <th>0</th>\n",
       "      <td>1499633567</td>\n",
       "      <td>0x7ed1e469fcb3ee19c0366d829e291451be638e59</td>\n",
       "      <td>0x1c48b312f5b68fb8826f3eb15ba00fce2530ec7d</td>\n",
       "      <td>367600000000000000</td>\n",
       "      <td>21000</td>\n",
       "      <td>60000000000</td>\n",
       "      <td>21000</td>\n",
       "      <td>walletapp</td>\n",
       "    </tr>\n",
       "    <tr>\n",
       "      <th>1</th>\n",
       "      <td>1499633567</td>\n",
       "      <td>0x32be343b94f860124dc4fee278fdcbd38c102d88</td>\n",
       "      <td>0x7760d83e1ecf2c7f02b767e869d40571c76788b9</td>\n",
       "      <td>6130841830000000000</td>\n",
       "      <td>100000</td>\n",
       "      <td>50000000000</td>\n",
       "      <td>21000</td>\n",
       "      <td>exchange</td>\n",
       "    </tr>\n",
       "    <tr>\n",
       "      <th>2</th>\n",
       "      <td>1499633567</td>\n",
       "      <td>0x267be1c1d684f78cb4f6a176c4911b741e4ffdc0</td>\n",
       "      <td>0x3fc232497fe367f6c4c90b04d1b7056a8b031f03</td>\n",
       "      <td>7995000000000000000</td>\n",
       "      <td>30000</td>\n",
       "      <td>22050000000</td>\n",
       "      <td>21000</td>\n",
       "      <td>exchange</td>\n",
       "    </tr>\n",
       "    <tr>\n",
       "      <th>3</th>\n",
       "      <td>1499633567</td>\n",
       "      <td>0x5aa0c28181c359eac5990faaa95224a649e8a5b4</td>\n",
       "      <td>0xa1286364b21fd48256090b485684aee8f6c7d024</td>\n",
       "      <td>2000000000000000</td>\n",
       "      <td>21000</td>\n",
       "      <td>21000000000</td>\n",
       "      <td>21000</td>\n",
       "      <td>NaN</td>\n",
       "    </tr>\n",
       "    <tr>\n",
       "      <th>4</th>\n",
       "      <td>1499633567</td>\n",
       "      <td>0x49c48176e317ff9dcafd0e8e4edb70c5da7f2df6</td>\n",
       "      <td>0xa981ff0d9d9d505a6fd212619d1ed718bf92a224</td>\n",
       "      <td>500000000000000000</td>\n",
       "      <td>21000</td>\n",
       "      <td>21000000000</td>\n",
       "      <td>21000</td>\n",
       "      <td>NaN</td>\n",
       "    </tr>\n",
       "  </tbody>\n",
       "</table>\n",
       "</div>"
      ],
      "text/plain": [
       "    timestamp                                        from  \\\n",
       "0  1499633567  0x7ed1e469fcb3ee19c0366d829e291451be638e59   \n",
       "1  1499633567  0x32be343b94f860124dc4fee278fdcbd38c102d88   \n",
       "2  1499633567  0x267be1c1d684f78cb4f6a176c4911b741e4ffdc0   \n",
       "3  1499633567  0x5aa0c28181c359eac5990faaa95224a649e8a5b4   \n",
       "4  1499633567  0x49c48176e317ff9dcafd0e8e4edb70c5da7f2df6   \n",
       "\n",
       "                                           to                value  gasLimit  \\\n",
       "0  0x1c48b312f5b68fb8826f3eb15ba00fce2530ec7d   367600000000000000     21000   \n",
       "1  0x7760d83e1ecf2c7f02b767e869d40571c76788b9  6130841830000000000    100000   \n",
       "2  0x3fc232497fe367f6c4c90b04d1b7056a8b031f03  7995000000000000000     30000   \n",
       "3  0xa1286364b21fd48256090b485684aee8f6c7d024     2000000000000000     21000   \n",
       "4  0xa981ff0d9d9d505a6fd212619d1ed718bf92a224   500000000000000000     21000   \n",
       "\n",
       "      gasPrice  gasUsed          0  \n",
       "0  60000000000    21000  walletapp  \n",
       "1  50000000000    21000   exchange  \n",
       "2  22050000000    21000   exchange  \n",
       "3  21000000000    21000        NaN  \n",
       "4  21000000000    21000        NaN  "
      ]
     },
     "execution_count": 29,
     "metadata": {},
     "output_type": "execute_result"
    }
   ],
   "source": [
    "merged_df.head()"
   ]
  },
  {
   "cell_type": "code",
   "execution_count": 30,
   "id": "032965e1",
   "metadata": {},
   "outputs": [],
   "source": [
    "def receiving_transaction_graph_h4_timed(node,st_time,end_time,dataframe):\n",
    "    \n",
    "    timed_df = dataframe[dataframe['timestamp'].between(st_time,end_time)]\n",
    "    \n",
    "    neigh1 = timed_df[timed_df['to'] == node]\n",
    "    \n",
    "    neigh2 = timed_df[timed_df['to'].isin(neigh1['from'])]\n",
    "    neigh2=neigh2[neigh2['to'] != node]\n",
    "    \n",
    "    neigh3 = timed_df[timed_df['to'].isin(neigh2['from'])]\n",
    "    neigh3 = neigh3[~neigh3['to'].isin(neigh2['to'])]\n",
    "    \n",
    "    neigh4 = timed_df[timed_df['to'].isin(neigh3['from'])]\n",
    "    neigh4 = neigh4[~neigh4['to'].isin(neigh3['to'])]\n",
    "    \n",
    "    return (neigh1,neigh2,neigh3,neigh4)\n",
    "    \n",
    "    "
   ]
  },
  {
   "cell_type": "code",
   "execution_count": 31,
   "id": "9dcf50e8",
   "metadata": {},
   "outputs": [],
   "source": [
    "def send_extract_graph_h4_timed(node,st_time,end_time,dataframe):\n",
    "    \n",
    "    timed_df = dataframe[dataframe['timestamp'].between(st_time,end_time)]\n",
    "    \n",
    "    neigh1 = timed_df[timed_df['from'] == node]\n",
    "    \n",
    "    neigh2 = timed_df[timed_df['from'].isin(neigh1['to'])]\n",
    "    neigh2=neigh2[neigh2['from'] != node]\n",
    "    \n",
    "    neigh3 = timed_df[timed_df['from'].isin(neigh2['to'])]\n",
    "    neigh3 = neigh3[~neigh3['from'].isin(neigh2['from'])]\n",
    "    \n",
    "    neigh4 = timed_df[timed_df['from'].isin(neigh3['to'])]\n",
    "    neigh4 = neigh4[~neigh4['from'].isin(neigh3['from'])]\n",
    "    \n",
    "    return (neigh1,neigh2,neigh3,neigh4)\n",
    "    \n",
    "    \n"
   ]
  },
  {
   "cell_type": "code",
   "execution_count": 32,
   "id": "0e0f0e76",
   "metadata": {},
   "outputs": [
    {
     "data": {
      "text/plain": [
       "(0, 7)"
      ]
     },
     "execution_count": 32,
     "metadata": {},
     "output_type": "execute_result"
    }
   ],
   "source": [
    "st_time = 1484475035\n",
    "duration = 700000\n",
    "end_time = st_time+duration\n",
    "addr = '0xea674fdde714fd979de3edf0f56aa9716b898ec8'\n",
    "(neigh1,neigh2,neigh3,neigh4)=send_extract_graph_h4_timed(addr,st_time,end_time,df)\n",
    "neigh1.shape"
   ]
  },
  {
   "cell_type": "code",
   "execution_count": 33,
   "id": "ac571f9e",
   "metadata": {},
   "outputs": [
    {
     "data": {
      "text/plain": [
       "(18338866,)"
      ]
     },
     "execution_count": 33,
     "metadata": {},
     "output_type": "execute_result"
    }
   ],
   "source": [
    "nodes = pd.concat([df['from'],df['to']]).unique()\n",
    "nodes.shape"
   ]
  },
  {
   "cell_type": "code",
   "execution_count": 34,
   "id": "e15e093d",
   "metadata": {},
   "outputs": [],
   "source": [
    "map_id = {j:i for i,j in enumerate(nodes)}"
   ]
  },
  {
   "cell_type": "code",
   "execution_count": 35,
   "id": "5e05ad0b",
   "metadata": {},
   "outputs": [],
   "source": [
    "merged_df['from'] = merged_df['from'].map(map_id)"
   ]
  },
  {
   "cell_type": "code",
   "execution_count": 36,
   "id": "c81bd38a",
   "metadata": {},
   "outputs": [],
   "source": [
    "merged_df['to'] = merged_df['to'].map(map_id)"
   ]
  },
  {
   "cell_type": "code",
   "execution_count": 37,
   "id": "c2f3ffca",
   "metadata": {},
   "outputs": [],
   "source": [
    "merged_df['value'] = merged_df['value'].astype(float)/(10**18)"
   ]
  },
  {
   "cell_type": "code",
   "execution_count": 38,
   "id": "d9e85bc2",
   "metadata": {},
   "outputs": [],
   "source": [
    "merged_df['gasPrice'] = merged_df['gasPrice'].astype(float)/(10**10)"
   ]
  },
  {
   "cell_type": "code",
   "execution_count": 39,
   "id": "ee039db9",
   "metadata": {},
   "outputs": [],
   "source": [
    "merged_df['gasLimit'] = merged_df['gasLimit']/10000"
   ]
  },
  {
   "cell_type": "code",
   "execution_count": 40,
   "id": "06b0dfbd",
   "metadata": {},
   "outputs": [],
   "source": [
    "merged_df['gasUsed'] = merged_df['gasUsed']/10000"
   ]
  },
  {
   "cell_type": "code",
   "execution_count": 41,
   "id": "0bcb4b9f",
   "metadata": {},
   "outputs": [
    {
     "data": {
      "text/html": [
       "<div>\n",
       "<style scoped>\n",
       "    .dataframe tbody tr th:only-of-type {\n",
       "        vertical-align: middle;\n",
       "    }\n",
       "\n",
       "    .dataframe tbody tr th {\n",
       "        vertical-align: top;\n",
       "    }\n",
       "\n",
       "    .dataframe thead th {\n",
       "        text-align: right;\n",
       "    }\n",
       "</style>\n",
       "<table border=\"1\" class=\"dataframe\">\n",
       "  <thead>\n",
       "    <tr style=\"text-align: right;\">\n",
       "      <th></th>\n",
       "      <th>timestamp</th>\n",
       "      <th>from</th>\n",
       "      <th>to</th>\n",
       "      <th>value</th>\n",
       "      <th>gasLimit</th>\n",
       "      <th>gasPrice</th>\n",
       "      <th>gasUsed</th>\n",
       "      <th>0</th>\n",
       "    </tr>\n",
       "  </thead>\n",
       "  <tbody>\n",
       "    <tr>\n",
       "      <th>0</th>\n",
       "      <td>1499633567</td>\n",
       "      <td>0</td>\n",
       "      <td>225089</td>\n",
       "      <td>0.367600</td>\n",
       "      <td>2.1</td>\n",
       "      <td>6.000</td>\n",
       "      <td>2.1</td>\n",
       "      <td>walletapp</td>\n",
       "    </tr>\n",
       "    <tr>\n",
       "      <th>1</th>\n",
       "      <td>1499633567</td>\n",
       "      <td>1</td>\n",
       "      <td>14157513</td>\n",
       "      <td>6.130842</td>\n",
       "      <td>10.0</td>\n",
       "      <td>5.000</td>\n",
       "      <td>2.1</td>\n",
       "      <td>exchange</td>\n",
       "    </tr>\n",
       "    <tr>\n",
       "      <th>2</th>\n",
       "      <td>1499633567</td>\n",
       "      <td>2</td>\n",
       "      <td>168</td>\n",
       "      <td>7.995000</td>\n",
       "      <td>3.0</td>\n",
       "      <td>2.205</td>\n",
       "      <td>2.1</td>\n",
       "      <td>exchange</td>\n",
       "    </tr>\n",
       "    <tr>\n",
       "      <th>3</th>\n",
       "      <td>1499633567</td>\n",
       "      <td>3</td>\n",
       "      <td>12422636</td>\n",
       "      <td>0.002000</td>\n",
       "      <td>2.1</td>\n",
       "      <td>2.100</td>\n",
       "      <td>2.1</td>\n",
       "      <td>NaN</td>\n",
       "    </tr>\n",
       "    <tr>\n",
       "      <th>4</th>\n",
       "      <td>1499633567</td>\n",
       "      <td>4</td>\n",
       "      <td>1661887</td>\n",
       "      <td>0.500000</td>\n",
       "      <td>2.1</td>\n",
       "      <td>2.100</td>\n",
       "      <td>2.1</td>\n",
       "      <td>NaN</td>\n",
       "    </tr>\n",
       "  </tbody>\n",
       "</table>\n",
       "</div>"
      ],
      "text/plain": [
       "    timestamp  from        to     value  gasLimit  gasPrice  gasUsed  \\\n",
       "0  1499633567     0    225089  0.367600       2.1     6.000      2.1   \n",
       "1  1499633567     1  14157513  6.130842      10.0     5.000      2.1   \n",
       "2  1499633567     2       168  7.995000       3.0     2.205      2.1   \n",
       "3  1499633567     3  12422636  0.002000       2.1     2.100      2.1   \n",
       "4  1499633567     4   1661887  0.500000       2.1     2.100      2.1   \n",
       "\n",
       "           0  \n",
       "0  walletapp  \n",
       "1   exchange  \n",
       "2   exchange  \n",
       "3        NaN  \n",
       "4        NaN  "
      ]
     },
     "execution_count": 41,
     "metadata": {},
     "output_type": "execute_result"
    }
   ],
   "source": [
    "merged_df.head()"
   ]
  },
  {
   "cell_type": "code",
   "execution_count": 42,
   "id": "dd6d6195",
   "metadata": {},
   "outputs": [
    {
     "data": {
      "text/plain": [
       "array(['walletapp', 'exchange', nan, 'mining', 'compromised',\n",
       "       'phish_hack', 'gambling', 'isowallet'], dtype=object)"
      ]
     },
     "execution_count": 42,
     "metadata": {},
     "output_type": "execute_result"
    }
   ],
   "source": [
    "merged_df['0'].unique()"
   ]
  },
  {
   "cell_type": "code",
   "execution_count": 43,
   "id": "61ddd5d1",
   "metadata": {},
   "outputs": [
    {
     "name": "stdout",
     "output_type": "stream",
     "text": [
      "walletapp:  151664\n",
      "exchange:  7430366\n",
      "nan:  0\n",
      "mining:  9757321\n",
      "compromised:  199476\n",
      "phish_hack:  3374\n",
      "gambling:  2909\n",
      "isowallet:  2172\n"
     ]
    }
   ],
   "source": [
    "labels = merged_df['0'].unique()\n",
    "for label in labels:\n",
    "    print('%s: '% label,(merged_df['0'] == label).sum())\n",
    "# print('mining: ',(merged_df['0'] == 'mining').sum())"
   ]
  },
  {
   "cell_type": "code",
   "execution_count": 44,
   "id": "0a8d644a",
   "metadata": {},
   "outputs": [],
   "source": [
    "with open(path+'final.csv', 'w') as f:\n",
    "        merged_df.to_csv(f,index=False,header=True)"
   ]
  },
  {
   "cell_type": "code",
   "execution_count": null,
   "id": "6b3f3915",
   "metadata": {},
   "outputs": [],
   "source": []
  },
  {
   "cell_type": "code",
   "execution_count": null,
   "id": "a4cf054d",
   "metadata": {},
   "outputs": [],
   "source": []
  }
 ],
 "metadata": {
  "kernelspec": {
   "display_name": "Python 3 (ipykernel)",
   "language": "python",
   "name": "python3"
  },
  "language_info": {
   "codemirror_mode": {
    "name": "ipython",
    "version": 3
   },
   "file_extension": ".py",
   "mimetype": "text/x-python",
   "name": "python",
   "nbconvert_exporter": "python",
   "pygments_lexer": "ipython3",
   "version": "3.7.11"
  }
 },
 "nbformat": 4,
 "nbformat_minor": 5
}

{
 "cells": [
  {
   "cell_type": "code",
   "execution_count": 1,
   "id": "9c6b4d33",
   "metadata": {},
   "outputs": [],
   "source": [
    "import pandas as pd\n",
    "import torch\n",
    "import networkx as nx\n",
    "from matplotlib.pyplot import figure\n",
    "from torch_geometric.data import Dataset, Data, DataLoader\n",
    "from scipy.linalg import fractional_matrix_power\n",
    "import matplotlib.pyplot as plt\n",
    "import numpy as np\n",
    "from tqdm import tqdm\n",
    "from torch_geometric.data import InMemoryDataset\n",
    "from torch_geometric.loader import DataLoader\n",
    "from sklearn.preprocessing import LabelEncoder\n",
    "from sklearn.model_selection import train_test_split\n",
    "from sklearn.preprocessing import StandardScaler\n",
    "from datetime import date\n",
    "import time"
   ]
  },
  {
   "cell_type": "code",
   "execution_count": 2,
   "id": "22acef3d",
   "metadata": {},
   "outputs": [],
   "source": [
    "path = '../blockchain_files/3000000to3999999_BlockTransaction/'"
   ]
  },
  {
   "cell_type": "code",
   "execution_count": 3,
   "id": "229abc02",
   "metadata": {},
   "outputs": [],
   "source": [
    "df = pd.read_csv(path+'processed.csv')"
   ]
  },
  {
   "cell_type": "code",
   "execution_count": 4,
   "id": "d8a84b61",
   "metadata": {},
   "outputs": [],
   "source": [
    "tx_counts = pd.read_csv(path+'tx_counts.csv')"
   ]
  },
  {
   "cell_type": "code",
   "execution_count": 5,
   "id": "c1f4e0a1",
   "metadata": {},
   "outputs": [],
   "source": [
    "tx_labels = tx_counts[['0','1']]"
   ]
  },
  {
   "cell_type": "code",
   "execution_count": 6,
   "id": "b104821a",
   "metadata": {},
   "outputs": [],
   "source": [
    "merged_df= df.merge(tx_labels,left_on='from', right_on='1',how='left')"
   ]
  },
  {
   "cell_type": "code",
   "execution_count": 7,
   "id": "f813edb8",
   "metadata": {},
   "outputs": [],
   "source": [
    "merged_df.drop(columns=['1'],inplace=True)"
   ]
  },
  {
   "cell_type": "code",
   "execution_count": 8,
   "id": "e2a4e2f7",
   "metadata": {},
   "outputs": [
    {
     "data": {
      "text/html": [
       "<div>\n",
       "<style scoped>\n",
       "    .dataframe tbody tr th:only-of-type {\n",
       "        vertical-align: middle;\n",
       "    }\n",
       "\n",
       "    .dataframe tbody tr th {\n",
       "        vertical-align: top;\n",
       "    }\n",
       "\n",
       "    .dataframe thead th {\n",
       "        text-align: right;\n",
       "    }\n",
       "</style>\n",
       "<table border=\"1\" class=\"dataframe\">\n",
       "  <thead>\n",
       "    <tr style=\"text-align: right;\">\n",
       "      <th></th>\n",
       "      <th>timestamp</th>\n",
       "      <th>from</th>\n",
       "      <th>to</th>\n",
       "      <th>value</th>\n",
       "      <th>gasLimit</th>\n",
       "      <th>gasPrice</th>\n",
       "      <th>gasUsed</th>\n",
       "      <th>0</th>\n",
       "    </tr>\n",
       "  </thead>\n",
       "  <tbody>\n",
       "    <tr>\n",
       "      <th>0</th>\n",
       "      <td>1484475035</td>\n",
       "      <td>0x4bb96091ee9d802ed039c4d1a5f6216f90f81b01</td>\n",
       "      <td>0x56c830805669f366a7b93411588954e1e1b2aab6</td>\n",
       "      <td>4950000000000000000</td>\n",
       "      <td>39000</td>\n",
       "      <td>20000000000</td>\n",
       "      <td>21000</td>\n",
       "      <td>mining</td>\n",
       "    </tr>\n",
       "    <tr>\n",
       "      <th>1</th>\n",
       "      <td>1484475035</td>\n",
       "      <td>0xea674fdde714fd979de3edf0f56aa9716b898ec8</td>\n",
       "      <td>0xde088812a9c5005b0dc8447b37193c9e8b67a1ff</td>\n",
       "      <td>1011962068786510200</td>\n",
       "      <td>90000</td>\n",
       "      <td>20000000000</td>\n",
       "      <td>21000</td>\n",
       "      <td>mining</td>\n",
       "    </tr>\n",
       "    <tr>\n",
       "      <th>2</th>\n",
       "      <td>1484475035</td>\n",
       "      <td>0xea674fdde714fd979de3edf0f56aa9716b898ec8</td>\n",
       "      <td>0xdeb5ebe6676ddddb280ea44f284e100edb9b9d4b</td>\n",
       "      <td>1011957331582025000</td>\n",
       "      <td>90000</td>\n",
       "      <td>20000000000</td>\n",
       "      <td>21000</td>\n",
       "      <td>mining</td>\n",
       "    </tr>\n",
       "    <tr>\n",
       "      <th>3</th>\n",
       "      <td>1484475035</td>\n",
       "      <td>0xea674fdde714fd979de3edf0f56aa9716b898ec8</td>\n",
       "      <td>0xe7268aadb21f48a3b65f0880b6b9480217995979</td>\n",
       "      <td>1008362508265353200</td>\n",
       "      <td>90000</td>\n",
       "      <td>20000000000</td>\n",
       "      <td>21000</td>\n",
       "      <td>mining</td>\n",
       "    </tr>\n",
       "    <tr>\n",
       "      <th>4</th>\n",
       "      <td>1484475035</td>\n",
       "      <td>0xea674fdde714fd979de3edf0f56aa9716b898ec8</td>\n",
       "      <td>0xf8c911c68f6a6b912fe735bbd953c3379336cbf3</td>\n",
       "      <td>1016119717874404400</td>\n",
       "      <td>90000</td>\n",
       "      <td>20000000000</td>\n",
       "      <td>21000</td>\n",
       "      <td>mining</td>\n",
       "    </tr>\n",
       "  </tbody>\n",
       "</table>\n",
       "</div>"
      ],
      "text/plain": [
       "    timestamp                                        from  \\\n",
       "0  1484475035  0x4bb96091ee9d802ed039c4d1a5f6216f90f81b01   \n",
       "1  1484475035  0xea674fdde714fd979de3edf0f56aa9716b898ec8   \n",
       "2  1484475035  0xea674fdde714fd979de3edf0f56aa9716b898ec8   \n",
       "3  1484475035  0xea674fdde714fd979de3edf0f56aa9716b898ec8   \n",
       "4  1484475035  0xea674fdde714fd979de3edf0f56aa9716b898ec8   \n",
       "\n",
       "                                           to                value  gasLimit  \\\n",
       "0  0x56c830805669f366a7b93411588954e1e1b2aab6  4950000000000000000     39000   \n",
       "1  0xde088812a9c5005b0dc8447b37193c9e8b67a1ff  1011962068786510200     90000   \n",
       "2  0xdeb5ebe6676ddddb280ea44f284e100edb9b9d4b  1011957331582025000     90000   \n",
       "3  0xe7268aadb21f48a3b65f0880b6b9480217995979  1008362508265353200     90000   \n",
       "4  0xf8c911c68f6a6b912fe735bbd953c3379336cbf3  1016119717874404400     90000   \n",
       "\n",
       "      gasPrice  gasUsed       0  \n",
       "0  20000000000    21000  mining  \n",
       "1  20000000000    21000  mining  \n",
       "2  20000000000    21000  mining  \n",
       "3  20000000000    21000  mining  \n",
       "4  20000000000    21000  mining  "
      ]
     },
     "execution_count": 8,
     "metadata": {},
     "output_type": "execute_result"
    }
   ],
   "source": [
    "merged_df.head()"
   ]
  },
  {
   "cell_type": "code",
   "execution_count": 39,
   "id": "c05df6b1",
   "metadata": {},
   "outputs": [
    {
     "data": {
      "text/plain": [
       "0           4.950000\n",
       "1           1.011962\n",
       "2           1.011957\n",
       "3           1.008363\n",
       "4           1.016120\n",
       "              ...   \n",
       "12846966    0.050169\n",
       "12846967    0.050144\n",
       "12846968    0.050138\n",
       "12846969    0.050136\n",
       "12846970    0.050131\n",
       "Name: value, Length: 12846971, dtype: float64"
      ]
     },
     "execution_count": 39,
     "metadata": {},
     "output_type": "execute_result"
    }
   ],
   "source": [
    "df['value'].astype(float)/(10**18)"
   ]
  },
  {
   "cell_type": "code",
   "execution_count": 46,
   "id": "e1c7ee68",
   "metadata": {},
   "outputs": [
    {
     "data": {
      "text/plain": [
       "0           2.0\n",
       "1           2.0\n",
       "2           2.0\n",
       "3           2.0\n",
       "4           2.0\n",
       "           ... \n",
       "12846966    2.0\n",
       "12846967    2.0\n",
       "12846968    2.0\n",
       "12846969    2.0\n",
       "12846970    2.0\n",
       "Name: gasPrice, Length: 12846971, dtype: float64"
      ]
     },
     "execution_count": 46,
     "metadata": {},
     "output_type": "execute_result"
    }
   ],
   "source": [
    "df['gasPrice'].astype(float)/(10**10)"
   ]
  },
  {
   "cell_type": "code",
   "execution_count": 45,
   "id": "5d5c9c76",
   "metadata": {},
   "outputs": [
    {
     "data": {
      "text/plain": [
       "0           3.9\n",
       "1           9.0\n",
       "2           9.0\n",
       "3           9.0\n",
       "4           9.0\n",
       "           ... \n",
       "12846966    9.0\n",
       "12846967    9.0\n",
       "12846968    9.0\n",
       "12846969    9.0\n",
       "12846970    9.0\n",
       "Name: gasLimit, Length: 12846971, dtype: float64"
      ]
     },
     "execution_count": 45,
     "metadata": {},
     "output_type": "execute_result"
    }
   ],
   "source": [
    "df['gasLimit']/10000"
   ]
  },
  {
   "cell_type": "code",
   "execution_count": 48,
   "id": "61649f30",
   "metadata": {},
   "outputs": [
    {
     "data": {
      "text/plain": [
       "0           2.1\n",
       "1           2.1\n",
       "2           2.1\n",
       "3           2.1\n",
       "4           2.1\n",
       "           ... \n",
       "12846966    2.1\n",
       "12846967    2.1\n",
       "12846968    2.1\n",
       "12846969    2.1\n",
       "12846970    2.1\n",
       "Name: gasUsed, Length: 12846971, dtype: float64"
      ]
     },
     "execution_count": 48,
     "metadata": {},
     "output_type": "execute_result"
    }
   ],
   "source": [
    "df['gasUsed']/10000"
   ]
  },
  {
   "cell_type": "code",
   "execution_count": 9,
   "id": "a646cde7",
   "metadata": {},
   "outputs": [],
   "source": [
    "def receiving_transaction_graph_h4_timed(node,st_time,end_time,dataframe):\n",
    "    \n",
    "    timed_df = dataframe[dataframe['timestamp'].between(st_time,end_time)]\n",
    "    \n",
    "    neigh1 = timed_df[timed_df['to'] == node]\n",
    "    \n",
    "    neigh2 = timed_df[timed_df['to'].isin(neigh1['from'])]\n",
    "    neigh2=neigh2[neigh2['to'] != node]\n",
    "    \n",
    "    neigh3 = timed_df[timed_df['to'].isin(neigh2['from'])]\n",
    "    neigh3 = neigh3[~neigh3['to'].isin(neigh2['to'])]\n",
    "    \n",
    "    neigh4 = timed_df[timed_df['to'].isin(neigh3['from'])]\n",
    "    neigh4 = neigh4[~neigh4['to'].isin(neigh3['to'])]\n",
    "    \n",
    "    return (neigh1,neigh2,neigh3,neigh4)\n",
    "    \n",
    "    "
   ]
  },
  {
   "cell_type": "code",
   "execution_count": 10,
   "id": "3783505f",
   "metadata": {},
   "outputs": [],
   "source": [
    "def send_extract_graph_h4_timed(node,st_time,end_time,dataframe):\n",
    "    \n",
    "    timed_df = dataframe[dataframe['timestamp'].between(st_time,end_time)]\n",
    "    \n",
    "    neigh1 = timed_df[timed_df['from'] == node]\n",
    "    \n",
    "    neigh2 = timed_df[timed_df['from'].isin(neigh1['to'])]\n",
    "    neigh2=neigh2[neigh2['from'] != node]\n",
    "    \n",
    "    neigh3 = timed_df[timed_df['from'].isin(neigh2['to'])]\n",
    "    neigh3 = neigh3[~neigh3['from'].isin(neigh2['from'])]\n",
    "    \n",
    "    neigh4 = timed_df[timed_df['from'].isin(neigh3['to'])]\n",
    "    neigh4 = neigh4[~neigh4['from'].isin(neigh3['from'])]\n",
    "    \n",
    "    return (neigh1,neigh2,neigh3,neigh4)\n",
    "    \n",
    "    \n"
   ]
  },
  {
   "cell_type": "code",
   "execution_count": 11,
   "id": "5b73c40b",
   "metadata": {},
   "outputs": [],
   "source": [
    "st_time = 1484475035\n",
    "duration = 700000\n",
    "end_time = st_time+duration\n",
    "addr = '0xea674fdde714fd979de3edf0f56aa9716b898ec8'\n",
    "(neigh1,neigh2,neigh3,neigh4)=send_extract_graph_h4_timed(addr,st_time,end_time,df)"
   ]
  },
  {
   "cell_type": "code",
   "execution_count": 12,
   "id": "913a8627",
   "metadata": {},
   "outputs": [
    {
     "data": {
      "text/plain": [
       "(39427, 7)"
      ]
     },
     "execution_count": 12,
     "metadata": {},
     "output_type": "execute_result"
    }
   ],
   "source": [
    "neigh1.shape"
   ]
  },
  {
   "cell_type": "code",
   "execution_count": 14,
   "id": "adaa95b6",
   "metadata": {},
   "outputs": [
    {
     "data": {
      "text/html": [
       "<div>\n",
       "<style scoped>\n",
       "    .dataframe tbody tr th:only-of-type {\n",
       "        vertical-align: middle;\n",
       "    }\n",
       "\n",
       "    .dataframe tbody tr th {\n",
       "        vertical-align: top;\n",
       "    }\n",
       "\n",
       "    .dataframe thead th {\n",
       "        text-align: right;\n",
       "    }\n",
       "</style>\n",
       "<table border=\"1\" class=\"dataframe\">\n",
       "  <thead>\n",
       "    <tr style=\"text-align: right;\">\n",
       "      <th></th>\n",
       "      <th>timestamp</th>\n",
       "      <th>from</th>\n",
       "      <th>to</th>\n",
       "      <th>value</th>\n",
       "      <th>gasLimit</th>\n",
       "      <th>gasPrice</th>\n",
       "      <th>gasUsed</th>\n",
       "    </tr>\n",
       "  </thead>\n",
       "  <tbody>\n",
       "    <tr>\n",
       "      <th>7</th>\n",
       "      <td>1484475096</td>\n",
       "      <td>0xca3de95c2b3fcb03f0559c338bfea9cf843fcbbb</td>\n",
       "      <td>0x26054a924a3591f28bdd474521946fc19f5832b1</td>\n",
       "      <td>1036595029016571800</td>\n",
       "      <td>21000</td>\n",
       "      <td>20000000000</td>\n",
       "      <td>21000</td>\n",
       "    </tr>\n",
       "    <tr>\n",
       "      <th>23</th>\n",
       "      <td>1484475182</td>\n",
       "      <td>0x95c0663312c9357270039b8a827e7f4de46edbb9</td>\n",
       "      <td>0x91337a300e0361bddb2e377dd4e88ccb7796663d</td>\n",
       "      <td>999672640000000000</td>\n",
       "      <td>21000</td>\n",
       "      <td>20000000000</td>\n",
       "      <td>21000</td>\n",
       "    </tr>\n",
       "    <tr>\n",
       "      <th>33</th>\n",
       "      <td>1484475188</td>\n",
       "      <td>0xf8c911c68f6a6b912fe735bbd953c3379336cbf3</td>\n",
       "      <td>0x91337a300e0361bddb2e377dd4e88ccb7796663d</td>\n",
       "      <td>1015699720000000000</td>\n",
       "      <td>21000</td>\n",
       "      <td>20000000000</td>\n",
       "      <td>21000</td>\n",
       "    </tr>\n",
       "    <tr>\n",
       "      <th>36</th>\n",
       "      <td>1484475230</td>\n",
       "      <td>0x32f0bbcc1cf12b57afe38bfcd4599f786fa77d10</td>\n",
       "      <td>0x9c67e141c0472115aa1b98bd0088418be68fd249</td>\n",
       "      <td>93884158663403030</td>\n",
       "      <td>21147</td>\n",
       "      <td>61000000001</td>\n",
       "      <td>21000</td>\n",
       "    </tr>\n",
       "    <tr>\n",
       "      <th>38</th>\n",
       "      <td>1484475230</td>\n",
       "      <td>0x91ff48c7b28c14708f10405e1c5abc4eb417269c</td>\n",
       "      <td>0xebc7a4c0e432e9632fb1ff4d4e2d31055e0de75a</td>\n",
       "      <td>1001797325872912900</td>\n",
       "      <td>21000</td>\n",
       "      <td>20000000000</td>\n",
       "      <td>21000</td>\n",
       "    </tr>\n",
       "    <tr>\n",
       "      <th>...</th>\n",
       "      <td>...</td>\n",
       "      <td>...</td>\n",
       "      <td>...</td>\n",
       "      <td>...</td>\n",
       "      <td>...</td>\n",
       "      <td>...</td>\n",
       "      <td>...</td>\n",
       "    </tr>\n",
       "    <tr>\n",
       "      <th>229539</th>\n",
       "      <td>1485174547</td>\n",
       "      <td>0x7ad9956eeb0ffbfde42f9c31ae29041a1b89cf07</td>\n",
       "      <td>0x91337a300e0361bddb2e377dd4e88ccb7796663d</td>\n",
       "      <td>1013655850000000000</td>\n",
       "      <td>21000</td>\n",
       "      <td>20000000000</td>\n",
       "      <td>21000</td>\n",
       "    </tr>\n",
       "    <tr>\n",
       "      <th>229546</th>\n",
       "      <td>1485174613</td>\n",
       "      <td>0x24a071cad70a8cf8e5634b40e58daf30dc93111d</td>\n",
       "      <td>0x297bf553a281b59606b66460cea2157f97b1f335</td>\n",
       "      <td>2200000000000000000</td>\n",
       "      <td>21000</td>\n",
       "      <td>41000000000</td>\n",
       "      <td>21000</td>\n",
       "    </tr>\n",
       "    <tr>\n",
       "      <th>229556</th>\n",
       "      <td>1485174709</td>\n",
       "      <td>0xf0d97fb6e11fccdce1ade0b1b0a2964468895efb</td>\n",
       "      <td>0x91337a300e0361bddb2e377dd4e88ccb7796663d</td>\n",
       "      <td>1014108190000000000</td>\n",
       "      <td>21000</td>\n",
       "      <td>20000000000</td>\n",
       "      <td>21000</td>\n",
       "    </tr>\n",
       "    <tr>\n",
       "      <th>229595</th>\n",
       "      <td>1485174746</td>\n",
       "      <td>0x23b94ef1762445cd9b1813876145393ffeb06363</td>\n",
       "      <td>0x602441e9f0868fd9857b49b90455862e0cdb64fe</td>\n",
       "      <td>1000000000000000000</td>\n",
       "      <td>21000</td>\n",
       "      <td>41000000000</td>\n",
       "      <td>21000</td>\n",
       "    </tr>\n",
       "    <tr>\n",
       "      <th>229671</th>\n",
       "      <td>1485175025</td>\n",
       "      <td>0xca3de95c2b3fcb03f0559c338bfea9cf843fcbbb</td>\n",
       "      <td>0xcbd398cbdfceb8db93d3b85bcc430ffcf2627561</td>\n",
       "      <td>1089700766688040400</td>\n",
       "      <td>21000</td>\n",
       "      <td>20000000000</td>\n",
       "      <td>21000</td>\n",
       "    </tr>\n",
       "  </tbody>\n",
       "</table>\n",
       "<p>7468 rows × 7 columns</p>\n",
       "</div>"
      ],
      "text/plain": [
       "         timestamp                                        from  \\\n",
       "7       1484475096  0xca3de95c2b3fcb03f0559c338bfea9cf843fcbbb   \n",
       "23      1484475182  0x95c0663312c9357270039b8a827e7f4de46edbb9   \n",
       "33      1484475188  0xf8c911c68f6a6b912fe735bbd953c3379336cbf3   \n",
       "36      1484475230  0x32f0bbcc1cf12b57afe38bfcd4599f786fa77d10   \n",
       "38      1484475230  0x91ff48c7b28c14708f10405e1c5abc4eb417269c   \n",
       "...            ...                                         ...   \n",
       "229539  1485174547  0x7ad9956eeb0ffbfde42f9c31ae29041a1b89cf07   \n",
       "229546  1485174613  0x24a071cad70a8cf8e5634b40e58daf30dc93111d   \n",
       "229556  1485174709  0xf0d97fb6e11fccdce1ade0b1b0a2964468895efb   \n",
       "229595  1485174746  0x23b94ef1762445cd9b1813876145393ffeb06363   \n",
       "229671  1485175025  0xca3de95c2b3fcb03f0559c338bfea9cf843fcbbb   \n",
       "\n",
       "                                                to                value  \\\n",
       "7       0x26054a924a3591f28bdd474521946fc19f5832b1  1036595029016571800   \n",
       "23      0x91337a300e0361bddb2e377dd4e88ccb7796663d   999672640000000000   \n",
       "33      0x91337a300e0361bddb2e377dd4e88ccb7796663d  1015699720000000000   \n",
       "36      0x9c67e141c0472115aa1b98bd0088418be68fd249    93884158663403030   \n",
       "38      0xebc7a4c0e432e9632fb1ff4d4e2d31055e0de75a  1001797325872912900   \n",
       "...                                            ...                  ...   \n",
       "229539  0x91337a300e0361bddb2e377dd4e88ccb7796663d  1013655850000000000   \n",
       "229546  0x297bf553a281b59606b66460cea2157f97b1f335  2200000000000000000   \n",
       "229556  0x91337a300e0361bddb2e377dd4e88ccb7796663d  1014108190000000000   \n",
       "229595  0x602441e9f0868fd9857b49b90455862e0cdb64fe  1000000000000000000   \n",
       "229671  0xcbd398cbdfceb8db93d3b85bcc430ffcf2627561  1089700766688040400   \n",
       "\n",
       "        gasLimit     gasPrice  gasUsed  \n",
       "7          21000  20000000000    21000  \n",
       "23         21000  20000000000    21000  \n",
       "33         21000  20000000000    21000  \n",
       "36         21147  61000000001    21000  \n",
       "38         21000  20000000000    21000  \n",
       "...          ...          ...      ...  \n",
       "229539     21000  20000000000    21000  \n",
       "229546     21000  41000000000    21000  \n",
       "229556     21000  20000000000    21000  \n",
       "229595     21000  41000000000    21000  \n",
       "229671     21000  20000000000    21000  \n",
       "\n",
       "[7468 rows x 7 columns]"
      ]
     },
     "execution_count": 14,
     "metadata": {},
     "output_type": "execute_result"
    }
   ],
   "source": [
    "neigh2"
   ]
  },
  {
   "cell_type": "code",
   "execution_count": 13,
   "id": "2a9e6398",
   "metadata": {},
   "outputs": [
    {
     "data": {
      "text/plain": [
       "(2639698,)"
      ]
     },
     "execution_count": 13,
     "metadata": {},
     "output_type": "execute_result"
    }
   ],
   "source": [
    "nodes = pd.concat([df['from'],df['to']]).unique()\n",
    "nodes.shape"
   ]
  },
  {
   "cell_type": "code",
   "execution_count": 16,
   "id": "4eff2e07",
   "metadata": {},
   "outputs": [
    {
     "ename": "NameError",
     "evalue": "name 'map_id' is not defined",
     "output_type": "error",
     "traceback": [
      "\u001b[0;31m---------------------------------------------------------------------------\u001b[0m",
      "\u001b[0;31mNameError\u001b[0m                                 Traceback (most recent call last)",
      "\u001b[0;32m/tmp/ipykernel_7409/1132902730.py\u001b[0m in \u001b[0;36m<module>\u001b[0;34m\u001b[0m\n\u001b[0;32m----> 1\u001b[0;31m \u001b[0mmap_id\u001b[0m\u001b[0;34m[\u001b[0m\u001b[0maddr\u001b[0m\u001b[0;34m]\u001b[0m\u001b[0;34m\u001b[0m\u001b[0;34m\u001b[0m\u001b[0m\n\u001b[0m",
      "\u001b[0;31mNameError\u001b[0m: name 'map_id' is not defined"
     ]
    }
   ],
   "source": [
    "map_id[addr]"
   ]
  },
  {
   "cell_type": "code",
   "execution_count": 14,
   "id": "c059df8f",
   "metadata": {},
   "outputs": [],
   "source": [
    "map_id = {j:i for i,j in enumerate(nodes)}"
   ]
  },
  {
   "cell_type": "code",
   "execution_count": 15,
   "id": "6ddb7bf5",
   "metadata": {},
   "outputs": [],
   "source": [
    "df_copy = df.copy()"
   ]
  },
  {
   "cell_type": "code",
   "execution_count": 16,
   "id": "9308104d",
   "metadata": {},
   "outputs": [],
   "source": [
    "merged_df['from'] = merged_df['from'].map(map_id)"
   ]
  },
  {
   "cell_type": "code",
   "execution_count": 17,
   "id": "24689163",
   "metadata": {},
   "outputs": [],
   "source": [
    "merged_df['to'] = merged_df['to'].map(map_id)"
   ]
  },
  {
   "cell_type": "code",
   "execution_count": 18,
   "id": "98fbd660",
   "metadata": {
    "scrolled": true
   },
   "outputs": [
    {
     "data": {
      "text/html": [
       "<div>\n",
       "<style scoped>\n",
       "    .dataframe tbody tr th:only-of-type {\n",
       "        vertical-align: middle;\n",
       "    }\n",
       "\n",
       "    .dataframe tbody tr th {\n",
       "        vertical-align: top;\n",
       "    }\n",
       "\n",
       "    .dataframe thead th {\n",
       "        text-align: right;\n",
       "    }\n",
       "</style>\n",
       "<table border=\"1\" class=\"dataframe\">\n",
       "  <thead>\n",
       "    <tr style=\"text-align: right;\">\n",
       "      <th></th>\n",
       "      <th>timestamp</th>\n",
       "      <th>from</th>\n",
       "      <th>to</th>\n",
       "      <th>value</th>\n",
       "      <th>gasLimit</th>\n",
       "      <th>gasPrice</th>\n",
       "      <th>gasUsed</th>\n",
       "      <th>0</th>\n",
       "    </tr>\n",
       "  </thead>\n",
       "  <tbody>\n",
       "    <tr>\n",
       "      <th>0</th>\n",
       "      <td>1484475035</td>\n",
       "      <td>0</td>\n",
       "      <td>1890222</td>\n",
       "      <td>4950000000000000000</td>\n",
       "      <td>39000</td>\n",
       "      <td>20000000000</td>\n",
       "      <td>21000</td>\n",
       "      <td>mining</td>\n",
       "    </tr>\n",
       "    <tr>\n",
       "      <th>1</th>\n",
       "      <td>1484475035</td>\n",
       "      <td>1</td>\n",
       "      <td>1777</td>\n",
       "      <td>1011962068786510200</td>\n",
       "      <td>90000</td>\n",
       "      <td>20000000000</td>\n",
       "      <td>21000</td>\n",
       "      <td>mining</td>\n",
       "    </tr>\n",
       "    <tr>\n",
       "      <th>2</th>\n",
       "      <td>1484475035</td>\n",
       "      <td>1</td>\n",
       "      <td>20425</td>\n",
       "      <td>1011957331582025000</td>\n",
       "      <td>90000</td>\n",
       "      <td>20000000000</td>\n",
       "      <td>21000</td>\n",
       "      <td>mining</td>\n",
       "    </tr>\n",
       "    <tr>\n",
       "      <th>3</th>\n",
       "      <td>1484475035</td>\n",
       "      <td>1</td>\n",
       "      <td>1558</td>\n",
       "      <td>1008362508265353200</td>\n",
       "      <td>90000</td>\n",
       "      <td>20000000000</td>\n",
       "      <td>21000</td>\n",
       "      <td>mining</td>\n",
       "    </tr>\n",
       "    <tr>\n",
       "      <th>4</th>\n",
       "      <td>1484475035</td>\n",
       "      <td>1</td>\n",
       "      <td>15</td>\n",
       "      <td>1016119717874404400</td>\n",
       "      <td>90000</td>\n",
       "      <td>20000000000</td>\n",
       "      <td>21000</td>\n",
       "      <td>mining</td>\n",
       "    </tr>\n",
       "  </tbody>\n",
       "</table>\n",
       "</div>"
      ],
      "text/plain": [
       "    timestamp  from       to                value  gasLimit     gasPrice  \\\n",
       "0  1484475035     0  1890222  4950000000000000000     39000  20000000000   \n",
       "1  1484475035     1     1777  1011962068786510200     90000  20000000000   \n",
       "2  1484475035     1    20425  1011957331582025000     90000  20000000000   \n",
       "3  1484475035     1     1558  1008362508265353200     90000  20000000000   \n",
       "4  1484475035     1       15  1016119717874404400     90000  20000000000   \n",
       "\n",
       "   gasUsed       0  \n",
       "0    21000  mining  \n",
       "1    21000  mining  \n",
       "2    21000  mining  \n",
       "3    21000  mining  \n",
       "4    21000  mining  "
      ]
     },
     "execution_count": 18,
     "metadata": {},
     "output_type": "execute_result"
    }
   ],
   "source": [
    "merged_df.head()"
   ]
  },
  {
   "cell_type": "code",
   "execution_count": 19,
   "id": "1b711758",
   "metadata": {},
   "outputs": [],
   "source": [
    "merged_df['value'] = merged_df['value'].astype(float)/(10**18)"
   ]
  },
  {
   "cell_type": "code",
   "execution_count": 20,
   "id": "cc32d179",
   "metadata": {},
   "outputs": [],
   "source": [
    "merged_df['gasPrice'] = merged_df['gasPrice'].astype(float)/(10**10)"
   ]
  },
  {
   "cell_type": "code",
   "execution_count": 21,
   "id": "dae4b487",
   "metadata": {},
   "outputs": [],
   "source": [
    "merged_df['gasLimit'] = merged_df['gasLimit']/10000"
   ]
  },
  {
   "cell_type": "code",
   "execution_count": 22,
   "id": "4810e714",
   "metadata": {},
   "outputs": [],
   "source": [
    "merged_df['gasUsed'] = merged_df['gasUsed']/10000"
   ]
  },
  {
   "cell_type": "code",
   "execution_count": 23,
   "id": "96e931a7",
   "metadata": {},
   "outputs": [
    {
     "data": {
      "text/html": [
       "<div>\n",
       "<style scoped>\n",
       "    .dataframe tbody tr th:only-of-type {\n",
       "        vertical-align: middle;\n",
       "    }\n",
       "\n",
       "    .dataframe tbody tr th {\n",
       "        vertical-align: top;\n",
       "    }\n",
       "\n",
       "    .dataframe thead th {\n",
       "        text-align: right;\n",
       "    }\n",
       "</style>\n",
       "<table border=\"1\" class=\"dataframe\">\n",
       "  <thead>\n",
       "    <tr style=\"text-align: right;\">\n",
       "      <th></th>\n",
       "      <th>timestamp</th>\n",
       "      <th>from</th>\n",
       "      <th>to</th>\n",
       "      <th>value</th>\n",
       "      <th>gasLimit</th>\n",
       "      <th>gasPrice</th>\n",
       "      <th>gasUsed</th>\n",
       "      <th>0</th>\n",
       "    </tr>\n",
       "  </thead>\n",
       "  <tbody>\n",
       "    <tr>\n",
       "      <th>0</th>\n",
       "      <td>1484475035</td>\n",
       "      <td>0</td>\n",
       "      <td>1890222</td>\n",
       "      <td>4.950000</td>\n",
       "      <td>3.9</td>\n",
       "      <td>2.0</td>\n",
       "      <td>2.1</td>\n",
       "      <td>mining</td>\n",
       "    </tr>\n",
       "    <tr>\n",
       "      <th>1</th>\n",
       "      <td>1484475035</td>\n",
       "      <td>1</td>\n",
       "      <td>1777</td>\n",
       "      <td>1.011962</td>\n",
       "      <td>9.0</td>\n",
       "      <td>2.0</td>\n",
       "      <td>2.1</td>\n",
       "      <td>mining</td>\n",
       "    </tr>\n",
       "    <tr>\n",
       "      <th>2</th>\n",
       "      <td>1484475035</td>\n",
       "      <td>1</td>\n",
       "      <td>20425</td>\n",
       "      <td>1.011957</td>\n",
       "      <td>9.0</td>\n",
       "      <td>2.0</td>\n",
       "      <td>2.1</td>\n",
       "      <td>mining</td>\n",
       "    </tr>\n",
       "    <tr>\n",
       "      <th>3</th>\n",
       "      <td>1484475035</td>\n",
       "      <td>1</td>\n",
       "      <td>1558</td>\n",
       "      <td>1.008363</td>\n",
       "      <td>9.0</td>\n",
       "      <td>2.0</td>\n",
       "      <td>2.1</td>\n",
       "      <td>mining</td>\n",
       "    </tr>\n",
       "    <tr>\n",
       "      <th>4</th>\n",
       "      <td>1484475035</td>\n",
       "      <td>1</td>\n",
       "      <td>15</td>\n",
       "      <td>1.016120</td>\n",
       "      <td>9.0</td>\n",
       "      <td>2.0</td>\n",
       "      <td>2.1</td>\n",
       "      <td>mining</td>\n",
       "    </tr>\n",
       "  </tbody>\n",
       "</table>\n",
       "</div>"
      ],
      "text/plain": [
       "    timestamp  from       to     value  gasLimit  gasPrice  gasUsed       0\n",
       "0  1484475035     0  1890222  4.950000       3.9       2.0      2.1  mining\n",
       "1  1484475035     1     1777  1.011962       9.0       2.0      2.1  mining\n",
       "2  1484475035     1    20425  1.011957       9.0       2.0      2.1  mining\n",
       "3  1484475035     1     1558  1.008363       9.0       2.0      2.1  mining\n",
       "4  1484475035     1       15  1.016120       9.0       2.0      2.1  mining"
      ]
     },
     "execution_count": 23,
     "metadata": {},
     "output_type": "execute_result"
    }
   ],
   "source": [
    "merged_df.head()"
   ]
  },
  {
   "cell_type": "code",
   "execution_count": 18,
   "id": "d68b4de3",
   "metadata": {},
   "outputs": [
    {
     "name": "stdout",
     "output_type": "stream",
     "text": [
      "3000000to3999999_BlockTransaction.csv  processed.csv  time.csv\r\n",
      "extracted_labels.csv\t\t       readme.txt     tx_counts.csv\r\n"
     ]
    }
   ],
   "source": [
    "!ls ../3000000to3999999_BlockTransaction"
   ]
  },
  {
   "cell_type": "code",
   "execution_count": 27,
   "id": "60235f2c",
   "metadata": {},
   "outputs": [],
   "source": [
    "tx_counts = pd.read_csv(path+'tx_counts.csv')"
   ]
  },
  {
   "cell_type": "code",
   "execution_count": 28,
   "id": "bb8d0845",
   "metadata": {
    "scrolled": true
   },
   "outputs": [
    {
     "data": {
      "text/html": [
       "<div>\n",
       "<style scoped>\n",
       "    .dataframe tbody tr th:only-of-type {\n",
       "        vertical-align: middle;\n",
       "    }\n",
       "\n",
       "    .dataframe tbody tr th {\n",
       "        vertical-align: top;\n",
       "    }\n",
       "\n",
       "    .dataframe thead th {\n",
       "        text-align: right;\n",
       "    }\n",
       "</style>\n",
       "<table border=\"1\" class=\"dataframe\">\n",
       "  <thead>\n",
       "    <tr style=\"text-align: right;\">\n",
       "      <th></th>\n",
       "      <th>0</th>\n",
       "      <th>1</th>\n",
       "      <th>tx_sent</th>\n",
       "      <th>tx_rec</th>\n",
       "    </tr>\n",
       "  </thead>\n",
       "  <tbody>\n",
       "    <tr>\n",
       "      <th>0</th>\n",
       "      <td>compromised</td>\n",
       "      <td>0x027beefcbad782faf69fad12dee97ed894c68549</td>\n",
       "      <td>11503.0</td>\n",
       "      <td>1160.0</td>\n",
       "    </tr>\n",
       "    <tr>\n",
       "      <th>1</th>\n",
       "      <td>compromised</td>\n",
       "      <td>0xb6aac3b56ff818496b747ea57fcbe42a9aae6218</td>\n",
       "      <td>11515.0</td>\n",
       "      <td>11573.0</td>\n",
       "    </tr>\n",
       "    <tr>\n",
       "      <th>2</th>\n",
       "      <td>compromised</td>\n",
       "      <td>0x0ee4e2d09aec35bdf08083b649033ac0a41aa75e</td>\n",
       "      <td>1919.0</td>\n",
       "      <td>33.0</td>\n",
       "    </tr>\n",
       "    <tr>\n",
       "      <th>3</th>\n",
       "      <td>exchange</td>\n",
       "      <td>0x1151314c646ce4e0efd76d1af4760ae66a9fe30f</td>\n",
       "      <td>49646.0</td>\n",
       "      <td>3.0</td>\n",
       "    </tr>\n",
       "    <tr>\n",
       "      <th>4</th>\n",
       "      <td>exchange</td>\n",
       "      <td>0xfbb1b73c4f0bda4f67dca266ce6ef42f520fbb98</td>\n",
       "      <td>156152.0</td>\n",
       "      <td>371.0</td>\n",
       "    </tr>\n",
       "    <tr>\n",
       "      <th>5</th>\n",
       "      <td>exchange</td>\n",
       "      <td>0x007174732705604bbbf77038332dc52fd5a5000c</td>\n",
       "      <td>1187.0</td>\n",
       "      <td>3962.0</td>\n",
       "    </tr>\n",
       "    <tr>\n",
       "      <th>6</th>\n",
       "      <td>exchange</td>\n",
       "      <td>0xd7c866d0d536937bf9123e02f7c052446588189f</td>\n",
       "      <td>232.0</td>\n",
       "      <td>124.0</td>\n",
       "    </tr>\n",
       "    <tr>\n",
       "      <th>7</th>\n",
       "      <td>exchange</td>\n",
       "      <td>0x96fc4553a00c117c5b0bed950dd625d1c16dc894</td>\n",
       "      <td>46548.0</td>\n",
       "      <td>50585.0</td>\n",
       "    </tr>\n",
       "    <tr>\n",
       "      <th>8</th>\n",
       "      <td>exchange</td>\n",
       "      <td>0x4b01721f0244e7c5b5f63c20942850e447f5a5ee</td>\n",
       "      <td>846.0</td>\n",
       "      <td>652.0</td>\n",
       "    </tr>\n",
       "    <tr>\n",
       "      <th>9</th>\n",
       "      <td>exchange</td>\n",
       "      <td>0x167a9333bf582556f35bd4d16a7e80e191aa6476</td>\n",
       "      <td>39272.0</td>\n",
       "      <td>11.0</td>\n",
       "    </tr>\n",
       "    <tr>\n",
       "      <th>10</th>\n",
       "      <td>exchange</td>\n",
       "      <td>0x0d6b5a54f940bf3d52e438cab785981aaefdf40c</td>\n",
       "      <td>53.0</td>\n",
       "      <td>124.0</td>\n",
       "    </tr>\n",
       "    <tr>\n",
       "      <th>11</th>\n",
       "      <td>exchange</td>\n",
       "      <td>0x5baeac0a0417a05733884852aa068b706967e790</td>\n",
       "      <td>625.0</td>\n",
       "      <td>705.0</td>\n",
       "    </tr>\n",
       "    <tr>\n",
       "      <th>12</th>\n",
       "      <td>exchange</td>\n",
       "      <td>0x2984581ece53a4390d1f568673cf693139c97049</td>\n",
       "      <td>3491.0</td>\n",
       "      <td>132.0</td>\n",
       "    </tr>\n",
       "    <tr>\n",
       "      <th>13</th>\n",
       "      <td>exchange</td>\n",
       "      <td>0x1fd6267f0d86f62d88172b998390afee2a1f54b6</td>\n",
       "      <td>13868.0</td>\n",
       "      <td>193.0</td>\n",
       "    </tr>\n",
       "    <tr>\n",
       "      <th>14</th>\n",
       "      <td>exchange</td>\n",
       "      <td>0xd24400ae8bfebb18ca49be86258a3c749cf46853</td>\n",
       "      <td>40116.0</td>\n",
       "      <td>5.0</td>\n",
       "    </tr>\n",
       "    <tr>\n",
       "      <th>15</th>\n",
       "      <td>exchange</td>\n",
       "      <td>0x9c67e141c0472115aa1b98bd0088418be68fd249</td>\n",
       "      <td>12909.0</td>\n",
       "      <td>33554.0</td>\n",
       "    </tr>\n",
       "    <tr>\n",
       "      <th>16</th>\n",
       "      <td>exchange</td>\n",
       "      <td>0xab5c66752a9e8167967685f1450532fb96d5d24f</td>\n",
       "      <td>8639.0</td>\n",
       "      <td>1105.0</td>\n",
       "    </tr>\n",
       "    <tr>\n",
       "      <th>21</th>\n",
       "      <td>exchange</td>\n",
       "      <td>0xfdb16996831753d5331ff813c29a93c76834a0ad</td>\n",
       "      <td>14.0</td>\n",
       "      <td>1312.0</td>\n",
       "    </tr>\n",
       "    <tr>\n",
       "      <th>22</th>\n",
       "      <td>exchange</td>\n",
       "      <td>0xeee28d484628d41a82d01e21d12e2e78d69920da</td>\n",
       "      <td>8013.0</td>\n",
       "      <td>3118.0</td>\n",
       "    </tr>\n",
       "    <tr>\n",
       "      <th>25</th>\n",
       "      <td>exchange</td>\n",
       "      <td>0xadb2b42f6bd96f5c65920b9ac88619dce4166f94</td>\n",
       "      <td>3014.0</td>\n",
       "      <td>1685.0</td>\n",
       "    </tr>\n",
       "    <tr>\n",
       "      <th>26</th>\n",
       "      <td>exchange</td>\n",
       "      <td>0x1062a747393198f70f71ec65a582423dba7e5ab3</td>\n",
       "      <td>29.0</td>\n",
       "      <td>1280.0</td>\n",
       "    </tr>\n",
       "    <tr>\n",
       "      <th>27</th>\n",
       "      <td>exchange</td>\n",
       "      <td>0x51836a753e344257b361519e948ffcaf5fb8d521</td>\n",
       "      <td>4687.0</td>\n",
       "      <td>6.0</td>\n",
       "    </tr>\n",
       "    <tr>\n",
       "      <th>29</th>\n",
       "      <td>exchange</td>\n",
       "      <td>0xe853c56864a2ebe4576a807d26fdc4a0ada51919</td>\n",
       "      <td>19.0</td>\n",
       "      <td>2.0</td>\n",
       "    </tr>\n",
       "    <tr>\n",
       "      <th>30</th>\n",
       "      <td>exchange</td>\n",
       "      <td>0x267be1c1d684f78cb4f6a176c4911b741e4ffdc0</td>\n",
       "      <td>151920.0</td>\n",
       "      <td>30.0</td>\n",
       "    </tr>\n",
       "    <tr>\n",
       "      <th>31</th>\n",
       "      <td>exchange</td>\n",
       "      <td>0x8271b2e8cbe29396e9563229030c89679b9470db</td>\n",
       "      <td>16754.0</td>\n",
       "      <td>30855.0</td>\n",
       "    </tr>\n",
       "    <tr>\n",
       "      <th>32</th>\n",
       "      <td>exchange</td>\n",
       "      <td>0x5e575279bf9f4acf0a130c186861454247394c06</td>\n",
       "      <td>10184.0</td>\n",
       "      <td>2470.0</td>\n",
       "    </tr>\n",
       "    <tr>\n",
       "      <th>33</th>\n",
       "      <td>exchange</td>\n",
       "      <td>0x236f9f97e0e62388479bf9e5ba4889e46b0273c3</td>\n",
       "      <td>2427.0</td>\n",
       "      <td>1099.0</td>\n",
       "    </tr>\n",
       "    <tr>\n",
       "      <th>34</th>\n",
       "      <td>exchange</td>\n",
       "      <td>0x32be343b94f860124dc4fee278fdcbd38c102d88</td>\n",
       "      <td>356383.0</td>\n",
       "      <td>27.0</td>\n",
       "    </tr>\n",
       "    <tr>\n",
       "      <th>36</th>\n",
       "      <td>exchange</td>\n",
       "      <td>0xab11204cfeaccffa63c2d23aef2ea9accdb0a0d5</td>\n",
       "      <td>18.0</td>\n",
       "      <td>3.0</td>\n",
       "    </tr>\n",
       "    <tr>\n",
       "      <th>38</th>\n",
       "      <td>exchange</td>\n",
       "      <td>0x70faa28a6b8d6829a4b1e649d26ec9a2a39ba413</td>\n",
       "      <td>216093.0</td>\n",
       "      <td>280495.0</td>\n",
       "    </tr>\n",
       "    <tr>\n",
       "      <th>39</th>\n",
       "      <td>exchange</td>\n",
       "      <td>0x563b377a956c80d77a7c613a9343699ad6123911</td>\n",
       "      <td>22724.0</td>\n",
       "      <td>254.0</td>\n",
       "    </tr>\n",
       "    <tr>\n",
       "      <th>40</th>\n",
       "      <td>exchange</td>\n",
       "      <td>0xd3273eba07248020bf98a8b560ec1576a612102f</td>\n",
       "      <td>7202.0</td>\n",
       "      <td>69.0</td>\n",
       "    </tr>\n",
       "    <tr>\n",
       "      <th>41</th>\n",
       "      <td>exchange</td>\n",
       "      <td>0x3b0bc51ab9de1e5b7b6e34e5b960285805c41736</td>\n",
       "      <td>6664.0</td>\n",
       "      <td>61.0</td>\n",
       "    </tr>\n",
       "    <tr>\n",
       "      <th>42</th>\n",
       "      <td>exchange</td>\n",
       "      <td>0xeed16856d551569d134530ee3967ec79995e2051</td>\n",
       "      <td>22995.0</td>\n",
       "      <td>256.0</td>\n",
       "    </tr>\n",
       "    <tr>\n",
       "      <th>43</th>\n",
       "      <td>exchange</td>\n",
       "      <td>0x3613ef1125a078ef96ffc898c4ec28d73c5b8c52</td>\n",
       "      <td>341.0</td>\n",
       "      <td>336.0</td>\n",
       "    </tr>\n",
       "    <tr>\n",
       "      <th>44</th>\n",
       "      <td>exchange</td>\n",
       "      <td>0x0a73573cf2903d2d8305b1ecb9e9730186a312ae</td>\n",
       "      <td>420.0</td>\n",
       "      <td>2.0</td>\n",
       "    </tr>\n",
       "    <tr>\n",
       "      <th>45</th>\n",
       "      <td>exchange</td>\n",
       "      <td>0xd94c9ff168dc6aebf9b6cc86deff54f3fb0afc33</td>\n",
       "      <td>107480.0</td>\n",
       "      <td>274.0</td>\n",
       "    </tr>\n",
       "    <tr>\n",
       "      <th>46</th>\n",
       "      <td>exchange</td>\n",
       "      <td>0x42da8a05cb7ed9a43572b5ba1b8f82a0a6e263dc</td>\n",
       "      <td>131.0</td>\n",
       "      <td>0.0</td>\n",
       "    </tr>\n",
       "    <tr>\n",
       "      <th>48</th>\n",
       "      <td>gambling</td>\n",
       "      <td>0x777f415324d56e1d54fa832902d8797db7a4c57c</td>\n",
       "      <td>823.0</td>\n",
       "      <td>902.0</td>\n",
       "    </tr>\n",
       "    <tr>\n",
       "      <th>49</th>\n",
       "      <td>isowallet</td>\n",
       "      <td>0xa2c9a7578e2172f32a36c5c0e49d64776f9e7883</td>\n",
       "      <td>61.0</td>\n",
       "      <td>2418.0</td>\n",
       "    </tr>\n",
       "    <tr>\n",
       "      <th>50</th>\n",
       "      <td>isowallet</td>\n",
       "      <td>0xe76fe52a251c8f3a5dcd657e47a6c8d16fdf4bfa</td>\n",
       "      <td>51.0</td>\n",
       "      <td>6.0</td>\n",
       "    </tr>\n",
       "    <tr>\n",
       "      <th>52</th>\n",
       "      <td>isowallet</td>\n",
       "      <td>0x15c19e6c203e2c34d1edfb26626bfc4f65ef96f0</td>\n",
       "      <td>14.0</td>\n",
       "      <td>2.0</td>\n",
       "    </tr>\n",
       "    <tr>\n",
       "      <th>55</th>\n",
       "      <td>mining</td>\n",
       "      <td>0xa42af2c70d316684e57aefcc6e393fecb1c7e84e</td>\n",
       "      <td>148831.0</td>\n",
       "      <td>6.0</td>\n",
       "    </tr>\n",
       "    <tr>\n",
       "      <th>56</th>\n",
       "      <td>mining</td>\n",
       "      <td>0x2a65aca4d5fc5b5c859090a6c34d164135398226</td>\n",
       "      <td>575304.0</td>\n",
       "      <td>3.0</td>\n",
       "    </tr>\n",
       "    <tr>\n",
       "      <th>57</th>\n",
       "      <td>mining</td>\n",
       "      <td>0xa027231f42c80ca4125b5cb962a21cd4f812e88f</td>\n",
       "      <td>10059.0</td>\n",
       "      <td>0.0</td>\n",
       "    </tr>\n",
       "    <tr>\n",
       "      <th>58</th>\n",
       "      <td>mining</td>\n",
       "      <td>0xea674fdde714fd979de3edf0f56aa9716b898ec8</td>\n",
       "      <td>1243235.0</td>\n",
       "      <td>6.0</td>\n",
       "    </tr>\n",
       "    <tr>\n",
       "      <th>59</th>\n",
       "      <td>mining</td>\n",
       "      <td>0x4bb96091ee9d802ed039c4d1a5f6216f90f81b01</td>\n",
       "      <td>48711.0</td>\n",
       "      <td>6.0</td>\n",
       "    </tr>\n",
       "    <tr>\n",
       "      <th>60</th>\n",
       "      <td>mining</td>\n",
       "      <td>0xd34da389374caad1a048fbdc4569aae33fd5a375</td>\n",
       "      <td>257368.0</td>\n",
       "      <td>464.0</td>\n",
       "    </tr>\n",
       "    <tr>\n",
       "      <th>61</th>\n",
       "      <td>mining</td>\n",
       "      <td>0x52bc44d5378309ee2abf1539bf71de1b7d7be3b5</td>\n",
       "      <td>1064850.0</td>\n",
       "      <td>24.0</td>\n",
       "    </tr>\n",
       "    <tr>\n",
       "      <th>62</th>\n",
       "      <td>mining</td>\n",
       "      <td>0x9435d50503aee35c8757ae4933f7a0ab56597805</td>\n",
       "      <td>9970.0</td>\n",
       "      <td>6.0</td>\n",
       "    </tr>\n",
       "    <tr>\n",
       "      <th>65</th>\n",
       "      <td>phish_hack</td>\n",
       "      <td>0x21f74c6bbc1e3ab9f0205e12de3a9daa14351aed</td>\n",
       "      <td>121.0</td>\n",
       "      <td>78.0</td>\n",
       "    </tr>\n",
       "    <tr>\n",
       "      <th>66</th>\n",
       "      <td>phish_hack</td>\n",
       "      <td>0x9af3bf0b0a117d3fbfb37dfc7fa67f9a645488fc</td>\n",
       "      <td>17.0</td>\n",
       "      <td>33.0</td>\n",
       "    </tr>\n",
       "    <tr>\n",
       "      <th>67</th>\n",
       "      <td>walletapp</td>\n",
       "      <td>0x7ed1e469fcb3ee19c0366d829e291451be638e59</td>\n",
       "      <td>52765.0</td>\n",
       "      <td>124255.0</td>\n",
       "    </tr>\n",
       "    <tr>\n",
       "      <th>68</th>\n",
       "      <td>exchange</td>\n",
       "      <td>0x001866ae5b3de6caa5a51543fd9fb64f524f5478</td>\n",
       "      <td>104.0</td>\n",
       "      <td>3.0</td>\n",
       "    </tr>\n",
       "    <tr>\n",
       "      <th>69</th>\n",
       "      <td>exchange</td>\n",
       "      <td>0xfb9f7f41319157ac5c5dccae308a63a4337ad5d9</td>\n",
       "      <td>3274.0</td>\n",
       "      <td>3389.0</td>\n",
       "    </tr>\n",
       "    <tr>\n",
       "      <th>70</th>\n",
       "      <td>exchange</td>\n",
       "      <td>0x94fe3ad91dacba8ec4b82f56ff7c122181f1535d</td>\n",
       "      <td>29.0</td>\n",
       "      <td>26.0</td>\n",
       "    </tr>\n",
       "    <tr>\n",
       "      <th>71</th>\n",
       "      <td>exchange</td>\n",
       "      <td>0x243bec9256c9a3469da22103891465b47583d9f1</td>\n",
       "      <td>746.0</td>\n",
       "      <td>1180.0</td>\n",
       "    </tr>\n",
       "    <tr>\n",
       "      <th>75</th>\n",
       "      <td>mining</td>\n",
       "      <td>0x829bd824b016326a401d083b33d092293333a830</td>\n",
       "      <td>141659.0</td>\n",
       "      <td>11.0</td>\n",
       "    </tr>\n",
       "    <tr>\n",
       "      <th>76</th>\n",
       "      <td>phish_hack</td>\n",
       "      <td>0x6f931bac260e7fcbaa0244d3b43a2bd9e9acf698</td>\n",
       "      <td>18.0</td>\n",
       "      <td>2.0</td>\n",
       "    </tr>\n",
       "    <tr>\n",
       "      <th>78</th>\n",
       "      <td>phish_hack</td>\n",
       "      <td>0xc57f1148855e67763a694f7f2c0e68230adc686e</td>\n",
       "      <td>12.0</td>\n",
       "      <td>21.0</td>\n",
       "    </tr>\n",
       "  </tbody>\n",
       "</table>\n",
       "</div>"
      ],
      "text/plain": [
       "              0                                           1    tx_sent  \\\n",
       "0   compromised  0x027beefcbad782faf69fad12dee97ed894c68549    11503.0   \n",
       "1   compromised  0xb6aac3b56ff818496b747ea57fcbe42a9aae6218    11515.0   \n",
       "2   compromised  0x0ee4e2d09aec35bdf08083b649033ac0a41aa75e     1919.0   \n",
       "3      exchange  0x1151314c646ce4e0efd76d1af4760ae66a9fe30f    49646.0   \n",
       "4      exchange  0xfbb1b73c4f0bda4f67dca266ce6ef42f520fbb98   156152.0   \n",
       "5      exchange  0x007174732705604bbbf77038332dc52fd5a5000c     1187.0   \n",
       "6      exchange  0xd7c866d0d536937bf9123e02f7c052446588189f      232.0   \n",
       "7      exchange  0x96fc4553a00c117c5b0bed950dd625d1c16dc894    46548.0   \n",
       "8      exchange  0x4b01721f0244e7c5b5f63c20942850e447f5a5ee      846.0   \n",
       "9      exchange  0x167a9333bf582556f35bd4d16a7e80e191aa6476    39272.0   \n",
       "10     exchange  0x0d6b5a54f940bf3d52e438cab785981aaefdf40c       53.0   \n",
       "11     exchange  0x5baeac0a0417a05733884852aa068b706967e790      625.0   \n",
       "12     exchange  0x2984581ece53a4390d1f568673cf693139c97049     3491.0   \n",
       "13     exchange  0x1fd6267f0d86f62d88172b998390afee2a1f54b6    13868.0   \n",
       "14     exchange  0xd24400ae8bfebb18ca49be86258a3c749cf46853    40116.0   \n",
       "15     exchange  0x9c67e141c0472115aa1b98bd0088418be68fd249    12909.0   \n",
       "16     exchange  0xab5c66752a9e8167967685f1450532fb96d5d24f     8639.0   \n",
       "21     exchange  0xfdb16996831753d5331ff813c29a93c76834a0ad       14.0   \n",
       "22     exchange  0xeee28d484628d41a82d01e21d12e2e78d69920da     8013.0   \n",
       "25     exchange  0xadb2b42f6bd96f5c65920b9ac88619dce4166f94     3014.0   \n",
       "26     exchange  0x1062a747393198f70f71ec65a582423dba7e5ab3       29.0   \n",
       "27     exchange  0x51836a753e344257b361519e948ffcaf5fb8d521     4687.0   \n",
       "29     exchange  0xe853c56864a2ebe4576a807d26fdc4a0ada51919       19.0   \n",
       "30     exchange  0x267be1c1d684f78cb4f6a176c4911b741e4ffdc0   151920.0   \n",
       "31     exchange  0x8271b2e8cbe29396e9563229030c89679b9470db    16754.0   \n",
       "32     exchange  0x5e575279bf9f4acf0a130c186861454247394c06    10184.0   \n",
       "33     exchange  0x236f9f97e0e62388479bf9e5ba4889e46b0273c3     2427.0   \n",
       "34     exchange  0x32be343b94f860124dc4fee278fdcbd38c102d88   356383.0   \n",
       "36     exchange  0xab11204cfeaccffa63c2d23aef2ea9accdb0a0d5       18.0   \n",
       "38     exchange  0x70faa28a6b8d6829a4b1e649d26ec9a2a39ba413   216093.0   \n",
       "39     exchange  0x563b377a956c80d77a7c613a9343699ad6123911    22724.0   \n",
       "40     exchange  0xd3273eba07248020bf98a8b560ec1576a612102f     7202.0   \n",
       "41     exchange  0x3b0bc51ab9de1e5b7b6e34e5b960285805c41736     6664.0   \n",
       "42     exchange  0xeed16856d551569d134530ee3967ec79995e2051    22995.0   \n",
       "43     exchange  0x3613ef1125a078ef96ffc898c4ec28d73c5b8c52      341.0   \n",
       "44     exchange  0x0a73573cf2903d2d8305b1ecb9e9730186a312ae      420.0   \n",
       "45     exchange  0xd94c9ff168dc6aebf9b6cc86deff54f3fb0afc33   107480.0   \n",
       "46     exchange  0x42da8a05cb7ed9a43572b5ba1b8f82a0a6e263dc      131.0   \n",
       "48     gambling  0x777f415324d56e1d54fa832902d8797db7a4c57c      823.0   \n",
       "49    isowallet  0xa2c9a7578e2172f32a36c5c0e49d64776f9e7883       61.0   \n",
       "50    isowallet  0xe76fe52a251c8f3a5dcd657e47a6c8d16fdf4bfa       51.0   \n",
       "52    isowallet  0x15c19e6c203e2c34d1edfb26626bfc4f65ef96f0       14.0   \n",
       "55       mining  0xa42af2c70d316684e57aefcc6e393fecb1c7e84e   148831.0   \n",
       "56       mining  0x2a65aca4d5fc5b5c859090a6c34d164135398226   575304.0   \n",
       "57       mining  0xa027231f42c80ca4125b5cb962a21cd4f812e88f    10059.0   \n",
       "58       mining  0xea674fdde714fd979de3edf0f56aa9716b898ec8  1243235.0   \n",
       "59       mining  0x4bb96091ee9d802ed039c4d1a5f6216f90f81b01    48711.0   \n",
       "60       mining  0xd34da389374caad1a048fbdc4569aae33fd5a375   257368.0   \n",
       "61       mining  0x52bc44d5378309ee2abf1539bf71de1b7d7be3b5  1064850.0   \n",
       "62       mining  0x9435d50503aee35c8757ae4933f7a0ab56597805     9970.0   \n",
       "65   phish_hack  0x21f74c6bbc1e3ab9f0205e12de3a9daa14351aed      121.0   \n",
       "66   phish_hack  0x9af3bf0b0a117d3fbfb37dfc7fa67f9a645488fc       17.0   \n",
       "67    walletapp  0x7ed1e469fcb3ee19c0366d829e291451be638e59    52765.0   \n",
       "68     exchange  0x001866ae5b3de6caa5a51543fd9fb64f524f5478      104.0   \n",
       "69     exchange  0xfb9f7f41319157ac5c5dccae308a63a4337ad5d9     3274.0   \n",
       "70     exchange  0x94fe3ad91dacba8ec4b82f56ff7c122181f1535d       29.0   \n",
       "71     exchange  0x243bec9256c9a3469da22103891465b47583d9f1      746.0   \n",
       "75       mining  0x829bd824b016326a401d083b33d092293333a830   141659.0   \n",
       "76   phish_hack  0x6f931bac260e7fcbaa0244d3b43a2bd9e9acf698       18.0   \n",
       "78   phish_hack  0xc57f1148855e67763a694f7f2c0e68230adc686e       12.0   \n",
       "\n",
       "      tx_rec  \n",
       "0     1160.0  \n",
       "1    11573.0  \n",
       "2       33.0  \n",
       "3        3.0  \n",
       "4      371.0  \n",
       "5     3962.0  \n",
       "6      124.0  \n",
       "7    50585.0  \n",
       "8      652.0  \n",
       "9       11.0  \n",
       "10     124.0  \n",
       "11     705.0  \n",
       "12     132.0  \n",
       "13     193.0  \n",
       "14       5.0  \n",
       "15   33554.0  \n",
       "16    1105.0  \n",
       "21    1312.0  \n",
       "22    3118.0  \n",
       "25    1685.0  \n",
       "26    1280.0  \n",
       "27       6.0  \n",
       "29       2.0  \n",
       "30      30.0  \n",
       "31   30855.0  \n",
       "32    2470.0  \n",
       "33    1099.0  \n",
       "34      27.0  \n",
       "36       3.0  \n",
       "38  280495.0  \n",
       "39     254.0  \n",
       "40      69.0  \n",
       "41      61.0  \n",
       "42     256.0  \n",
       "43     336.0  \n",
       "44       2.0  \n",
       "45     274.0  \n",
       "46       0.0  \n",
       "48     902.0  \n",
       "49    2418.0  \n",
       "50       6.0  \n",
       "52       2.0  \n",
       "55       6.0  \n",
       "56       3.0  \n",
       "57       0.0  \n",
       "58       6.0  \n",
       "59       6.0  \n",
       "60     464.0  \n",
       "61      24.0  \n",
       "62       6.0  \n",
       "65      78.0  \n",
       "66      33.0  \n",
       "67  124255.0  \n",
       "68       3.0  \n",
       "69    3389.0  \n",
       "70      26.0  \n",
       "71    1180.0  \n",
       "75      11.0  \n",
       "76       2.0  \n",
       "78      21.0  "
      ]
     },
     "execution_count": 28,
     "metadata": {},
     "output_type": "execute_result"
    }
   ],
   "source": [
    "tx_counts[tx_counts['tx_sent']>10]"
   ]
  },
  {
   "cell_type": "code",
   "execution_count": 24,
   "id": "0bd5eb0b",
   "metadata": {},
   "outputs": [],
   "source": [
    "st_time = 1484475035\n",
    "duration = 700000\n",
    "end_time = st_time+duration\n",
    "addr = 1\n",
    "(neigh1,neigh2,neigh3,neigh4)=send_extract_graph_h4_timed(addr,st_time,end_time,df_copy)"
   ]
  },
  {
   "cell_type": "code",
   "execution_count": 25,
   "id": "c5e5515e",
   "metadata": {},
   "outputs": [
    {
     "data": {
      "text/plain": [
       "(0, 7)"
      ]
     },
     "execution_count": 25,
     "metadata": {},
     "output_type": "execute_result"
    }
   ],
   "source": [
    "neigh2.shape"
   ]
  },
  {
   "cell_type": "code",
   "execution_count": 33,
   "id": "ba459a29",
   "metadata": {},
   "outputs": [
    {
     "name": "stdout",
     "output_type": "stream",
     "text": [
      "2017-01-15\n",
      "2017-01-23\n"
     ]
    }
   ],
   "source": [
    "print(date.fromtimestamp(st_time))\n",
    "print(date.fromtimestamp(end_time))\n"
   ]
  },
  {
   "cell_type": "code",
   "execution_count": 34,
   "id": "80c29f4f",
   "metadata": {},
   "outputs": [
    {
     "data": {
      "text/html": [
       "<div>\n",
       "<style scoped>\n",
       "    .dataframe tbody tr th:only-of-type {\n",
       "        vertical-align: middle;\n",
       "    }\n",
       "\n",
       "    .dataframe tbody tr th {\n",
       "        vertical-align: top;\n",
       "    }\n",
       "\n",
       "    .dataframe thead th {\n",
       "        text-align: right;\n",
       "    }\n",
       "</style>\n",
       "<table border=\"1\" class=\"dataframe\">\n",
       "  <thead>\n",
       "    <tr style=\"text-align: right;\">\n",
       "      <th></th>\n",
       "      <th>timestamp</th>\n",
       "      <th>from</th>\n",
       "      <th>to</th>\n",
       "      <th>value</th>\n",
       "      <th>gasLimit</th>\n",
       "      <th>gasPrice</th>\n",
       "      <th>gasUsed</th>\n",
       "    </tr>\n",
       "  </thead>\n",
       "  <tbody>\n",
       "    <tr>\n",
       "      <th>0</th>\n",
       "      <td>1484475035</td>\n",
       "      <td>0x4bb96091ee9d802ed039c4d1a5f6216f90f81b01</td>\n",
       "      <td>0x56c830805669f366a7b93411588954e1e1b2aab6</td>\n",
       "      <td>4950000000000000000</td>\n",
       "      <td>39000</td>\n",
       "      <td>20000000000</td>\n",
       "      <td>21000</td>\n",
       "    </tr>\n",
       "    <tr>\n",
       "      <th>1</th>\n",
       "      <td>1484475035</td>\n",
       "      <td>0xea674fdde714fd979de3edf0f56aa9716b898ec8</td>\n",
       "      <td>0xde088812a9c5005b0dc8447b37193c9e8b67a1ff</td>\n",
       "      <td>1011962068786510200</td>\n",
       "      <td>90000</td>\n",
       "      <td>20000000000</td>\n",
       "      <td>21000</td>\n",
       "    </tr>\n",
       "    <tr>\n",
       "      <th>2</th>\n",
       "      <td>1484475035</td>\n",
       "      <td>0xea674fdde714fd979de3edf0f56aa9716b898ec8</td>\n",
       "      <td>0xdeb5ebe6676ddddb280ea44f284e100edb9b9d4b</td>\n",
       "      <td>1011957331582025000</td>\n",
       "      <td>90000</td>\n",
       "      <td>20000000000</td>\n",
       "      <td>21000</td>\n",
       "    </tr>\n",
       "    <tr>\n",
       "      <th>3</th>\n",
       "      <td>1484475035</td>\n",
       "      <td>0xea674fdde714fd979de3edf0f56aa9716b898ec8</td>\n",
       "      <td>0xe7268aadb21f48a3b65f0880b6b9480217995979</td>\n",
       "      <td>1008362508265353200</td>\n",
       "      <td>90000</td>\n",
       "      <td>20000000000</td>\n",
       "      <td>21000</td>\n",
       "    </tr>\n",
       "    <tr>\n",
       "      <th>4</th>\n",
       "      <td>1484475035</td>\n",
       "      <td>0xea674fdde714fd979de3edf0f56aa9716b898ec8</td>\n",
       "      <td>0xf8c911c68f6a6b912fe735bbd953c3379336cbf3</td>\n",
       "      <td>1016119717874404400</td>\n",
       "      <td>90000</td>\n",
       "      <td>20000000000</td>\n",
       "      <td>21000</td>\n",
       "    </tr>\n",
       "  </tbody>\n",
       "</table>\n",
       "</div>"
      ],
      "text/plain": [
       "    timestamp                                        from  \\\n",
       "0  1484475035  0x4bb96091ee9d802ed039c4d1a5f6216f90f81b01   \n",
       "1  1484475035  0xea674fdde714fd979de3edf0f56aa9716b898ec8   \n",
       "2  1484475035  0xea674fdde714fd979de3edf0f56aa9716b898ec8   \n",
       "3  1484475035  0xea674fdde714fd979de3edf0f56aa9716b898ec8   \n",
       "4  1484475035  0xea674fdde714fd979de3edf0f56aa9716b898ec8   \n",
       "\n",
       "                                           to                value  gasLimit  \\\n",
       "0  0x56c830805669f366a7b93411588954e1e1b2aab6  4950000000000000000     39000   \n",
       "1  0xde088812a9c5005b0dc8447b37193c9e8b67a1ff  1011962068786510200     90000   \n",
       "2  0xdeb5ebe6676ddddb280ea44f284e100edb9b9d4b  1011957331582025000     90000   \n",
       "3  0xe7268aadb21f48a3b65f0880b6b9480217995979  1008362508265353200     90000   \n",
       "4  0xf8c911c68f6a6b912fe735bbd953c3379336cbf3  1016119717874404400     90000   \n",
       "\n",
       "      gasPrice  gasUsed  \n",
       "0  20000000000    21000  \n",
       "1  20000000000    21000  \n",
       "2  20000000000    21000  \n",
       "3  20000000000    21000  \n",
       "4  20000000000    21000  "
      ]
     },
     "execution_count": 34,
     "metadata": {},
     "output_type": "execute_result"
    }
   ],
   "source": [
    "df.head()"
   ]
  },
  {
   "cell_type": "code",
   "execution_count": 35,
   "id": "d313771c",
   "metadata": {},
   "outputs": [
    {
     "data": {
      "text/plain": [
       "0           True\n",
       "1           True\n",
       "2           True\n",
       "3           True\n",
       "4           True\n",
       "            ... \n",
       "12846966    True\n",
       "12846967    True\n",
       "12846968    True\n",
       "12846969    True\n",
       "12846970    True\n",
       "Name: from, Length: 12846971, dtype: bool"
      ]
     },
     "execution_count": 35,
     "metadata": {},
     "output_type": "execute_result"
    }
   ],
   "source": [
    "df['from'].isin(tx_counts['1'])"
   ]
  },
  {
   "cell_type": "code",
   "execution_count": 52,
   "id": "fad87228",
   "metadata": {},
   "outputs": [
    {
     "data": {
      "text/plain": [
       "0     0xe76fe52a251c8f3a5dcd657e47a6c8d16fdf4bfa\n",
       "1     0xa42af2c70d316684e57aefcc6e393fecb1c7e84e\n",
       "2     0x2a65aca4d5fc5b5c859090a6c34d164135398226\n",
       "3     0xa027231f42c80ca4125b5cb962a21cd4f812e88f\n",
       "4     0xea674fdde714fd979de3edf0f56aa9716b898ec8\n",
       "                         ...                    \n",
       "74    0x9d551f41fed6fc27b719777c224dfecce170004d\n",
       "75    0x6f931bac260e7fcbaa0244d3b43a2bd9e9acf698\n",
       "76    0xba83e9ce38b10522e3d6061a12779b7526839eda\n",
       "77    0xc57f1148855e67763a694f7f2c0e68230adc686e\n",
       "78    0x001866ae5b3de6caa5a51543fd9fb64f524f5478\n",
       "Name: 1, Length: 79, dtype: object"
      ]
     },
     "execution_count": 52,
     "metadata": {},
     "output_type": "execute_result"
    }
   ],
   "source": [
    "tx_counts['1']"
   ]
  },
  {
   "cell_type": "code",
   "execution_count": 65,
   "id": "887de8f6",
   "metadata": {},
   "outputs": [
    {
     "data": {
      "text/plain": [
       "1"
      ]
     },
     "execution_count": 65,
     "metadata": {},
     "output_type": "execute_result"
    }
   ],
   "source": [
    "len(tx_counts[df['from'][0] == tx_counts['1']]['0'])"
   ]
  },
  {
   "cell_type": "code",
   "execution_count": 36,
   "id": "3d2495e6",
   "metadata": {},
   "outputs": [],
   "source": [
    "dfc = df.copy()"
   ]
  },
  {
   "cell_type": "code",
   "execution_count": 37,
   "id": "470cef49",
   "metadata": {},
   "outputs": [
    {
     "data": {
      "text/html": [
       "<div>\n",
       "<style scoped>\n",
       "    .dataframe tbody tr th:only-of-type {\n",
       "        vertical-align: middle;\n",
       "    }\n",
       "\n",
       "    .dataframe tbody tr th {\n",
       "        vertical-align: top;\n",
       "    }\n",
       "\n",
       "    .dataframe thead th {\n",
       "        text-align: right;\n",
       "    }\n",
       "</style>\n",
       "<table border=\"1\" class=\"dataframe\">\n",
       "  <thead>\n",
       "    <tr style=\"text-align: right;\">\n",
       "      <th></th>\n",
       "      <th>0</th>\n",
       "      <th>1</th>\n",
       "    </tr>\n",
       "  </thead>\n",
       "  <tbody>\n",
       "    <tr>\n",
       "      <th>0</th>\n",
       "      <td>compromised</td>\n",
       "      <td>0x027beefcbad782faf69fad12dee97ed894c68549</td>\n",
       "    </tr>\n",
       "    <tr>\n",
       "      <th>1</th>\n",
       "      <td>compromised</td>\n",
       "      <td>0xb6aac3b56ff818496b747ea57fcbe42a9aae6218</td>\n",
       "    </tr>\n",
       "    <tr>\n",
       "      <th>2</th>\n",
       "      <td>compromised</td>\n",
       "      <td>0x0ee4e2d09aec35bdf08083b649033ac0a41aa75e</td>\n",
       "    </tr>\n",
       "    <tr>\n",
       "      <th>3</th>\n",
       "      <td>exchange</td>\n",
       "      <td>0x1151314c646ce4e0efd76d1af4760ae66a9fe30f</td>\n",
       "    </tr>\n",
       "    <tr>\n",
       "      <th>4</th>\n",
       "      <td>exchange</td>\n",
       "      <td>0xfbb1b73c4f0bda4f67dca266ce6ef42f520fbb98</td>\n",
       "    </tr>\n",
       "  </tbody>\n",
       "</table>\n",
       "</div>"
      ],
      "text/plain": [
       "             0                                           1\n",
       "0  compromised  0x027beefcbad782faf69fad12dee97ed894c68549\n",
       "1  compromised  0xb6aac3b56ff818496b747ea57fcbe42a9aae6218\n",
       "2  compromised  0x0ee4e2d09aec35bdf08083b649033ac0a41aa75e\n",
       "3     exchange  0x1151314c646ce4e0efd76d1af4760ae66a9fe30f\n",
       "4     exchange  0xfbb1b73c4f0bda4f67dca266ce6ef42f520fbb98"
      ]
     },
     "execution_count": 37,
     "metadata": {},
     "output_type": "execute_result"
    }
   ],
   "source": [
    "tx_labels = tx_counts[['0','1']]\n",
    "tx_labels.head()"
   ]
  },
  {
   "cell_type": "code",
   "execution_count": 38,
   "id": "cd61c984",
   "metadata": {},
   "outputs": [
    {
     "data": {
      "text/html": [
       "<div>\n",
       "<style scoped>\n",
       "    .dataframe tbody tr th:only-of-type {\n",
       "        vertical-align: middle;\n",
       "    }\n",
       "\n",
       "    .dataframe tbody tr th {\n",
       "        vertical-align: top;\n",
       "    }\n",
       "\n",
       "    .dataframe thead th {\n",
       "        text-align: right;\n",
       "    }\n",
       "</style>\n",
       "<table border=\"1\" class=\"dataframe\">\n",
       "  <thead>\n",
       "    <tr style=\"text-align: right;\">\n",
       "      <th></th>\n",
       "      <th>timestamp</th>\n",
       "      <th>from</th>\n",
       "      <th>to</th>\n",
       "      <th>value</th>\n",
       "      <th>gasLimit</th>\n",
       "      <th>gasPrice</th>\n",
       "      <th>gasUsed</th>\n",
       "    </tr>\n",
       "  </thead>\n",
       "  <tbody>\n",
       "    <tr>\n",
       "      <th>0</th>\n",
       "      <td>1484475035</td>\n",
       "      <td>0x4bb96091ee9d802ed039c4d1a5f6216f90f81b01</td>\n",
       "      <td>0x56c830805669f366a7b93411588954e1e1b2aab6</td>\n",
       "      <td>4950000000000000000</td>\n",
       "      <td>39000</td>\n",
       "      <td>20000000000</td>\n",
       "      <td>21000</td>\n",
       "    </tr>\n",
       "    <tr>\n",
       "      <th>1</th>\n",
       "      <td>1484475035</td>\n",
       "      <td>0xea674fdde714fd979de3edf0f56aa9716b898ec8</td>\n",
       "      <td>0xde088812a9c5005b0dc8447b37193c9e8b67a1ff</td>\n",
       "      <td>1011962068786510200</td>\n",
       "      <td>90000</td>\n",
       "      <td>20000000000</td>\n",
       "      <td>21000</td>\n",
       "    </tr>\n",
       "    <tr>\n",
       "      <th>2</th>\n",
       "      <td>1484475035</td>\n",
       "      <td>0xea674fdde714fd979de3edf0f56aa9716b898ec8</td>\n",
       "      <td>0xdeb5ebe6676ddddb280ea44f284e100edb9b9d4b</td>\n",
       "      <td>1011957331582025000</td>\n",
       "      <td>90000</td>\n",
       "      <td>20000000000</td>\n",
       "      <td>21000</td>\n",
       "    </tr>\n",
       "    <tr>\n",
       "      <th>3</th>\n",
       "      <td>1484475035</td>\n",
       "      <td>0xea674fdde714fd979de3edf0f56aa9716b898ec8</td>\n",
       "      <td>0xe7268aadb21f48a3b65f0880b6b9480217995979</td>\n",
       "      <td>1008362508265353200</td>\n",
       "      <td>90000</td>\n",
       "      <td>20000000000</td>\n",
       "      <td>21000</td>\n",
       "    </tr>\n",
       "    <tr>\n",
       "      <th>4</th>\n",
       "      <td>1484475035</td>\n",
       "      <td>0xea674fdde714fd979de3edf0f56aa9716b898ec8</td>\n",
       "      <td>0xf8c911c68f6a6b912fe735bbd953c3379336cbf3</td>\n",
       "      <td>1016119717874404400</td>\n",
       "      <td>90000</td>\n",
       "      <td>20000000000</td>\n",
       "      <td>21000</td>\n",
       "    </tr>\n",
       "  </tbody>\n",
       "</table>\n",
       "</div>"
      ],
      "text/plain": [
       "    timestamp                                        from  \\\n",
       "0  1484475035  0x4bb96091ee9d802ed039c4d1a5f6216f90f81b01   \n",
       "1  1484475035  0xea674fdde714fd979de3edf0f56aa9716b898ec8   \n",
       "2  1484475035  0xea674fdde714fd979de3edf0f56aa9716b898ec8   \n",
       "3  1484475035  0xea674fdde714fd979de3edf0f56aa9716b898ec8   \n",
       "4  1484475035  0xea674fdde714fd979de3edf0f56aa9716b898ec8   \n",
       "\n",
       "                                           to                value  gasLimit  \\\n",
       "0  0x56c830805669f366a7b93411588954e1e1b2aab6  4950000000000000000     39000   \n",
       "1  0xde088812a9c5005b0dc8447b37193c9e8b67a1ff  1011962068786510200     90000   \n",
       "2  0xdeb5ebe6676ddddb280ea44f284e100edb9b9d4b  1011957331582025000     90000   \n",
       "3  0xe7268aadb21f48a3b65f0880b6b9480217995979  1008362508265353200     90000   \n",
       "4  0xf8c911c68f6a6b912fe735bbd953c3379336cbf3  1016119717874404400     90000   \n",
       "\n",
       "      gasPrice  gasUsed  \n",
       "0  20000000000    21000  \n",
       "1  20000000000    21000  \n",
       "2  20000000000    21000  \n",
       "3  20000000000    21000  \n",
       "4  20000000000    21000  "
      ]
     },
     "execution_count": 38,
     "metadata": {},
     "output_type": "execute_result"
    }
   ],
   "source": [
    "dfc.head()"
   ]
  },
  {
   "cell_type": "code",
   "execution_count": 39,
   "id": "5af6b29b",
   "metadata": {},
   "outputs": [],
   "source": [
    " merged_df= dfc.merge(tx_labels,left_on='from', right_on='1',how='left')"
   ]
  },
  {
   "cell_type": "code",
   "execution_count": 40,
   "id": "5b0b1e53",
   "metadata": {},
   "outputs": [
    {
     "data": {
      "text/plain": [
       "(12846971, 9)"
      ]
     },
     "execution_count": 40,
     "metadata": {},
     "output_type": "execute_result"
    }
   ],
   "source": [
    "merged_df.shape"
   ]
  },
  {
   "cell_type": "code",
   "execution_count": 41,
   "id": "a6ab0df6",
   "metadata": {
    "scrolled": true
   },
   "outputs": [
    {
     "data": {
      "text/plain": [
       "(12846971, 7)"
      ]
     },
     "execution_count": 41,
     "metadata": {},
     "output_type": "execute_result"
    }
   ],
   "source": [
    "df.shape"
   ]
  },
  {
   "cell_type": "code",
   "execution_count": 26,
   "id": "0834d8e6",
   "metadata": {
    "scrolled": false
   },
   "outputs": [
    {
     "data": {
      "text/html": [
       "<div>\n",
       "<style scoped>\n",
       "    .dataframe tbody tr th:only-of-type {\n",
       "        vertical-align: middle;\n",
       "    }\n",
       "\n",
       "    .dataframe tbody tr th {\n",
       "        vertical-align: top;\n",
       "    }\n",
       "\n",
       "    .dataframe thead th {\n",
       "        text-align: right;\n",
       "    }\n",
       "</style>\n",
       "<table border=\"1\" class=\"dataframe\">\n",
       "  <thead>\n",
       "    <tr style=\"text-align: right;\">\n",
       "      <th></th>\n",
       "      <th>timestamp</th>\n",
       "      <th>from</th>\n",
       "      <th>to</th>\n",
       "      <th>value</th>\n",
       "      <th>gasLimit</th>\n",
       "      <th>gasPrice</th>\n",
       "      <th>gasUsed</th>\n",
       "      <th>0</th>\n",
       "    </tr>\n",
       "  </thead>\n",
       "  <tbody>\n",
       "    <tr>\n",
       "      <th>0</th>\n",
       "      <td>1484475035</td>\n",
       "      <td>0</td>\n",
       "      <td>1890222</td>\n",
       "      <td>4.950000</td>\n",
       "      <td>3.9</td>\n",
       "      <td>2.0</td>\n",
       "      <td>2.1</td>\n",
       "      <td>mining</td>\n",
       "    </tr>\n",
       "    <tr>\n",
       "      <th>1</th>\n",
       "      <td>1484475035</td>\n",
       "      <td>1</td>\n",
       "      <td>1777</td>\n",
       "      <td>1.011962</td>\n",
       "      <td>9.0</td>\n",
       "      <td>2.0</td>\n",
       "      <td>2.1</td>\n",
       "      <td>mining</td>\n",
       "    </tr>\n",
       "    <tr>\n",
       "      <th>2</th>\n",
       "      <td>1484475035</td>\n",
       "      <td>1</td>\n",
       "      <td>20425</td>\n",
       "      <td>1.011957</td>\n",
       "      <td>9.0</td>\n",
       "      <td>2.0</td>\n",
       "      <td>2.1</td>\n",
       "      <td>mining</td>\n",
       "    </tr>\n",
       "    <tr>\n",
       "      <th>3</th>\n",
       "      <td>1484475035</td>\n",
       "      <td>1</td>\n",
       "      <td>1558</td>\n",
       "      <td>1.008363</td>\n",
       "      <td>9.0</td>\n",
       "      <td>2.0</td>\n",
       "      <td>2.1</td>\n",
       "      <td>mining</td>\n",
       "    </tr>\n",
       "    <tr>\n",
       "      <th>4</th>\n",
       "      <td>1484475035</td>\n",
       "      <td>1</td>\n",
       "      <td>15</td>\n",
       "      <td>1.016120</td>\n",
       "      <td>9.0</td>\n",
       "      <td>2.0</td>\n",
       "      <td>2.1</td>\n",
       "      <td>mining</td>\n",
       "    </tr>\n",
       "  </tbody>\n",
       "</table>\n",
       "</div>"
      ],
      "text/plain": [
       "    timestamp  from       to     value  gasLimit  gasPrice  gasUsed       0\n",
       "0  1484475035     0  1890222  4.950000       3.9       2.0      2.1  mining\n",
       "1  1484475035     1     1777  1.011962       9.0       2.0      2.1  mining\n",
       "2  1484475035     1    20425  1.011957       9.0       2.0      2.1  mining\n",
       "3  1484475035     1     1558  1.008363       9.0       2.0      2.1  mining\n",
       "4  1484475035     1       15  1.016120       9.0       2.0      2.1  mining"
      ]
     },
     "execution_count": 26,
     "metadata": {},
     "output_type": "execute_result"
    }
   ],
   "source": [
    "merged_df.head()"
   ]
  },
  {
   "cell_type": "code",
   "execution_count": 27,
   "id": "240c4905",
   "metadata": {},
   "outputs": [
    {
     "data": {
      "text/plain": [
       "array(['mining', nan, 'exchange', 'walletapp', 'compromised', 'gambling',\n",
       "       'isowallet', 'phish_hack'], dtype=object)"
      ]
     },
     "execution_count": 27,
     "metadata": {},
     "output_type": "execute_result"
    }
   ],
   "source": [
    "merged_df['0'].unique()"
   ]
  },
  {
   "cell_type": "code",
   "execution_count": 47,
   "id": "e28d7536",
   "metadata": {},
   "outputs": [
    {
     "data": {
      "text/plain": [
       "False"
      ]
     },
     "execution_count": 47,
     "metadata": {},
     "output_type": "execute_result"
    }
   ],
   "source": [
    "labels[1]==None"
   ]
  },
  {
   "cell_type": "code",
   "execution_count": 28,
   "id": "6c00108a",
   "metadata": {},
   "outputs": [
    {
     "name": "stdout",
     "output_type": "stream",
     "text": [
      "mining:  3499995\n",
      "nan:  0\n",
      "exchange:  1315278\n",
      "walletapp:  52765\n",
      "compromised:  24937\n",
      "gambling:  823\n",
      "isowallet:  135\n",
      "phish_hack:  172\n"
     ]
    }
   ],
   "source": [
    "labels = merged_df['0'].unique()\n",
    "for label in labels:\n",
    "    print('%s: '% label,(merged_df['0'] == label).sum())\n",
    "# print('mining: ',(merged_df['0'] == 'mining').sum())"
   ]
  },
  {
   "cell_type": "code",
   "execution_count": 37,
   "id": "bb914db5",
   "metadata": {
    "scrolled": true
   },
   "outputs": [
    {
     "data": {
      "text/plain": [
       "4892975"
      ]
     },
     "execution_count": 37,
     "metadata": {},
     "output_type": "execute_result"
    }
   ],
   "source": [
    "3499995 + 1315278 + 52765 + 24937 "
   ]
  },
  {
   "cell_type": "code",
   "execution_count": 29,
   "id": "f9815743",
   "metadata": {},
   "outputs": [
    {
     "data": {
      "text/plain": [
       "(12846971, 8)"
      ]
     },
     "execution_count": 29,
     "metadata": {},
     "output_type": "execute_result"
    }
   ],
   "source": [
    "merged_df.shape"
   ]
  },
  {
   "cell_type": "code",
   "execution_count": 30,
   "id": "38c733ef",
   "metadata": {
    "scrolled": true
   },
   "outputs": [
    {
     "data": {
      "text/plain": [
       "7952866"
      ]
     },
     "execution_count": 30,
     "metadata": {},
     "output_type": "execute_result"
    }
   ],
   "source": [
    "merged_df['0'].isnull().sum()"
   ]
  },
  {
   "cell_type": "code",
   "execution_count": 31,
   "id": "1dbaf01f",
   "metadata": {},
   "outputs": [],
   "source": [
    "st_time = 1484475035\n",
    "duration = 700000\n",
    "end_time = st_time+duration\n",
    "addr = 1\n",
    "(neigh1,neigh2,neigh3,neigh4)=send_extract_graph_h4_timed(addr,st_time,end_time,merged_df)"
   ]
  },
  {
   "cell_type": "code",
   "execution_count": 32,
   "id": "5a7064e5",
   "metadata": {},
   "outputs": [
    {
     "data": {
      "text/html": [
       "<div>\n",
       "<style scoped>\n",
       "    .dataframe tbody tr th:only-of-type {\n",
       "        vertical-align: middle;\n",
       "    }\n",
       "\n",
       "    .dataframe tbody tr th {\n",
       "        vertical-align: top;\n",
       "    }\n",
       "\n",
       "    .dataframe thead th {\n",
       "        text-align: right;\n",
       "    }\n",
       "</style>\n",
       "<table border=\"1\" class=\"dataframe\">\n",
       "  <thead>\n",
       "    <tr style=\"text-align: right;\">\n",
       "      <th></th>\n",
       "      <th>timestamp</th>\n",
       "      <th>from</th>\n",
       "      <th>to</th>\n",
       "      <th>value</th>\n",
       "      <th>gasLimit</th>\n",
       "      <th>gasPrice</th>\n",
       "      <th>gasUsed</th>\n",
       "      <th>0</th>\n",
       "    </tr>\n",
       "  </thead>\n",
       "  <tbody>\n",
       "    <tr>\n",
       "      <th>1</th>\n",
       "      <td>1484475035</td>\n",
       "      <td>1</td>\n",
       "      <td>1777</td>\n",
       "      <td>1.011962</td>\n",
       "      <td>9.0</td>\n",
       "      <td>2.0</td>\n",
       "      <td>2.1</td>\n",
       "      <td>mining</td>\n",
       "    </tr>\n",
       "    <tr>\n",
       "      <th>2</th>\n",
       "      <td>1484475035</td>\n",
       "      <td>1</td>\n",
       "      <td>20425</td>\n",
       "      <td>1.011957</td>\n",
       "      <td>9.0</td>\n",
       "      <td>2.0</td>\n",
       "      <td>2.1</td>\n",
       "      <td>mining</td>\n",
       "    </tr>\n",
       "    <tr>\n",
       "      <th>3</th>\n",
       "      <td>1484475035</td>\n",
       "      <td>1</td>\n",
       "      <td>1558</td>\n",
       "      <td>1.008363</td>\n",
       "      <td>9.0</td>\n",
       "      <td>2.0</td>\n",
       "      <td>2.1</td>\n",
       "      <td>mining</td>\n",
       "    </tr>\n",
       "    <tr>\n",
       "      <th>4</th>\n",
       "      <td>1484475035</td>\n",
       "      <td>1</td>\n",
       "      <td>15</td>\n",
       "      <td>1.016120</td>\n",
       "      <td>9.0</td>\n",
       "      <td>2.0</td>\n",
       "      <td>2.1</td>\n",
       "      <td>mining</td>\n",
       "    </tr>\n",
       "    <tr>\n",
       "      <th>18</th>\n",
       "      <td>1484475156</td>\n",
       "      <td>1</td>\n",
       "      <td>1890223</td>\n",
       "      <td>1.014285</td>\n",
       "      <td>9.0</td>\n",
       "      <td>2.0</td>\n",
       "      <td>2.1</td>\n",
       "      <td>mining</td>\n",
       "    </tr>\n",
       "  </tbody>\n",
       "</table>\n",
       "</div>"
      ],
      "text/plain": [
       "     timestamp  from       to     value  gasLimit  gasPrice  gasUsed       0\n",
       "1   1484475035     1     1777  1.011962       9.0       2.0      2.1  mining\n",
       "2   1484475035     1    20425  1.011957       9.0       2.0      2.1  mining\n",
       "3   1484475035     1     1558  1.008363       9.0       2.0      2.1  mining\n",
       "4   1484475035     1       15  1.016120       9.0       2.0      2.1  mining\n",
       "18  1484475156     1  1890223  1.014285       9.0       2.0      2.1  mining"
      ]
     },
     "execution_count": 32,
     "metadata": {},
     "output_type": "execute_result"
    }
   ],
   "source": [
    "neigh1.head()"
   ]
  },
  {
   "cell_type": "code",
   "execution_count": 33,
   "id": "5baf9f2a",
   "metadata": {},
   "outputs": [
    {
     "data": {
      "text/plain": [
       "(12846971, 8)"
      ]
     },
     "execution_count": 33,
     "metadata": {},
     "output_type": "execute_result"
    }
   ],
   "source": [
    "merged_df.shape"
   ]
  },
  {
   "cell_type": "code",
   "execution_count": 34,
   "id": "7f5e2c3f",
   "metadata": {},
   "outputs": [
    {
     "data": {
      "text/html": [
       "<div>\n",
       "<style scoped>\n",
       "    .dataframe tbody tr th:only-of-type {\n",
       "        vertical-align: middle;\n",
       "    }\n",
       "\n",
       "    .dataframe tbody tr th {\n",
       "        vertical-align: top;\n",
       "    }\n",
       "\n",
       "    .dataframe thead th {\n",
       "        text-align: right;\n",
       "    }\n",
       "</style>\n",
       "<table border=\"1\" class=\"dataframe\">\n",
       "  <thead>\n",
       "    <tr style=\"text-align: right;\">\n",
       "      <th></th>\n",
       "      <th>timestamp</th>\n",
       "      <th>from</th>\n",
       "      <th>to</th>\n",
       "      <th>value</th>\n",
       "      <th>gasLimit</th>\n",
       "      <th>gasPrice</th>\n",
       "      <th>gasUsed</th>\n",
       "      <th>0</th>\n",
       "    </tr>\n",
       "  </thead>\n",
       "  <tbody>\n",
       "    <tr>\n",
       "      <th>0</th>\n",
       "      <td>1484475035</td>\n",
       "      <td>0</td>\n",
       "      <td>1890222</td>\n",
       "      <td>4.950000</td>\n",
       "      <td>3.9</td>\n",
       "      <td>2.0</td>\n",
       "      <td>2.1</td>\n",
       "      <td>mining</td>\n",
       "    </tr>\n",
       "    <tr>\n",
       "      <th>1</th>\n",
       "      <td>1484475035</td>\n",
       "      <td>1</td>\n",
       "      <td>1777</td>\n",
       "      <td>1.011962</td>\n",
       "      <td>9.0</td>\n",
       "      <td>2.0</td>\n",
       "      <td>2.1</td>\n",
       "      <td>mining</td>\n",
       "    </tr>\n",
       "    <tr>\n",
       "      <th>2</th>\n",
       "      <td>1484475035</td>\n",
       "      <td>1</td>\n",
       "      <td>20425</td>\n",
       "      <td>1.011957</td>\n",
       "      <td>9.0</td>\n",
       "      <td>2.0</td>\n",
       "      <td>2.1</td>\n",
       "      <td>mining</td>\n",
       "    </tr>\n",
       "    <tr>\n",
       "      <th>3</th>\n",
       "      <td>1484475035</td>\n",
       "      <td>1</td>\n",
       "      <td>1558</td>\n",
       "      <td>1.008363</td>\n",
       "      <td>9.0</td>\n",
       "      <td>2.0</td>\n",
       "      <td>2.1</td>\n",
       "      <td>mining</td>\n",
       "    </tr>\n",
       "    <tr>\n",
       "      <th>4</th>\n",
       "      <td>1484475035</td>\n",
       "      <td>1</td>\n",
       "      <td>15</td>\n",
       "      <td>1.016120</td>\n",
       "      <td>9.0</td>\n",
       "      <td>2.0</td>\n",
       "      <td>2.1</td>\n",
       "      <td>mining</td>\n",
       "    </tr>\n",
       "  </tbody>\n",
       "</table>\n",
       "</div>"
      ],
      "text/plain": [
       "    timestamp  from       to     value  gasLimit  gasPrice  gasUsed       0\n",
       "0  1484475035     0  1890222  4.950000       3.9       2.0      2.1  mining\n",
       "1  1484475035     1     1777  1.011962       9.0       2.0      2.1  mining\n",
       "2  1484475035     1    20425  1.011957       9.0       2.0      2.1  mining\n",
       "3  1484475035     1     1558  1.008363       9.0       2.0      2.1  mining\n",
       "4  1484475035     1       15  1.016120       9.0       2.0      2.1  mining"
      ]
     },
     "execution_count": 34,
     "metadata": {},
     "output_type": "execute_result"
    }
   ],
   "source": [
    "merged_df.head()"
   ]
  },
  {
   "cell_type": "code",
   "execution_count": 35,
   "id": "09e14ffb",
   "metadata": {},
   "outputs": [
    {
     "data": {
      "text/plain": [
       "'../blockchain_files/3000000to3999999_BlockTransaction/final.csv'"
      ]
     },
     "execution_count": 35,
     "metadata": {},
     "output_type": "execute_result"
    }
   ],
   "source": [
    "path+'final.csv'"
   ]
  },
  {
   "cell_type": "code",
   "execution_count": 36,
   "id": "24b471f6",
   "metadata": {},
   "outputs": [
    {
     "name": "stdout",
     "output_type": "stream",
     "text": [
      "ls: cannot access '../3000000to3999999_BlockTransaction/': No such file or directory\r\n"
     ]
    }
   ],
   "source": [
    "!ls ../3000000to3999999_BlockTransaction/"
   ]
  },
  {
   "cell_type": "code",
   "execution_count": 37,
   "id": "c5bb65a5",
   "metadata": {},
   "outputs": [],
   "source": [
    "with open(path+'final.csv', 'w') as f:\n",
    "        merged_df.to_csv(f,index=False,header=True)"
   ]
  },
  {
   "cell_type": "code",
   "execution_count": null,
   "id": "ea983323",
   "metadata": {},
   "outputs": [],
   "source": []
  }
 ],
 "metadata": {
  "kernelspec": {
   "display_name": "Python 3 (ipykernel)",
   "language": "python",
   "name": "python3"
  },
  "language_info": {
   "codemirror_mode": {
    "name": "ipython",
    "version": 3
   },
   "file_extension": ".py",
   "mimetype": "text/x-python",
   "name": "python",
   "nbconvert_exporter": "python",
   "pygments_lexer": "ipython3",
   "version": "3.7.11"
  }
 },
 "nbformat": 4,
 "nbformat_minor": 5
}

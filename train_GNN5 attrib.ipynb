{
 "cells": [
  {
   "cell_type": "code",
   "execution_count": 1,
   "id": "2273700e",
   "metadata": {},
   "outputs": [],
   "source": [
    "import torch\n",
    "from torch_geometric.data import Data\n",
    "from torch_geometric.loader import DataLoader\n",
    "from torch_geometric.data import InMemoryDataset\n",
    "import pickle"
   ]
  },
  {
   "cell_type": "code",
   "execution_count": 2,
   "id": "216dcc88",
   "metadata": {},
   "outputs": [],
   "source": [
    " \n",
    "with open(\"graphs_data\", \"rb\") as fp:   # Unpickling\n",
    "    read_graph_data = pickle.load(fp)"
   ]
  },
  {
   "cell_type": "code",
   "execution_count": 3,
   "id": "6a91db4e",
   "metadata": {},
   "outputs": [],
   "source": [
    "data_list = []\n",
    "count = 0\n",
    "for data in read_graph_data:\n",
    "    if data.x.shape[0] == 0:\n",
    "        continue\n",
    "        \n",
    "    if count < 180 :\n",
    "        count +=1\n",
    "        data_list.append(data)\n",
    "    \n",
    "    elif data.y == 1:\n",
    "        data_list.append(data)\n",
    "        \n",
    "    "
   ]
  },
  {
   "cell_type": "code",
   "execution_count": 4,
   "id": "b66a98cb",
   "metadata": {},
   "outputs": [],
   "source": [
    "train_loader = DataLoader(data_list, batch_size=8,shuffle=True)\n",
    "test_loader = DataLoader(data_list, batch_size=8,shuffle=False)"
   ]
  },
  {
   "cell_type": "code",
   "execution_count": 5,
   "id": "2fb831af",
   "metadata": {},
   "outputs": [],
   "source": [
    "from typing import Tuple, Union\n",
    "\n",
    "import torch\n",
    "import torch.nn.functional as F\n",
    "from torch import Tensor\n",
    "from torch.nn import BatchNorm1d, Linear\n",
    "\n",
    "from torch_geometric.nn.conv import MessagePassing\n",
    "from torch_geometric.typing import Adj, OptTensor, PairTensor\n",
    "\n",
    "\n",
    "class CGConv(MessagePassing):\n",
    "\n",
    "    def __init__(self, channels: Union[int, Tuple[int, int]], dim: int = 0,\n",
    "                 aggr: str = 'mean', batch_norm: bool = False,\n",
    "                 bias: bool = True, **kwargs):\n",
    "        super().__init__(aggr=aggr, **kwargs)\n",
    "        # print(channels)\n",
    "        self.channels = channels\n",
    "        self.dim = dim\n",
    "        self.batch_norm = batch_norm\n",
    "\n",
    "        if isinstance(channels, int):\n",
    "            channels = (channels, channels)\n",
    "        self.lin_f = Linear(2*channels[0] + dim, channels[1], bias=bias)\n",
    "        # self.lin_s = Linear(2*channels[0] + dim, channels[1], bias=bias)\n",
    "        if batch_norm:\n",
    "            self.bn = BatchNorm1d(channels[1])\n",
    "        else:\n",
    "            self.bn = None\n",
    "\n",
    "        self.reset_parameters()\n",
    "\n",
    "\n",
    "    def reset_parameters(self):\n",
    "        self.lin_f.reset_parameters()\n",
    "        # self.lin_s.reset_parameters()\n",
    "        if self.bn is not None:\n",
    "            self.bn.reset_parameters()\n",
    "\n",
    "\n",
    "    def forward(self, x: Union[Tensor, PairTensor], edge_index: Adj,\n",
    "                edge_attr: OptTensor = None) -> Tensor:\n",
    "        \"\"\"\"\"\"\n",
    "        if isinstance(x, Tensor):\n",
    "            x: PairTensor = (x, x)\n",
    "\n",
    "        # propagate_type: (x: PairTensor, edge_attr: OptTensor)\n",
    "        out = self.propagate(edge_index, x=x, edge_attr=edge_attr, size=None)\n",
    "        out = out if self.bn is None else self.bn(out)\n",
    "        out += x[1]\n",
    "        # print(out.shape)\n",
    "        # print(x[1])\n",
    "        return out\n",
    "\n",
    "\n",
    "    def message(self, x_i, x_j, edge_attr: OptTensor) -> Tensor:\n",
    "        if edge_attr is None:\n",
    "            z = torch.cat([x_i, x_j], dim=-1)\n",
    "        else:\n",
    "            z = torch.cat([x_i, x_j, edge_attr], dim=-1)\n",
    "\n",
    "        # print(z.shape)\n",
    "        # print(self.lin_f)\n",
    "        return self.lin_f(z)\n",
    "\n",
    "    def __repr__(self) -> str:\n",
    "        return f'{self.__class__.__name__}({self.channels}, dim={self.dim})'"
   ]
  },
  {
   "cell_type": "code",
   "execution_count": 6,
   "id": "16da6da9",
   "metadata": {},
   "outputs": [
    {
     "name": "stdout",
     "output_type": "stream",
     "text": [
      "GCN(\n",
      "  (conv1): CGConv((1, 64), dim=5)\n",
      "  (conv2): CGConv((64, 64), dim=5)\n",
      "  (conv3): CGConv((64, 64), dim=5)\n",
      "  (conv4): GCNConv(64, 64)\n",
      "  (lin): Linear(in_features=64, out_features=2, bias=True)\n",
      ")\n"
     ]
    }
   ],
   "source": [
    "from torch.nn import Linear\n",
    "import torch.nn.functional as F\n",
    "from torch_geometric.nn import GCNConv\n",
    "from torch_geometric.nn import global_mean_pool\n",
    "\n",
    "device = torch.device('cuda' if torch.cuda.is_available() else 'cpu')\n",
    "\n",
    "class GCN(torch.nn.Module):\n",
    "    def __init__(self, hidden_channels):\n",
    "        super(GCN, self).__init__()\n",
    "#         torch.manual_seed(12345)\n",
    "        self.conv1 = CGConv((1, hidden_channels),5,batch_norm=True)\n",
    "#         self.conv1 = GCNConv(1, hidden_channels)\n",
    "        \n",
    "        self.conv2 = CGConv((hidden_channels, hidden_channels),5,batch_norm=True)\n",
    "        self.conv3 = CGConv((hidden_channels, hidden_channels),5,batch_norm=True)\n",
    "        self.conv4 = GCNConv(hidden_channels, hidden_channels)\n",
    "        self.lin = Linear(hidden_channels, 2)\n",
    "\n",
    "    def forward(self, x, edge_index,edge_attributes, batch):\n",
    "        # 1. Obtain node embeddings \n",
    "        x = self.conv1(x, edge_index,edge_attributes)\n",
    "        x = x.relu()\n",
    "        x = self.conv2(x, edge_index,edge_attributes)\n",
    "        x = x.relu()\n",
    "        x = self.conv3(x, edge_index,edge_attributes)\n",
    "        x = x.relu()\n",
    "        x = self.conv4(x, edge_index)\n",
    " \n",
    "\n",
    "        # 2. Readout layer\n",
    "#         print(x.shape)\n",
    "        x = global_mean_pool(x, batch)  # [batch_size, hidden_channels]\n",
    "#         print(x.shape)\n",
    "        # 3. Apply a final classifier\n",
    "#         x = F.dropout(x, p=0.5, training=self.training)\n",
    "        x = self.lin(x)\n",
    "        \n",
    "        return x\n",
    "\n",
    "model = GCN(hidden_channels=64)\n",
    "print(model)"
   ]
  },
  {
   "cell_type": "code",
   "execution_count": 8,
   "id": "19e6303a",
   "metadata": {},
   "outputs": [],
   "source": [
    "model = GCN(hidden_channels=64).to(device)\n",
    "optimizer = torch.optim.Adam(model.parameters(), lr=0.01)\n",
    "# weights = torch.tensor([.05,.95]).to(device)\n",
    "criterion = torch.nn.CrossEntropyLoss()"
   ]
  },
  {
   "cell_type": "code",
   "execution_count": 9,
   "id": "205d0ea4",
   "metadata": {},
   "outputs": [
    {
     "data": {
      "text/plain": [
       "0.4915254237288136"
      ]
     },
     "execution_count": 9,
     "metadata": {},
     "output_type": "execute_result"
    }
   ],
   "source": [
    "def train():\n",
    "    model.train()\n",
    "    for batch_idx,data in enumerate(train_loader):\n",
    "\n",
    "\n",
    "        data.edge_attr = data.edge_attr.float()\n",
    "        data = data.to(device)\n",
    "        out = model(data.x, data.edge_index,data.edge_attr,data.batch)\n",
    "\n",
    "        loss = criterion(out, data.y)  # Compute the loss.\n",
    "        loss.backward()  # Derive gradients.\n",
    "        \n",
    "        optimizer.step()\n",
    "        optimizer.zero_grad()\n",
    "#             print(batch_idx)\n",
    "        \n",
    "\n",
    "    return loss.cpu().item()\n",
    "    \n",
    "def test(loader):\n",
    "    model.eval()\n",
    "\n",
    "    correct = 0\n",
    "    for data in loader:  # Iterate in batches over the training/test dataset.\n",
    "        \n",
    "\n",
    "\n",
    "        data.edge_attr = data.edge_attr.float() \n",
    "        data = data.to(device)\n",
    "        out = model(data.x, data.edge_index,data.edge_attr, data.batch)  \n",
    "        pred = out.argmax(dim=1)  # Use the class with highest probability.\n",
    "        \n",
    "\n",
    "        correct += int((pred == data.y).sum())  # Check against ground-truth labels.\n",
    "    return correct / len(loader.dataset)  # Derive ratio of correct predictions.\n",
    "\n",
    "test(test_loader)"
   ]
  },
  {
   "cell_type": "code",
   "execution_count": 10,
   "id": "0d25a8d5",
   "metadata": {
    "scrolled": true
   },
   "outputs": [
    {
     "name": "stdout",
     "output_type": "stream",
     "text": [
      "Epoch: 005, Train Acc: 0.7429, loss : 0.4767\n",
      "Epoch: 010, Train Acc: 0.7401, loss : 0.7171\n",
      "Epoch: 015, Train Acc: 0.5311, loss : 0.6414\n",
      "Epoch: 020, Train Acc: 0.7486, loss : 0.6560\n",
      "Epoch: 025, Train Acc: 0.7740, loss : 0.7737\n",
      "Epoch: 030, Train Acc: 0.7910, loss : 0.5825\n",
      "Epoch: 035, Train Acc: 0.7881, loss : 0.4266\n",
      "Epoch: 040, Train Acc: 0.7712, loss : 0.4582\n",
      "Epoch: 045, Train Acc: 0.7853, loss : 0.3972\n",
      "Epoch: 050, Train Acc: 0.7853, loss : 0.5311\n",
      "Epoch: 055, Train Acc: 0.7966, loss : 0.3808\n",
      "Epoch: 060, Train Acc: 0.7994, loss : 0.0512\n",
      "Epoch: 065, Train Acc: 0.8249, loss : 0.2856\n",
      "Epoch: 070, Train Acc: 0.7571, loss : 0.2421\n",
      "Epoch: 075, Train Acc: 0.7966, loss : 0.2986\n",
      "Epoch: 080, Train Acc: 0.8220, loss : 0.9112\n",
      "Epoch: 085, Train Acc: 0.7740, loss : 0.0514\n",
      "Epoch: 090, Train Acc: 0.8107, loss : 0.0952\n",
      "Epoch: 095, Train Acc: 0.8305, loss : 0.1733\n",
      "Epoch: 100, Train Acc: 0.8249, loss : 0.3040\n",
      "Epoch: 105, Train Acc: 0.8107, loss : 0.1430\n",
      "Epoch: 110, Train Acc: 0.8305, loss : 3.9038\n",
      "Epoch: 115, Train Acc: 0.8079, loss : 0.8218\n",
      "Epoch: 120, Train Acc: 0.8588, loss : 0.7093\n",
      "Epoch: 125, Train Acc: 0.8842, loss : 0.1362\n",
      "Epoch: 130, Train Acc: 0.8616, loss : 0.0981\n",
      "Epoch: 135, Train Acc: 0.8616, loss : 0.1860\n",
      "Epoch: 140, Train Acc: 0.7994, loss : 0.1440\n",
      "Epoch: 145, Train Acc: 0.8814, loss : 0.0112\n",
      "Epoch: 150, Train Acc: 0.7966, loss : 0.1508\n",
      "Epoch: 155, Train Acc: 0.8531, loss : 0.4422\n",
      "Epoch: 160, Train Acc: 0.7316, loss : 0.6229\n",
      "Epoch: 165, Train Acc: 0.8588, loss : 0.2992\n",
      "Epoch: 170, Train Acc: 0.8390, loss : 0.2108\n",
      "Epoch: 175, Train Acc: 0.8757, loss : 0.3544\n",
      "Epoch: 180, Train Acc: 0.8023, loss : 0.0131\n",
      "Epoch: 185, Train Acc: 0.8898, loss : 0.0154\n",
      "Epoch: 190, Train Acc: 0.8983, loss : 0.3465\n",
      "Epoch: 195, Train Acc: 0.8955, loss : 0.0635\n",
      "Epoch: 200, Train Acc: 0.8983, loss : 0.2057\n",
      "Epoch: 205, Train Acc: 0.8955, loss : 0.2757\n",
      "Epoch: 210, Train Acc: 0.9011, loss : 0.5377\n",
      "Epoch: 215, Train Acc: 0.8701, loss : 0.1455\n",
      "Epoch: 220, Train Acc: 0.8559, loss : 0.3709\n",
      "Epoch: 225, Train Acc: 0.9096, loss : 0.0257\n",
      "Epoch: 230, Train Acc: 0.8842, loss : 0.0995\n",
      "Epoch: 235, Train Acc: 0.8983, loss : 5.2854\n",
      "Epoch: 240, Train Acc: 0.8333, loss : 0.0752\n",
      "Epoch: 245, Train Acc: 0.8898, loss : 0.9573\n",
      "Epoch: 250, Train Acc: 0.9068, loss : 0.0696\n",
      "Epoch: 255, Train Acc: 0.8305, loss : 0.1825\n",
      "Epoch: 260, Train Acc: 0.8588, loss : 0.4853\n",
      "Epoch: 265, Train Acc: 0.8870, loss : 0.0018\n",
      "Epoch: 270, Train Acc: 0.9096, loss : 0.0184\n",
      "Epoch: 275, Train Acc: 0.9096, loss : 0.0234\n",
      "Epoch: 280, Train Acc: 0.9237, loss : 0.0014\n",
      "Epoch: 285, Train Acc: 0.9181, loss : 0.1000\n",
      "Epoch: 290, Train Acc: 0.8249, loss : 0.8611\n",
      "Epoch: 295, Train Acc: 0.8390, loss : 2.0416\n",
      "Epoch: 300, Train Acc: 0.8870, loss : 0.0613\n",
      "Epoch: 305, Train Acc: 0.8870, loss : 0.0071\n",
      "Epoch: 310, Train Acc: 0.8983, loss : 0.0862\n",
      "Epoch: 315, Train Acc: 0.9435, loss : 0.6135\n",
      "Epoch: 320, Train Acc: 0.8955, loss : 0.9248\n",
      "Epoch: 325, Train Acc: 0.9124, loss : 0.8010\n",
      "Epoch: 330, Train Acc: 0.9153, loss : 0.0111\n",
      "Epoch: 335, Train Acc: 0.9124, loss : 0.1453\n",
      "Epoch: 340, Train Acc: 0.9294, loss : 0.3736\n",
      "Epoch: 345, Train Acc: 0.9068, loss : 0.0499\n",
      "Epoch: 350, Train Acc: 0.9266, loss : 0.0430\n",
      "Epoch: 355, Train Acc: 0.9068, loss : 0.1025\n",
      "Epoch: 360, Train Acc: 0.9124, loss : 1.0389\n",
      "Epoch: 365, Train Acc: 0.8870, loss : 1.4217\n",
      "Epoch: 370, Train Acc: 0.9124, loss : 6.8546\n",
      "Epoch: 375, Train Acc: 0.9153, loss : 0.0306\n",
      "Epoch: 380, Train Acc: 0.9181, loss : 0.0637\n",
      "Epoch: 385, Train Acc: 0.9379, loss : 0.0029\n",
      "Epoch: 390, Train Acc: 0.8955, loss : 0.2134\n",
      "Epoch: 395, Train Acc: 0.9209, loss : 0.0075\n"
     ]
    }
   ],
   "source": [
    "\n",
    "for epoch in range(1, 400):\n",
    "    loss = train()\n",
    "#     break\n",
    "    train_acc = test(test_loader)\n",
    "#     test_acc = test(test_loader)\n",
    "    if epoch % 5 == 0: \n",
    "        print(f'Epoch: {epoch:03d}, Train Acc: {train_acc:.4f}, loss : {loss:.4f}')"
   ]
  },
  {
   "cell_type": "code",
   "execution_count": 11,
   "id": "78c45cac",
   "metadata": {},
   "outputs": [],
   "source": [
    "train_acc = test(test_loader)"
   ]
  },
  {
   "cell_type": "code",
   "execution_count": 12,
   "id": "e6c98bde",
   "metadata": {},
   "outputs": [
    {
     "data": {
      "text/plain": [
       "0.9491525423728814"
      ]
     },
     "execution_count": 12,
     "metadata": {},
     "output_type": "execute_result"
    }
   ],
   "source": [
    "train_acc"
   ]
  },
  {
   "cell_type": "code",
   "execution_count": 13,
   "id": "58e65f59",
   "metadata": {},
   "outputs": [
    {
     "data": {
      "text/plain": [
       "22338"
      ]
     },
     "execution_count": 13,
     "metadata": {},
     "output_type": "execute_result"
    }
   ],
   "source": [
    "import numpy as np\n",
    "model_parameters = filter(lambda p: p.requires_grad, model.parameters())\n",
    "params = sum([p.numel() for p in model_parameters])\n",
    "params"
   ]
  },
  {
   "cell_type": "code",
   "execution_count": 22,
   "id": "8fd465f6",
   "metadata": {},
   "outputs": [
    {
     "data": {
      "text/plain": [
       "Data(x=[12995, 1], edge_index=[2, 17027], edge_attr=[17027, 5], y=[1])"
      ]
     },
     "execution_count": 22,
     "metadata": {},
     "output_type": "execute_result"
    }
   ],
   "source": [
    "read_graph_data[0]"
   ]
  },
  {
   "cell_type": "code",
   "execution_count": null,
   "id": "a02d50d5",
   "metadata": {},
   "outputs": [],
   "source": []
  }
 ],
 "metadata": {
  "kernelspec": {
   "display_name": "Python 3 (ipykernel)",
   "language": "python",
   "name": "python3"
  },
  "language_info": {
   "codemirror_mode": {
    "name": "ipython",
    "version": 3
   },
   "file_extension": ".py",
   "mimetype": "text/x-python",
   "name": "python",
   "nbconvert_exporter": "python",
   "pygments_lexer": "ipython3",
   "version": "3.7.11"
  }
 },
 "nbformat": 4,
 "nbformat_minor": 5
}

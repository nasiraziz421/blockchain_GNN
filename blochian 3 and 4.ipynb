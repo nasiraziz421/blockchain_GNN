{
 "cells": [
  {
   "cell_type": "code",
   "execution_count": 1,
   "id": "33394e81",
   "metadata": {},
   "outputs": [
    {
     "name": "stdout",
     "output_type": "stream",
     "text": [
      "3000000to3999999_BlockTransaction.csv\r\n"
     ]
    }
   ],
   "source": [
    "!ls ../blockchain_files/3000000to3999999_BlockTransaction"
   ]
  },
  {
   "cell_type": "code",
   "execution_count": 19,
   "id": "38b3f3d8",
   "metadata": {},
   "outputs": [
    {
     "name": "stdout",
     "output_type": "stream",
     "text": [
      "blockchain\t     csvfiles\t      mend\r\n",
      "blockchain_code.zip  detectron.yml    Miniconda3-latest-Linux-x86_64.sh\r\n",
      "blockchain_files     environment.yml  scene_reg\r\n",
      "blockchain_GNN\t     match_data\r\n"
     ]
    }
   ],
   "source": [
    "!ls .."
   ]
  },
  {
   "cell_type": "code",
   "execution_count": 1,
   "id": "adfe4d3a",
   "metadata": {},
   "outputs": [],
   "source": [
    "path = '../3000000to3999999_BlockTransaction/3000000to3999999_BlockTransaction.csv'\n",
    "save_path = '../3000000to3999999_BlockTransaction/'"
   ]
  },
  {
   "cell_type": "code",
   "execution_count": 2,
   "id": "79b1582b",
   "metadata": {},
   "outputs": [],
   "source": [
    "import pandas as pd\n",
    "import numpy as np\n",
    "import glob\n",
    "import os\n",
    "from datetime import date\n",
    "import time"
   ]
  },
  {
   "cell_type": "code",
   "execution_count": 3,
   "id": "5e755d37",
   "metadata": {},
   "outputs": [
    {
     "name": "stdout",
     "output_type": "stream",
     "text": [
      "(10000, 18)\n"
     ]
    }
   ],
   "source": [
    "for df in pd.read_csv(path, chunksize=10000):\n",
    "    print(df.shape)\n",
    "    break"
   ]
  },
  {
   "cell_type": "code",
   "execution_count": 5,
   "id": "45289820",
   "metadata": {},
   "outputs": [
    {
     "data": {
      "text/plain": [
       "0                0\n",
       "1       4950000000\n",
       "2       1011962068\n",
       "3       1011957331\n",
       "4       1008362508\n",
       "           ...    \n",
       "9995    4369893027\n",
       "9996    2700000000\n",
       "9997    2745029333\n",
       "9998    7992646231\n",
       "9999    2288964125\n",
       "Name: value, Length: 10000, dtype: object"
      ]
     },
     "execution_count": 5,
     "metadata": {},
     "output_type": "execute_result"
    }
   ],
   "source": [
    "df['value'].apply(lambda x: x[:10])"
   ]
  },
  {
   "cell_type": "code",
   "execution_count": 12,
   "id": "0ea72b2e",
   "metadata": {},
   "outputs": [
    {
     "data": {
      "text/plain": [
       "blockNumber                                                       3001241\n",
       "timestamp                                                      1484492929\n",
       "transactionHash         0xd78a10b379ba0bb4f1afb4a6600e179297aff3d63967...\n",
       "from                           0x52bc44d5378309ee2abf1539bf71de1b7d7be3b5\n",
       "to                             0x284d32b839493898494e0ca7c2defc95c682674e\n",
       "toCreate                                                             None\n",
       "fromIsContract                                                          0\n",
       "toIsContract                                                            0\n",
       "value                                                  436989302731289472\n",
       "gasLimit                                                            50000\n",
       "gasPrice                                                      20000000000\n",
       "gasUsed                                                             21000\n",
       "callingFunction                                                        0x\n",
       "isError                                                              None\n",
       "eip2718type                                                          None\n",
       "baseFeePerGas                                                        None\n",
       "maxFeePerGas                                                         None\n",
       "maxPriorityFeePerGas                                                 None\n",
       "Name: 9995, dtype: object"
      ]
     },
     "execution_count": 12,
     "metadata": {},
     "output_type": "execute_result"
    }
   ],
   "source": [
    "df.loc[9995]"
   ]
  },
  {
   "cell_type": "code",
   "execution_count": 17,
   "id": "a37d8c85",
   "metadata": {},
   "outputs": [
    {
     "data": {
      "text/plain": [
       "0.4369893027312895"
      ]
     },
     "execution_count": 17,
     "metadata": {},
     "output_type": "execute_result"
    }
   ],
   "source": [
    "value=df['value'].astype(float)/(10**18)\n",
    "value[9995]"
   ]
  },
  {
   "cell_type": "code",
   "execution_count": null,
   "id": "5e75a4d3",
   "metadata": {},
   "outputs": [],
   "source": []
  },
  {
   "cell_type": "code",
   "execution_count": 7,
   "id": "52484b8d",
   "metadata": {},
   "outputs": [
    {
     "name": "stdout",
     "output_type": "stream",
     "text": [
      "../4000000to4999999_BlockTransaction/4000000to4999999_BlockTransaction.csv\n",
      "../4000000to4999999_BlockTransaction/\n"
     ]
    }
   ],
   "source": [
    "print(path)\n",
    "print(save_path)\n",
    "start = True\n",
    "for df in pd.read_csv(path, chunksize=10000):\n",
    "    proc_df = df[df['toIsContract']==0]\n",
    "    proc_df = proc_df[proc_df['fromIsContract']==0]\n",
    "    df1 = proc_df[['timestamp', 'from','to','value','gasLimit','gasPrice','gasUsed']]\n",
    "    with open(save_path+'processed.csv', 'a') as f:\n",
    "        if start:\n",
    "            start=False\n",
    "            df1.to_csv(f,index=False,header=True)\n",
    "        else:\n",
    "            df1.to_csv(f,index=False, header=False)\n"
   ]
  },
  {
   "cell_type": "code",
   "execution_count": 21,
   "id": "9e1027a9",
   "metadata": {},
   "outputs": [],
   "source": [
    "path = '../4000000to4999999_BlockTransaction/4000000to4999999_BlockTransaction.csv'\n",
    "save_path = '../4000000to4999999_BlockTransaction/'"
   ]
  },
  {
   "cell_type": "code",
   "execution_count": 7,
   "id": "d36719ed",
   "metadata": {},
   "outputs": [],
   "source": [
    "import glob\n",
    "import pandas as pd\n",
    "files = []\n",
    "for name in glob.glob('../csvfiles/*'):\n",
    "    files.append(name)"
   ]
  },
  {
   "cell_type": "code",
   "execution_count": 24,
   "id": "208f5947",
   "metadata": {},
   "outputs": [],
   "source": [
    "path = '../1000000to1999999_BlockTransaction/1000000to1999999_BlockTransaction.csv'\n",
    "save_path = '../1000000to1999999_BlockTransaction/'"
   ]
  },
  {
   "cell_type": "code",
   "execution_count": 25,
   "id": "5fe68161",
   "metadata": {
    "scrolled": true
   },
   "outputs": [],
   "source": [
    "use_full=[]\n",
    "for df2 in pd.read_csv(path, chunksize=1000000):\n",
    "    for f in files:\n",
    "        df = pd.read_csv(f,header=None)\n",
    "        for addr in df[0]:\n",
    "            if df2[df2['from']==addr].count()[0]> 0:\n",
    "                use_full.append((f[12:-4],addr))\n",
    "#                 print((f[12:-4],addr))\n",
    "    #             print(addr)\n",
    "    #         print(addr)\n",
    "    #         break\n",
    "    #     break"
   ]
  },
  {
   "cell_type": "code",
   "execution_count": 26,
   "id": "3cfc3177",
   "metadata": {},
   "outputs": [
    {
     "name": "stdout",
     "output_type": "stream",
     "text": [
      "../1000000to1999999_BlockTransaction/1000000to1999999_BlockTransaction.csv\n"
     ]
    },
    {
     "data": {
      "text/plain": [
       "(188, 2)"
      ]
     },
     "execution_count": 26,
     "metadata": {},
     "output_type": "execute_result"
    }
   ],
   "source": [
    "print(path)\n",
    "df = pd.DataFrame(use_full)\n",
    "df.shape"
   ]
  },
  {
   "cell_type": "code",
   "execution_count": 20,
   "id": "699bdc31",
   "metadata": {},
   "outputs": [
    {
     "name": "stdout",
     "output_type": "stream",
     "text": [
      "../blockchain_files/3000000to3999999_BlockTransaction/3000000to3999999_BlockTransaction.csv\n"
     ]
    }
   ],
   "source": [
    "files_path = '../csvfiles/*'\n",
    "def extract_labels(files_path,path):\n",
    "    print(path)\n",
    "    files = []\n",
    "    for name in glob.glob(files_path):\n",
    "        files.append(name)\n",
    "    \n",
    "    extracted_labels=[]\n",
    "    for df2 in pd.read_csv(path, chunksize=1000000):\n",
    "        for f in files:\n",
    "            df = pd.read_csv(f,header=None)\n",
    "            for addr in df[0]:\n",
    "                if df2[df2['from']==addr].count()[0]> 0:\n",
    "                    extracted_labels.append((f[12:-4],addr))\n",
    "\n",
    "    return extracted_labels\n",
    "extracted_labels = extract_labels(files_path,path)"
   ]
  },
  {
   "cell_type": "code",
   "execution_count": null,
   "id": "a5232a11",
   "metadata": {},
   "outputs": [],
   "source": [
    "len(extracted_labels)"
   ]
  },
  {
   "cell_type": "code",
   "execution_count": 6,
   "id": "28b881b6",
   "metadata": {},
   "outputs": [],
   "source": [
    "with open('4000000to4999999_BlockTransaction_address.csv','w') as f:\n",
    "    df.to_csv(f,index=False,header=True)"
   ]
  },
  {
   "cell_type": "code",
   "execution_count": 3,
   "id": "7813a4f2",
   "metadata": {},
   "outputs": [],
   "source": [
    "import pandas as pd\n",
    "df = pd.read_csv('4000000to4999999_BlockTransaction_address.csv')"
   ]
  },
  {
   "cell_type": "code",
   "execution_count": 15,
   "id": "064db05e",
   "metadata": {},
   "outputs": [
    {
     "data": {
      "text/plain": [
       "(44, 2)"
      ]
     },
     "execution_count": 15,
     "metadata": {},
     "output_type": "execute_result"
    }
   ],
   "source": [
    "df_uni=df.drop_duplicates()\n",
    "df_uni.shape"
   ]
  },
  {
   "cell_type": "code",
   "execution_count": 18,
   "id": "dde723d0",
   "metadata": {},
   "outputs": [
    {
     "data": {
      "text/plain": [
       "(44,)"
      ]
     },
     "execution_count": 18,
     "metadata": {},
     "output_type": "execute_result"
    }
   ],
   "source": [
    "df_uni[1].unique().shape"
   ]
  },
  {
   "cell_type": "code",
   "execution_count": 20,
   "id": "80f2c599",
   "metadata": {},
   "outputs": [
    {
     "data": {
      "text/html": [
       "<div>\n",
       "<style scoped>\n",
       "    .dataframe tbody tr th:only-of-type {\n",
       "        vertical-align: middle;\n",
       "    }\n",
       "\n",
       "    .dataframe tbody tr th {\n",
       "        vertical-align: top;\n",
       "    }\n",
       "\n",
       "    .dataframe thead th {\n",
       "        text-align: right;\n",
       "    }\n",
       "</style>\n",
       "<table border=\"1\" class=\"dataframe\">\n",
       "  <thead>\n",
       "    <tr style=\"text-align: right;\">\n",
       "      <th></th>\n",
       "      <th>0</th>\n",
       "      <th>1</th>\n",
       "    </tr>\n",
       "  </thead>\n",
       "  <tbody>\n",
       "  </tbody>\n",
       "</table>\n",
       "</div>"
      ],
      "text/plain": [
       "Empty DataFrame\n",
       "Columns: [0, 1]\n",
       "Index: []"
      ]
     },
     "execution_count": 20,
     "metadata": {},
     "output_type": "execute_result"
    }
   ],
   "source": [
    "df_uni[df_uni[1].duplicated()]"
   ]
  },
  {
   "cell_type": "code",
   "execution_count": 16,
   "id": "de2e6dac",
   "metadata": {},
   "outputs": [
    {
     "data": {
      "text/html": [
       "<div>\n",
       "<style scoped>\n",
       "    .dataframe tbody tr th:only-of-type {\n",
       "        vertical-align: middle;\n",
       "    }\n",
       "\n",
       "    .dataframe tbody tr th {\n",
       "        vertical-align: top;\n",
       "    }\n",
       "\n",
       "    .dataframe thead th {\n",
       "        text-align: right;\n",
       "    }\n",
       "</style>\n",
       "<table border=\"1\" class=\"dataframe\">\n",
       "  <thead>\n",
       "    <tr style=\"text-align: right;\">\n",
       "      <th></th>\n",
       "      <th>0</th>\n",
       "      <th>1</th>\n",
       "    </tr>\n",
       "  </thead>\n",
       "  <tbody>\n",
       "    <tr>\n",
       "      <th>13</th>\n",
       "      <td>compromised</td>\n",
       "      <td>0x5baeac0a0417a05733884852aa068b706967e790</td>\n",
       "    </tr>\n",
       "    <tr>\n",
       "      <th>14</th>\n",
       "      <td>compromised</td>\n",
       "      <td>0x2984581ece53a4390d1f568673cf693139c97049</td>\n",
       "    </tr>\n",
       "    <tr>\n",
       "      <th>1298</th>\n",
       "      <td>isowallet</td>\n",
       "      <td>0x6a164122d5cf7c840d26e829b46dcc4ed6c0ae48</td>\n",
       "    </tr>\n",
       "  </tbody>\n",
       "</table>\n",
       "</div>"
      ],
      "text/plain": [
       "                0                                           1\n",
       "13    compromised  0x5baeac0a0417a05733884852aa068b706967e790\n",
       "14    compromised  0x2984581ece53a4390d1f568673cf693139c97049\n",
       "1298    isowallet  0x6a164122d5cf7c840d26e829b46dcc4ed6c0ae48"
      ]
     },
     "execution_count": 16,
     "metadata": {},
     "output_type": "execute_result"
    }
   ],
   "source": [
    "df_uni[df_uni['1'].duplicated(keep='last')]"
   ]
  },
  {
   "cell_type": "code",
   "execution_count": 18,
   "id": "36f13fb9",
   "metadata": {},
   "outputs": [],
   "source": [
    "final_df = df_uni[df_uni['1'].duplicated()==False].copy()"
   ]
  },
  {
   "cell_type": "code",
   "execution_count": 20,
   "id": "b3c76278",
   "metadata": {},
   "outputs": [
    {
     "data": {
      "text/html": [
       "<div>\n",
       "<style scoped>\n",
       "    .dataframe tbody tr th:only-of-type {\n",
       "        vertical-align: middle;\n",
       "    }\n",
       "\n",
       "    .dataframe tbody tr th {\n",
       "        vertical-align: top;\n",
       "    }\n",
       "\n",
       "    .dataframe thead th {\n",
       "        text-align: right;\n",
       "    }\n",
       "</style>\n",
       "<table border=\"1\" class=\"dataframe\">\n",
       "  <thead>\n",
       "    <tr style=\"text-align: right;\">\n",
       "      <th></th>\n",
       "      <th>0</th>\n",
       "      <th>1</th>\n",
       "    </tr>\n",
       "  </thead>\n",
       "  <tbody>\n",
       "    <tr>\n",
       "      <th>0</th>\n",
       "      <td>isowallet</td>\n",
       "      <td>0xa2c9a7578e2172f32a36c5c0e49d64776f9e7883</td>\n",
       "    </tr>\n",
       "    <tr>\n",
       "      <th>1</th>\n",
       "      <td>isowallet</td>\n",
       "      <td>0xee155572635ae7d1f4e30ec3179ce65b5342cb17</td>\n",
       "    </tr>\n",
       "    <tr>\n",
       "      <th>2</th>\n",
       "      <td>isowallet</td>\n",
       "      <td>0x93b7e9364c4df6de55ed0d10c80e7afc0612e93a</td>\n",
       "    </tr>\n",
       "    <tr>\n",
       "      <th>3</th>\n",
       "      <td>isowallet</td>\n",
       "      <td>0x6dd5a9f47cfbc44c04a0a4452f0ba792ebfbcc9a</td>\n",
       "    </tr>\n",
       "    <tr>\n",
       "      <th>4</th>\n",
       "      <td>mining</td>\n",
       "      <td>0xa42af2c70d316684e57aefcc6e393fecb1c7e84e</td>\n",
       "    </tr>\n",
       "    <tr>\n",
       "      <th>...</th>\n",
       "      <td>...</td>\n",
       "      <td>...</td>\n",
       "    </tr>\n",
       "    <tr>\n",
       "      <th>9952</th>\n",
       "      <td>phish_hack</td>\n",
       "      <td>0x0059b14e35dab1b4eee1e2926c7a5660da66f747</td>\n",
       "    </tr>\n",
       "    <tr>\n",
       "      <th>9984</th>\n",
       "      <td>exchange</td>\n",
       "      <td>0x274f3c32c90517975e29dfc209a23f315c1e5fc7</td>\n",
       "    </tr>\n",
       "    <tr>\n",
       "      <th>10061</th>\n",
       "      <td>phish_hack</td>\n",
       "      <td>0x4e87016fd144e1716b9985afb704fc359d243a4f</td>\n",
       "    </tr>\n",
       "    <tr>\n",
       "      <th>10064</th>\n",
       "      <td>phish_hack</td>\n",
       "      <td>0x570ac27d1048dcba1a4c58fe80109b9cf9b0e2ef</td>\n",
       "    </tr>\n",
       "    <tr>\n",
       "      <th>10170</th>\n",
       "      <td>phish_hack</td>\n",
       "      <td>0x75ef676846732599862d0091fb485e7486838fd3</td>\n",
       "    </tr>\n",
       "  </tbody>\n",
       "</table>\n",
       "<p>274 rows × 2 columns</p>\n",
       "</div>"
      ],
      "text/plain": [
       "                0                                           1\n",
       "0       isowallet  0xa2c9a7578e2172f32a36c5c0e49d64776f9e7883\n",
       "1       isowallet  0xee155572635ae7d1f4e30ec3179ce65b5342cb17\n",
       "2       isowallet  0x93b7e9364c4df6de55ed0d10c80e7afc0612e93a\n",
       "3       isowallet  0x6dd5a9f47cfbc44c04a0a4452f0ba792ebfbcc9a\n",
       "4          mining  0xa42af2c70d316684e57aefcc6e393fecb1c7e84e\n",
       "...           ...                                         ...\n",
       "9952   phish_hack  0x0059b14e35dab1b4eee1e2926c7a5660da66f747\n",
       "9984     exchange  0x274f3c32c90517975e29dfc209a23f315c1e5fc7\n",
       "10061  phish_hack  0x4e87016fd144e1716b9985afb704fc359d243a4f\n",
       "10064  phish_hack  0x570ac27d1048dcba1a4c58fe80109b9cf9b0e2ef\n",
       "10170  phish_hack  0x75ef676846732599862d0091fb485e7486838fd3\n",
       "\n",
       "[274 rows x 2 columns]"
      ]
     },
     "execution_count": 20,
     "metadata": {},
     "output_type": "execute_result"
    }
   ],
   "source": [
    "final_df"
   ]
  },
  {
   "cell_type": "code",
   "execution_count": 23,
   "id": "57a5afc5",
   "metadata": {},
   "outputs": [],
   "source": [
    "pd.options.mode.chained_assignment = None"
   ]
  },
  {
   "cell_type": "code",
   "execution_count": 24,
   "id": "67c53464",
   "metadata": {},
   "outputs": [
    {
     "name": "stdout",
     "output_type": "stream",
     "text": [
      "../4000000to4999999_BlockTransaction/4000000to4999999_BlockTransaction.csv\n"
     ]
    }
   ],
   "source": [
    "import numpy as np\n",
    "print(path)\n",
    "final_df.reset_index(drop=True, inplace=True)\n",
    "final_df['tx_sent'] = np.zeros(274)\n",
    "final_df['tx_rec'] = np.zeros(274)\n",
    "\n",
    "\n",
    "for df in pd.read_csv(path, chunksize=1000000):\n",
    "    for i in range(len(final_df)):\n",
    "        tx_sent = (df['from'] == final_df['1'].loc[i]).sum()\n",
    "        tx_rec = (df['to'] == final_df['1'].loc[i]).sum()\n",
    "        final_df['tx_sent'].loc[i]+=tx_sent\n",
    "        final_df['tx_rec'].loc[i]+=tx_rec\n",
    "#         break\n",
    "#     break"
   ]
  },
  {
   "cell_type": "code",
   "execution_count": 26,
   "id": "289163df",
   "metadata": {},
   "outputs": [],
   "source": [
    "with open('4000000to4999999_BlockTransaction_count.csv','w') as f:\n",
    "    final_df.to_csv(f,index=False,header=True)"
   ]
  },
  {
   "cell_type": "code",
   "execution_count": 44,
   "id": "2c278141",
   "metadata": {},
   "outputs": [],
   "source": [
    "path = '../4000000to4999999_BlockTransaction/'"
   ]
  },
  {
   "cell_type": "code",
   "execution_count": 47,
   "id": "49d3fbff",
   "metadata": {},
   "outputs": [],
   "source": [
    "from datetime import date\n",
    "import time\n",
    "start=True\n",
    "time_list = []\n",
    "for df in pd.read_csv(path+'processed.csv', chunksize=1000000):\n",
    "    if start:\n",
    "        time_list.append(date.fromtimestamp(df.iloc[0][0]))\n",
    "    else:\n",
    "        time_list.append(date.fromtimestamp(df.iloc[-1][0]))"
   ]
  },
  {
   "cell_type": "code",
   "execution_count": 50,
   "id": "a11ce12a",
   "metadata": {},
   "outputs": [],
   "source": [
    "time_df = pd.DataFrame(time_list)"
   ]
  },
  {
   "cell_type": "code",
   "execution_count": 51,
   "id": "98292770",
   "metadata": {},
   "outputs": [
    {
     "data": {
      "text/html": [
       "<div>\n",
       "<style scoped>\n",
       "    .dataframe tbody tr th:only-of-type {\n",
       "        vertical-align: middle;\n",
       "    }\n",
       "\n",
       "    .dataframe tbody tr th {\n",
       "        vertical-align: top;\n",
       "    }\n",
       "\n",
       "    .dataframe thead th {\n",
       "        text-align: right;\n",
       "    }\n",
       "</style>\n",
       "<table border=\"1\" class=\"dataframe\">\n",
       "  <thead>\n",
       "    <tr style=\"text-align: right;\">\n",
       "      <th></th>\n",
       "      <th>0</th>\n",
       "    </tr>\n",
       "  </thead>\n",
       "  <tbody>\n",
       "    <tr>\n",
       "      <th>0</th>\n",
       "      <td>2017-07-10</td>\n",
       "    </tr>\n",
       "    <tr>\n",
       "      <th>1</th>\n",
       "      <td>2017-07-16</td>\n",
       "    </tr>\n",
       "    <tr>\n",
       "      <th>2</th>\n",
       "      <td>2017-07-23</td>\n",
       "    </tr>\n",
       "    <tr>\n",
       "      <th>3</th>\n",
       "      <td>2017-07-30</td>\n",
       "    </tr>\n",
       "    <tr>\n",
       "      <th>4</th>\n",
       "      <td>2017-08-07</td>\n",
       "    </tr>\n",
       "  </tbody>\n",
       "</table>\n",
       "</div>"
      ],
      "text/plain": [
       "            0\n",
       "0  2017-07-10\n",
       "1  2017-07-16\n",
       "2  2017-07-23\n",
       "3  2017-07-30\n",
       "4  2017-08-07"
      ]
     },
     "execution_count": 51,
     "metadata": {},
     "output_type": "execute_result"
    }
   ],
   "source": [
    "time_df.head()"
   ]
  },
  {
   "cell_type": "code",
   "execution_count": 3,
   "id": "9c2229eb",
   "metadata": {},
   "outputs": [],
   "source": [
    "pd.options.mode.chained_assignment = None\n",
    "def extract_features(path,save_path):\n",
    "    print(path)\n",
    "    print(save_path)\n",
    "    filePath = save_path+'processed.csv'\n",
    "    if os.path.exists(filePath):\n",
    "        os.remove(filePath)\n",
    "        \n",
    "    start = True\n",
    "    for df in pd.read_csv(path, chunksize=100000):\n",
    "        proc_df = df[df['toIsContract']==0]\n",
    "        proc_df = proc_df[proc_df['fromIsContract']==0]\n",
    "        df1 = proc_df[['timestamp', 'from','to','value','gasLimit','gasPrice','gasUsed']]\n",
    "        with open(filePath, 'a') as f:\n",
    "            if start:\n",
    "                start=False\n",
    "                df1.to_csv(f,index=False,header=True)\n",
    "            else:\n",
    "                df1.to_csv(f,index=False, header=False)\n"
   ]
  },
  {
   "cell_type": "code",
   "execution_count": 4,
   "id": "767e70e3",
   "metadata": {},
   "outputs": [],
   "source": [
    "files_path = '../csvfiles/*'\n",
    "def extract_labels(files_path,path):\n",
    "    print(path)\n",
    "    files = []\n",
    "    for name in glob.glob(files_path):\n",
    "        files.append(name)\n",
    "    \n",
    "    extracted_labels=[]\n",
    "    for df2 in pd.read_csv(path, chunksize=10000000):\n",
    "        for f in files:\n",
    "            df = pd.read_csv(f,header=None)\n",
    "            for addr in df[0]:\n",
    "                if df2[df2['from']==addr].count()[0]> 0:\n",
    "                    extracted_labels.append((f[12:-4],addr))\n",
    "\n",
    "    return extracted_labels"
   ]
  },
  {
   "cell_type": "code",
   "execution_count": 5,
   "id": "c5292d9b",
   "metadata": {},
   "outputs": [],
   "source": [
    "def save_df(path,df):\n",
    "    print(path)\n",
    "    with open(path, 'w') as f:\n",
    "        df.to_csv(f,index=False,header=True)\n",
    "    "
   ]
  },
  {
   "cell_type": "code",
   "execution_count": 6,
   "id": "5674ea25",
   "metadata": {},
   "outputs": [],
   "source": [
    "def extract_time(path):\n",
    "    start=True\n",
    "    time_list = []\n",
    "    for df in pd.read_csv(path, chunksize=10000000):\n",
    "        if start:\n",
    "            time_list.append(date.fromtimestamp(df.iloc[0][0]))\n",
    "        else:\n",
    "            time_list.append(date.fromtimestamp(df.iloc[-1][0]))\n",
    "    return time_list"
   ]
  },
  {
   "cell_type": "code",
   "execution_count": 7,
   "id": "852afac9",
   "metadata": {},
   "outputs": [],
   "source": [
    "def extract_tx_counts(path,final_df):\n",
    "    print(path)\n",
    "    final_df.reset_index(drop=True, inplace=True)\n",
    "    final_df['tx_sent'] = np.zeros(len(final_df))\n",
    "    final_df['tx_rec'] = np.zeros(len(final_df))\n",
    "\n",
    "\n",
    "    for df in pd.read_csv(path, chunksize=10000000):\n",
    "        for i in range(len(final_df)):\n",
    "            tx_sent = (df['from'] == final_df['1'].loc[i]).sum()\n",
    "            tx_rec = (df['to'] == final_df['1'].loc[i]).sum()\n",
    "            final_df['tx_sent'].loc[i]+=tx_sent\n",
    "            final_df['tx_rec'].loc[i]+=tx_rec\n",
    "    #         break\n",
    "    #     break"
   ]
  },
  {
   "cell_type": "code",
   "execution_count": 29,
   "id": "4791e930",
   "metadata": {},
   "outputs": [
    {
     "name": "stdout",
     "output_type": "stream",
     "text": [
      "0to999999_BlockTransaction\t       4000000to4999999_BlockTransaction\r\n",
      "0to999999_BlockTransaction.zip\t       4000000to4999999_BlockTransaction.zip\r\n",
      "1000000to1999999_BlockTransaction      5000000to5999999_BlockTransaction.zip\r\n",
      "1000000to1999999_BlockTransaction.zip  blockchain\r\n",
      "2000000to2999999_BlockTransaction      blockchain_code\r\n",
      "2000000to2999999_BlockTransaction.zip  Compressed\r\n",
      "3000000to3999999_BlockTransaction      csvfiles\r\n",
      "3000000to3999999_BlockTransaction.zip  fm.zip\r\n"
     ]
    }
   ],
   "source": [
    "!ls ../"
   ]
  },
  {
   "cell_type": "code",
   "execution_count": 24,
   "id": "af7f68d0",
   "metadata": {},
   "outputs": [],
   "source": [
    "save_path = '../blockchain_files/4000000to4999999_BlockTransaction/'\n",
    "path = '../blockchain_files/4000000to4999999_BlockTransaction/4000000to4999999_BlockTransaction.csv'"
   ]
  },
  {
   "cell_type": "code",
   "execution_count": 25,
   "id": "4c4062af",
   "metadata": {},
   "outputs": [
    {
     "name": "stdout",
     "output_type": "stream",
     "text": [
      "../blockchain_files/4000000to4999999_BlockTransaction/4000000to4999999_BlockTransaction.csv\n",
      "../blockchain_files/4000000to4999999_BlockTransaction/\n"
     ]
    }
   ],
   "source": [
    "extract_features(path,save_path)"
   ]
  },
  {
   "cell_type": "code",
   "execution_count": 26,
   "id": "d773cf60",
   "metadata": {},
   "outputs": [
    {
     "name": "stdout",
     "output_type": "stream",
     "text": [
      "../blockchain_files/4000000to4999999_BlockTransaction/processed.csv\n"
     ]
    }
   ],
   "source": [
    "extracted_labels = extract_labels(files_path,save_path+'processed.csv')"
   ]
  },
  {
   "cell_type": "code",
   "execution_count": 27,
   "id": "62adb3c2",
   "metadata": {},
   "outputs": [
    {
     "data": {
      "text/plain": [
       "(878, 2)"
      ]
     },
     "execution_count": 27,
     "metadata": {},
     "output_type": "execute_result"
    }
   ],
   "source": [
    "extracted_labels_df = pd.DataFrame(extracted_labels)\n",
    "extracted_labels_df.shape"
   ]
  },
  {
   "cell_type": "code",
   "execution_count": 28,
   "id": "86c318f3",
   "metadata": {},
   "outputs": [
    {
     "name": "stdout",
     "output_type": "stream",
     "text": [
      "../blockchain_files/4000000to4999999_BlockTransaction/extracted_labels.csv\n"
     ]
    }
   ],
   "source": [
    "extracted_labels_df = pd.DataFrame(extracted_labels)\n",
    "save_df(save_path+'extracted_labels.csv',extracted_labels_df)"
   ]
  },
  {
   "cell_type": "code",
   "execution_count": 29,
   "id": "814139a7",
   "metadata": {},
   "outputs": [],
   "source": [
    "df = pd.read_csv(save_path+'extracted_labels.csv')\n",
    "df_uni=df.drop_duplicates()"
   ]
  },
  {
   "cell_type": "code",
   "execution_count": 30,
   "id": "5d494ac7",
   "metadata": {},
   "outputs": [
    {
     "data": {
      "text/html": [
       "<div>\n",
       "<style scoped>\n",
       "    .dataframe tbody tr th:only-of-type {\n",
       "        vertical-align: middle;\n",
       "    }\n",
       "\n",
       "    .dataframe tbody tr th {\n",
       "        vertical-align: top;\n",
       "    }\n",
       "\n",
       "    .dataframe thead th {\n",
       "        text-align: right;\n",
       "    }\n",
       "</style>\n",
       "<table border=\"1\" class=\"dataframe\">\n",
       "  <thead>\n",
       "    <tr style=\"text-align: right;\">\n",
       "      <th></th>\n",
       "      <th>0</th>\n",
       "      <th>1</th>\n",
       "    </tr>\n",
       "  </thead>\n",
       "  <tbody>\n",
       "    <tr>\n",
       "      <th>17</th>\n",
       "      <td>exchange</td>\n",
       "      <td>0x5baeac0a0417a05733884852aa068b706967e790</td>\n",
       "    </tr>\n",
       "    <tr>\n",
       "      <th>18</th>\n",
       "      <td>exchange</td>\n",
       "      <td>0x2984581ece53a4390d1f568673cf693139c97049</td>\n",
       "    </tr>\n",
       "    <tr>\n",
       "      <th>169</th>\n",
       "      <td>isowallet</td>\n",
       "      <td>0x6a164122d5cf7c840d26e829b46dcc4ed6c0ae48</td>\n",
       "    </tr>\n",
       "  </tbody>\n",
       "</table>\n",
       "</div>"
      ],
      "text/plain": [
       "             0                                           1\n",
       "17    exchange  0x5baeac0a0417a05733884852aa068b706967e790\n",
       "18    exchange  0x2984581ece53a4390d1f568673cf693139c97049\n",
       "169  isowallet  0x6a164122d5cf7c840d26e829b46dcc4ed6c0ae48"
      ]
     },
     "execution_count": 30,
     "metadata": {},
     "output_type": "execute_result"
    }
   ],
   "source": [
    "df_uni[df_uni['1'].duplicated()]"
   ]
  },
  {
   "cell_type": "code",
   "execution_count": 31,
   "id": "aa8aa88f",
   "metadata": {},
   "outputs": [
    {
     "data": {
      "text/html": [
       "<div>\n",
       "<style scoped>\n",
       "    .dataframe tbody tr th:only-of-type {\n",
       "        vertical-align: middle;\n",
       "    }\n",
       "\n",
       "    .dataframe tbody tr th {\n",
       "        vertical-align: top;\n",
       "    }\n",
       "\n",
       "    .dataframe thead th {\n",
       "        text-align: right;\n",
       "    }\n",
       "</style>\n",
       "<table border=\"1\" class=\"dataframe\">\n",
       "  <thead>\n",
       "    <tr style=\"text-align: right;\">\n",
       "      <th></th>\n",
       "      <th>0</th>\n",
       "      <th>1</th>\n",
       "    </tr>\n",
       "  </thead>\n",
       "  <tbody>\n",
       "    <tr>\n",
       "      <th>0</th>\n",
       "      <td>compromised</td>\n",
       "      <td>0x5baeac0a0417a05733884852aa068b706967e790</td>\n",
       "    </tr>\n",
       "    <tr>\n",
       "      <th>1</th>\n",
       "      <td>compromised</td>\n",
       "      <td>0x2984581ece53a4390d1f568673cf693139c97049</td>\n",
       "    </tr>\n",
       "    <tr>\n",
       "      <th>98</th>\n",
       "      <td>compromised</td>\n",
       "      <td>0x6a164122d5cf7c840d26e829b46dcc4ed6c0ae48</td>\n",
       "    </tr>\n",
       "  </tbody>\n",
       "</table>\n",
       "</div>"
      ],
      "text/plain": [
       "              0                                           1\n",
       "0   compromised  0x5baeac0a0417a05733884852aa068b706967e790\n",
       "1   compromised  0x2984581ece53a4390d1f568673cf693139c97049\n",
       "98  compromised  0x6a164122d5cf7c840d26e829b46dcc4ed6c0ae48"
      ]
     },
     "execution_count": 31,
     "metadata": {},
     "output_type": "execute_result"
    }
   ],
   "source": [
    "df_uni[df_uni['1'].duplicated(keep='last')]"
   ]
  },
  {
   "cell_type": "code",
   "execution_count": 16,
   "id": "d09fe670",
   "metadata": {},
   "outputs": [
    {
     "data": {
      "text/plain": [
       "0    0x5baeac0a0417a05733884852aa068b706967e790\n",
       "1    0x2984581ece53a4390d1f568673cf693139c97049\n",
       "2    0x027beefcbad782faf69fad12dee97ed894c68549\n",
       "3    0xb6aac3b56ff818496b747ea57fcbe42a9aae6218\n",
       "4    0x0ee4e2d09aec35bdf08083b649033ac0a41aa75e\n",
       "Name: 1, dtype: object"
      ]
     },
     "execution_count": 16,
     "metadata": {},
     "output_type": "execute_result"
    }
   ],
   "source": [
    "df_uni['1'].head()"
   ]
  },
  {
   "cell_type": "code",
   "execution_count": 32,
   "id": "dab28e28",
   "metadata": {},
   "outputs": [],
   "source": [
    "final_df = df_uni[df_uni['1'].duplicated(keep='last')==False].copy()"
   ]
  },
  {
   "cell_type": "code",
   "execution_count": 77,
   "id": "5916fb2c",
   "metadata": {},
   "outputs": [
    {
     "data": {
      "text/html": [
       "<div>\n",
       "<style scoped>\n",
       "    .dataframe tbody tr th:only-of-type {\n",
       "        vertical-align: middle;\n",
       "    }\n",
       "\n",
       "    .dataframe tbody tr th {\n",
       "        vertical-align: top;\n",
       "    }\n",
       "\n",
       "    .dataframe thead th {\n",
       "        text-align: right;\n",
       "    }\n",
       "</style>\n",
       "<table border=\"1\" class=\"dataframe\">\n",
       "  <thead>\n",
       "    <tr style=\"text-align: right;\">\n",
       "      <th></th>\n",
       "      <th>0</th>\n",
       "      <th>1</th>\n",
       "    </tr>\n",
       "  </thead>\n",
       "  <tbody>\n",
       "    <tr>\n",
       "      <th>275</th>\n",
       "      <td>exchange</td>\n",
       "      <td>0x2984581ece53a4390d1f568673cf693139c97049</td>\n",
       "    </tr>\n",
       "  </tbody>\n",
       "</table>\n",
       "</div>"
      ],
      "text/plain": [
       "            0                                           1\n",
       "275  exchange  0x2984581ece53a4390d1f568673cf693139c97049"
      ]
     },
     "execution_count": 77,
     "metadata": {},
     "output_type": "execute_result"
    }
   ],
   "source": [
    "final_df[final_df['1']=='0x2984581ece53a4390d1f568673cf693139c97049']"
   ]
  },
  {
   "cell_type": "code",
   "execution_count": 33,
   "id": "9f48eb78",
   "metadata": {},
   "outputs": [
    {
     "name": "stdout",
     "output_type": "stream",
     "text": [
      "../blockchain_files/4000000to4999999_BlockTransaction/processed.csv\n"
     ]
    }
   ],
   "source": [
    "extract_tx_counts(save_path+'processed.csv',final_df)"
   ]
  },
  {
   "cell_type": "code",
   "execution_count": 34,
   "id": "9101487d",
   "metadata": {},
   "outputs": [
    {
     "name": "stdout",
     "output_type": "stream",
     "text": [
      "../blockchain_files/4000000to4999999_BlockTransaction/tx_counts.csv\n"
     ]
    }
   ],
   "source": [
    "save_df(save_path+'tx_counts.csv',final_df)"
   ]
  },
  {
   "cell_type": "code",
   "execution_count": 35,
   "id": "de4f2824",
   "metadata": {},
   "outputs": [],
   "source": [
    "time_list = extract_time(save_path+'processed.csv')"
   ]
  },
  {
   "cell_type": "code",
   "execution_count": 36,
   "id": "48dad60f",
   "metadata": {},
   "outputs": [
    {
     "data": {
      "text/plain": [
       "(7, 1)"
      ]
     },
     "execution_count": 36,
     "metadata": {},
     "output_type": "execute_result"
    }
   ],
   "source": [
    "time_df = pd.DataFrame(time_list)\n",
    "time_df.shape"
   ]
  },
  {
   "cell_type": "code",
   "execution_count": 37,
   "id": "662a68d6",
   "metadata": {},
   "outputs": [
    {
     "name": "stdout",
     "output_type": "stream",
     "text": [
      "../blockchain_files/4000000to4999999_BlockTransaction/time.csv\n"
     ]
    }
   ],
   "source": [
    "save_df(save_path+'time.csv',time_df)"
   ]
  },
  {
   "cell_type": "code",
   "execution_count": 38,
   "id": "92bfefcc",
   "metadata": {},
   "outputs": [
    {
     "data": {
      "text/plain": [
       "(248, 4)"
      ]
     },
     "execution_count": 38,
     "metadata": {},
     "output_type": "execute_result"
    }
   ],
   "source": [
    "final_df.shape"
   ]
  },
  {
   "cell_type": "code",
   "execution_count": 39,
   "id": "81f2614c",
   "metadata": {},
   "outputs": [
    {
     "data": {
      "text/html": [
       "<div>\n",
       "<style scoped>\n",
       "    .dataframe tbody tr th:only-of-type {\n",
       "        vertical-align: middle;\n",
       "    }\n",
       "\n",
       "    .dataframe tbody tr th {\n",
       "        vertical-align: top;\n",
       "    }\n",
       "\n",
       "    .dataframe thead th {\n",
       "        text-align: right;\n",
       "    }\n",
       "</style>\n",
       "<table border=\"1\" class=\"dataframe\">\n",
       "  <thead>\n",
       "    <tr style=\"text-align: right;\">\n",
       "      <th></th>\n",
       "      <th>0</th>\n",
       "      <th>1</th>\n",
       "      <th>tx_sent</th>\n",
       "      <th>tx_rec</th>\n",
       "    </tr>\n",
       "  </thead>\n",
       "  <tbody>\n",
       "    <tr>\n",
       "      <th>0</th>\n",
       "      <td>compromised</td>\n",
       "      <td>0xb6aac3b56ff818496b747ea57fcbe42a9aae6218</td>\n",
       "      <td>136854.0</td>\n",
       "      <td>90899.0</td>\n",
       "    </tr>\n",
       "    <tr>\n",
       "      <th>1</th>\n",
       "      <td>compromised</td>\n",
       "      <td>0x0ee4e2d09aec35bdf08083b649033ac0a41aa75e</td>\n",
       "      <td>819.0</td>\n",
       "      <td>3.0</td>\n",
       "    </tr>\n",
       "    <tr>\n",
       "      <th>2</th>\n",
       "      <td>exchange</td>\n",
       "      <td>0x3f5ce5fbfe3e9af3971dd833d26ba9b5c936f0be</td>\n",
       "      <td>860631.0</td>\n",
       "      <td>1508938.0</td>\n",
       "    </tr>\n",
       "    <tr>\n",
       "      <th>3</th>\n",
       "      <td>exchange</td>\n",
       "      <td>0x001866ae5b3de6caa5a51543fd9fb64f524f5478</td>\n",
       "      <td>922.0</td>\n",
       "      <td>1148.0</td>\n",
       "    </tr>\n",
       "    <tr>\n",
       "      <th>4</th>\n",
       "      <td>exchange</td>\n",
       "      <td>0x1151314c646ce4e0efd76d1af4760ae66a9fe30f</td>\n",
       "      <td>220233.0</td>\n",
       "      <td>14.0</td>\n",
       "    </tr>\n",
       "    <tr>\n",
       "      <th>...</th>\n",
       "      <td>...</td>\n",
       "      <td>...</td>\n",
       "      <td>...</td>\n",
       "      <td>...</td>\n",
       "    </tr>\n",
       "    <tr>\n",
       "      <th>243</th>\n",
       "      <td>phish_hack</td>\n",
       "      <td>0xdafc2a2d4e070f863cfcb5887bc2516e05e18877</td>\n",
       "      <td>26.0</td>\n",
       "      <td>68.0</td>\n",
       "    </tr>\n",
       "    <tr>\n",
       "      <th>244</th>\n",
       "      <td>phish_hack</td>\n",
       "      <td>0xd31b1bee0c9f42cb47406d52a796d8a26c5cf802</td>\n",
       "      <td>4.0</td>\n",
       "      <td>7.0</td>\n",
       "    </tr>\n",
       "    <tr>\n",
       "      <th>245</th>\n",
       "      <td>phish_hack</td>\n",
       "      <td>0x0059b14e35dab1b4eee1e2926c7a5660da66f747</td>\n",
       "      <td>1.0</td>\n",
       "      <td>75.0</td>\n",
       "    </tr>\n",
       "    <tr>\n",
       "      <th>246</th>\n",
       "      <td>phish_hack</td>\n",
       "      <td>0xf3a3fe3318722e1d060845ad7760cc98abe6f977</td>\n",
       "      <td>1.0</td>\n",
       "      <td>1.0</td>\n",
       "    </tr>\n",
       "    <tr>\n",
       "      <th>247</th>\n",
       "      <td>phish_hack</td>\n",
       "      <td>0x570ac27d1048dcba1a4c58fe80109b9cf9b0e2ef</td>\n",
       "      <td>1.0</td>\n",
       "      <td>1.0</td>\n",
       "    </tr>\n",
       "  </tbody>\n",
       "</table>\n",
       "<p>248 rows × 4 columns</p>\n",
       "</div>"
      ],
      "text/plain": [
       "               0                                           1   tx_sent  \\\n",
       "0    compromised  0xb6aac3b56ff818496b747ea57fcbe42a9aae6218  136854.0   \n",
       "1    compromised  0x0ee4e2d09aec35bdf08083b649033ac0a41aa75e     819.0   \n",
       "2       exchange  0x3f5ce5fbfe3e9af3971dd833d26ba9b5c936f0be  860631.0   \n",
       "3       exchange  0x001866ae5b3de6caa5a51543fd9fb64f524f5478     922.0   \n",
       "4       exchange  0x1151314c646ce4e0efd76d1af4760ae66a9fe30f  220233.0   \n",
       "..           ...                                         ...       ...   \n",
       "243   phish_hack  0xdafc2a2d4e070f863cfcb5887bc2516e05e18877      26.0   \n",
       "244   phish_hack  0xd31b1bee0c9f42cb47406d52a796d8a26c5cf802       4.0   \n",
       "245   phish_hack  0x0059b14e35dab1b4eee1e2926c7a5660da66f747       1.0   \n",
       "246   phish_hack  0xf3a3fe3318722e1d060845ad7760cc98abe6f977       1.0   \n",
       "247   phish_hack  0x570ac27d1048dcba1a4c58fe80109b9cf9b0e2ef       1.0   \n",
       "\n",
       "        tx_rec  \n",
       "0      90899.0  \n",
       "1          3.0  \n",
       "2    1508938.0  \n",
       "3       1148.0  \n",
       "4         14.0  \n",
       "..         ...  \n",
       "243       68.0  \n",
       "244        7.0  \n",
       "245       75.0  \n",
       "246        1.0  \n",
       "247        1.0  \n",
       "\n",
       "[248 rows x 4 columns]"
      ]
     },
     "execution_count": 39,
     "metadata": {},
     "output_type": "execute_result"
    }
   ],
   "source": [
    "final_df"
   ]
  },
  {
   "cell_type": "code",
   "execution_count": null,
   "id": "be4163c6",
   "metadata": {},
   "outputs": [],
   "source": []
  }
 ],
 "metadata": {
  "kernelspec": {
   "display_name": "Python 3 (ipykernel)",
   "language": "python",
   "name": "python3"
  },
  "language_info": {
   "codemirror_mode": {
    "name": "ipython",
    "version": 3
   },
   "file_extension": ".py",
   "mimetype": "text/x-python",
   "name": "python",
   "nbconvert_exporter": "python",
   "pygments_lexer": "ipython3",
   "version": "3.7.11"
  }
 },
 "nbformat": 4,
 "nbformat_minor": 5
}

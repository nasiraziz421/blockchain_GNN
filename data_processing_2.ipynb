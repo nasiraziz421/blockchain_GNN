{
 "cells": [
  {
   "cell_type": "code",
   "execution_count": 1,
   "id": "6ff5c0ce",
   "metadata": {},
   "outputs": [],
   "source": [
    "path = '../blockchain_files/3000000to3999999_BlockTransaction/'"
   ]
  },
  {
   "cell_type": "code",
   "execution_count": 2,
   "id": "78cc992a",
   "metadata": {},
   "outputs": [],
   "source": [
    "import pandas as pd\n",
    "from datetime import datetime\n",
    "import time\n",
    "import numpy as np\n",
    "import torch\n",
    "from torch_geometric.data import Data\n",
    "\n",
    "from torch_geometric.loader import DataLoader\n",
    "from torch_geometric.data import InMemoryDataset"
   ]
  },
  {
   "cell_type": "code",
   "execution_count": 3,
   "id": "6eff63fc",
   "metadata": {},
   "outputs": [],
   "source": [
    "df = pd.read_csv(path+'final.csv')"
   ]
  },
  {
   "cell_type": "code",
   "execution_count": 4,
   "id": "1a37a486",
   "metadata": {},
   "outputs": [
    {
     "name": "stdout",
     "output_type": "stream",
     "text": [
      "mining:  3499995\n",
      "nan:  0\n",
      "exchange:  1315278\n",
      "walletapp:  52765\n",
      "compromised:  24937\n",
      "gambling:  823\n",
      "isowallet:  135\n",
      "phish_hack:  172\n"
     ]
    }
   ],
   "source": [
    "labels = df['0'].unique()\n",
    "for label in labels:\n",
    "    print('%s: '% label,(df['0'] == label).sum())\n",
    "# print('mining: ',(merged_df['0'] == 'mining').sum())"
   ]
  },
  {
   "cell_type": "code",
   "execution_count": 16,
   "id": "6d70a9cd",
   "metadata": {},
   "outputs": [
    {
     "name": "stdout",
     "output_type": "stream",
     "text": [
      "exchange\n"
     ]
    },
    {
     "data": {
      "text/html": [
       "<div>\n",
       "<style scoped>\n",
       "    .dataframe tbody tr th:only-of-type {\n",
       "        vertical-align: middle;\n",
       "    }\n",
       "\n",
       "    .dataframe tbody tr th {\n",
       "        vertical-align: top;\n",
       "    }\n",
       "\n",
       "    .dataframe thead th {\n",
       "        text-align: right;\n",
       "    }\n",
       "</style>\n",
       "<table border=\"1\" class=\"dataframe\">\n",
       "  <thead>\n",
       "    <tr style=\"text-align: right;\">\n",
       "      <th></th>\n",
       "      <th>timestamp</th>\n",
       "      <th>from</th>\n",
       "      <th>to</th>\n",
       "      <th>value</th>\n",
       "      <th>gasLimit</th>\n",
       "      <th>gasPrice</th>\n",
       "      <th>gasUsed</th>\n",
       "      <th>0</th>\n",
       "    </tr>\n",
       "  </thead>\n",
       "  <tbody>\n",
       "    <tr>\n",
       "      <th>22</th>\n",
       "      <td>1484475182</td>\n",
       "      <td>13</td>\n",
       "      <td>1676</td>\n",
       "      <td>0.989400</td>\n",
       "      <td>33.3333</td>\n",
       "      <td>3.0</td>\n",
       "      <td>2.1</td>\n",
       "      <td>exchange</td>\n",
       "    </tr>\n",
       "    <tr>\n",
       "      <th>26</th>\n",
       "      <td>1484475182</td>\n",
       "      <td>13</td>\n",
       "      <td>3522</td>\n",
       "      <td>2500.000000</td>\n",
       "      <td>33.3333</td>\n",
       "      <td>3.0</td>\n",
       "      <td>2.1</td>\n",
       "      <td>exchange</td>\n",
       "    </tr>\n",
       "    <tr>\n",
       "      <th>37</th>\n",
       "      <td>1484475230</td>\n",
       "      <td>17</td>\n",
       "      <td>54938</td>\n",
       "      <td>25.237936</td>\n",
       "      <td>4.0000</td>\n",
       "      <td>6.0</td>\n",
       "      <td>2.1</td>\n",
       "      <td>exchange</td>\n",
       "    </tr>\n",
       "    <tr>\n",
       "      <th>80</th>\n",
       "      <td>1484475418</td>\n",
       "      <td>33</td>\n",
       "      <td>1890243</td>\n",
       "      <td>0.010000</td>\n",
       "      <td>9.0000</td>\n",
       "      <td>2.0</td>\n",
       "      <td>2.1</td>\n",
       "      <td>exchange</td>\n",
       "    </tr>\n",
       "    <tr>\n",
       "      <th>84</th>\n",
       "      <td>1484475449</td>\n",
       "      <td>17</td>\n",
       "      <td>55130</td>\n",
       "      <td>0.322861</td>\n",
       "      <td>4.0000</td>\n",
       "      <td>6.0</td>\n",
       "      <td>2.1</td>\n",
       "      <td>exchange</td>\n",
       "    </tr>\n",
       "  </tbody>\n",
       "</table>\n",
       "</div>"
      ],
      "text/plain": [
       "     timestamp  from       to        value  gasLimit  gasPrice  gasUsed  \\\n",
       "22  1484475182    13     1676     0.989400   33.3333       3.0      2.1   \n",
       "26  1484475182    13     3522  2500.000000   33.3333       3.0      2.1   \n",
       "37  1484475230    17    54938    25.237936    4.0000       6.0      2.1   \n",
       "80  1484475418    33  1890243     0.010000    9.0000       2.0      2.1   \n",
       "84  1484475449    17    55130     0.322861    4.0000       6.0      2.1   \n",
       "\n",
       "           0  \n",
       "22  exchange  \n",
       "26  exchange  \n",
       "37  exchange  \n",
       "80  exchange  \n",
       "84  exchange  "
      ]
     },
     "execution_count": 16,
     "metadata": {},
     "output_type": "execute_result"
    }
   ],
   "source": [
    "print(labels[2])\n",
    "exchange_data = df[df['0'] == labels[2]]\n",
    "exchange_data.head()"
   ]
  },
  {
   "cell_type": "code",
   "execution_count": 17,
   "id": "c19b767a",
   "metadata": {},
   "outputs": [],
   "source": [
    "exchange_addrs = exchange_data['from'].unique()"
   ]
  },
  {
   "cell_type": "code",
   "execution_count": 18,
   "id": "1e368907",
   "metadata": {},
   "outputs": [],
   "source": [
    "kept_ex_addrs = []\n",
    "for addr in exchange_addrs:\n",
    "    if (exchange_data['from']==addr).sum() > 100:\n",
    "        kept_ex_addrs.append(addr)\n",
    "#     print( str(addr)+' :',(exchange_data['from']==addr).sum())\n",
    "    "
   ]
  },
  {
   "cell_type": "code",
   "execution_count": 20,
   "id": "6e580154",
   "metadata": {},
   "outputs": [
    {
     "name": "stdout",
     "output_type": "stream",
     "text": [
      "mining\n"
     ]
    },
    {
     "data": {
      "text/html": [
       "<div>\n",
       "<style scoped>\n",
       "    .dataframe tbody tr th:only-of-type {\n",
       "        vertical-align: middle;\n",
       "    }\n",
       "\n",
       "    .dataframe tbody tr th {\n",
       "        vertical-align: top;\n",
       "    }\n",
       "\n",
       "    .dataframe thead th {\n",
       "        text-align: right;\n",
       "    }\n",
       "</style>\n",
       "<table border=\"1\" class=\"dataframe\">\n",
       "  <thead>\n",
       "    <tr style=\"text-align: right;\">\n",
       "      <th></th>\n",
       "      <th>timestamp</th>\n",
       "      <th>from</th>\n",
       "      <th>to</th>\n",
       "      <th>value</th>\n",
       "      <th>gasLimit</th>\n",
       "      <th>gasPrice</th>\n",
       "      <th>gasUsed</th>\n",
       "      <th>0</th>\n",
       "    </tr>\n",
       "  </thead>\n",
       "  <tbody>\n",
       "    <tr>\n",
       "      <th>0</th>\n",
       "      <td>1484475035</td>\n",
       "      <td>0</td>\n",
       "      <td>1890222</td>\n",
       "      <td>4.950000</td>\n",
       "      <td>3.9</td>\n",
       "      <td>2.0</td>\n",
       "      <td>2.1</td>\n",
       "      <td>mining</td>\n",
       "    </tr>\n",
       "    <tr>\n",
       "      <th>1</th>\n",
       "      <td>1484475035</td>\n",
       "      <td>1</td>\n",
       "      <td>1777</td>\n",
       "      <td>1.011962</td>\n",
       "      <td>9.0</td>\n",
       "      <td>2.0</td>\n",
       "      <td>2.1</td>\n",
       "      <td>mining</td>\n",
       "    </tr>\n",
       "    <tr>\n",
       "      <th>2</th>\n",
       "      <td>1484475035</td>\n",
       "      <td>1</td>\n",
       "      <td>20425</td>\n",
       "      <td>1.011957</td>\n",
       "      <td>9.0</td>\n",
       "      <td>2.0</td>\n",
       "      <td>2.1</td>\n",
       "      <td>mining</td>\n",
       "    </tr>\n",
       "    <tr>\n",
       "      <th>3</th>\n",
       "      <td>1484475035</td>\n",
       "      <td>1</td>\n",
       "      <td>1558</td>\n",
       "      <td>1.008363</td>\n",
       "      <td>9.0</td>\n",
       "      <td>2.0</td>\n",
       "      <td>2.1</td>\n",
       "      <td>mining</td>\n",
       "    </tr>\n",
       "    <tr>\n",
       "      <th>4</th>\n",
       "      <td>1484475035</td>\n",
       "      <td>1</td>\n",
       "      <td>15</td>\n",
       "      <td>1.016120</td>\n",
       "      <td>9.0</td>\n",
       "      <td>2.0</td>\n",
       "      <td>2.1</td>\n",
       "      <td>mining</td>\n",
       "    </tr>\n",
       "  </tbody>\n",
       "</table>\n",
       "</div>"
      ],
      "text/plain": [
       "    timestamp  from       to     value  gasLimit  gasPrice  gasUsed       0\n",
       "0  1484475035     0  1890222  4.950000       3.9       2.0      2.1  mining\n",
       "1  1484475035     1     1777  1.011962       9.0       2.0      2.1  mining\n",
       "2  1484475035     1    20425  1.011957       9.0       2.0      2.1  mining\n",
       "3  1484475035     1     1558  1.008363       9.0       2.0      2.1  mining\n",
       "4  1484475035     1       15  1.016120       9.0       2.0      2.1  mining"
      ]
     },
     "execution_count": 20,
     "metadata": {},
     "output_type": "execute_result"
    }
   ],
   "source": [
    "print(labels[0])\n",
    "mining_data = df[df['0'] == labels[0]]\n",
    "mining_data.head()"
   ]
  },
  {
   "cell_type": "code",
   "execution_count": 21,
   "id": "6caa16fa",
   "metadata": {},
   "outputs": [],
   "source": [
    "mining_addrs = mining_data['from'].unique()"
   ]
  },
  {
   "cell_type": "code",
   "execution_count": 22,
   "id": "0474bd0d",
   "metadata": {},
   "outputs": [],
   "source": [
    "kept_mining_addrs = []\n",
    "for addr in mining_addrs:\n",
    "    if (mining_data['from']==addr).sum() > 100:\n",
    "        kept_mining_addrs.append(addr)\n",
    "#     print( str(addr)+' :',(mining_data['from']==addr).sum())\n",
    "    "
   ]
  },
  {
   "cell_type": "code",
   "execution_count": 23,
   "id": "831d7c67",
   "metadata": {},
   "outputs": [],
   "source": [
    "def receiving_transaction_graph_h4_timed(node,st_time,end_time,dataframe):\n",
    "    \n",
    "    timed_df = dataframe[dataframe['timestamp'].between(st_time,end_time)]\n",
    "    \n",
    "    neigh1 = timed_df[timed_df['to'] == node]\n",
    "    \n",
    "    neigh2 = timed_df[timed_df['to'].isin(neigh1['from'])]\n",
    "    neigh2=neigh2[neigh2['to'] != node]\n",
    "    \n",
    "    neigh3 = timed_df[timed_df['to'].isin(neigh2['from'])]\n",
    "    neigh3 = neigh3[~neigh3['to'].isin(neigh2['to'])]\n",
    "    \n",
    "    neigh4 = timed_df[timed_df['to'].isin(neigh3['from'])]\n",
    "    neigh4 = neigh4[~neigh4['to'].isin(neigh3['to'])]\n",
    "    \n",
    "    return (neigh1,neigh2,neigh3,neigh4)\n",
    "    \n",
    "    "
   ]
  },
  {
   "cell_type": "code",
   "execution_count": 24,
   "id": "8cff145b",
   "metadata": {},
   "outputs": [],
   "source": [
    "def send_extract_graph_h4_timed(node,st_time,end_time,dataframe):\n",
    "    \n",
    "    timed_df = dataframe[dataframe['timestamp'].between(st_time,end_time)]\n",
    "    \n",
    "    neigh1 = timed_df[timed_df['from'] == node]\n",
    "    \n",
    "    neigh2 = timed_df[timed_df['from'].isin(neigh1['to'])]\n",
    "    neigh2=neigh2[neigh2['from'] != node]\n",
    "    \n",
    "    neigh3 = timed_df[timed_df['from'].isin(neigh2['to'])]\n",
    "    neigh3 = neigh3[~neigh3['from'].isin(neigh2['from'])]\n",
    "    \n",
    "    neigh4 = timed_df[timed_df['from'].isin(neigh3['to'])]\n",
    "    neigh4 = neigh4[~neigh4['from'].isin(neigh3['from'])]\n",
    "    \n",
    "    return (neigh1,neigh2,neigh3,neigh4)\n",
    "    \n",
    "    \n"
   ]
  },
  {
   "cell_type": "code",
   "execution_count": 25,
   "id": "0efeff37",
   "metadata": {},
   "outputs": [],
   "source": [
    "def aggregate_tx(data):\n",
    "    selected_data = data[['from','to','value','gasLimit','gasPrice','gasUsed']].reset_index(drop=True)\n",
    "    grouped_data = selected_data.groupby(['from','to'])\n",
    "    \n",
    "    agg_counts = grouped_data.size()\n",
    "    agg_neigh = grouped_data.mean()\n",
    "    \n",
    "    agg_neigh['counts'] = agg_counts\n",
    "    \n",
    "    return agg_neigh.reset_index()\n"
   ]
  },
  {
   "cell_type": "code",
   "execution_count": 26,
   "id": "2b4b16db",
   "metadata": {},
   "outputs": [],
   "source": [
    "def get_aggregated(graph):\n",
    "    \n",
    "    (neigh1,neigh2,neigh3,neigh4) = graph\n",
    "    \n",
    "    neigh1 = aggregate_tx(neigh1)\n",
    "    neigh2 = aggregate_tx(neigh2)\n",
    "    neigh3 = aggregate_tx(neigh3)\n",
    "    neigh4 = aggregate_tx(neigh4)\n",
    "    \n",
    "    return (neigh1,neigh2,neigh3,neigh4)\n",
    "\n",
    "def combine(send_graph,rec_graph):\n",
    "    \n",
    "    (neigh1_send,neigh2_send,neigh3_send,neigh4_send) = get_aggregated(send_graph)\n",
    "    (neigh1_rec,neigh2_rec,neigh3_rec,neigh4_rec) = get_aggregated(rec_graph)\n",
    "    \n",
    "    \n",
    "    neigh1 = pd.concat([neigh1_send,neigh1_rec])\n",
    "    neigh2 = pd.concat([neigh2_send,neigh2_rec])\n",
    "    neigh3 = pd.concat([neigh3_send,neigh3_rec])\n",
    "    neigh4 = pd.concat([neigh4_send,neigh4_rec])\n",
    "    \n",
    "    \n",
    "    return (neigh1,neigh2,neigh3,neigh4)\n",
    "\n",
    "st_time = 1484481572\n",
    "duration = 700000\n",
    "end_time = st_time+duration\n",
    "addr = kept_ex_addrs[1]\n",
    "    \n",
    "send_graph = send_extract_graph_h4_timed(addr,st_time,end_time,df)\n",
    "rec_graph = receiving_transaction_graph_h4_timed(addr,st_time,end_time,df)\n",
    "\n",
    "\n",
    "# (neigh1,neigh2,neigh3,neigh4) = get_aggregated(rec_graph)\n",
    "\n",
    "(neigh1,neigh2,neigh3,neigh4) = combine(send_graph,rec_graph)"
   ]
  },
  {
   "cell_type": "code",
   "execution_count": 27,
   "id": "f73de1dd",
   "metadata": {},
   "outputs": [],
   "source": [
    "def extract_graphs(addr,duration):\n",
    "    st_time = df.iloc[0]['timestamp']\n",
    "#     duration = 700000\n",
    "#     addr = 261\n",
    "    end_time = 0\n",
    "    graphs = []\n",
    "    while  end_time < df.iloc[-1]['timestamp']:\n",
    "        end_time = st_time+duration\n",
    "        \n",
    "        send_graph = send_extract_graph_h4_timed(addr,st_time,end_time,df)\n",
    "        rec_graph = receiving_transaction_graph_h4_timed(addr,st_time,end_time,df)\n",
    "        \n",
    "        (neigh1,neigh2,neigh3,neigh4) = combine(send_graph,rec_graph)\n",
    "        graphs.append((neigh1,neigh2,neigh3,neigh4))\n",
    "        st_time = end_time\n",
    "\n",
    "        \n",
    "    return graphs"
   ]
  },
  {
   "cell_type": "code",
   "execution_count": 28,
   "id": "acaa2afb",
   "metadata": {},
   "outputs": [],
   "source": [
    "miner_graph = []\n",
    "duration = 700000\n",
    "for addr in kept_mining_addrs:\n",
    "    miner_graph.append(extract_graphs(addr,duration))"
   ]
  },
  {
   "cell_type": "code",
   "execution_count": 29,
   "id": "0020697f",
   "metadata": {},
   "outputs": [
    {
     "data": {
      "text/plain": [
       "22"
      ]
     },
     "execution_count": 29,
     "metadata": {},
     "output_type": "execute_result"
    }
   ],
   "source": [
    "len(miner_graph[0])"
   ]
  },
  {
   "cell_type": "code",
   "execution_count": 30,
   "id": "2a473540",
   "metadata": {},
   "outputs": [],
   "source": [
    "ex_graph = []\n",
    "duration = 700000\n",
    "for addr in kept_ex_addrs:\n",
    "    ex_graph.append(extract_graphs(addr,duration))"
   ]
  },
  {
   "cell_type": "code",
   "execution_count": 31,
   "id": "d3e5b7e9",
   "metadata": {},
   "outputs": [
    {
     "data": {
      "text/plain": [
       "Data(x=[12995, 1], edge_index=[2, 17027], edge_attr=[17027, 5], y=[1])"
      ]
     },
     "execution_count": 31,
     "metadata": {},
     "output_type": "execute_result"
    }
   ],
   "source": [
    "def get_graph_data(graph,label):\n",
    "    (neigh1,neigh2,neigh3,neigh4) = graph\n",
    "    neigh1_nodes = pd.concat([neigh1['from'],neigh1['to']])\n",
    "    neigh2_nodes = pd.concat([neigh2['from'],neigh2['to']])\n",
    "    neigh3_nodes = pd.concat([neigh3['from'],neigh3['to']])\n",
    "    neigh4_nodes = pd.concat([neigh4['from'],neigh4['to']])\n",
    "\n",
    "    nodes = pd.concat([neigh1_nodes\n",
    "                  ,neigh2_nodes\n",
    "                  ,neigh3_nodes\n",
    "                  ,neigh4_nodes]).unique()\n",
    "    map_id = {j:i for i,j in enumerate(nodes)}\n",
    "    \n",
    "    neigh1['from'] = neigh1['from'].map(map_id)\n",
    "    neigh1['to'] = neigh1['to'].map(map_id)\n",
    "    \n",
    "    neigh2['from'] = neigh2['from'].map(map_id)\n",
    "    neigh2['to'] = neigh2['to'].map(map_id)\n",
    "    \n",
    "    neigh3['from'] = neigh3['from'].map(map_id)\n",
    "    neigh3['to'] = neigh3['to'].map(map_id)\n",
    "    \n",
    "    neigh4['from'] = neigh4['from'].map(map_id)\n",
    "    neigh4['to'] = neigh4['to'].map(map_id)\n",
    "    \n",
    "    graph = pd.concat([neigh1,neigh2,neigh3,neigh4])\n",
    "    \n",
    "    edge_index = torch.tensor(graph[['from','to']].to_numpy().T, dtype=torch.long)\n",
    "    \n",
    "    x = torch.ones(nodes.shape).reshape(-1,1)\n",
    "    edge_attributes = torch.tensor(graph[['value','gasLimit','gasPrice','gasUsed' ,'counts']].to_numpy())\n",
    "    \n",
    "#     print(label)\n",
    "    data = Data(x=x, edge_index=edge_index,edge_attr = edge_attributes,y=torch.tensor([label]))\n",
    "    \n",
    "    return data\n",
    "data = get_graph_data(ex_graph[0][0],0)\n",
    "data"
   ]
  },
  {
   "cell_type": "code",
   "execution_count": 20,
   "id": "f39dfeac",
   "metadata": {},
   "outputs": [],
   "source": [
    "data_list = []\n",
    "def add_graphs_to_list(graphs,label):\n",
    "    for addr_graphs in graphs:\n",
    "        for graph in addr_graphs:\n",
    "            data_list.append(get_graph_data(graph,label))\n",
    "            \n",
    "\n",
    "add_graphs_to_list(ex_graph,0)\n",
    "add_graphs_to_list(miner_graph,1)"
   ]
  },
  {
   "cell_type": "code",
   "execution_count": 22,
   "id": "bf62c329",
   "metadata": {},
   "outputs": [],
   "source": [
    "class MyDataset(InMemoryDataset):\n",
    "    def __init__(self, root, data_list, transform=None):\n",
    "        self.data_list = data_list\n",
    "        super().__init__(root, transform)\n",
    "        self.data, self.slices = torch.load(self.processed_paths[0])\n",
    "\n",
    "    @property\n",
    "    def processed_file_names(self):\n",
    "        return 'data.pt'\n",
    "\n",
    "    def process(self):\n",
    "        torch.save(self.collate(self.data_list), self.processed_paths[0])"
   ]
  },
  {
   "cell_type": "code",
   "execution_count": 21,
   "id": "c4b3cc46",
   "metadata": {},
   "outputs": [
    {
     "ename": "NameError",
     "evalue": "name 'MyDataset' is not defined",
     "output_type": "error",
     "traceback": [
      "\u001b[0;31m---------------------------------------------------------------------------\u001b[0m",
      "\u001b[0;31mNameError\u001b[0m                                 Traceback (most recent call last)",
      "\u001b[0;32m/tmp/ipykernel_26543/1109259953.py\u001b[0m in \u001b[0;36m<module>\u001b[0;34m\u001b[0m\n\u001b[0;32m----> 1\u001b[0;31m \u001b[0mmydataset\u001b[0m \u001b[0;34m=\u001b[0m \u001b[0mMyDataset\u001b[0m\u001b[0;34m(\u001b[0m\u001b[0;34m'./data'\u001b[0m\u001b[0;34m,\u001b[0m\u001b[0mdata_list\u001b[0m\u001b[0;34m)\u001b[0m\u001b[0;34m\u001b[0m\u001b[0;34m\u001b[0m\u001b[0m\n\u001b[0m",
      "\u001b[0;31mNameError\u001b[0m: name 'MyDataset' is not defined"
     ]
    }
   ],
   "source": [
    "mydataset = MyDataset('./data',data_list)"
   ]
  },
  {
   "cell_type": "code",
   "execution_count": 22,
   "id": "808169e4",
   "metadata": {},
   "outputs": [
    {
     "data": {
      "text/plain": [
       "Data(x=[224212, 1], edge_index=[2, 359207], edge_attr=[359207, 5], y=[1])"
      ]
     },
     "execution_count": 22,
     "metadata": {},
     "output_type": "execute_result"
    }
   ],
   "source": [
    "data_list[0]"
   ]
  },
  {
   "cell_type": "code",
   "execution_count": 23,
   "id": "2a7fe40d",
   "metadata": {},
   "outputs": [
    {
     "data": {
      "text/plain": [
       "2132"
      ]
     },
     "execution_count": 23,
     "metadata": {},
     "output_type": "execute_result"
    }
   ],
   "source": [
    "len(data_list)"
   ]
  },
  {
   "cell_type": "code",
   "execution_count": 24,
   "id": "efdd1585",
   "metadata": {},
   "outputs": [],
   "source": [
    "import pickle"
   ]
  },
  {
   "cell_type": "code",
   "execution_count": 26,
   "id": "e5250508",
   "metadata": {},
   "outputs": [],
   "source": [
    "for i in range(len(data_list)):\n",
    "    with open(path+\"graphs/\"+\"graphs_data_\"+str(i), \"wb\") as fp:   #Pickling\n",
    "        pickle.dump(data_list[i], fp)"
   ]
  },
  {
   "cell_type": "code",
   "execution_count": null,
   "id": "992947f3",
   "metadata": {},
   "outputs": [],
   "source": [
    "with open(path+\"graphs_data\", \"wb\") as fp:   #Pickling\n",
    "    pickle.dump(data_list, fp)"
   ]
  },
  {
   "cell_type": "code",
   "execution_count": 27,
   "id": "7f7edfd3",
   "metadata": {},
   "outputs": [],
   "source": [
    " \n",
    "with open(path+\"graphs/\"+\"graphs_data_0\", \"rb\") as fp:   # Unpickling\n",
    "    read_graph_data = pickle.load(fp)"
   ]
  },
  {
   "cell_type": "code",
   "execution_count": 28,
   "id": "48d4a459",
   "metadata": {},
   "outputs": [
    {
     "data": {
      "text/plain": [
       "tensor(0)"
      ]
     },
     "execution_count": 28,
     "metadata": {},
     "output_type": "execute_result"
    }
   ],
   "source": [
    "((read_graph_data.x == data_list[0].x)==False).sum()"
   ]
  },
  {
   "cell_type": "code",
   "execution_count": 26,
   "id": "46c89254",
   "metadata": {},
   "outputs": [
    {
     "data": {
      "text/plain": [
       "tensor(0)"
      ]
     },
     "execution_count": 26,
     "metadata": {},
     "output_type": "execute_result"
    }
   ],
   "source": [
    "((read_graph_data[0].edge_index == data_list[0].edge_index)==False).sum()"
   ]
  },
  {
   "cell_type": "code",
   "execution_count": 27,
   "id": "885f28df",
   "metadata": {},
   "outputs": [
    {
     "data": {
      "text/plain": [
       "tensor(0)"
      ]
     },
     "execution_count": 27,
     "metadata": {},
     "output_type": "execute_result"
    }
   ],
   "source": [
    "((read_graph_data[0].edge_attr == data_list[0].edge_attr)==False).sum()"
   ]
  },
  {
   "cell_type": "code",
   "execution_count": 28,
   "id": "c8f72754",
   "metadata": {},
   "outputs": [
    {
     "data": {
      "text/plain": [
       "924"
      ]
     },
     "execution_count": 28,
     "metadata": {},
     "output_type": "execute_result"
    }
   ],
   "source": [
    "len(data_list)"
   ]
  },
  {
   "cell_type": "code",
   "execution_count": null,
   "id": "57b65543",
   "metadata": {},
   "outputs": [],
   "source": []
  }
 ],
 "metadata": {
  "kernelspec": {
   "display_name": "Python 3 (ipykernel)",
   "language": "python",
   "name": "python3"
  },
  "language_info": {
   "codemirror_mode": {
    "name": "ipython",
    "version": 3
   },
   "file_extension": ".py",
   "mimetype": "text/x-python",
   "name": "python",
   "nbconvert_exporter": "python",
   "pygments_lexer": "ipython3",
   "version": "3.7.11"
  }
 },
 "nbformat": 4,
 "nbformat_minor": 5
}

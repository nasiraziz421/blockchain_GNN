{
 "cells": [
  {
   "cell_type": "code",
   "execution_count": 1,
   "id": "714f175f",
   "metadata": {},
   "outputs": [],
   "source": [
    "import pandas as pd"
   ]
  },
  {
   "cell_type": "code",
   "execution_count": 2,
   "id": "d2d12711",
   "metadata": {},
   "outputs": [
    {
     "name": "stdout",
     "output_type": "stream",
     "text": [
      "0to999999_BlockTransaction\t       2000000to2999999_BlockTransaction.zip\r\n",
      "0to999999_BlockTransaction.zip\t       blockchain\r\n",
      "1000000to1999999_BlockTransaction      blockchain_code\r\n",
      "1000000to1999999_BlockTransaction.zip  csvfiles\r\n",
      "2000000to2999999_BlockTransaction\r\n"
     ]
    }
   ],
   "source": [
    "!ls ../"
   ]
  },
  {
   "cell_type": "code",
   "execution_count": 3,
   "id": "a85df1e9",
   "metadata": {},
   "outputs": [],
   "source": [
    "path1 = '../0to999999_BlockTransaction/processed.csv'\n",
    "path2 = '../1000000to1999999_BlockTransaction/processed.csv'\n",
    "path3 = '../2000000to2999999_BlockTransaction/processed.csv'"
   ]
  },
  {
   "cell_type": "code",
   "execution_count": 4,
   "id": "930a77c1",
   "metadata": {},
   "outputs": [
    {
     "data": {
      "text/html": [
       "<div>\n",
       "<style scoped>\n",
       "    .dataframe tbody tr th:only-of-type {\n",
       "        vertical-align: middle;\n",
       "    }\n",
       "\n",
       "    .dataframe tbody tr th {\n",
       "        vertical-align: top;\n",
       "    }\n",
       "\n",
       "    .dataframe thead th {\n",
       "        text-align: right;\n",
       "    }\n",
       "</style>\n",
       "<table border=\"1\" class=\"dataframe\">\n",
       "  <thead>\n",
       "    <tr style=\"text-align: right;\">\n",
       "      <th></th>\n",
       "      <th>timestamp</th>\n",
       "      <th>from</th>\n",
       "      <th>to</th>\n",
       "      <th>value</th>\n",
       "      <th>gasLimit</th>\n",
       "      <th>gasPrice</th>\n",
       "      <th>gasUsed</th>\n",
       "    </tr>\n",
       "  </thead>\n",
       "  <tbody>\n",
       "    <tr>\n",
       "      <th>0</th>\n",
       "      <td>1438918233</td>\n",
       "      <td>0xa1e4380a3b1f749673e270229993ee55f35663b4</td>\n",
       "      <td>0x5df9b87991262f6ba471f09758cde1c0fc1de734</td>\n",
       "      <td>31337</td>\n",
       "      <td>21000</td>\n",
       "      <td>50000000000000</td>\n",
       "      <td>21000</td>\n",
       "    </tr>\n",
       "    <tr>\n",
       "      <th>1</th>\n",
       "      <td>1438918613</td>\n",
       "      <td>0xbd08e0cddec097db7901ea819a3d1fd9de8951a2</td>\n",
       "      <td>0x5c12a8e43faf884521c2454f39560e6c265a68c8</td>\n",
       "      <td>19900000000000000000</td>\n",
       "      <td>21000</td>\n",
       "      <td>909808707606</td>\n",
       "      <td>21000</td>\n",
       "    </tr>\n",
       "    <tr>\n",
       "      <th>2</th>\n",
       "      <td>1438918630</td>\n",
       "      <td>0x63ac545c991243fa18aec41d4f6f598e555015dc</td>\n",
       "      <td>0xc93f2250589a6563f5359051c1ea25746549f0d8</td>\n",
       "      <td>599989500000000000000</td>\n",
       "      <td>21000</td>\n",
       "      <td>500000000000</td>\n",
       "      <td>21000</td>\n",
       "    </tr>\n",
       "    <tr>\n",
       "      <th>3</th>\n",
       "      <td>1438918983</td>\n",
       "      <td>0x037dd056e7fdbd641db5b6bea2a8780a83fae180</td>\n",
       "      <td>0x7e7ec15a5944e978257ddae0008c2f2ece0a6090</td>\n",
       "      <td>100000000000000000000</td>\n",
       "      <td>21000</td>\n",
       "      <td>1000000000000</td>\n",
       "      <td>21000</td>\n",
       "    </tr>\n",
       "    <tr>\n",
       "      <th>4</th>\n",
       "      <td>1438919175</td>\n",
       "      <td>0x3f2f381491797cc5c0d48296c14fd0cd00cdfa2d</td>\n",
       "      <td>0x4bd5f0ee173c81d42765154865ee69361b6ad189</td>\n",
       "      <td>803989500000000000000</td>\n",
       "      <td>21000</td>\n",
       "      <td>500000000000</td>\n",
       "      <td>21000</td>\n",
       "    </tr>\n",
       "  </tbody>\n",
       "</table>\n",
       "</div>"
      ],
      "text/plain": [
       "    timestamp                                        from  \\\n",
       "0  1438918233  0xa1e4380a3b1f749673e270229993ee55f35663b4   \n",
       "1  1438918613  0xbd08e0cddec097db7901ea819a3d1fd9de8951a2   \n",
       "2  1438918630  0x63ac545c991243fa18aec41d4f6f598e555015dc   \n",
       "3  1438918983  0x037dd056e7fdbd641db5b6bea2a8780a83fae180   \n",
       "4  1438919175  0x3f2f381491797cc5c0d48296c14fd0cd00cdfa2d   \n",
       "\n",
       "                                           to                  value  \\\n",
       "0  0x5df9b87991262f6ba471f09758cde1c0fc1de734                  31337   \n",
       "1  0x5c12a8e43faf884521c2454f39560e6c265a68c8   19900000000000000000   \n",
       "2  0xc93f2250589a6563f5359051c1ea25746549f0d8  599989500000000000000   \n",
       "3  0x7e7ec15a5944e978257ddae0008c2f2ece0a6090  100000000000000000000   \n",
       "4  0x4bd5f0ee173c81d42765154865ee69361b6ad189  803989500000000000000   \n",
       "\n",
       "   gasLimit        gasPrice  gasUsed  \n",
       "0     21000  50000000000000    21000  \n",
       "1     21000    909808707606    21000  \n",
       "2     21000    500000000000    21000  \n",
       "3     21000   1000000000000    21000  \n",
       "4     21000    500000000000    21000  "
      ]
     },
     "execution_count": 4,
     "metadata": {},
     "output_type": "execute_result"
    }
   ],
   "source": [
    "df1 = pd.read_csv(path1)  \n",
    "df1.head()"
   ]
  },
  {
   "cell_type": "code",
   "execution_count": 5,
   "id": "54d355b4",
   "metadata": {},
   "outputs": [
    {
     "data": {
      "text/html": [
       "<div>\n",
       "<style scoped>\n",
       "    .dataframe tbody tr th:only-of-type {\n",
       "        vertical-align: middle;\n",
       "    }\n",
       "\n",
       "    .dataframe tbody tr th {\n",
       "        vertical-align: top;\n",
       "    }\n",
       "\n",
       "    .dataframe thead th {\n",
       "        text-align: right;\n",
       "    }\n",
       "</style>\n",
       "<table border=\"1\" class=\"dataframe\">\n",
       "  <thead>\n",
       "    <tr style=\"text-align: right;\">\n",
       "      <th></th>\n",
       "      <th>timestamp</th>\n",
       "      <th>from</th>\n",
       "      <th>to</th>\n",
       "      <th>value</th>\n",
       "      <th>gasLimit</th>\n",
       "      <th>gasPrice</th>\n",
       "      <th>gasUsed</th>\n",
       "    </tr>\n",
       "  </thead>\n",
       "  <tbody>\n",
       "    <tr>\n",
       "      <th>0</th>\n",
       "      <td>1455404053</td>\n",
       "      <td>0x32be343b94f860124dc4fee278fdcbd38c102d88</td>\n",
       "      <td>0xdf190dc7190dfba737d7777a163445b7fff16133</td>\n",
       "      <td>437194980000000000</td>\n",
       "      <td>50000</td>\n",
       "      <td>60000000000</td>\n",
       "      <td>21000</td>\n",
       "    </tr>\n",
       "    <tr>\n",
       "      <th>1</th>\n",
       "      <td>1455404058</td>\n",
       "      <td>0x2a65aca4d5fc5b5c859090a6c34d164135398226</td>\n",
       "      <td>0x819f4b08e6d3baa33ba63f660baed65d2a6eb64c</td>\n",
       "      <td>1048850240000000000</td>\n",
       "      <td>90000</td>\n",
       "      <td>50000000000</td>\n",
       "      <td>21000</td>\n",
       "    </tr>\n",
       "    <tr>\n",
       "      <th>2</th>\n",
       "      <td>1455404078</td>\n",
       "      <td>0x2910543af39aba0cd09dbb2d50200b3e800a63d2</td>\n",
       "      <td>0x9e486ad335492959c38a0740cb66c55ad30bb4f0</td>\n",
       "      <td>1000000000000000000</td>\n",
       "      <td>100000</td>\n",
       "      <td>50000000000</td>\n",
       "      <td>21000</td>\n",
       "    </tr>\n",
       "    <tr>\n",
       "      <th>3</th>\n",
       "      <td>1455404078</td>\n",
       "      <td>0x10d5bff7879b7eb5192b3374338bb834981910a8</td>\n",
       "      <td>0xc6c764fc6c1e1211d2b4a06ef2170f660a4512fa</td>\n",
       "      <td>1000000000000000000</td>\n",
       "      <td>90000</td>\n",
       "      <td>50000000000</td>\n",
       "      <td>21000</td>\n",
       "    </tr>\n",
       "    <tr>\n",
       "      <th>4</th>\n",
       "      <td>1455404078</td>\n",
       "      <td>0x2a65aca4d5fc5b5c859090a6c34d164135398226</td>\n",
       "      <td>0x53e0551a1e31a40855bc8e086eb8db803a625bbf</td>\n",
       "      <td>1046558020000000000</td>\n",
       "      <td>90000</td>\n",
       "      <td>50000000000</td>\n",
       "      <td>21000</td>\n",
       "    </tr>\n",
       "  </tbody>\n",
       "</table>\n",
       "</div>"
      ],
      "text/plain": [
       "    timestamp                                        from  \\\n",
       "0  1455404053  0x32be343b94f860124dc4fee278fdcbd38c102d88   \n",
       "1  1455404058  0x2a65aca4d5fc5b5c859090a6c34d164135398226   \n",
       "2  1455404078  0x2910543af39aba0cd09dbb2d50200b3e800a63d2   \n",
       "3  1455404078  0x10d5bff7879b7eb5192b3374338bb834981910a8   \n",
       "4  1455404078  0x2a65aca4d5fc5b5c859090a6c34d164135398226   \n",
       "\n",
       "                                           to                value  gasLimit  \\\n",
       "0  0xdf190dc7190dfba737d7777a163445b7fff16133   437194980000000000     50000   \n",
       "1  0x819f4b08e6d3baa33ba63f660baed65d2a6eb64c  1048850240000000000     90000   \n",
       "2  0x9e486ad335492959c38a0740cb66c55ad30bb4f0  1000000000000000000    100000   \n",
       "3  0xc6c764fc6c1e1211d2b4a06ef2170f660a4512fa  1000000000000000000     90000   \n",
       "4  0x53e0551a1e31a40855bc8e086eb8db803a625bbf  1046558020000000000     90000   \n",
       "\n",
       "      gasPrice  gasUsed  \n",
       "0  60000000000    21000  \n",
       "1  50000000000    21000  \n",
       "2  50000000000    21000  \n",
       "3  50000000000    21000  \n",
       "4  50000000000    21000  "
      ]
     },
     "execution_count": 5,
     "metadata": {},
     "output_type": "execute_result"
    }
   ],
   "source": [
    "df2 = pd.read_csv(path2)  \n",
    "df2.head()"
   ]
  },
  {
   "cell_type": "code",
   "execution_count": 6,
   "id": "eaf099cb",
   "metadata": {},
   "outputs": [
    {
     "data": {
      "text/html": [
       "<div>\n",
       "<style scoped>\n",
       "    .dataframe tbody tr th:only-of-type {\n",
       "        vertical-align: middle;\n",
       "    }\n",
       "\n",
       "    .dataframe tbody tr th {\n",
       "        vertical-align: top;\n",
       "    }\n",
       "\n",
       "    .dataframe thead th {\n",
       "        text-align: right;\n",
       "    }\n",
       "</style>\n",
       "<table border=\"1\" class=\"dataframe\">\n",
       "  <thead>\n",
       "    <tr style=\"text-align: right;\">\n",
       "      <th></th>\n",
       "      <th>timestamp</th>\n",
       "      <th>from</th>\n",
       "      <th>to</th>\n",
       "      <th>value</th>\n",
       "      <th>gasLimit</th>\n",
       "      <th>gasPrice</th>\n",
       "      <th>gasUsed</th>\n",
       "    </tr>\n",
       "  </thead>\n",
       "  <tbody>\n",
       "    <tr>\n",
       "      <th>0</th>\n",
       "      <td>1470173578</td>\n",
       "      <td>0x32be343b94f860124dc4fee278fdcbd38c102d88</td>\n",
       "      <td>0x104994f45d9d697ca104e5704a7b77d7fec3537c</td>\n",
       "      <td>149990000000000000000</td>\n",
       "      <td>333333</td>\n",
       "      <td>30000000000</td>\n",
       "      <td>21000</td>\n",
       "    </tr>\n",
       "    <tr>\n",
       "      <th>1</th>\n",
       "      <td>1470173581</td>\n",
       "      <td>0x147184ef469ce9bba3d08af16f0b6d31cac35ac8</td>\n",
       "      <td>0x695055f1ea55c36ec7e3bd43d1736511ac8dab61</td>\n",
       "      <td>110000000000000000000</td>\n",
       "      <td>121000</td>\n",
       "      <td>32210000000</td>\n",
       "      <td>21000</td>\n",
       "    </tr>\n",
       "    <tr>\n",
       "      <th>2</th>\n",
       "      <td>1470173581</td>\n",
       "      <td>0x32be343b94f860124dc4fee278fdcbd38c102d88</td>\n",
       "      <td>0x06c69f734a0240cb31678412f04eb0ce8f39258b</td>\n",
       "      <td>49990000000000000000</td>\n",
       "      <td>333333</td>\n",
       "      <td>30000000000</td>\n",
       "      <td>21000</td>\n",
       "    </tr>\n",
       "    <tr>\n",
       "      <th>3</th>\n",
       "      <td>1470173581</td>\n",
       "      <td>0x5410c4c59a719eef345869c204ec8dcac2dfd718</td>\n",
       "      <td>0xa795b4ddbf17570f2c8f5e75a13ef94db6757f32</td>\n",
       "      <td>100094510999899995340</td>\n",
       "      <td>90000</td>\n",
       "      <td>20000000000</td>\n",
       "      <td>21000</td>\n",
       "    </tr>\n",
       "    <tr>\n",
       "      <th>4</th>\n",
       "      <td>1470173581</td>\n",
       "      <td>0xea674fdde714fd979de3edf0f56aa9716b898ec8</td>\n",
       "      <td>0x8d0e7c2c82970c9d1b7d598be20f2ba0f13e6537</td>\n",
       "      <td>495804755025959230</td>\n",
       "      <td>90000</td>\n",
       "      <td>20000000000</td>\n",
       "      <td>21000</td>\n",
       "    </tr>\n",
       "  </tbody>\n",
       "</table>\n",
       "</div>"
      ],
      "text/plain": [
       "    timestamp                                        from  \\\n",
       "0  1470173578  0x32be343b94f860124dc4fee278fdcbd38c102d88   \n",
       "1  1470173581  0x147184ef469ce9bba3d08af16f0b6d31cac35ac8   \n",
       "2  1470173581  0x32be343b94f860124dc4fee278fdcbd38c102d88   \n",
       "3  1470173581  0x5410c4c59a719eef345869c204ec8dcac2dfd718   \n",
       "4  1470173581  0xea674fdde714fd979de3edf0f56aa9716b898ec8   \n",
       "\n",
       "                                           to                  value  \\\n",
       "0  0x104994f45d9d697ca104e5704a7b77d7fec3537c  149990000000000000000   \n",
       "1  0x695055f1ea55c36ec7e3bd43d1736511ac8dab61  110000000000000000000   \n",
       "2  0x06c69f734a0240cb31678412f04eb0ce8f39258b   49990000000000000000   \n",
       "3  0xa795b4ddbf17570f2c8f5e75a13ef94db6757f32  100094510999899995340   \n",
       "4  0x8d0e7c2c82970c9d1b7d598be20f2ba0f13e6537     495804755025959230   \n",
       "\n",
       "   gasLimit     gasPrice  gasUsed  \n",
       "0    333333  30000000000    21000  \n",
       "1    121000  32210000000    21000  \n",
       "2    333333  30000000000    21000  \n",
       "3     90000  20000000000    21000  \n",
       "4     90000  20000000000    21000  "
      ]
     },
     "execution_count": 6,
     "metadata": {},
     "output_type": "execute_result"
    }
   ],
   "source": [
    "df3 = pd.read_csv(path3)  \n",
    "df3.head()"
   ]
  },
  {
   "cell_type": "code",
   "execution_count": 11,
   "id": "64a8868d",
   "metadata": {},
   "outputs": [
    {
     "name": "stdout",
     "output_type": "stream",
     "text": [
      "(28129,)\n",
      "(247363,)\n",
      "(215966,)\n"
     ]
    }
   ],
   "source": [
    "print(df1['from'].unique().shape)\n",
    "print(df2['from'].unique().shape)\n",
    "print(df3['from'].unique().shape)"
   ]
  },
  {
   "cell_type": "code",
   "execution_count": 12,
   "id": "ca963d3f",
   "metadata": {},
   "outputs": [],
   "source": [
    "import glob"
   ]
  },
  {
   "cell_type": "code",
   "execution_count": 14,
   "id": "a227d4eb",
   "metadata": {},
   "outputs": [
    {
     "name": "stdout",
     "output_type": "stream",
     "text": [
      "bitcoinsov.csv\t dex.csv       isowallet.csv  phish_hack.csv\r\n",
      "bithumb.csv\t exchange.csv  loans.csv      trading.csv\r\n",
      "compromised.csv  gambling.csv  mining.csv     walletapp.csv\r\n"
     ]
    }
   ],
   "source": [
    "!ls ../csvfiles"
   ]
  },
  {
   "cell_type": "code",
   "execution_count": 18,
   "id": "7d76fe69",
   "metadata": {},
   "outputs": [],
   "source": [
    "files = []\n",
    "for name in glob.glob('../csvfiles/*'):\n",
    "    files.append(name)"
   ]
  },
  {
   "cell_type": "code",
   "execution_count": 35,
   "id": "4b367e29",
   "metadata": {},
   "outputs": [
    {
     "data": {
      "text/plain": [
       "['../csvfiles/isowallet.csv',\n",
       " '../csvfiles/mining.csv',\n",
       " '../csvfiles/compromised.csv',\n",
       " '../csvfiles/loans.csv',\n",
       " '../csvfiles/phish_hack.csv',\n",
       " '../csvfiles/dex.csv',\n",
       " '../csvfiles/trading.csv',\n",
       " '../csvfiles/bithumb.csv',\n",
       " '../csvfiles/gambling.csv',\n",
       " '../csvfiles/bitcoinsov.csv',\n",
       " '../csvfiles/exchange.csv',\n",
       " '../csvfiles/walletapp.csv']"
      ]
     },
     "execution_count": 35,
     "metadata": {},
     "output_type": "execute_result"
    }
   ],
   "source": [
    "files"
   ]
  },
  {
   "cell_type": "code",
   "execution_count": 53,
   "id": "3ba9fc93",
   "metadata": {},
   "outputs": [],
   "source": [
    "df = pd.read_csv(files[-1],header=None)  "
   ]
  },
  {
   "cell_type": "code",
   "execution_count": 54,
   "id": "537fe228",
   "metadata": {},
   "outputs": [
    {
     "data": {
      "text/html": [
       "<div>\n",
       "<style scoped>\n",
       "    .dataframe tbody tr th:only-of-type {\n",
       "        vertical-align: middle;\n",
       "    }\n",
       "\n",
       "    .dataframe tbody tr th {\n",
       "        vertical-align: top;\n",
       "    }\n",
       "\n",
       "    .dataframe thead th {\n",
       "        text-align: right;\n",
       "    }\n",
       "</style>\n",
       "<table border=\"1\" class=\"dataframe\">\n",
       "  <thead>\n",
       "    <tr style=\"text-align: right;\">\n",
       "      <th></th>\n",
       "      <th>0</th>\n",
       "      <th>1</th>\n",
       "      <th>2</th>\n",
       "      <th>3</th>\n",
       "    </tr>\n",
       "  </thead>\n",
       "  <tbody>\n",
       "    <tr>\n",
       "      <th>0</th>\n",
       "      <td>0x6b59210ade46b62b25e82e95ab390a7ccadd4c3a</td>\n",
       "      <td>Bitberry</td>\n",
       "      <td>0.015523 Ether</td>\n",
       "      <td>140891</td>\n",
       "    </tr>\n",
       "    <tr>\n",
       "      <th>1</th>\n",
       "      <td>0xa9c7d31bb1879bff8be25ead2f59b310a52b7c5a</td>\n",
       "      <td>Cobo</td>\n",
       "      <td>3.71660279 Ether</td>\n",
       "      <td>115582</td>\n",
       "    </tr>\n",
       "    <tr>\n",
       "      <th>2</th>\n",
       "      <td>0x4fed1fc4144c223ae3c1553be203cdfcbd38c581</td>\n",
       "      <td>Cryptonator</td>\n",
       "      <td>585.79318892 Ether</td>\n",
       "      <td>1224375</td>\n",
       "    </tr>\n",
       "    <tr>\n",
       "      <th>3</th>\n",
       "      <td>0x7ed1e469fcb3ee19c0366d829e291451be638e59</td>\n",
       "      <td>Freewallet</td>\n",
       "      <td>92.91039656 Ether</td>\n",
       "      <td>1046809</td>\n",
       "    </tr>\n",
       "    <tr>\n",
       "      <th>4</th>\n",
       "      <td>0x28c9386ebab8d52ead4a327e6423316435b2d4fc</td>\n",
       "      <td>RenrenBit</td>\n",
       "      <td>4,094.59562832 Ether</td>\n",
       "      <td>1849</td>\n",
       "    </tr>\n",
       "  </tbody>\n",
       "</table>\n",
       "</div>"
      ],
      "text/plain": [
       "                                            0            1  \\\n",
       "0  0x6b59210ade46b62b25e82e95ab390a7ccadd4c3a     Bitberry   \n",
       "1  0xa9c7d31bb1879bff8be25ead2f59b310a52b7c5a         Cobo   \n",
       "2  0x4fed1fc4144c223ae3c1553be203cdfcbd38c581  Cryptonator   \n",
       "3  0x7ed1e469fcb3ee19c0366d829e291451be638e59   Freewallet   \n",
       "4  0x28c9386ebab8d52ead4a327e6423316435b2d4fc    RenrenBit   \n",
       "\n",
       "                      2        3  \n",
       "0        0.015523 Ether   140891  \n",
       "1      3.71660279 Ether   115582  \n",
       "2    585.79318892 Ether  1224375  \n",
       "3     92.91039656 Ether  1046809  \n",
       "4  4,094.59562832 Ether     1849  "
      ]
     },
     "execution_count": 54,
     "metadata": {},
     "output_type": "execute_result"
    }
   ],
   "source": [
    "df.head()"
   ]
  },
  {
   "cell_type": "code",
   "execution_count": 63,
   "id": "25ea26a0",
   "metadata": {},
   "outputs": [
    {
     "data": {
      "text/plain": [
       "timestamp    4550\n",
       "from         4550\n",
       "to           4550\n",
       "value        4550\n",
       "gasLimit     4550\n",
       "gasPrice     4550\n",
       "gasUsed      4550\n",
       "dtype: int64"
      ]
     },
     "execution_count": 63,
     "metadata": {},
     "output_type": "execute_result"
    }
   ],
   "source": [
    "df2[df2['from']=='0x7ed1e469fcb3ee19c0366d829e291451be638e59'].count()[0]"
   ]
  },
  {
   "cell_type": "code",
   "execution_count": 65,
   "id": "b7dd6468",
   "metadata": {},
   "outputs": [
    {
     "name": "stdout",
     "output_type": "stream",
     "text": [
      "('../csvfiles/mining.csv', '0x68795c4aa09d6f4ed3e5deddf8c2ad3049a601da')\n",
      "('../csvfiles/mining.csv', '0xf8b483dba2c3b7176a3da549ad41a48bb3121069')\n",
      "('../csvfiles/mining.csv', '0xa42af2c70d316684e57aefcc6e393fecb1c7e84e')\n",
      "('../csvfiles/mining.csv', '0x2a65aca4d5fc5b5c859090a6c34d164135398226')\n",
      "('../csvfiles/mining.csv', '0x151255dd9e38e44db38ea06ec66d0d113d6cbe37')\n",
      "('../csvfiles/mining.csv', '0xa027231f42c80ca4125b5cb962a21cd4f812e88f')\n",
      "('../csvfiles/mining.csv', '0xea674fdde714fd979de3edf0f56aa9716b898ec8')\n",
      "('../csvfiles/mining.csv', '0x4bb96091ee9d802ed039c4d1a5f6216f90f81b01')\n",
      "('../csvfiles/mining.csv', '0xd34da389374caad1a048fbdc4569aae33fd5a375')\n",
      "('../csvfiles/mining.csv', '0x52bc44d5378309ee2abf1539bf71de1b7d7be3b5')\n",
      "('../csvfiles/mining.csv', '0x63a9975ba31b0b9626b34300f7f627147df1f526')\n",
      "('../csvfiles/mining.csv', '0xd1e56c2e765180aa0371928fd4d1e41fbcda34d4')\n",
      "('../csvfiles/compromised.csv', '0x027beefcbad782faf69fad12dee97ed894c68549')\n",
      "('../csvfiles/compromised.csv', '0x0ee4e2d09aec35bdf08083b649033ac0a41aa75e')\n",
      "('../csvfiles/exchange.csv', '0xfbb1b73c4f0bda4f67dca266ce6ef42f520fbb98')\n",
      "('../csvfiles/exchange.csv', '0x007174732705604bbbf77038332dc52fd5a5000c')\n",
      "('../csvfiles/exchange.csv', '0x96fc4553a00c117c5b0bed950dd625d1c16dc894')\n",
      "('../csvfiles/exchange.csv', '0x4b01721f0244e7c5b5f63c20942850e447f5a5ee')\n",
      "('../csvfiles/exchange.csv', '0x167a9333bf582556f35bd4d16a7e80e191aa6476')\n",
      "('../csvfiles/exchange.csv', '0xd24400ae8bfebb18ca49be86258a3c749cf46853')\n",
      "('../csvfiles/exchange.csv', '0x9c67e141c0472115aa1b98bd0088418be68fd249')\n",
      "('../csvfiles/exchange.csv', '0x51836a753e344257b361519e948ffcaf5fb8d521')\n",
      "('../csvfiles/exchange.csv', '0x2910543af39aba0cd09dbb2d50200b3e800a63d2')\n",
      "('../csvfiles/exchange.csv', '0xe853c56864a2ebe4576a807d26fdc4a0ada51919')\n",
      "('../csvfiles/exchange.csv', '0x267be1c1d684f78cb4f6a176c4911b741e4ffdc0')\n",
      "('../csvfiles/exchange.csv', '0x32be343b94f860124dc4fee278fdcbd38c102d88')\n",
      "('../csvfiles/exchange.csv', '0xb794f5ea0ba39494ce839613fffba74279579268')\n",
      "('../csvfiles/exchange.csv', '0x120a270bbc009644e35f0bb6ab13f95b8199c4ad')\n",
      "('../csvfiles/exchange.csv', '0x9e6316f44baeeee5d41a1070516cc5fa47baf227')\n",
      "('../csvfiles/exchange.csv', '0xd94c9ff168dc6aebf9b6cc86deff54f3fb0afc33')\n",
      "('../csvfiles/exchange.csv', '0x42da8a05cb7ed9a43572b5ba1b8f82a0a6e263dc')\n",
      "('../csvfiles/exchange.csv', '0x700f6912e5753e91ea3fae877a2374a2db1245d7')\n",
      "('../csvfiles/walletapp.csv', '0x7ed1e469fcb3ee19c0366d829e291451be638e59')\n"
     ]
    }
   ],
   "source": [
    "use_full=[]\n",
    "for f in files:\n",
    "    df = pd.read_csv(f,header=None)\n",
    "    for addr in df[0]:\n",
    "        if df2[df2['from']==addr].count()[0]> 0:\n",
    "            use_full.append((f,addr))\n",
    "            print((f,addr))\n",
    "#             print(addr)\n",
    "#         print(addr)\n",
    "#         break\n",
    "#     break"
   ]
  },
  {
   "cell_type": "code",
   "execution_count": 66,
   "id": "2820df5d",
   "metadata": {},
   "outputs": [
    {
     "name": "stdout",
     "output_type": "stream",
     "text": [
      "('../csvfiles/isowallet.csv', '0xa04fc9bd2be8bcc6875d9ebb964e8f858bcc1b4f')\n",
      "('../csvfiles/mining.csv', '0xc839ee5542b4e8413246b3634c5c739fea949562')\n",
      "('../csvfiles/mining.csv', '0x68795c4aa09d6f4ed3e5deddf8c2ad3049a601da')\n",
      "('../csvfiles/mining.csv', '0xf8b483dba2c3b7176a3da549ad41a48bb3121069')\n",
      "('../csvfiles/mining.csv', '0x2a65aca4d5fc5b5c859090a6c34d164135398226')\n",
      "('../csvfiles/mining.csv', '0xa027231f42c80ca4125b5cb962a21cd4f812e88f')\n",
      "('../csvfiles/mining.csv', '0x9d551f41fed6fc27b719777c224dfecce170004d')\n",
      "('../csvfiles/mining.csv', '0xe6a7a1d47ff21b6321162aea7c6cb457d5476bca')\n",
      "('../csvfiles/mining.csv', '0x4bb96091ee9d802ed039c4d1a5f6216f90f81b01')\n",
      "('../csvfiles/mining.csv', '0xd34da389374caad1a048fbdc4569aae33fd5a375')\n",
      "('../csvfiles/mining.csv', '0x52bc44d5378309ee2abf1539bf71de1b7d7be3b5')\n",
      "('../csvfiles/mining.csv', '0x1dcb8d1f0fcc8cbc8c2d76528e877f915e299fbe')\n",
      "('../csvfiles/mining.csv', '0x63a9975ba31b0b9626b34300f7f627147df1f526')\n",
      "('../csvfiles/mining.csv', '0xd1e56c2e765180aa0371928fd4d1e41fbcda34d4')\n",
      "('../csvfiles/exchange.csv', '0xfbb1b73c4f0bda4f67dca266ce6ef42f520fbb98')\n",
      "('../csvfiles/exchange.csv', '0x2910543af39aba0cd09dbb2d50200b3e800a63d2')\n",
      "('../csvfiles/exchange.csv', '0x32be343b94f860124dc4fee278fdcbd38c102d88')\n",
      "('../csvfiles/exchange.csv', '0xb794f5ea0ba39494ce839613fffba74279579268')\n",
      "('../csvfiles/exchange.csv', '0x120a270bbc009644e35f0bb6ab13f95b8199c4ad')\n",
      "('../csvfiles/exchange.csv', '0xd94c9ff168dc6aebf9b6cc86deff54f3fb0afc33')\n",
      "('../csvfiles/exchange.csv', '0x42da8a05cb7ed9a43572b5ba1b8f82a0a6e263dc')\n"
     ]
    }
   ],
   "source": [
    "for f in files:\n",
    "    df = pd.read_csv(f,header=None)\n",
    "    for addr in df[0]:\n",
    "        if df1[df1['from']==addr].count()[0]> 0:\n",
    "            use_full.append((f,addr))\n",
    "            print((f,addr))\n",
    "#             print(addr)\n",
    "#         print(addr)\n",
    "#         break\n",
    "#     break"
   ]
  },
  {
   "cell_type": "code",
   "execution_count": 70,
   "id": "5112a0e1",
   "metadata": {},
   "outputs": [
    {
     "name": "stdout",
     "output_type": "stream",
     "text": [
      "('../csvfiles/isowallet.csv', '0xa2c9a7578e2172f32a36c5c0e49d64776f9e7883')\n",
      "('../csvfiles/isowallet.csv', '0xc78310231aa53bd3d0fea2f8c705c67730929d8f')\n",
      "('../csvfiles/mining.csv', '0x68795c4aa09d6f4ed3e5deddf8c2ad3049a601da')\n",
      "('../csvfiles/mining.csv', '0xf8b483dba2c3b7176a3da549ad41a48bb3121069')\n",
      "('../csvfiles/mining.csv', '0xa42af2c70d316684e57aefcc6e393fecb1c7e84e')\n",
      "('../csvfiles/mining.csv', '0x2a65aca4d5fc5b5c859090a6c34d164135398226')\n",
      "('../csvfiles/mining.csv', '0xa027231f42c80ca4125b5cb962a21cd4f812e88f')\n",
      "('../csvfiles/mining.csv', '0xea674fdde714fd979de3edf0f56aa9716b898ec8')\n",
      "('../csvfiles/mining.csv', '0x4bb96091ee9d802ed039c4d1a5f6216f90f81b01')\n",
      "('../csvfiles/mining.csv', '0xd34da389374caad1a048fbdc4569aae33fd5a375')\n",
      "('../csvfiles/mining.csv', '0x52bc44d5378309ee2abf1539bf71de1b7d7be3b5')\n",
      "('../csvfiles/mining.csv', '0x63a9975ba31b0b9626b34300f7f627147df1f526')\n",
      "('../csvfiles/mining.csv', '0xd1e56c2e765180aa0371928fd4d1e41fbcda34d4')\n",
      "('../csvfiles/compromised.csv', '0x027beefcbad782faf69fad12dee97ed894c68549')\n",
      "('../csvfiles/compromised.csv', '0x0ee4e2d09aec35bdf08083b649033ac0a41aa75e')\n",
      "('../csvfiles/phish_hack.csv', '0x9af3bf0b0a117d3fbfb37dfc7fa67f9a645488fc')\n",
      "('../csvfiles/exchange.csv', '0x1151314c646ce4e0efd76d1af4760ae66a9fe30f')\n",
      "('../csvfiles/exchange.csv', '0xfbb1b73c4f0bda4f67dca266ce6ef42f520fbb98')\n",
      "('../csvfiles/exchange.csv', '0x007174732705604bbbf77038332dc52fd5a5000c')\n",
      "('../csvfiles/exchange.csv', '0x96fc4553a00c117c5b0bed950dd625d1c16dc894')\n",
      "('../csvfiles/exchange.csv', '0x4b01721f0244e7c5b5f63c20942850e447f5a5ee')\n",
      "('../csvfiles/exchange.csv', '0x167a9333bf582556f35bd4d16a7e80e191aa6476')\n",
      "('../csvfiles/exchange.csv', '0x1fd6267f0d86f62d88172b998390afee2a1f54b6')\n",
      "('../csvfiles/exchange.csv', '0xd24400ae8bfebb18ca49be86258a3c749cf46853')\n",
      "('../csvfiles/exchange.csv', '0x9c67e141c0472115aa1b98bd0088418be68fd249')\n",
      "('../csvfiles/exchange.csv', '0x51836a753e344257b361519e948ffcaf5fb8d521')\n",
      "('../csvfiles/exchange.csv', '0x2910543af39aba0cd09dbb2d50200b3e800a63d2')\n",
      "('../csvfiles/exchange.csv', '0x0a869d79a7052c7f1b55a8ebabbea3420f0d1e13')\n",
      "('../csvfiles/exchange.csv', '0xe853c56864a2ebe4576a807d26fdc4a0ada51919')\n",
      "('../csvfiles/exchange.csv', '0x267be1c1d684f78cb4f6a176c4911b741e4ffdc0')\n",
      "('../csvfiles/exchange.csv', '0x8271b2e8cbe29396e9563229030c89679b9470db')\n",
      "('../csvfiles/exchange.csv', '0x5e575279bf9f4acf0a130c186861454247394c06')\n",
      "('../csvfiles/exchange.csv', '0x32be343b94f860124dc4fee278fdcbd38c102d88')\n",
      "('../csvfiles/exchange.csv', '0x65f9b2e4d7aaeb40ffea8c6f5844d5ad7da257e0')\n",
      "('../csvfiles/exchange.csv', '0xab11204cfeaccffa63c2d23aef2ea9accdb0a0d5')\n",
      "('../csvfiles/exchange.csv', '0x9e6316f44baeeee5d41a1070516cc5fa47baf227')\n",
      "('../csvfiles/exchange.csv', '0x70faa28a6b8d6829a4b1e649d26ec9a2a39ba413')\n",
      "('../csvfiles/exchange.csv', '0xd94c9ff168dc6aebf9b6cc86deff54f3fb0afc33')\n",
      "('../csvfiles/exchange.csv', '0x42da8a05cb7ed9a43572b5ba1b8f82a0a6e263dc')\n",
      "('../csvfiles/exchange.csv', '0x700f6912e5753e91ea3fae877a2374a2db1245d7')\n",
      "('../csvfiles/walletapp.csv', '0x7ed1e469fcb3ee19c0366d829e291451be638e59')\n"
     ]
    }
   ],
   "source": [
    "for f in files:\n",
    "    df = pd.read_csv(f,header=None)\n",
    "    for addr in df[0]:\n",
    "        if df3[df3['from']==addr].count()[0]> 0:\n",
    "            use_full.append((f,addr))\n",
    "            print((f,addr))\n",
    "#             print(addr)\n",
    "#         print(addr)\n",
    "#         break\n",
    "#     break"
   ]
  },
  {
   "cell_type": "code",
   "execution_count": 68,
   "id": "78b72b2e",
   "metadata": {},
   "outputs": [
    {
     "data": {
      "text/plain": [
       "0    0x6b59210ade46b62b25e82e95ab390a7ccadd4c3a\n",
       "1    0xa9c7d31bb1879bff8be25ead2f59b310a52b7c5a\n",
       "2    0x4fed1fc4144c223ae3c1553be203cdfcbd38c581\n",
       "3    0x7ed1e469fcb3ee19c0366d829e291451be638e59\n",
       "4    0x28c9386ebab8d52ead4a327e6423316435b2d4fc\n",
       "5    0x46c635b772115ad2c3df7abe0d35eb908abad4b8\n",
       "6    0x6e8d7d12c3f0a9285981b8998ce7cf0cf0bce78e\n",
       "Name: 0, dtype: object"
      ]
     },
     "execution_count": 68,
     "metadata": {},
     "output_type": "execute_result"
    }
   ],
   "source": [
    "df[0]"
   ]
  },
  {
   "cell_type": "code",
   "execution_count": null,
   "id": "ad5c84e8",
   "metadata": {},
   "outputs": [],
   "source": []
  }
 ],
 "metadata": {
  "kernelspec": {
   "display_name": "Python 3 (ipykernel)",
   "language": "python",
   "name": "python3"
  },
  "language_info": {
   "codemirror_mode": {
    "name": "ipython",
    "version": 3
   },
   "file_extension": ".py",
   "mimetype": "text/x-python",
   "name": "python",
   "nbconvert_exporter": "python",
   "pygments_lexer": "ipython3",
   "version": "3.7.11"
  }
 },
 "nbformat": 4,
 "nbformat_minor": 5
}

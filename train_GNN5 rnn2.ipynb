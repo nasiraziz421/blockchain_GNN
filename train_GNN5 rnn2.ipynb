{
 "cells": [
  {
   "cell_type": "code",
   "execution_count": 1,
   "id": "2273700e",
   "metadata": {},
   "outputs": [],
   "source": [
    "import torch\n",
    "import torch.nn as nn\n",
    "from torch_geometric.data import Data\n",
    "from torch_geometric.loader import DataLoader\n",
    "from torch_geometric.data import InMemoryDataset\n",
    "import pickle\n",
    "import pandas as pd\n",
    "import numpy as np\n",
    "device = torch.device('cuda' if torch.cuda.is_available() else 'cpu')"
   ]
  },
  {
   "cell_type": "code",
   "execution_count": 2,
   "id": "6f21c6a0",
   "metadata": {},
   "outputs": [],
   "source": [
    "import torch.nn.utils.rnn as rnnutils\n",
    "\n",
    "def unpack_sequence(packed_sequence, lengths):\n",
    "    assert isinstance(packed_sequence, rnnutils.PackedSequence)\n",
    "    head = 0\n",
    "    trailing_dims = packed_sequence.data.shape[1:]\n",
    "    unpacked_sequence = [torch.zeros(l, *trailing_dims) for l in lengths]\n",
    "    # l_idx - goes from 0 - maxLen-1\n",
    "    for l_idx, b_size in enumerate(packed_sequence.batch_sizes):\n",
    "        for b_idx in range(b_size):\n",
    "            unpacked_sequence[b_idx][l_idx] = packed_sequence.data[head]\n",
    "            head += 1\n",
    "    return unpacked_sequence"
   ]
  },
  {
   "cell_type": "code",
   "execution_count": 3,
   "id": "216dcc88",
   "metadata": {},
   "outputs": [],
   "source": [
    "path = '../blockchain_files/3000000to3999999_BlockTransaction/'\n",
    "with open(path+\"graphs_data_rnn_1\", \"rb\") as fp:   # Unpickling\n",
    "    read_graph_data = pickle.load(fp)"
   ]
  },
  {
   "cell_type": "code",
   "execution_count": 4,
   "id": "b096b364",
   "metadata": {},
   "outputs": [],
   "source": [
    "data = read_graph_data[0]\n",
    "edges,edge_attributes,edge_attrib_lenghts,label = data"
   ]
  },
  {
   "cell_type": "code",
   "execution_count": 5,
   "id": "72880c42",
   "metadata": {},
   "outputs": [
    {
     "data": {
      "text/plain": [
       "0"
      ]
     },
     "execution_count": 5,
     "metadata": {},
     "output_type": "execute_result"
    }
   ],
   "source": [
    "ins = unpack_sequence(edge_attributes,edge_attrib_lenghts)\n",
    "len(ins)\n",
    "label"
   ]
  },
  {
   "cell_type": "code",
   "execution_count": 6,
   "id": "6a91db4e",
   "metadata": {},
   "outputs": [],
   "source": [
    "data_list = []\n",
    "for edges,edge_attributes,edge_attrib_lenghts,label in read_graph_data:\n",
    "    if len(edge_attributes) == 0:\n",
    "        continue\n",
    "    data_list.append((edges,edge_attributes,edge_attrib_lenghts,label))"
   ]
  },
  {
   "cell_type": "code",
   "execution_count": 7,
   "id": "b66a98cb",
   "metadata": {},
   "outputs": [],
   "source": [
    "def get_graph_data(edges,edge_attributes,edge_attrib_lenghts,label):\n",
    "    pd_edges = pd.DataFrame(edges)\n",
    "    pd_edges\n",
    "    nodes = pd.concat([pd_edges[0]\n",
    "                      ,pd_edges[1]]).unique()\n",
    "    edge_index = torch.tensor(np.array(edges).T, dtype=torch.long)\n",
    "    x = torch.ones(nodes.shape).reshape(-1,1)\n",
    "    output, (hn, cn) = rnn(edge_attributes.to(device))\n",
    "    \n",
    "#     out = unpack_sequence(output,edge_attrib_lenghts)\n",
    "#     print(out[0].shape)\n",
    "#     print(len(out))\n",
    "#     reduced = []\n",
    "#     for o in out:\n",
    "#         reduced.append(o.sum(axis=0))\n",
    "    \n",
    "#     print(len(reduced))\n",
    "#     print(reduced[0])\n",
    "#     edge_attribs = torch.stack(reduced)\n",
    "    \n",
    "#     print(edge_attribs.shape)\n",
    "#     print(edge_index.shape)\n",
    "    \n",
    "    data = Data(x=x, edge_index=edge_index,edge_attr = hn[0],y=torch.tensor([label]))\n",
    "    \n",
    "    return data\n",
    "# get_graph_data(edges,edge_attributes,edge_attrib_lenghts,label)()"
   ]
  },
  {
   "cell_type": "code",
   "execution_count": 8,
   "id": "cd282369",
   "metadata": {},
   "outputs": [],
   "source": [
    "def create_data_loader(n):\n",
    "    indices = np.random.choice(len(data_list),5)\n",
    "    \n",
    "    graphs = []\n",
    "    for i in indices:\n",
    "        graph = data_list[i]\n",
    "        graphs.append(get_graph_data(graph[0],graph[1],graph[2],graph[3]))\n",
    "        \n",
    "    train_loader = DataLoader(graphs, batch_size=n,shuffle=True)\n",
    "    \n",
    "    return train_loader\n",
    "\n",
    "# create_data_loader(3)"
   ]
  },
  {
   "cell_type": "code",
   "execution_count": 50,
   "id": "9487b88b",
   "metadata": {},
   "outputs": [
    {
     "name": "stdout",
     "output_type": "stream",
     "text": [
      "0\n"
     ]
    }
   ],
   "source": [
    "graph = data_list[0]\n",
    "print(graph[3])"
   ]
  },
  {
   "cell_type": "code",
   "execution_count": 9,
   "id": "2fb831af",
   "metadata": {},
   "outputs": [],
   "source": [
    "from typing import Tuple, Union\n",
    "\n",
    "import torch\n",
    "import torch.nn.functional as F\n",
    "from torch import Tensor\n",
    "from torch.nn import BatchNorm1d, Linear\n",
    "\n",
    "from torch_geometric.nn.conv import MessagePassing\n",
    "from torch_geometric.typing import Adj, OptTensor, PairTensor\n",
    "\n",
    "\n",
    "class CGConv(MessagePassing):\n",
    "\n",
    "    def __init__(self, channels: Union[int, Tuple[int, int]], dim: int = 0,\n",
    "                 aggr: str = 'mean', batch_norm: bool = False,\n",
    "                 bias: bool = True, **kwargs):\n",
    "        super().__init__(aggr=aggr, **kwargs)\n",
    "        # print(channels)\n",
    "        self.channels = channels\n",
    "        self.dim = dim\n",
    "        self.batch_norm = batch_norm\n",
    "\n",
    "        if isinstance(channels, int):\n",
    "            channels = (channels, channels)\n",
    "        self.lin_f = Linear(2*channels[0] + dim, channels[1], bias=bias)\n",
    "        # self.lin_s = Linear(2*channels[0] + dim, channels[1], bias=bias)\n",
    "        if batch_norm:\n",
    "            self.bn = BatchNorm1d(channels[1])\n",
    "        else:\n",
    "            self.bn = None\n",
    "\n",
    "        self.reset_parameters()\n",
    "\n",
    "\n",
    "    def reset_parameters(self):\n",
    "        self.lin_f.reset_parameters()\n",
    "        # self.lin_s.reset_parameters()\n",
    "        if self.bn is not None:\n",
    "            self.bn.reset_parameters()\n",
    "\n",
    "\n",
    "    def forward(self, x: Union[Tensor, PairTensor], edge_index: Adj,\n",
    "                edge_attr: OptTensor = None) -> Tensor:\n",
    "        \"\"\"\"\"\"\n",
    "        if isinstance(x, Tensor):\n",
    "            x: PairTensor = (x, x)\n",
    "\n",
    "        # propagate_type: (x: PairTensor, edge_attr: OptTensor)\n",
    "        out = self.propagate(edge_index, x=x, edge_attr=edge_attr, size=None)\n",
    "        out = out if self.bn is None else self.bn(out)\n",
    "        out += x[1]\n",
    "        # print(out.shape)\n",
    "        # print(x[1])\n",
    "        return out\n",
    "\n",
    "\n",
    "    def message(self, x_i, x_j, edge_attr: OptTensor) -> Tensor:\n",
    "        if edge_attr is None:\n",
    "            z = torch.cat([x_i, x_j], dim=-1)\n",
    "        else:\n",
    "            z = torch.cat([x_i, x_j, edge_attr], dim=-1)\n",
    "\n",
    "        # print(z.shape)\n",
    "        # print(self.lin_f)\n",
    "        return self.lin_f(z)\n",
    "\n",
    "    def __repr__(self) -> str:\n",
    "        return f'{self.__class__.__name__}({self.channels}, dim={self.dim})'"
   ]
  },
  {
   "cell_type": "code",
   "execution_count": 10,
   "id": "16da6da9",
   "metadata": {},
   "outputs": [
    {
     "name": "stdout",
     "output_type": "stream",
     "text": [
      "GCN(\n",
      "  (conv1): CGConv((1, 64), dim=16)\n",
      "  (conv2): CGConv((64, 64), dim=16)\n",
      "  (conv3): CGConv((64, 64), dim=16)\n",
      "  (conv4): GCNConv(64, 64)\n",
      "  (lin): Linear(in_features=64, out_features=2, bias=True)\n",
      ")\n"
     ]
    }
   ],
   "source": [
    "from torch.nn import Linear\n",
    "import torch.nn.functional as F\n",
    "from torch_geometric.nn import GCNConv\n",
    "from torch_geometric.nn import global_mean_pool\n",
    "\n",
    "device = torch.device('cuda' if torch.cuda.is_available() else 'cpu')\n",
    "\n",
    "class GCN(torch.nn.Module):\n",
    "    def __init__(self, hidden_channels):\n",
    "        super(GCN, self).__init__()\n",
    "#         torch.manual_seed(12345)\n",
    "        self.conv1 = CGConv((1, hidden_channels),16,batch_norm=True)\n",
    "#         self.conv1 = GCNConv(1, hidden_channels)\n",
    "        \n",
    "        self.conv2 = CGConv((hidden_channels, hidden_channels),16,batch_norm=True)\n",
    "        self.conv3 = CGConv((hidden_channels, hidden_channels),16,batch_norm=True)\n",
    "        self.conv4 = GCNConv(hidden_channels, hidden_channels)\n",
    "        self.lin = Linear(hidden_channels, 2)\n",
    "\n",
    "    def forward(self, x, edge_index,edge_attributes, batch):\n",
    "        # 1. Obtain node embeddings \n",
    "        x = self.conv1(x, edge_index,edge_attributes)\n",
    "        x = x.relu()\n",
    "        x = self.conv2(x, edge_index,edge_attributes)\n",
    "        x = x.relu()\n",
    "        x = self.conv3(x, edge_index,edge_attributes)\n",
    "        x = x.relu()\n",
    "        x = self.conv4(x, edge_index)\n",
    " \n",
    "\n",
    "        # 2. Readout layer\n",
    "#         print(x.shape)\n",
    "        x = global_mean_pool(x, batch)  # [batch_size, hidden_channels]\n",
    "#         print(x.shape)\n",
    "        # 3. Apply a final classifier\n",
    "#         x = F.dropout(x, p=0.5, training=self.training)\n",
    "        x = self.lin(x)\n",
    "        \n",
    "        return x\n",
    "\n",
    "model = GCN(hidden_channels=64)\n",
    "print(model)"
   ]
  },
  {
   "cell_type": "code",
   "execution_count": 16,
   "id": "19e6303a",
   "metadata": {},
   "outputs": [],
   "source": [
    "rnn = nn.LSTM(4, 16, 1).to(device)\n",
    "model = GCN(hidden_channels=64).to(device)\n",
    "\n",
    "net_params = list(model.parameters()) + list(rnn.parameters())\n",
    "optimizer = torch.optim.Adam(net_params, lr=0.01)\n",
    "\n",
    "# weights = torch.tensor([.05,.95]).to(device)\n",
    "criterion = torch.nn.CrossEntropyLoss()\n",
    "\n",
    "def train_mode():\n",
    "    rnn.train()\n",
    "    model.train()\n",
    "train_mode()"
   ]
  },
  {
   "cell_type": "code",
   "execution_count": 17,
   "id": "0e683464",
   "metadata": {},
   "outputs": [],
   "source": [
    "def train():\n",
    "    train_mode()\n",
    "    for i in range(len(data_list)):\n",
    "\n",
    "        train_loader = create_data_loader(10)\n",
    "        \n",
    "        data = next(iter(train_loader))\n",
    "#         print(data.edge_attr)\n",
    "        data = data.to(device)\n",
    "        out = model(data.x, data.edge_index,data.edge_attr,data.batch)\n",
    "        \n",
    "        loss = criterion(out, data.y)\n",
    "        \n",
    "        loss.backward()  # Derive gradients.\n",
    "        \n",
    "        optimizer.step()\n",
    "        optimizer.zero_grad()\n",
    "#         break\n",
    "    return loss.cpu().item()\n",
    "# train()"
   ]
  },
  {
   "cell_type": "code",
   "execution_count": 18,
   "id": "51d22534",
   "metadata": {},
   "outputs": [
    {
     "name": "stdout",
     "output_type": "stream",
     "text": [
      "0.7229299363057324\n",
      "Epoch: 001, Train Acc: 0.8615, loss : 0.4881\n",
      "Epoch: 002, Train Acc: 0.9379, loss : 0.2825\n",
      "Epoch: 003, Train Acc: 0.9347, loss : 0.0337\n",
      "Epoch: 004, Train Acc: 0.9666, loss : 0.0009\n",
      "Epoch: 005, Train Acc: 0.9475, loss : 0.0415\n",
      "Epoch: 006, Train Acc: 0.9857, loss : 0.0018\n"
     ]
    },
    {
     "ename": "KeyboardInterrupt",
     "evalue": "",
     "output_type": "error",
     "traceback": [
      "\u001b[0;31m---------------------------------------------------------------------------\u001b[0m",
      "\u001b[0;31mKeyboardInterrupt\u001b[0m                         Traceback (most recent call last)",
      "\u001b[0;32m/tmp/ipykernel_2793465/3153469052.py\u001b[0m in \u001b[0;36m<module>\u001b[0;34m\u001b[0m\n\u001b[1;32m      1\u001b[0m \u001b[0mprint\u001b[0m\u001b[0;34m(\u001b[0m\u001b[0mtest\u001b[0m\u001b[0;34m(\u001b[0m\u001b[0;34m)\u001b[0m\u001b[0;34m)\u001b[0m\u001b[0;34m\u001b[0m\u001b[0;34m\u001b[0m\u001b[0m\n\u001b[1;32m      2\u001b[0m \u001b[0;32mfor\u001b[0m \u001b[0mepoch\u001b[0m \u001b[0;32min\u001b[0m \u001b[0mrange\u001b[0m\u001b[0;34m(\u001b[0m\u001b[0;36m1\u001b[0m\u001b[0;34m,\u001b[0m \u001b[0;36m20\u001b[0m\u001b[0;34m)\u001b[0m\u001b[0;34m:\u001b[0m\u001b[0;34m\u001b[0m\u001b[0;34m\u001b[0m\u001b[0m\n\u001b[0;32m----> 3\u001b[0;31m     \u001b[0mloss\u001b[0m \u001b[0;34m=\u001b[0m \u001b[0mtrain\u001b[0m\u001b[0;34m(\u001b[0m\u001b[0;34m)\u001b[0m\u001b[0;34m\u001b[0m\u001b[0;34m\u001b[0m\u001b[0m\n\u001b[0m\u001b[1;32m      4\u001b[0m     \u001b[0mtrain_acc\u001b[0m \u001b[0;34m=\u001b[0m \u001b[0mtest\u001b[0m\u001b[0;34m(\u001b[0m\u001b[0;34m)\u001b[0m\u001b[0;34m\u001b[0m\u001b[0;34m\u001b[0m\u001b[0m\n\u001b[1;32m      5\u001b[0m \u001b[0;31m#     test_acc = test()\u001b[0m\u001b[0;34m\u001b[0m\u001b[0;34m\u001b[0m\u001b[0;34m\u001b[0m\u001b[0m\n",
      "\u001b[0;32m/tmp/ipykernel_2793465/4088533150.py\u001b[0m in \u001b[0;36mtrain\u001b[0;34m()\u001b[0m\n\u001b[1;32m      3\u001b[0m     \u001b[0;32mfor\u001b[0m \u001b[0mi\u001b[0m \u001b[0;32min\u001b[0m \u001b[0mrange\u001b[0m\u001b[0;34m(\u001b[0m\u001b[0mlen\u001b[0m\u001b[0;34m(\u001b[0m\u001b[0mdata_list\u001b[0m\u001b[0;34m)\u001b[0m\u001b[0;34m)\u001b[0m\u001b[0;34m:\u001b[0m\u001b[0;34m\u001b[0m\u001b[0;34m\u001b[0m\u001b[0m\n\u001b[1;32m      4\u001b[0m \u001b[0;34m\u001b[0m\u001b[0m\n\u001b[0;32m----> 5\u001b[0;31m         \u001b[0mtrain_loader\u001b[0m \u001b[0;34m=\u001b[0m \u001b[0mcreate_data_loader\u001b[0m\u001b[0;34m(\u001b[0m\u001b[0;36m10\u001b[0m\u001b[0;34m)\u001b[0m\u001b[0;34m\u001b[0m\u001b[0;34m\u001b[0m\u001b[0m\n\u001b[0m\u001b[1;32m      6\u001b[0m \u001b[0;34m\u001b[0m\u001b[0m\n\u001b[1;32m      7\u001b[0m         \u001b[0mdata\u001b[0m \u001b[0;34m=\u001b[0m \u001b[0mnext\u001b[0m\u001b[0;34m(\u001b[0m\u001b[0miter\u001b[0m\u001b[0;34m(\u001b[0m\u001b[0mtrain_loader\u001b[0m\u001b[0;34m)\u001b[0m\u001b[0;34m)\u001b[0m\u001b[0;34m\u001b[0m\u001b[0;34m\u001b[0m\u001b[0m\n",
      "\u001b[0;32m/tmp/ipykernel_2793465/986887456.py\u001b[0m in \u001b[0;36mcreate_data_loader\u001b[0;34m(n)\u001b[0m\n\u001b[1;32m      5\u001b[0m     \u001b[0;32mfor\u001b[0m \u001b[0mi\u001b[0m \u001b[0;32min\u001b[0m \u001b[0mindices\u001b[0m\u001b[0;34m:\u001b[0m\u001b[0;34m\u001b[0m\u001b[0;34m\u001b[0m\u001b[0m\n\u001b[1;32m      6\u001b[0m         \u001b[0mgraph\u001b[0m \u001b[0;34m=\u001b[0m \u001b[0mdata_list\u001b[0m\u001b[0;34m[\u001b[0m\u001b[0mi\u001b[0m\u001b[0;34m]\u001b[0m\u001b[0;34m\u001b[0m\u001b[0;34m\u001b[0m\u001b[0m\n\u001b[0;32m----> 7\u001b[0;31m         \u001b[0mgraphs\u001b[0m\u001b[0;34m.\u001b[0m\u001b[0mappend\u001b[0m\u001b[0;34m(\u001b[0m\u001b[0mget_graph_data\u001b[0m\u001b[0;34m(\u001b[0m\u001b[0mgraph\u001b[0m\u001b[0;34m[\u001b[0m\u001b[0;36m0\u001b[0m\u001b[0;34m]\u001b[0m\u001b[0;34m,\u001b[0m\u001b[0mgraph\u001b[0m\u001b[0;34m[\u001b[0m\u001b[0;36m1\u001b[0m\u001b[0;34m]\u001b[0m\u001b[0;34m,\u001b[0m\u001b[0mgraph\u001b[0m\u001b[0;34m[\u001b[0m\u001b[0;36m2\u001b[0m\u001b[0;34m]\u001b[0m\u001b[0;34m,\u001b[0m\u001b[0mgraph\u001b[0m\u001b[0;34m[\u001b[0m\u001b[0;36m3\u001b[0m\u001b[0;34m]\u001b[0m\u001b[0;34m)\u001b[0m\u001b[0;34m)\u001b[0m\u001b[0;34m\u001b[0m\u001b[0;34m\u001b[0m\u001b[0m\n\u001b[0m\u001b[1;32m      8\u001b[0m \u001b[0;34m\u001b[0m\u001b[0m\n\u001b[1;32m      9\u001b[0m     \u001b[0mtrain_loader\u001b[0m \u001b[0;34m=\u001b[0m \u001b[0mDataLoader\u001b[0m\u001b[0;34m(\u001b[0m\u001b[0mgraphs\u001b[0m\u001b[0;34m,\u001b[0m \u001b[0mbatch_size\u001b[0m\u001b[0;34m=\u001b[0m\u001b[0mn\u001b[0m\u001b[0;34m,\u001b[0m\u001b[0mshuffle\u001b[0m\u001b[0;34m=\u001b[0m\u001b[0;32mTrue\u001b[0m\u001b[0;34m)\u001b[0m\u001b[0;34m\u001b[0m\u001b[0;34m\u001b[0m\u001b[0m\n",
      "\u001b[0;32m/tmp/ipykernel_2793465/1419517259.py\u001b[0m in \u001b[0;36mget_graph_data\u001b[0;34m(edges, edge_attributes, edge_attrib_lenghts, label)\u001b[0m\n\u001b[1;32m      1\u001b[0m \u001b[0;32mdef\u001b[0m \u001b[0mget_graph_data\u001b[0m\u001b[0;34m(\u001b[0m\u001b[0medges\u001b[0m\u001b[0;34m,\u001b[0m\u001b[0medge_attributes\u001b[0m\u001b[0;34m,\u001b[0m\u001b[0medge_attrib_lenghts\u001b[0m\u001b[0;34m,\u001b[0m\u001b[0mlabel\u001b[0m\u001b[0;34m)\u001b[0m\u001b[0;34m:\u001b[0m\u001b[0;34m\u001b[0m\u001b[0;34m\u001b[0m\u001b[0m\n\u001b[0;32m----> 2\u001b[0;31m     \u001b[0mpd_edges\u001b[0m \u001b[0;34m=\u001b[0m \u001b[0mpd\u001b[0m\u001b[0;34m.\u001b[0m\u001b[0mDataFrame\u001b[0m\u001b[0;34m(\u001b[0m\u001b[0medges\u001b[0m\u001b[0;34m)\u001b[0m\u001b[0;34m\u001b[0m\u001b[0;34m\u001b[0m\u001b[0m\n\u001b[0m\u001b[1;32m      3\u001b[0m     \u001b[0mpd_edges\u001b[0m\u001b[0;34m\u001b[0m\u001b[0;34m\u001b[0m\u001b[0m\n\u001b[1;32m      4\u001b[0m     nodes = pd.concat([pd_edges[0]\n\u001b[1;32m      5\u001b[0m                       ,pd_edges[1]]).unique()\n",
      "\u001b[0;32m~/miniconda3/envs/blockchain/lib/python3.7/site-packages/pandas/core/frame.py\u001b[0m in \u001b[0;36m__init__\u001b[0;34m(self, data, index, columns, dtype, copy)\u001b[0m\n\u001b[1;32m    568\u001b[0m                     \u001b[0;32mif\u001b[0m \u001b[0mis_named_tuple\u001b[0m\u001b[0;34m(\u001b[0m\u001b[0mdata\u001b[0m\u001b[0;34m[\u001b[0m\u001b[0;36m0\u001b[0m\u001b[0;34m]\u001b[0m\u001b[0;34m)\u001b[0m \u001b[0;32mand\u001b[0m \u001b[0mcolumns\u001b[0m \u001b[0;32mis\u001b[0m \u001b[0;32mNone\u001b[0m\u001b[0;34m:\u001b[0m\u001b[0;34m\u001b[0m\u001b[0;34m\u001b[0m\u001b[0m\n\u001b[1;32m    569\u001b[0m                         \u001b[0mcolumns\u001b[0m \u001b[0;34m=\u001b[0m \u001b[0mdata\u001b[0m\u001b[0;34m[\u001b[0m\u001b[0;36m0\u001b[0m\u001b[0;34m]\u001b[0m\u001b[0;34m.\u001b[0m\u001b[0m_fields\u001b[0m\u001b[0;34m\u001b[0m\u001b[0;34m\u001b[0m\u001b[0m\n\u001b[0;32m--> 570\u001b[0;31m                     \u001b[0marrays\u001b[0m\u001b[0;34m,\u001b[0m \u001b[0mcolumns\u001b[0m \u001b[0;34m=\u001b[0m \u001b[0mto_arrays\u001b[0m\u001b[0;34m(\u001b[0m\u001b[0mdata\u001b[0m\u001b[0;34m,\u001b[0m \u001b[0mcolumns\u001b[0m\u001b[0;34m,\u001b[0m \u001b[0mdtype\u001b[0m\u001b[0;34m=\u001b[0m\u001b[0mdtype\u001b[0m\u001b[0;34m)\u001b[0m\u001b[0;34m\u001b[0m\u001b[0;34m\u001b[0m\u001b[0m\n\u001b[0m\u001b[1;32m    571\u001b[0m                     \u001b[0mcolumns\u001b[0m \u001b[0;34m=\u001b[0m \u001b[0mensure_index\u001b[0m\u001b[0;34m(\u001b[0m\u001b[0mcolumns\u001b[0m\u001b[0;34m)\u001b[0m\u001b[0;34m\u001b[0m\u001b[0;34m\u001b[0m\u001b[0m\n\u001b[1;32m    572\u001b[0m \u001b[0;34m\u001b[0m\u001b[0m\n",
      "\u001b[0;32m~/miniconda3/envs/blockchain/lib/python3.7/site-packages/pandas/core/internals/construction.py\u001b[0m in \u001b[0;36mto_arrays\u001b[0;34m(data, columns, coerce_float, dtype)\u001b[0m\n\u001b[1;32m    549\u001b[0m     \u001b[0;32melse\u001b[0m\u001b[0;34m:\u001b[0m\u001b[0;34m\u001b[0m\u001b[0;34m\u001b[0m\u001b[0m\n\u001b[1;32m    550\u001b[0m         \u001b[0;31m# last ditch effort\u001b[0m\u001b[0;34m\u001b[0m\u001b[0;34m\u001b[0m\u001b[0;34m\u001b[0m\u001b[0m\n\u001b[0;32m--> 551\u001b[0;31m         \u001b[0mdata\u001b[0m \u001b[0;34m=\u001b[0m \u001b[0;34m[\u001b[0m\u001b[0mtuple\u001b[0m\u001b[0;34m(\u001b[0m\u001b[0mx\u001b[0m\u001b[0;34m)\u001b[0m \u001b[0;32mfor\u001b[0m \u001b[0mx\u001b[0m \u001b[0;32min\u001b[0m \u001b[0mdata\u001b[0m\u001b[0;34m]\u001b[0m\u001b[0;34m\u001b[0m\u001b[0;34m\u001b[0m\u001b[0m\n\u001b[0m\u001b[1;32m    552\u001b[0m         \u001b[0;32mreturn\u001b[0m \u001b[0m_list_to_arrays\u001b[0m\u001b[0;34m(\u001b[0m\u001b[0mdata\u001b[0m\u001b[0;34m,\u001b[0m \u001b[0mcolumns\u001b[0m\u001b[0;34m,\u001b[0m \u001b[0mcoerce_float\u001b[0m\u001b[0;34m=\u001b[0m\u001b[0mcoerce_float\u001b[0m\u001b[0;34m,\u001b[0m \u001b[0mdtype\u001b[0m\u001b[0;34m=\u001b[0m\u001b[0mdtype\u001b[0m\u001b[0;34m)\u001b[0m\u001b[0;34m\u001b[0m\u001b[0;34m\u001b[0m\u001b[0m\n\u001b[1;32m    553\u001b[0m \u001b[0;34m\u001b[0m\u001b[0m\n",
      "\u001b[0;32m~/miniconda3/envs/blockchain/lib/python3.7/site-packages/pandas/core/internals/construction.py\u001b[0m in \u001b[0;36m<listcomp>\u001b[0;34m(.0)\u001b[0m\n\u001b[1;32m    549\u001b[0m     \u001b[0;32melse\u001b[0m\u001b[0;34m:\u001b[0m\u001b[0;34m\u001b[0m\u001b[0;34m\u001b[0m\u001b[0m\n\u001b[1;32m    550\u001b[0m         \u001b[0;31m# last ditch effort\u001b[0m\u001b[0;34m\u001b[0m\u001b[0;34m\u001b[0m\u001b[0;34m\u001b[0m\u001b[0m\n\u001b[0;32m--> 551\u001b[0;31m         \u001b[0mdata\u001b[0m \u001b[0;34m=\u001b[0m \u001b[0;34m[\u001b[0m\u001b[0mtuple\u001b[0m\u001b[0;34m(\u001b[0m\u001b[0mx\u001b[0m\u001b[0;34m)\u001b[0m \u001b[0;32mfor\u001b[0m \u001b[0mx\u001b[0m \u001b[0;32min\u001b[0m \u001b[0mdata\u001b[0m\u001b[0;34m]\u001b[0m\u001b[0;34m\u001b[0m\u001b[0;34m\u001b[0m\u001b[0m\n\u001b[0m\u001b[1;32m    552\u001b[0m         \u001b[0;32mreturn\u001b[0m \u001b[0m_list_to_arrays\u001b[0m\u001b[0;34m(\u001b[0m\u001b[0mdata\u001b[0m\u001b[0;34m,\u001b[0m \u001b[0mcolumns\u001b[0m\u001b[0;34m,\u001b[0m \u001b[0mcoerce_float\u001b[0m\u001b[0;34m=\u001b[0m\u001b[0mcoerce_float\u001b[0m\u001b[0;34m,\u001b[0m \u001b[0mdtype\u001b[0m\u001b[0;34m=\u001b[0m\u001b[0mdtype\u001b[0m\u001b[0;34m)\u001b[0m\u001b[0;34m\u001b[0m\u001b[0;34m\u001b[0m\u001b[0m\n\u001b[1;32m    553\u001b[0m \u001b[0;34m\u001b[0m\u001b[0m\n",
      "\u001b[0;31mKeyboardInterrupt\u001b[0m: "
     ]
    }
   ],
   "source": [
    "print(test())\n",
    "for epoch in range(1, 20):\n",
    "    loss = train()\n",
    "    train_acc = test()\n",
    "#     test_acc = test()\n",
    "\n",
    "    print(f'Epoch: {epoch:03d}, Train Acc: {train_acc:.4f}, loss : {loss:.4f}')"
   ]
  },
  {
   "cell_type": "code",
   "execution_count": 13,
   "id": "9ae840bf",
   "metadata": {},
   "outputs": [],
   "source": [
    "def test_mode():\n",
    "    rnn.eval()\n",
    "    model.eval()\n",
    "    \n",
    "def create_test_loader(st,end):\n",
    "    graphs = []\n",
    "    for i in range(st,end):\n",
    "        if i >= len(data_list):\n",
    "            break\n",
    "        graph = data_list[i]\n",
    "        graphs.append(get_graph_data(graph[0],graph[1],graph[2],graph[3]))\n",
    "        \n",
    "    loader = DataLoader(graphs, batch_size=(end-st),shuffle=True)\n",
    "    \n",
    "    return loader\n",
    "\n",
    "# create_test_loader(3,6)"
   ]
  },
  {
   "cell_type": "code",
   "execution_count": 14,
   "id": "9f05f06d",
   "metadata": {},
   "outputs": [
    {
     "data": {
      "text/plain": [
       "0.6767515923566879"
      ]
     },
     "execution_count": 14,
     "metadata": {},
     "output_type": "execute_result"
    }
   ],
   "source": [
    "def test():\n",
    "    test_mode()\n",
    "    n  = 40\n",
    "    batch_size = int(np.ceil(len(data_list)/n))\n",
    "    \n",
    "    correct = 0\n",
    "    \n",
    "    for j in range(n):\n",
    "#         print((j*batch_size,(j+1)*batch_size))\n",
    "        test_loader = create_test_loader(j*batch_size,(j+1)*batch_size)\n",
    "        data = next(iter(test_loader))\n",
    "        data = data.to(device)\n",
    "        \n",
    "        out = model(data.x, data.edge_index,data.edge_attr, data.batch)  \n",
    "        pred = out.argmax(dim=1)\n",
    "        correct += int((pred == data.y).sum())\n",
    "    return correct / len(data_list)\n",
    "test()"
   ]
  },
  {
   "cell_type": "code",
   "execution_count": 87,
   "id": "fc782b90",
   "metadata": {},
   "outputs": [
    {
     "data": {
      "text/plain": [
       "63.0"
      ]
     },
     "execution_count": 87,
     "metadata": {},
     "output_type": "execute_result"
    }
   ],
   "source": [
    "np.ceil(len(data_list)/10)"
   ]
  },
  {
   "cell_type": "code",
   "execution_count": 9,
   "id": "205d0ea4",
   "metadata": {},
   "outputs": [
    {
     "data": {
      "text/plain": [
       "0.4915254237288136"
      ]
     },
     "execution_count": 9,
     "metadata": {},
     "output_type": "execute_result"
    }
   ],
   "source": [
    "def train():\n",
    "    model.train()\n",
    "    for batch_idx,data in enumerate(train_loader):\n",
    "\n",
    "\n",
    "        data.edge_attr = data.edge_attr.float()\n",
    "        data = data.to(device)\n",
    "        out = model(data.x, data.edge_index,data.edge_attr,data.batch)\n",
    "\n",
    "        loss = criterion(out, data.y)  # Compute the loss.\n",
    "        loss.backward()  # Derive gradients.\n",
    "        \n",
    "        optimizer.step()\n",
    "        optimizer.zero_grad()\n",
    "#             print(batch_idx)\n",
    "        \n",
    "\n",
    "    return loss.cpu().item()\n",
    "    \n",
    "def test(loader):\n",
    "    model.eval()\n",
    "\n",
    "    correct = 0\n",
    "    for data in loader:  # Iterate in batches over the training/test dataset.\n",
    "        \n",
    "\n",
    "\n",
    "        data.edge_attr = data.edge_attr.float() \n",
    "        data = data.to(device)\n",
    "        out = model(data.x, data.edge_index,data.edge_attr, data.batch)  \n",
    "        pred = out.argmax(dim=1)  # Use the class with highest probability.\n",
    "        \n",
    "\n",
    "        correct += int((pred == data.y).sum())  # Check against ground-truth labels.\n",
    "    return correct / len(loader.dataset)  # Derive ratio of correct predictions.\n",
    "\n",
    "test(test_loader)"
   ]
  },
  {
   "cell_type": "code",
   "execution_count": 10,
   "id": "0d25a8d5",
   "metadata": {
    "scrolled": true
   },
   "outputs": [
    {
     "name": "stdout",
     "output_type": "stream",
     "text": [
      "Epoch: 005, Train Acc: 0.7429, loss : 0.4767\n",
      "Epoch: 010, Train Acc: 0.7401, loss : 0.7171\n",
      "Epoch: 015, Train Acc: 0.5311, loss : 0.6414\n",
      "Epoch: 020, Train Acc: 0.7486, loss : 0.6560\n",
      "Epoch: 025, Train Acc: 0.7740, loss : 0.7737\n",
      "Epoch: 030, Train Acc: 0.7910, loss : 0.5825\n",
      "Epoch: 035, Train Acc: 0.7881, loss : 0.4266\n",
      "Epoch: 040, Train Acc: 0.7712, loss : 0.4582\n",
      "Epoch: 045, Train Acc: 0.7853, loss : 0.3972\n",
      "Epoch: 050, Train Acc: 0.7853, loss : 0.5311\n",
      "Epoch: 055, Train Acc: 0.7966, loss : 0.3808\n",
      "Epoch: 060, Train Acc: 0.7994, loss : 0.0512\n",
      "Epoch: 065, Train Acc: 0.8249, loss : 0.2856\n",
      "Epoch: 070, Train Acc: 0.7571, loss : 0.2421\n",
      "Epoch: 075, Train Acc: 0.7966, loss : 0.2986\n",
      "Epoch: 080, Train Acc: 0.8220, loss : 0.9112\n",
      "Epoch: 085, Train Acc: 0.7740, loss : 0.0514\n",
      "Epoch: 090, Train Acc: 0.8107, loss : 0.0952\n",
      "Epoch: 095, Train Acc: 0.8305, loss : 0.1733\n",
      "Epoch: 100, Train Acc: 0.8249, loss : 0.3040\n",
      "Epoch: 105, Train Acc: 0.8107, loss : 0.1430\n",
      "Epoch: 110, Train Acc: 0.8305, loss : 3.9038\n",
      "Epoch: 115, Train Acc: 0.8079, loss : 0.8218\n",
      "Epoch: 120, Train Acc: 0.8588, loss : 0.7093\n",
      "Epoch: 125, Train Acc: 0.8842, loss : 0.1362\n",
      "Epoch: 130, Train Acc: 0.8616, loss : 0.0981\n",
      "Epoch: 135, Train Acc: 0.8616, loss : 0.1860\n",
      "Epoch: 140, Train Acc: 0.7994, loss : 0.1440\n",
      "Epoch: 145, Train Acc: 0.8814, loss : 0.0112\n",
      "Epoch: 150, Train Acc: 0.7966, loss : 0.1508\n",
      "Epoch: 155, Train Acc: 0.8531, loss : 0.4422\n",
      "Epoch: 160, Train Acc: 0.7316, loss : 0.6229\n",
      "Epoch: 165, Train Acc: 0.8588, loss : 0.2992\n",
      "Epoch: 170, Train Acc: 0.8390, loss : 0.2108\n",
      "Epoch: 175, Train Acc: 0.8757, loss : 0.3544\n",
      "Epoch: 180, Train Acc: 0.8023, loss : 0.0131\n",
      "Epoch: 185, Train Acc: 0.8898, loss : 0.0154\n",
      "Epoch: 190, Train Acc: 0.8983, loss : 0.3465\n",
      "Epoch: 195, Train Acc: 0.8955, loss : 0.0635\n",
      "Epoch: 200, Train Acc: 0.8983, loss : 0.2057\n",
      "Epoch: 205, Train Acc: 0.8955, loss : 0.2757\n",
      "Epoch: 210, Train Acc: 0.9011, loss : 0.5377\n",
      "Epoch: 215, Train Acc: 0.8701, loss : 0.1455\n",
      "Epoch: 220, Train Acc: 0.8559, loss : 0.3709\n",
      "Epoch: 225, Train Acc: 0.9096, loss : 0.0257\n",
      "Epoch: 230, Train Acc: 0.8842, loss : 0.0995\n",
      "Epoch: 235, Train Acc: 0.8983, loss : 5.2854\n",
      "Epoch: 240, Train Acc: 0.8333, loss : 0.0752\n",
      "Epoch: 245, Train Acc: 0.8898, loss : 0.9573\n",
      "Epoch: 250, Train Acc: 0.9068, loss : 0.0696\n",
      "Epoch: 255, Train Acc: 0.8305, loss : 0.1825\n",
      "Epoch: 260, Train Acc: 0.8588, loss : 0.4853\n",
      "Epoch: 265, Train Acc: 0.8870, loss : 0.0018\n",
      "Epoch: 270, Train Acc: 0.9096, loss : 0.0184\n",
      "Epoch: 275, Train Acc: 0.9096, loss : 0.0234\n",
      "Epoch: 280, Train Acc: 0.9237, loss : 0.0014\n",
      "Epoch: 285, Train Acc: 0.9181, loss : 0.1000\n",
      "Epoch: 290, Train Acc: 0.8249, loss : 0.8611\n",
      "Epoch: 295, Train Acc: 0.8390, loss : 2.0416\n",
      "Epoch: 300, Train Acc: 0.8870, loss : 0.0613\n",
      "Epoch: 305, Train Acc: 0.8870, loss : 0.0071\n",
      "Epoch: 310, Train Acc: 0.8983, loss : 0.0862\n",
      "Epoch: 315, Train Acc: 0.9435, loss : 0.6135\n",
      "Epoch: 320, Train Acc: 0.8955, loss : 0.9248\n",
      "Epoch: 325, Train Acc: 0.9124, loss : 0.8010\n",
      "Epoch: 330, Train Acc: 0.9153, loss : 0.0111\n",
      "Epoch: 335, Train Acc: 0.9124, loss : 0.1453\n",
      "Epoch: 340, Train Acc: 0.9294, loss : 0.3736\n",
      "Epoch: 345, Train Acc: 0.9068, loss : 0.0499\n",
      "Epoch: 350, Train Acc: 0.9266, loss : 0.0430\n",
      "Epoch: 355, Train Acc: 0.9068, loss : 0.1025\n",
      "Epoch: 360, Train Acc: 0.9124, loss : 1.0389\n",
      "Epoch: 365, Train Acc: 0.8870, loss : 1.4217\n",
      "Epoch: 370, Train Acc: 0.9124, loss : 6.8546\n",
      "Epoch: 375, Train Acc: 0.9153, loss : 0.0306\n",
      "Epoch: 380, Train Acc: 0.9181, loss : 0.0637\n",
      "Epoch: 385, Train Acc: 0.9379, loss : 0.0029\n",
      "Epoch: 390, Train Acc: 0.8955, loss : 0.2134\n",
      "Epoch: 395, Train Acc: 0.9209, loss : 0.0075\n"
     ]
    }
   ],
   "source": [
    "\n",
    "for epoch in range(1, 400):\n",
    "    loss = train()\n",
    "#     break\n",
    "    train_acc = test(test_loader)\n",
    "#     test_acc = test(test_loader)\n",
    "    if epoch % 5 == 0: \n",
    "        print(f'Epoch: {epoch:03d}, Train Acc: {train_acc:.4f}, loss : {loss:.4f}')"
   ]
  },
  {
   "cell_type": "code",
   "execution_count": 11,
   "id": "78c45cac",
   "metadata": {},
   "outputs": [],
   "source": [
    "train_acc = test(test_loader)"
   ]
  },
  {
   "cell_type": "code",
   "execution_count": 12,
   "id": "e6c98bde",
   "metadata": {},
   "outputs": [
    {
     "data": {
      "text/plain": [
       "0.9491525423728814"
      ]
     },
     "execution_count": 12,
     "metadata": {},
     "output_type": "execute_result"
    }
   ],
   "source": [
    "train_acc"
   ]
  },
  {
   "cell_type": "code",
   "execution_count": 13,
   "id": "58e65f59",
   "metadata": {},
   "outputs": [
    {
     "data": {
      "text/plain": [
       "22338"
      ]
     },
     "execution_count": 13,
     "metadata": {},
     "output_type": "execute_result"
    }
   ],
   "source": [
    "import numpy as np\n",
    "model_parameters = filter(lambda p: p.requires_grad, model.parameters())\n",
    "params = sum([p.numel() for p in model_parameters])\n",
    "params"
   ]
  },
  {
   "cell_type": "code",
   "execution_count": 22,
   "id": "8fd465f6",
   "metadata": {},
   "outputs": [
    {
     "data": {
      "text/plain": [
       "Data(x=[12995, 1], edge_index=[2, 17027], edge_attr=[17027, 5], y=[1])"
      ]
     },
     "execution_count": 22,
     "metadata": {},
     "output_type": "execute_result"
    }
   ],
   "source": [
    "read_graph_data[0]"
   ]
  },
  {
   "cell_type": "code",
   "execution_count": null,
   "id": "a02d50d5",
   "metadata": {},
   "outputs": [],
   "source": []
  }
 ],
 "metadata": {
  "kernelspec": {
   "display_name": "Python 3 (ipykernel)",
   "language": "python",
   "name": "python3"
  },
  "language_info": {
   "codemirror_mode": {
    "name": "ipython",
    "version": 3
   },
   "file_extension": ".py",
   "mimetype": "text/x-python",
   "name": "python",
   "nbconvert_exporter": "python",
   "pygments_lexer": "ipython3",
   "version": "3.7.11"
  }
 },
 "nbformat": 4,
 "nbformat_minor": 5
}

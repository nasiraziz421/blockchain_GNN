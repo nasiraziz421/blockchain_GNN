{
 "cells": [
  {
   "cell_type": "code",
   "execution_count": 2,
   "id": "3cc785b5",
   "metadata": {},
   "outputs": [
    {
     "name": "stdout",
     "output_type": "stream",
     "text": [
      " blockchain\t       data.zip\t\t Miniconda3-latest-Linux-x86_64.sh\r\n",
      " blockchain_code.zip   detectron.yml\t processed_pm25.csv\r\n",
      " blockchain_files      environment.yml\t'quantile regression.ipynb'\r\n",
      " blockchain_GNN        match_data\t scene_reg\r\n",
      " csvfiles\t       mend\r\n"
     ]
    }
   ],
   "source": [
    "!ls .."
   ]
  },
  {
   "cell_type": "code",
   "execution_count": 14,
   "id": "ffb5b4a7",
   "metadata": {},
   "outputs": [
    {
     "name": "stdout",
     "output_type": "stream",
     "text": [
      "['../data/names/Arabic.txt', '../data/names/Chinese.txt', '../data/names/Czech.txt', '../data/names/Dutch.txt', '../data/names/English.txt', '../data/names/French.txt', '../data/names/German.txt', '../data/names/Greek.txt', '../data/names/Irish.txt', '../data/names/Italian.txt', '../data/names/Japanese.txt', '../data/names/Korean.txt', '../data/names/Polish.txt', '../data/names/Portuguese.txt', '../data/names/Russian.txt', '../data/names/Scottish.txt', '../data/names/Spanish.txt', '../data/names/Vietnamese.txt']\n",
      "Slusarski\n"
     ]
    }
   ],
   "source": [
    "from __future__ import unicode_literals, print_function, division\n",
    "from io import open\n",
    "import glob\n",
    "import os\n",
    "\n",
    "def findFiles(path): return glob.glob(path)\n",
    "\n",
    "print(findFiles('../data/names/*.txt'))\n",
    "\n",
    "import unicodedata\n",
    "import string\n",
    "\n",
    "all_letters = string.ascii_letters + \" .,;'\"\n",
    "n_letters = len(all_letters)\n",
    "\n",
    "# Turn a Unicode string to plain ASCII, thanks to https://stackoverflow.com/a/518232/2809427\n",
    "def unicodeToAscii(s):\n",
    "    return ''.join(\n",
    "        c for c in unicodedata.normalize('NFD', s)\n",
    "        if unicodedata.category(c) != 'Mn'\n",
    "        and c in all_letters\n",
    "    )\n",
    "\n",
    "print(unicodeToAscii('Ślusàrski'))\n",
    "\n",
    "# Build the category_lines dictionary, a list of names per language\n",
    "category_lines = {}\n",
    "all_categories = []\n",
    "\n",
    "# Read a file and split into lines\n",
    "def readLines(filename):\n",
    "    lines = open(filename, encoding='utf-8').read().strip().split('\\n')\n",
    "    return [unicodeToAscii(line) for line in lines]\n",
    "\n",
    "for filename in findFiles('../data/names/*.txt'):\n",
    "    category = os.path.splitext(os.path.basename(filename))[0]\n",
    "    all_categories.append(category)\n",
    "    lines = readLines(filename)\n",
    "    category_lines[category] = lines\n",
    "\n",
    "n_categories = len(all_categories)"
   ]
  },
  {
   "cell_type": "code",
   "execution_count": 16,
   "id": "6d411de4",
   "metadata": {},
   "outputs": [
    {
     "name": "stdout",
     "output_type": "stream",
     "text": [
      "['Abandonato', 'Abatangelo', 'Abatantuono', 'Abate', 'Abategiovanni']\n"
     ]
    }
   ],
   "source": [
    "print(category_lines['Italian'][:5])"
   ]
  },
  {
   "cell_type": "code",
   "execution_count": 17,
   "id": "e298d804",
   "metadata": {},
   "outputs": [
    {
     "name": "stdout",
     "output_type": "stream",
     "text": [
      "tensor([[0., 0., 0., 0., 0., 0., 0., 0., 0., 0., 0., 0., 0., 0., 0., 0., 0., 0.,\n",
      "         0., 0., 0., 0., 0., 0., 0., 0., 0., 0., 0., 0., 0., 0., 0., 0., 0., 1.,\n",
      "         0., 0., 0., 0., 0., 0., 0., 0., 0., 0., 0., 0., 0., 0., 0., 0., 0., 0.,\n",
      "         0., 0., 0.]])\n",
      "torch.Size([5, 1, 57])\n"
     ]
    }
   ],
   "source": [
    "import torch\n",
    "\n",
    "# Find letter index from all_letters, e.g. \"a\" = 0\n",
    "def letterToIndex(letter):\n",
    "    return all_letters.find(letter)\n",
    "\n",
    "# Just for demonstration, turn a letter into a <1 x n_letters> Tensor\n",
    "def letterToTensor(letter):\n",
    "    tensor = torch.zeros(1, n_letters)\n",
    "    tensor[0][letterToIndex(letter)] = 1\n",
    "    return tensor\n",
    "\n",
    "# Turn a line into a <line_length x 1 x n_letters>,\n",
    "# or an array of one-hot letter vectors\n",
    "def lineToTensor(line):\n",
    "    tensor = torch.zeros(len(line), 1, n_letters)\n",
    "    for li, letter in enumerate(line):\n",
    "        tensor[li][0][letterToIndex(letter)] = 1\n",
    "    return tensor\n",
    "\n",
    "print(letterToTensor('J'))\n",
    "\n",
    "print(lineToTensor('Jones').size())"
   ]
  },
  {
   "cell_type": "code",
   "execution_count": 18,
   "id": "ce5c720b",
   "metadata": {},
   "outputs": [],
   "source": [
    "import torch.nn as nn\n",
    "\n",
    "class RNN(nn.Module):\n",
    "    def __init__(self, input_size, hidden_size, output_size):\n",
    "        super(RNN, self).__init__()\n",
    "\n",
    "        self.hidden_size = hidden_size\n",
    "\n",
    "        self.i2h = nn.Linear(input_size + hidden_size, hidden_size)\n",
    "        self.i2o = nn.Linear(input_size + hidden_size, output_size)\n",
    "        self.softmax = nn.LogSoftmax(dim=1)\n",
    "\n",
    "    def forward(self, input, hidden):\n",
    "        combined = torch.cat((input, hidden), 1)\n",
    "        hidden = self.i2h(combined)\n",
    "        output = self.i2o(combined)\n",
    "        output = self.softmax(output)\n",
    "        return output, hidden\n",
    "\n",
    "    def initHidden(self):\n",
    "        return torch.zeros(1, self.hidden_size)\n",
    "\n",
    "n_hidden = 128\n",
    "rnn = RNN(n_letters, n_hidden, n_categories)"
   ]
  },
  {
   "cell_type": "code",
   "execution_count": 19,
   "id": "60ae8700",
   "metadata": {},
   "outputs": [],
   "source": [
    "input = letterToTensor('A')\n",
    "hidden = torch.zeros(1, n_hidden)\n",
    "\n",
    "output, next_hidden = rnn(input, hidden)"
   ]
  },
  {
   "cell_type": "code",
   "execution_count": 20,
   "id": "2ef833f4",
   "metadata": {},
   "outputs": [
    {
     "name": "stdout",
     "output_type": "stream",
     "text": [
      "tensor([[-2.9567, -2.8697, -2.8659, -2.8675, -2.9686, -2.8554, -2.8794, -2.9144,\n",
      "         -2.8658, -2.8268, -2.8899, -2.8735, -2.9722, -2.9072, -2.9525, -2.8795,\n",
      "         -2.9302, -2.7740]], grad_fn=<LogSoftmaxBackward0>)\n"
     ]
    }
   ],
   "source": [
    "input = lineToTensor('Albert')\n",
    "hidden = torch.zeros(1, n_hidden)\n",
    "\n",
    "output, next_hidden = rnn(input[0], hidden)\n",
    "print(output)"
   ]
  },
  {
   "cell_type": "code",
   "execution_count": 21,
   "id": "b69afc05",
   "metadata": {},
   "outputs": [
    {
     "name": "stdout",
     "output_type": "stream",
     "text": [
      "('Vietnamese', 17)\n"
     ]
    }
   ],
   "source": [
    "def categoryFromOutput(output):\n",
    "    top_n, top_i = output.topk(1)\n",
    "    category_i = top_i[0].item()\n",
    "    return all_categories[category_i], category_i\n",
    "\n",
    "print(categoryFromOutput(output))"
   ]
  },
  {
   "cell_type": "code",
   "execution_count": 22,
   "id": "0e25e679",
   "metadata": {},
   "outputs": [
    {
     "name": "stdout",
     "output_type": "stream",
     "text": [
      "category = Korean / line = Hwang\n",
      "category = Vietnamese / line = Ha\n",
      "category = Chinese / line = Yap\n",
      "category = English / line = Lethbridge\n",
      "category = Greek / line = Chrysanthopoulos\n",
      "category = English / line = Nanton\n",
      "category = Polish / line = Szwarc\n",
      "category = Russian / line = Jirnov\n",
      "category = Scottish / line = Macleod\n",
      "category = Russian / line = Lezhankov\n"
     ]
    }
   ],
   "source": [
    "import random\n",
    "\n",
    "def randomChoice(l):\n",
    "    return l[random.randint(0, len(l) - 1)]\n",
    "\n",
    "def randomTrainingExample():\n",
    "    category = randomChoice(all_categories)\n",
    "    line = randomChoice(category_lines[category])\n",
    "    category_tensor = torch.tensor([all_categories.index(category)], dtype=torch.long)\n",
    "    line_tensor = lineToTensor(line)\n",
    "    return category, line, category_tensor, line_tensor\n",
    "\n",
    "for i in range(10):\n",
    "    category, line, category_tensor, line_tensor = randomTrainingExample()\n",
    "    print('category =', category, '/ line =', line)"
   ]
  },
  {
   "cell_type": "code",
   "execution_count": 23,
   "id": "6b69bc1b",
   "metadata": {},
   "outputs": [],
   "source": [
    "criterion = nn.NLLLoss()"
   ]
  },
  {
   "cell_type": "code",
   "execution_count": 24,
   "id": "9039efc5",
   "metadata": {},
   "outputs": [],
   "source": [
    "learning_rate = 0.005 # If you set this too high, it might explode. If too low, it might not learn\n",
    "\n",
    "def train(category_tensor, line_tensor):\n",
    "    hidden = rnn.initHidden()\n",
    "\n",
    "    rnn.zero_grad()\n",
    "\n",
    "    for i in range(line_tensor.size()[0]):\n",
    "        output, hidden = rnn(line_tensor[i], hidden)\n",
    "\n",
    "    loss = criterion(output, category_tensor)\n",
    "    loss.backward()\n",
    "\n",
    "    # Add parameters' gradients to their values, multiplied by learning rate\n",
    "    for p in rnn.parameters():\n",
    "        p.data.add_(p.grad.data, alpha=-learning_rate)\n",
    "\n",
    "    return output, loss.item()"
   ]
  },
  {
   "cell_type": "code",
   "execution_count": 25,
   "id": "077a6dd5",
   "metadata": {},
   "outputs": [
    {
     "name": "stdout",
     "output_type": "stream",
     "text": [
      "5000 5% (0m 5s) 2.6914 Mateus / Greek ✗ (Portuguese)\n",
      "10000 10% (0m 10s) 0.9655 Nakata / Japanese ✓\n",
      "15000 15% (0m 14s) 3.7075 Tejc / Chinese ✗ (Czech)\n",
      "20000 20% (0m 20s) 1.2167 Iida / Japanese ✓\n",
      "25000 25% (0m 25s) 3.0564 Genovese / French ✗ (Italian)\n",
      "30000 30% (0m 30s) 0.9402 Sun / Korean ✓\n",
      "35000 35% (0m 35s) 0.3416 Arishima / Japanese ✓\n",
      "40000 40% (0m 39s) 0.5715 Dang / Vietnamese ✓\n",
      "45000 45% (0m 45s) 1.5187 Ryskamp / Dutch ✓\n",
      "50000 50% (0m 50s) 0.4671 Yun / Korean ✓\n",
      "55000 55% (0m 55s) 2.0433 Koumans / Irish ✗ (Dutch)\n",
      "60000 60% (1m 0s) 0.6469 Kieu / Vietnamese ✓\n",
      "65000 65% (1m 5s) 2.9641 Stein / Dutch ✗ (German)\n",
      "70000 70% (1m 10s) 1.3319 She / Korean ✗ (Chinese)\n",
      "75000 75% (1m 15s) 1.2580 Glockner / German ✓\n",
      "80000 80% (1m 20s) 1.0113 Armando / Spanish ✓\n",
      "85000 85% (1m 25s) 1.2823 Beutel / German ✓\n",
      "90000 90% (1m 30s) 0.4338 Chang / Korean ✓\n",
      "95000 95% (1m 35s) 1.7077 Gomes / Dutch ✗ (Portuguese)\n",
      "100000 100% (1m 40s) 0.2190 Kyritsis / Greek ✓\n"
     ]
    }
   ],
   "source": [
    "import time\n",
    "import math\n",
    "\n",
    "n_iters = 100000\n",
    "print_every = 5000\n",
    "plot_every = 1000\n",
    "\n",
    "\n",
    "\n",
    "# Keep track of losses for plotting\n",
    "current_loss = 0\n",
    "all_losses = []\n",
    "\n",
    "def timeSince(since):\n",
    "    now = time.time()\n",
    "    s = now - since\n",
    "    m = math.floor(s / 60)\n",
    "    s -= m * 60\n",
    "    return '%dm %ds' % (m, s)\n",
    "\n",
    "start = time.time()\n",
    "\n",
    "for iter in range(1, n_iters + 1):\n",
    "    category, line, category_tensor, line_tensor = randomTrainingExample()\n",
    "    output, loss = train(category_tensor, line_tensor)\n",
    "    current_loss += loss\n",
    "\n",
    "    # Print iter number, loss, name and guess\n",
    "    if iter % print_every == 0:\n",
    "        guess, guess_i = categoryFromOutput(output)\n",
    "        correct = '✓' if guess == category else '✗ (%s)' % category\n",
    "        print('%d %d%% (%s) %.4f %s / %s %s' % (iter, iter / n_iters * 100, timeSince(start), loss, line, guess, correct))\n",
    "\n",
    "    # Add current loss avg to list of losses\n",
    "    if iter % plot_every == 0:\n",
    "        all_losses.append(current_loss / plot_every)\n",
    "        current_loss = 0"
   ]
  },
  {
   "cell_type": "code",
   "execution_count": 26,
   "id": "cca60201",
   "metadata": {},
   "outputs": [],
   "source": [
    "import torch.nn"
   ]
  },
  {
   "cell_type": "code",
   "execution_count": 28,
   "id": "21651a1d",
   "metadata": {},
   "outputs": [],
   "source": [
    "rnn = nn.RNN(10, 20, 1)\n",
    "input = torch.randn(5, 3, 10)\n",
    "h0 = torch.randn(1, 3, 20)\n",
    "output, hn = rnn(input, h0)\n"
   ]
  },
  {
   "cell_type": "code",
   "execution_count": 66,
   "id": "7892ae4d",
   "metadata": {},
   "outputs": [
    {
     "data": {
      "text/plain": [
       "tensor([[[ 0.4567,  0.4685,  0.3684, -0.5473,  0.5217, -0.4581, -0.7762,\n",
       "           0.0904,  0.2344,  0.1766, -0.6225, -0.5224,  0.5243,  0.9324,\n",
       "           0.6850, -0.1740,  0.4469,  0.1863, -0.3867, -0.2271],\n",
       "         [-0.6057, -0.3950, -0.0229, -0.2491, -0.0755,  0.6582,  0.3477,\n",
       "          -0.0697, -0.1722, -0.5432, -0.3011, -0.0750,  0.0335, -0.4644,\n",
       "          -0.4705,  0.5206, -0.3134, -0.1284,  0.3038,  0.3454],\n",
       "         [-0.5861,  0.3617, -0.3680, -0.3918, -0.6417,  0.3259,  0.0376,\n",
       "           0.7605,  0.2975, -0.9153, -0.5734, -0.2676, -0.0916, -0.9206,\n",
       "           0.4656,  0.0398, -0.8018,  0.7255,  0.4777, -0.2697]]],\n",
       "       grad_fn=<StackBackward0>)"
      ]
     },
     "execution_count": 66,
     "metadata": {},
     "output_type": "execute_result"
    }
   ],
   "source": [
    "rnn = nn.RNN(10, 20, 1)\n",
    "input = torch.randn(5, 3, 10)\n",
    "# h0 = torch.randn(1, 3, 20)\n",
    "output, hn = rnn(input)\n",
    "hn"
   ]
  },
  {
   "cell_type": "code",
   "execution_count": 72,
   "id": "0371bdd3",
   "metadata": {},
   "outputs": [
    {
     "data": {
      "text/plain": [
       "tensor([[[-0.6057, -0.3950, -0.0229, -0.2491, -0.0755,  0.6582,  0.3477,\n",
       "          -0.0697, -0.1722, -0.5432, -0.3011, -0.0750,  0.0335, -0.4644,\n",
       "          -0.4705,  0.5206, -0.3134, -0.1284,  0.3038,  0.3454]]],\n",
       "       grad_fn=<StackBackward0>)"
      ]
     },
     "execution_count": 72,
     "metadata": {},
     "output_type": "execute_result"
    }
   ],
   "source": [
    "resh = input[:,1,:].reshape(5,1,10)\n",
    "output, hn = rnn(resh)\n",
    "hn"
   ]
  },
  {
   "cell_type": "code",
   "execution_count": 61,
   "id": "e791cc3b",
   "metadata": {},
   "outputs": [
    {
     "data": {
      "text/plain": [
       "torch.Size([5, 3, 20])"
      ]
     },
     "execution_count": 61,
     "metadata": {},
     "output_type": "execute_result"
    }
   ],
   "source": [
    "output.shape"
   ]
  },
  {
   "cell_type": "code",
   "execution_count": 62,
   "id": "90f08da9",
   "metadata": {},
   "outputs": [
    {
     "data": {
      "text/plain": [
       "tensor([[[ 0.4758,  0.6339, -0.2396,  0.7967, -0.1029, -0.6692, -0.2747,\n",
       "           0.1795,  0.3711, -0.5356, -0.0041,  0.0875,  0.5684, -0.2196,\n",
       "          -0.6431,  0.2756,  0.1650,  0.2623,  0.2931, -0.1176],\n",
       "         [-0.0205, -0.5409, -0.1812,  0.4569, -0.3888,  0.3819, -0.2954,\n",
       "          -0.5021,  0.3025, -0.0082, -0.5537, -0.5464,  0.3223,  0.1146,\n",
       "          -0.0335,  0.2482, -0.5348,  0.2603, -0.0939,  0.5771],\n",
       "         [-0.5771, -0.8358,  0.0171, -0.2713,  0.0377,  0.5306,  0.3302,\n",
       "          -0.1348,  0.1368, -0.0452, -0.5834, -0.0837, -0.1502, -0.2560,\n",
       "          -0.2339, -0.4686, -0.2627, -0.3892, -0.5418,  0.3667]]],\n",
       "       grad_fn=<StackBackward0>)"
      ]
     },
     "execution_count": 62,
     "metadata": {},
     "output_type": "execute_result"
    }
   ],
   "source": [
    "hn"
   ]
  },
  {
   "cell_type": "code",
   "execution_count": 30,
   "id": "7ad39532",
   "metadata": {},
   "outputs": [
    {
     "data": {
      "text/plain": [
       "torch.Size([1, 3, 20])"
      ]
     },
     "execution_count": 30,
     "metadata": {},
     "output_type": "execute_result"
    }
   ],
   "source": []
  },
  {
   "cell_type": "code",
   "execution_count": 37,
   "id": "8d0c28e9",
   "metadata": {},
   "outputs": [
    {
     "data": {
      "text/plain": [
       "PackedSequence(data=tensor([1, 4, 6, 2, 5, 3]), batch_sizes=tensor([3, 2, 1]), sorted_indices=None, unsorted_indices=None)"
      ]
     },
     "execution_count": 37,
     "metadata": {},
     "output_type": "execute_result"
    }
   ],
   "source": [
    "from torch.nn.utils.rnn import pack_sequence\n",
    "a = torch.tensor([1,2,3])\n",
    "b = torch.tensor([4,5])\n",
    "c = torch.tensor([6])\n",
    "seq = pack_sequence([a, b, c])\n",
    "seq"
   ]
  },
  {
   "cell_type": "code",
   "execution_count": 43,
   "id": "8d3a1a24",
   "metadata": {},
   "outputs": [
    {
     "data": {
      "text/plain": [
       "tensor([1, 4, 6])"
      ]
     },
     "execution_count": 43,
     "metadata": {},
     "output_type": "execute_result"
    }
   ],
   "source": [
    "seq[0][:seq[1][0]]"
   ]
  },
  {
   "cell_type": "code",
   "execution_count": 48,
   "id": "2805ad10",
   "metadata": {},
   "outputs": [],
   "source": [
    "import pytorch_forecasting.utils as utils"
   ]
  },
  {
   "cell_type": "code",
   "execution_count": 53,
   "id": "cd9720ff",
   "metadata": {},
   "outputs": [],
   "source": [
    "padded,lengths = utils.unpack_sequence(seq)"
   ]
  },
  {
   "cell_type": "code",
   "execution_count": 51,
   "id": "a8c1ede9",
   "metadata": {},
   "outputs": [],
   "source": [
    "import torch.nn.utils.rnn as rnnutils\n",
    "\n",
    "def unpack_sequence(packed_sequence, lengths):\n",
    "    assert isinstance(packed_sequence, rnnutils.PackedSequence)\n",
    "    head = 0\n",
    "    trailing_dims = packed_sequence.data.shape[1:]\n",
    "    unpacked_sequence = [torch.zeros(l, *trailing_dims) for l in lengths]\n",
    "    # l_idx - goes from 0 - maxLen-1\n",
    "    for l_idx, b_size in enumerate(packed_sequence.batch_sizes):\n",
    "        for b_idx in range(b_size):\n",
    "            unpacked_sequence[b_idx][l_idx] = packed_sequence.data[head]\n",
    "            head += 1\n",
    "    return unpacked_sequence"
   ]
  },
  {
   "cell_type": "code",
   "execution_count": 54,
   "id": "9023e0fd",
   "metadata": {},
   "outputs": [
    {
     "data": {
      "text/plain": [
       "[tensor([1., 2., 3.]), tensor([4., 5.]), tensor([6.])]"
      ]
     },
     "execution_count": 54,
     "metadata": {},
     "output_type": "execute_result"
    }
   ],
   "source": [
    "unpack_sequence(seq,lengths)"
   ]
  },
  {
   "cell_type": "code",
   "execution_count": null,
   "id": "0c811186",
   "metadata": {},
   "outputs": [],
   "source": []
  }
 ],
 "metadata": {
  "kernelspec": {
   "display_name": "Python 3 (ipykernel)",
   "language": "python",
   "name": "python3"
  },
  "language_info": {
   "codemirror_mode": {
    "name": "ipython",
    "version": 3
   },
   "file_extension": ".py",
   "mimetype": "text/x-python",
   "name": "python",
   "nbconvert_exporter": "python",
   "pygments_lexer": "ipython3",
   "version": "3.7.11"
  }
 },
 "nbformat": 4,
 "nbformat_minor": 5
}
